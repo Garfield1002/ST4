{
 "metadata": {
  "language_info": {
   "codemirror_mode": {
    "name": "ipython",
    "version": 3
   },
   "file_extension": ".py",
   "mimetype": "text/x-python",
   "name": "python",
   "nbconvert_exporter": "python",
   "pygments_lexer": "ipython3",
   "version": "3.9.2"
  },
  "orig_nbformat": 2,
  "kernelspec": {
   "name": "python392jvsc74a57bd0ac59ebe37160ed0dfa835113d9b8498d9f09ceb179beaac4002f036b9467c963",
   "display_name": "Python 3.9.2 64-bit"
  },
  "metadata": {
   "interpreter": {
    "hash": "ac59ebe37160ed0dfa835113d9b8498d9f09ceb179beaac4002f036b9467c963"
   }
  }
 },
 "nbformat": 4,
 "nbformat_minor": 2,
 "cells": [
  {
   "cell_type": "code",
   "execution_count": 1,
   "metadata": {},
   "outputs": [
    {
     "output_type": "stream",
     "name": "stdout",
     "text": [
      "2.5.0\n"
     ]
    }
   ],
   "source": [
    "import tensorflow as tf\n",
    "\n",
    "from tensorflow.keras import layers\n",
    "from tensorflow.keras import regularizers\n",
    "\n",
    "print(tf.__version__)"
   ]
  },
  {
   "cell_type": "code",
   "execution_count": 2,
   "metadata": {},
   "outputs": [],
   "source": [
    "import tensorflow_docs as tfdocs\n",
    "import tensorflow_docs.modeling\n",
    "import tensorflow_docs.plots"
   ]
  },
  {
   "cell_type": "code",
   "execution_count": 3,
   "metadata": {},
   "outputs": [],
   "source": [
    "from IPython import display\n",
    "from matplotlib import pyplot as plt\n",
    "\n",
    "import numpy as np\n",
    "\n",
    "import pathlib\n",
    "import shutil\n",
    "import tempfile"
   ]
  },
  {
   "cell_type": "code",
   "execution_count": 4,
   "metadata": {},
   "outputs": [],
   "source": [
    "logdir = pathlib.Path(tempfile.mkdtemp())/\"tensorboard_logs\"\n",
    "shutil.rmtree(logdir, ignore_errors=True)"
   ]
  },
  {
   "cell_type": "code",
   "execution_count": 5,
   "metadata": {},
   "outputs": [],
   "source": [
    "DATA_SIZE = 12000"
   ]
  },
  {
   "source": [
    "## Hyper parameters"
   ],
   "cell_type": "markdown",
   "metadata": {}
  },
  {
   "source": [
    "We have played a little to tweak these values."
   ],
   "cell_type": "markdown",
   "metadata": {}
  },
  {
   "cell_type": "code",
   "execution_count": 6,
   "metadata": {},
   "outputs": [],
   "source": [
    "num_epochs      = 501\n",
    "batch_size      = 256\n",
    "\n",
    "train_size  = int(0.7  * (DATA_SIZE // batch_size))\n",
    "val_size    = int(0.15  * (DATA_SIZE // batch_size))\n",
    "test_size   = int(0.15  * (DATA_SIZE // batch_size))\n",
    "\n",
    "# Adams\n",
    "learning_rate   = 0.005"
   ]
  },
  {
   "source": [
    "## Data"
   ],
   "cell_type": "markdown",
   "metadata": {}
  },
  {
   "source": [
    "We will get rid of the `userId` column."
   ],
   "cell_type": "markdown",
   "metadata": {}
  },
  {
   "cell_type": "code",
   "execution_count": 7,
   "metadata": {},
   "outputs": [],
   "source": [
    "column_names = ['userId', 'age', 'gender', 'scentLover', 'ecoInterest', 'MrPropre', 'Antikal', 'Ariel', 'Dash', 'pods', 'powder', 'liquid', 'electricToothbrush', 'likesPets', 'hasPet', 'daysSinceActivity', 'nbChildren', 'magasin', 'moyenneSurface', 'superMarket', 'hyperMarket', 'drive', 'hardDiscount', 'labels']\n",
    "\n",
    "selected_names = ['age', 'gender', 'scentLover', 'ecoInterest', 'MrPropre', 'Antikal', 'Ariel', 'Dash', 'pods', 'powder', 'liquid', 'electricToothbrush', 'likesPets', 'hasPet', 'daysSinceActivity', 'nbChildren', 'magasin', 'moyenneSurface', 'superMarket', 'hyperMarket', 'drive', 'hardDiscount', 'labels']\n",
    "\n",
    "label_name = column_names[-1]"
   ]
  },
  {
   "source": [
    "Let's load the data from our `csv`."
   ],
   "cell_type": "markdown",
   "metadata": {}
  },
  {
   "cell_type": "code",
   "execution_count": 8,
   "metadata": {
    "tags": []
   },
   "outputs": [],
   "source": [
    "full_dataset = tf.data.experimental.make_csv_dataset(\n",
    "    r\"/data/train.csv\",\n",
    "    batch_size,\n",
    "    column_names=column_names,\n",
    "    select_columns=selected_names,\n",
    "    label_name=label_name,\n",
    "    num_epochs=1)\n"
   ]
  },
  {
   "source": [
    "`Tensorflow` needs tensors, so we sill convert every row into a tensor."
   ],
   "cell_type": "markdown",
   "metadata": {}
  },
  {
   "cell_type": "code",
   "execution_count": null,
   "metadata": {},
   "outputs": [],
   "source": [
    "def pack_features_vector(features, labels):\n",
    "    \"\"\"Pack the features into a single array.\"\"\"\n",
    "    features = tf.stack(list(features.values()), axis=1)\n",
    "    return features, labels\n",
    "\n",
    "full_dataset = full_dataset.map(pack_features_vector)"
   ]
  },
  {
   "source": [
    "Splitting the data into:\n",
    "- training\n",
    "- validation\n",
    "- testing\n",
    "\n",
    "This will be usefull later on."
   ],
   "cell_type": "markdown",
   "metadata": {}
  },
  {
   "cell_type": "code",
   "execution_count": null,
   "metadata": {},
   "outputs": [],
   "source": [
    "full_dataset.shuffle(buffer_size=DATA_SIZE)\n",
    "train_dataset = full_dataset.take(train_size)\n",
    "test_dataset = full_dataset.skip(train_size)\n",
    "val_dataset = test_dataset.skip(test_size)\n",
    "test_dataset = test_dataset.take(test_size)"
   ]
  },
  {
   "source": [
    "## Model"
   ],
   "cell_type": "markdown",
   "metadata": {}
  },
  {
   "source": [
    "A lot of experementing went in here. In the end we decided to go for 4 layers, `relu` as the main activation function and `sigmoid` at the end to get an answer between 0 and 1. \n",
    "\n",
    "Here's a quick reminder of these functions\n",
    "\n",
    "| Name                          | Mathematical expression           | 🌐        |\n",
    "| :-:                           | :-:                               | :-:      |\n",
    "| ReLU (Rectified Linear Unit)  | $x \\mapsto \\max(x, 0)$            | [link](https://en.wikipedia.org/wiki/Rectifier_(neural_networks))|\n",
    "| Sigmoid                       | $x \\mapsto \\dfrac{1}{1 + e^{-x}}$ | [link](https://en.wikipedia.org/wiki/Sigmoid_function)|"
   ],
   "cell_type": "markdown",
   "metadata": {}
  },
  {
   "cell_type": "code",
   "execution_count": 9,
   "metadata": {},
   "outputs": [],
   "source": [
    "model = tf.keras.Sequential([\n",
    "  layers.Dense(64, activation=tf.nn.relu, input_shape=(22,)),  # input shape required\n",
    "  layers.Dense(64, activation=tf.nn.relu),\n",
    "  layers.Dense(64, activation=tf.nn.relu),\n",
    "  layers.Dense(1, activation=tf.nn.sigmoid)                    # sigmoid so result is in [0, 1]\n",
    "])"
   ]
  },
  {
   "source": [
    "## Train"
   ],
   "cell_type": "markdown",
   "metadata": {}
  },
  {
   "source": [
    "These callbacks can be a little slow, but allow for us to save more data as well as prevent [overfitting](https://en.wikipedia.org/wiki/Overfitting) through the use of [early stopping](https://en.wikipedia.org/wiki/Early_stopping)"
   ],
   "cell_type": "markdown",
   "metadata": {}
  },
  {
   "cell_type": "code",
   "execution_count": 10,
   "metadata": {},
   "outputs": [],
   "source": [
    "def get_callbacks(name):\n",
    "  return [\n",
    "    tfdocs.modeling.EpochDots(),\n",
    "    tf.keras.callbacks.EarlyStopping(monitor='binary_crossentropy', patience=200),\n",
    "    tf.keras.callbacks.TensorBoard(logdir/name),\n",
    "  ]\n"
   ]
  },
  {
   "source": [
    "TODO"
   ],
   "cell_type": "markdown",
   "metadata": {}
  },
  {
   "cell_type": "code",
   "execution_count": 11,
   "metadata": {},
   "outputs": [],
   "source": [
    "def compile_and_fit(model, name, optimizer=None, max_epochs=10000):\n",
    "    if optimizer is None:\n",
    "        optimizer = tf.keras.optimizers.Adam(learning_rate=learning_rate, beta_1=0.9, beta_2=0.999, epsilon=1e-07)\n",
    "    \n",
    "    model.compile(optimizer=optimizer,\n",
    "                  loss=tf.keras.losses.BinaryCrossentropy(from_logits=False),\n",
    "                  metrics=[\n",
    "                      tf.keras.losses.BinaryCrossentropy(\n",
    "                          from_logits=False, name='binary_crossentropy'),\n",
    "                      'accuracy'])\n",
    "\n",
    "    # Displays information on our model\n",
    "    model.summary()\n",
    "\n",
    "    history = model.fit(\n",
    "        train_dataset,\n",
    "        epochs=num_epochs,\n",
    "        validation_data=val_dataset,\n",
    "        callbacks=get_callbacks(name),\n",
    "        verbose=0,\n",
    "        workers=4,\n",
    "        use_multiprocessing=True)\n",
    "    return history"
   ]
  },
  {
   "source": [
    "Let's train a model"
   ],
   "cell_type": "markdown",
   "metadata": {}
  },
  {
   "cell_type": "code",
   "execution_count": 13,
   "metadata": {},
   "outputs": [
    {
     "output_type": "stream",
     "name": "stdout",
     "text": [
      "Model: \"sequential\"\n",
      "_________________________________________________________________\n",
      "Layer (type)                 Output Shape              Param #   \n",
      "=================================================================\n",
      "dense (Dense)                (None, 64)                1472      \n",
      "_________________________________________________________________\n",
      "dense_1 (Dense)              (None, 64)                4160      \n",
      "_________________________________________________________________\n",
      "dense_2 (Dense)              (None, 64)                4160      \n",
      "_________________________________________________________________\n",
      "dense_3 (Dense)              (None, 1)                 65        \n",
      "=================================================================\n",
      "Total params: 9,857\n",
      "Trainable params: 9,857\n",
      "Non-trainable params: 0\n",
      "_________________________________________________________________\n",
      "WARNING:tensorflow:Callback method `on_train_batch_end` is slow compared to the batch time (batch time: 0.0016s vs `on_train_batch_end` time: 0.0240s). Check your callbacks.\n",
      "\n",
      "Epoch: 0, accuracy:0.5935,  binary_crossentropy:0.6711,  loss:0.6711,  val_accuracy:0.6131,  val_binary_crossentropy:0.6503,  val_loss:0.6505,  \n",
      "....................................................................................................\n",
      "Epoch: 100, accuracy:0.7848,  binary_crossentropy:0.4216,  loss:0.4216,  val_accuracy:0.7984,  val_binary_crossentropy:0.4053,  val_loss:0.4058,  \n",
      "....................................................................................................\n",
      "Epoch: 200, accuracy:0.8628,  binary_crossentropy:0.2793,  loss:0.2793,  val_accuracy:0.8754,  val_binary_crossentropy:0.2678,  val_loss:0.2676,  \n",
      "....................................................................................................\n",
      "Epoch: 300, accuracy:0.8961,  binary_crossentropy:0.2236,  loss:0.2236,  val_accuracy:0.9005,  val_binary_crossentropy:0.2085,  val_loss:0.2085,  \n",
      "....................................................................................................\n",
      "Epoch: 400, accuracy:0.9006,  binary_crossentropy:0.2141,  loss:0.2141,  val_accuracy:0.9054,  val_binary_crossentropy:0.2107,  val_loss:0.2105,  \n",
      "....................................................................................................\n",
      "Epoch: 500, accuracy:0.9194,  binary_crossentropy:0.1729,  loss:0.1729,  val_accuracy:0.9256,  val_binary_crossentropy:0.1651,  val_loss:0.1654,  \n",
      "."
     ]
    }
   ],
   "source": [
    "histories = {}\n",
    "histories['NoDropout'] = compile_and_fit(model, 'first model')"
   ]
  },
  {
   "source": [
    "Let's plot the evolution of accuracy throughout the epochs and see how our model evolved."
   ],
   "cell_type": "markdown",
   "metadata": {}
  },
  {
   "cell_type": "code",
   "execution_count": 14,
   "metadata": {},
   "outputs": [
    {
     "output_type": "execute_result",
     "data": {
      "text/plain": [
       "(0.6, 1.0)"
      ]
     },
     "metadata": {},
     "execution_count": 14
    },
    {
     "output_type": "display_data",
     "data": {
      "text/plain": "<Figure size 432x288 with 1 Axes>",
      "image/svg+xml": "<?xml version=\"1.0\" encoding=\"utf-8\" standalone=\"no\"?>\r\n<!DOCTYPE svg PUBLIC \"-//W3C//DTD SVG 1.1//EN\"\r\n  \"http://www.w3.org/Graphics/SVG/1.1/DTD/svg11.dtd\">\r\n<svg height=\"265.995469pt\" version=\"1.1\" viewBox=\"0 0 401.6875 265.995469\" width=\"401.6875pt\" xmlns=\"http://www.w3.org/2000/svg\" xmlns:xlink=\"http://www.w3.org/1999/xlink\">\r\n <metadata>\r\n  <rdf:RDF xmlns:cc=\"http://creativecommons.org/ns#\" xmlns:dc=\"http://purl.org/dc/elements/1.1/\" xmlns:rdf=\"http://www.w3.org/1999/02/22-rdf-syntax-ns#\">\r\n   <cc:Work>\r\n    <dc:type rdf:resource=\"http://purl.org/dc/dcmitype/StillImage\"/>\r\n    <dc:date>2021-06-09T18:40:00.633699</dc:date>\r\n    <dc:format>image/svg+xml</dc:format>\r\n    <dc:creator>\r\n     <cc:Agent>\r\n      <dc:title>Matplotlib v3.4.2, https://matplotlib.org/</dc:title>\r\n     </cc:Agent>\r\n    </dc:creator>\r\n   </cc:Work>\r\n  </rdf:RDF>\r\n </metadata>\r\n <defs>\r\n  <style type=\"text/css\">*{stroke-linecap:butt;stroke-linejoin:round;}</style>\r\n </defs>\r\n <g id=\"figure_1\">\r\n  <g id=\"patch_1\">\r\n   <path d=\"M 0 265.995469 \r\nL 401.6875 265.995469 \r\nL 401.6875 0 \r\nL 0 0 \r\nz\r\n\" style=\"fill:none;\"/>\r\n  </g>\r\n  <g id=\"axes_1\">\r\n   <g id=\"patch_2\">\r\n    <path d=\"M 50.14375 228.439219 \r\nL 384.94375 228.439219 \r\nL 384.94375 10.999219 \r\nL 50.14375 10.999219 \r\nz\r\n\" style=\"fill:#ffffff;\"/>\r\n   </g>\r\n   <g id=\"matplotlib.axis_1\">\r\n    <g id=\"xtick_1\">\r\n     <g id=\"line2d_1\">\r\n      <path clip-path=\"url(#p89909a8aba)\" d=\"M 50.14375 228.439219 \r\nL 50.14375 10.999219 \r\n\" style=\"fill:none;stroke:#b0b0b0;stroke-linecap:square;stroke-width:0.8;\"/>\r\n     </g>\r\n     <g id=\"line2d_2\">\r\n      <defs>\r\n       <path d=\"M 0 0 \r\nL 0 3.5 \r\n\" id=\"m879cdb77bd\" style=\"stroke:#000000;stroke-width:0.8;\"/>\r\n      </defs>\r\n      <g>\r\n       <use style=\"stroke:#000000;stroke-width:0.8;\" x=\"50.14375\" xlink:href=\"#m879cdb77bd\" y=\"228.439219\"/>\r\n      </g>\r\n     </g>\r\n     <g id=\"text_1\">\r\n      <!-- 0 -->\r\n      <g transform=\"translate(46.9625 243.037656)scale(0.1 -0.1)\">\r\n       <defs>\r\n        <path d=\"M 2034 4250 \r\nQ 1547 4250 1301 3770 \r\nQ 1056 3291 1056 2328 \r\nQ 1056 1369 1301 889 \r\nQ 1547 409 2034 409 \r\nQ 2525 409 2770 889 \r\nQ 3016 1369 3016 2328 \r\nQ 3016 3291 2770 3770 \r\nQ 2525 4250 2034 4250 \r\nz\r\nM 2034 4750 \r\nQ 2819 4750 3233 4129 \r\nQ 3647 3509 3647 2328 \r\nQ 3647 1150 3233 529 \r\nQ 2819 -91 2034 -91 \r\nQ 1250 -91 836 529 \r\nQ 422 1150 422 2328 \r\nQ 422 3509 836 4129 \r\nQ 1250 4750 2034 4750 \r\nz\r\n\" id=\"DejaVuSans-30\" transform=\"scale(0.015625)\"/>\r\n       </defs>\r\n       <use xlink:href=\"#DejaVuSans-30\"/>\r\n      </g>\r\n     </g>\r\n    </g>\r\n    <g id=\"xtick_2\">\r\n     <g id=\"line2d_3\">\r\n      <path clip-path=\"url(#p89909a8aba)\" d=\"M 117.10375 228.439219 \r\nL 117.10375 10.999219 \r\n\" style=\"fill:none;stroke:#b0b0b0;stroke-linecap:square;stroke-width:0.8;\"/>\r\n     </g>\r\n     <g id=\"line2d_4\">\r\n      <g>\r\n       <use style=\"stroke:#000000;stroke-width:0.8;\" x=\"117.10375\" xlink:href=\"#m879cdb77bd\" y=\"228.439219\"/>\r\n      </g>\r\n     </g>\r\n     <g id=\"text_2\">\r\n      <!-- 100 -->\r\n      <g transform=\"translate(107.56 243.037656)scale(0.1 -0.1)\">\r\n       <defs>\r\n        <path d=\"M 794 531 \r\nL 1825 531 \r\nL 1825 4091 \r\nL 703 3866 \r\nL 703 4441 \r\nL 1819 4666 \r\nL 2450 4666 \r\nL 2450 531 \r\nL 3481 531 \r\nL 3481 0 \r\nL 794 0 \r\nL 794 531 \r\nz\r\n\" id=\"DejaVuSans-31\" transform=\"scale(0.015625)\"/>\r\n       </defs>\r\n       <use xlink:href=\"#DejaVuSans-31\"/>\r\n       <use x=\"63.623047\" xlink:href=\"#DejaVuSans-30\"/>\r\n       <use x=\"127.246094\" xlink:href=\"#DejaVuSans-30\"/>\r\n      </g>\r\n     </g>\r\n    </g>\r\n    <g id=\"xtick_3\">\r\n     <g id=\"line2d_5\">\r\n      <path clip-path=\"url(#p89909a8aba)\" d=\"M 184.06375 228.439219 \r\nL 184.06375 10.999219 \r\n\" style=\"fill:none;stroke:#b0b0b0;stroke-linecap:square;stroke-width:0.8;\"/>\r\n     </g>\r\n     <g id=\"line2d_6\">\r\n      <g>\r\n       <use style=\"stroke:#000000;stroke-width:0.8;\" x=\"184.06375\" xlink:href=\"#m879cdb77bd\" y=\"228.439219\"/>\r\n      </g>\r\n     </g>\r\n     <g id=\"text_3\">\r\n      <!-- 200 -->\r\n      <g transform=\"translate(174.52 243.037656)scale(0.1 -0.1)\">\r\n       <defs>\r\n        <path d=\"M 1228 531 \r\nL 3431 531 \r\nL 3431 0 \r\nL 469 0 \r\nL 469 531 \r\nQ 828 903 1448 1529 \r\nQ 2069 2156 2228 2338 \r\nQ 2531 2678 2651 2914 \r\nQ 2772 3150 2772 3378 \r\nQ 2772 3750 2511 3984 \r\nQ 2250 4219 1831 4219 \r\nQ 1534 4219 1204 4116 \r\nQ 875 4013 500 3803 \r\nL 500 4441 \r\nQ 881 4594 1212 4672 \r\nQ 1544 4750 1819 4750 \r\nQ 2544 4750 2975 4387 \r\nQ 3406 4025 3406 3419 \r\nQ 3406 3131 3298 2873 \r\nQ 3191 2616 2906 2266 \r\nQ 2828 2175 2409 1742 \r\nQ 1991 1309 1228 531 \r\nz\r\n\" id=\"DejaVuSans-32\" transform=\"scale(0.015625)\"/>\r\n       </defs>\r\n       <use xlink:href=\"#DejaVuSans-32\"/>\r\n       <use x=\"63.623047\" xlink:href=\"#DejaVuSans-30\"/>\r\n       <use x=\"127.246094\" xlink:href=\"#DejaVuSans-30\"/>\r\n      </g>\r\n     </g>\r\n    </g>\r\n    <g id=\"xtick_4\">\r\n     <g id=\"line2d_7\">\r\n      <path clip-path=\"url(#p89909a8aba)\" d=\"M 251.02375 228.439219 \r\nL 251.02375 10.999219 \r\n\" style=\"fill:none;stroke:#b0b0b0;stroke-linecap:square;stroke-width:0.8;\"/>\r\n     </g>\r\n     <g id=\"line2d_8\">\r\n      <g>\r\n       <use style=\"stroke:#000000;stroke-width:0.8;\" x=\"251.02375\" xlink:href=\"#m879cdb77bd\" y=\"228.439219\"/>\r\n      </g>\r\n     </g>\r\n     <g id=\"text_4\">\r\n      <!-- 300 -->\r\n      <g transform=\"translate(241.48 243.037656)scale(0.1 -0.1)\">\r\n       <defs>\r\n        <path d=\"M 2597 2516 \r\nQ 3050 2419 3304 2112 \r\nQ 3559 1806 3559 1356 \r\nQ 3559 666 3084 287 \r\nQ 2609 -91 1734 -91 \r\nQ 1441 -91 1130 -33 \r\nQ 819 25 488 141 \r\nL 488 750 \r\nQ 750 597 1062 519 \r\nQ 1375 441 1716 441 \r\nQ 2309 441 2620 675 \r\nQ 2931 909 2931 1356 \r\nQ 2931 1769 2642 2001 \r\nQ 2353 2234 1838 2234 \r\nL 1294 2234 \r\nL 1294 2753 \r\nL 1863 2753 \r\nQ 2328 2753 2575 2939 \r\nQ 2822 3125 2822 3475 \r\nQ 2822 3834 2567 4026 \r\nQ 2313 4219 1838 4219 \r\nQ 1578 4219 1281 4162 \r\nQ 984 4106 628 3988 \r\nL 628 4550 \r\nQ 988 4650 1302 4700 \r\nQ 1616 4750 1894 4750 \r\nQ 2613 4750 3031 4423 \r\nQ 3450 4097 3450 3541 \r\nQ 3450 3153 3228 2886 \r\nQ 3006 2619 2597 2516 \r\nz\r\n\" id=\"DejaVuSans-33\" transform=\"scale(0.015625)\"/>\r\n       </defs>\r\n       <use xlink:href=\"#DejaVuSans-33\"/>\r\n       <use x=\"63.623047\" xlink:href=\"#DejaVuSans-30\"/>\r\n       <use x=\"127.246094\" xlink:href=\"#DejaVuSans-30\"/>\r\n      </g>\r\n     </g>\r\n    </g>\r\n    <g id=\"xtick_5\">\r\n     <g id=\"line2d_9\">\r\n      <path clip-path=\"url(#p89909a8aba)\" d=\"M 317.98375 228.439219 \r\nL 317.98375 10.999219 \r\n\" style=\"fill:none;stroke:#b0b0b0;stroke-linecap:square;stroke-width:0.8;\"/>\r\n     </g>\r\n     <g id=\"line2d_10\">\r\n      <g>\r\n       <use style=\"stroke:#000000;stroke-width:0.8;\" x=\"317.98375\" xlink:href=\"#m879cdb77bd\" y=\"228.439219\"/>\r\n      </g>\r\n     </g>\r\n     <g id=\"text_5\">\r\n      <!-- 400 -->\r\n      <g transform=\"translate(308.44 243.037656)scale(0.1 -0.1)\">\r\n       <defs>\r\n        <path d=\"M 2419 4116 \r\nL 825 1625 \r\nL 2419 1625 \r\nL 2419 4116 \r\nz\r\nM 2253 4666 \r\nL 3047 4666 \r\nL 3047 1625 \r\nL 3713 1625 \r\nL 3713 1100 \r\nL 3047 1100 \r\nL 3047 0 \r\nL 2419 0 \r\nL 2419 1100 \r\nL 313 1100 \r\nL 313 1709 \r\nL 2253 4666 \r\nz\r\n\" id=\"DejaVuSans-34\" transform=\"scale(0.015625)\"/>\r\n       </defs>\r\n       <use xlink:href=\"#DejaVuSans-34\"/>\r\n       <use x=\"63.623047\" xlink:href=\"#DejaVuSans-30\"/>\r\n       <use x=\"127.246094\" xlink:href=\"#DejaVuSans-30\"/>\r\n      </g>\r\n     </g>\r\n    </g>\r\n    <g id=\"xtick_6\">\r\n     <g id=\"line2d_11\">\r\n      <path clip-path=\"url(#p89909a8aba)\" d=\"M 384.94375 228.439219 \r\nL 384.94375 10.999219 \r\n\" style=\"fill:none;stroke:#b0b0b0;stroke-linecap:square;stroke-width:0.8;\"/>\r\n     </g>\r\n     <g id=\"line2d_12\">\r\n      <g>\r\n       <use style=\"stroke:#000000;stroke-width:0.8;\" x=\"384.94375\" xlink:href=\"#m879cdb77bd\" y=\"228.439219\"/>\r\n      </g>\r\n     </g>\r\n     <g id=\"text_6\">\r\n      <!-- 500 -->\r\n      <g transform=\"translate(375.4 243.037656)scale(0.1 -0.1)\">\r\n       <defs>\r\n        <path d=\"M 691 4666 \r\nL 3169 4666 \r\nL 3169 4134 \r\nL 1269 4134 \r\nL 1269 2991 \r\nQ 1406 3038 1543 3061 \r\nQ 1681 3084 1819 3084 \r\nQ 2600 3084 3056 2656 \r\nQ 3513 2228 3513 1497 \r\nQ 3513 744 3044 326 \r\nQ 2575 -91 1722 -91 \r\nQ 1428 -91 1123 -41 \r\nQ 819 9 494 109 \r\nL 494 744 \r\nQ 775 591 1075 516 \r\nQ 1375 441 1709 441 \r\nQ 2250 441 2565 725 \r\nQ 2881 1009 2881 1497 \r\nQ 2881 1984 2565 2268 \r\nQ 2250 2553 1709 2553 \r\nQ 1456 2553 1204 2497 \r\nQ 953 2441 691 2322 \r\nL 691 4666 \r\nz\r\n\" id=\"DejaVuSans-35\" transform=\"scale(0.015625)\"/>\r\n       </defs>\r\n       <use xlink:href=\"#DejaVuSans-35\"/>\r\n       <use x=\"63.623047\" xlink:href=\"#DejaVuSans-30\"/>\r\n       <use x=\"127.246094\" xlink:href=\"#DejaVuSans-30\"/>\r\n      </g>\r\n     </g>\r\n    </g>\r\n    <g id=\"text_7\">\r\n     <!-- Epochs -->\r\n     <g transform=\"translate(199.628125 256.715781)scale(0.1 -0.1)\">\r\n      <defs>\r\n       <path d=\"M 628 4666 \r\nL 3578 4666 \r\nL 3578 4134 \r\nL 1259 4134 \r\nL 1259 2753 \r\nL 3481 2753 \r\nL 3481 2222 \r\nL 1259 2222 \r\nL 1259 531 \r\nL 3634 531 \r\nL 3634 0 \r\nL 628 0 \r\nL 628 4666 \r\nz\r\n\" id=\"DejaVuSans-45\" transform=\"scale(0.015625)\"/>\r\n       <path d=\"M 1159 525 \r\nL 1159 -1331 \r\nL 581 -1331 \r\nL 581 3500 \r\nL 1159 3500 \r\nL 1159 2969 \r\nQ 1341 3281 1617 3432 \r\nQ 1894 3584 2278 3584 \r\nQ 2916 3584 3314 3078 \r\nQ 3713 2572 3713 1747 \r\nQ 3713 922 3314 415 \r\nQ 2916 -91 2278 -91 \r\nQ 1894 -91 1617 61 \r\nQ 1341 213 1159 525 \r\nz\r\nM 3116 1747 \r\nQ 3116 2381 2855 2742 \r\nQ 2594 3103 2138 3103 \r\nQ 1681 3103 1420 2742 \r\nQ 1159 2381 1159 1747 \r\nQ 1159 1113 1420 752 \r\nQ 1681 391 2138 391 \r\nQ 2594 391 2855 752 \r\nQ 3116 1113 3116 1747 \r\nz\r\n\" id=\"DejaVuSans-70\" transform=\"scale(0.015625)\"/>\r\n       <path d=\"M 1959 3097 \r\nQ 1497 3097 1228 2736 \r\nQ 959 2375 959 1747 \r\nQ 959 1119 1226 758 \r\nQ 1494 397 1959 397 \r\nQ 2419 397 2687 759 \r\nQ 2956 1122 2956 1747 \r\nQ 2956 2369 2687 2733 \r\nQ 2419 3097 1959 3097 \r\nz\r\nM 1959 3584 \r\nQ 2709 3584 3137 3096 \r\nQ 3566 2609 3566 1747 \r\nQ 3566 888 3137 398 \r\nQ 2709 -91 1959 -91 \r\nQ 1206 -91 779 398 \r\nQ 353 888 353 1747 \r\nQ 353 2609 779 3096 \r\nQ 1206 3584 1959 3584 \r\nz\r\n\" id=\"DejaVuSans-6f\" transform=\"scale(0.015625)\"/>\r\n       <path d=\"M 3122 3366 \r\nL 3122 2828 \r\nQ 2878 2963 2633 3030 \r\nQ 2388 3097 2138 3097 \r\nQ 1578 3097 1268 2742 \r\nQ 959 2388 959 1747 \r\nQ 959 1106 1268 751 \r\nQ 1578 397 2138 397 \r\nQ 2388 397 2633 464 \r\nQ 2878 531 3122 666 \r\nL 3122 134 \r\nQ 2881 22 2623 -34 \r\nQ 2366 -91 2075 -91 \r\nQ 1284 -91 818 406 \r\nQ 353 903 353 1747 \r\nQ 353 2603 823 3093 \r\nQ 1294 3584 2113 3584 \r\nQ 2378 3584 2631 3529 \r\nQ 2884 3475 3122 3366 \r\nz\r\n\" id=\"DejaVuSans-63\" transform=\"scale(0.015625)\"/>\r\n       <path d=\"M 3513 2113 \r\nL 3513 0 \r\nL 2938 0 \r\nL 2938 2094 \r\nQ 2938 2591 2744 2837 \r\nQ 2550 3084 2163 3084 \r\nQ 1697 3084 1428 2787 \r\nQ 1159 2491 1159 1978 \r\nL 1159 0 \r\nL 581 0 \r\nL 581 4863 \r\nL 1159 4863 \r\nL 1159 2956 \r\nQ 1366 3272 1645 3428 \r\nQ 1925 3584 2291 3584 \r\nQ 2894 3584 3203 3211 \r\nQ 3513 2838 3513 2113 \r\nz\r\n\" id=\"DejaVuSans-68\" transform=\"scale(0.015625)\"/>\r\n       <path d=\"M 2834 3397 \r\nL 2834 2853 \r\nQ 2591 2978 2328 3040 \r\nQ 2066 3103 1784 3103 \r\nQ 1356 3103 1142 2972 \r\nQ 928 2841 928 2578 \r\nQ 928 2378 1081 2264 \r\nQ 1234 2150 1697 2047 \r\nL 1894 2003 \r\nQ 2506 1872 2764 1633 \r\nQ 3022 1394 3022 966 \r\nQ 3022 478 2636 193 \r\nQ 2250 -91 1575 -91 \r\nQ 1294 -91 989 -36 \r\nQ 684 19 347 128 \r\nL 347 722 \r\nQ 666 556 975 473 \r\nQ 1284 391 1588 391 \r\nQ 1994 391 2212 530 \r\nQ 2431 669 2431 922 \r\nQ 2431 1156 2273 1281 \r\nQ 2116 1406 1581 1522 \r\nL 1381 1569 \r\nQ 847 1681 609 1914 \r\nQ 372 2147 372 2553 \r\nQ 372 3047 722 3315 \r\nQ 1072 3584 1716 3584 \r\nQ 2034 3584 2315 3537 \r\nQ 2597 3491 2834 3397 \r\nz\r\n\" id=\"DejaVuSans-73\" transform=\"scale(0.015625)\"/>\r\n      </defs>\r\n      <use xlink:href=\"#DejaVuSans-45\"/>\r\n      <use x=\"63.183594\" xlink:href=\"#DejaVuSans-70\"/>\r\n      <use x=\"126.660156\" xlink:href=\"#DejaVuSans-6f\"/>\r\n      <use x=\"187.841797\" xlink:href=\"#DejaVuSans-63\"/>\r\n      <use x=\"242.822266\" xlink:href=\"#DejaVuSans-68\"/>\r\n      <use x=\"306.201172\" xlink:href=\"#DejaVuSans-73\"/>\r\n     </g>\r\n    </g>\r\n   </g>\r\n   <g id=\"matplotlib.axis_2\">\r\n    <g id=\"ytick_1\">\r\n     <g id=\"line2d_13\">\r\n      <path clip-path=\"url(#p89909a8aba)\" d=\"M 50.14375 228.439219 \r\nL 384.94375 228.439219 \r\n\" style=\"fill:none;stroke:#b0b0b0;stroke-linecap:square;stroke-width:0.8;\"/>\r\n     </g>\r\n     <g id=\"line2d_14\">\r\n      <defs>\r\n       <path d=\"M 0 0 \r\nL -3.5 0 \r\n\" id=\"md9fe113f82\" style=\"stroke:#000000;stroke-width:0.8;\"/>\r\n      </defs>\r\n      <g>\r\n       <use style=\"stroke:#000000;stroke-width:0.8;\" x=\"50.14375\" xlink:href=\"#md9fe113f82\" y=\"228.439219\"/>\r\n      </g>\r\n     </g>\r\n     <g id=\"text_8\">\r\n      <!-- 0.60 -->\r\n      <g transform=\"translate(20.878125 232.238437)scale(0.1 -0.1)\">\r\n       <defs>\r\n        <path d=\"M 684 794 \r\nL 1344 794 \r\nL 1344 0 \r\nL 684 0 \r\nL 684 794 \r\nz\r\n\" id=\"DejaVuSans-2e\" transform=\"scale(0.015625)\"/>\r\n        <path d=\"M 2113 2584 \r\nQ 1688 2584 1439 2293 \r\nQ 1191 2003 1191 1497 \r\nQ 1191 994 1439 701 \r\nQ 1688 409 2113 409 \r\nQ 2538 409 2786 701 \r\nQ 3034 994 3034 1497 \r\nQ 3034 2003 2786 2293 \r\nQ 2538 2584 2113 2584 \r\nz\r\nM 3366 4563 \r\nL 3366 3988 \r\nQ 3128 4100 2886 4159 \r\nQ 2644 4219 2406 4219 \r\nQ 1781 4219 1451 3797 \r\nQ 1122 3375 1075 2522 \r\nQ 1259 2794 1537 2939 \r\nQ 1816 3084 2150 3084 \r\nQ 2853 3084 3261 2657 \r\nQ 3669 2231 3669 1497 \r\nQ 3669 778 3244 343 \r\nQ 2819 -91 2113 -91 \r\nQ 1303 -91 875 529 \r\nQ 447 1150 447 2328 \r\nQ 447 3434 972 4092 \r\nQ 1497 4750 2381 4750 \r\nQ 2619 4750 2861 4703 \r\nQ 3103 4656 3366 4563 \r\nz\r\n\" id=\"DejaVuSans-36\" transform=\"scale(0.015625)\"/>\r\n       </defs>\r\n       <use xlink:href=\"#DejaVuSans-30\"/>\r\n       <use x=\"63.623047\" xlink:href=\"#DejaVuSans-2e\"/>\r\n       <use x=\"95.410156\" xlink:href=\"#DejaVuSans-36\"/>\r\n       <use x=\"159.033203\" xlink:href=\"#DejaVuSans-30\"/>\r\n      </g>\r\n     </g>\r\n    </g>\r\n    <g id=\"ytick_2\">\r\n     <g id=\"line2d_15\">\r\n      <path clip-path=\"url(#p89909a8aba)\" d=\"M 50.14375 201.259219 \r\nL 384.94375 201.259219 \r\n\" style=\"fill:none;stroke:#b0b0b0;stroke-linecap:square;stroke-width:0.8;\"/>\r\n     </g>\r\n     <g id=\"line2d_16\">\r\n      <g>\r\n       <use style=\"stroke:#000000;stroke-width:0.8;\" x=\"50.14375\" xlink:href=\"#md9fe113f82\" y=\"201.259219\"/>\r\n      </g>\r\n     </g>\r\n     <g id=\"text_9\">\r\n      <!-- 0.65 -->\r\n      <g transform=\"translate(20.878125 205.058437)scale(0.1 -0.1)\">\r\n       <use xlink:href=\"#DejaVuSans-30\"/>\r\n       <use x=\"63.623047\" xlink:href=\"#DejaVuSans-2e\"/>\r\n       <use x=\"95.410156\" xlink:href=\"#DejaVuSans-36\"/>\r\n       <use x=\"159.033203\" xlink:href=\"#DejaVuSans-35\"/>\r\n      </g>\r\n     </g>\r\n    </g>\r\n    <g id=\"ytick_3\">\r\n     <g id=\"line2d_17\">\r\n      <path clip-path=\"url(#p89909a8aba)\" d=\"M 50.14375 174.079219 \r\nL 384.94375 174.079219 \r\n\" style=\"fill:none;stroke:#b0b0b0;stroke-linecap:square;stroke-width:0.8;\"/>\r\n     </g>\r\n     <g id=\"line2d_18\">\r\n      <g>\r\n       <use style=\"stroke:#000000;stroke-width:0.8;\" x=\"50.14375\" xlink:href=\"#md9fe113f82\" y=\"174.079219\"/>\r\n      </g>\r\n     </g>\r\n     <g id=\"text_10\">\r\n      <!-- 0.70 -->\r\n      <g transform=\"translate(20.878125 177.878437)scale(0.1 -0.1)\">\r\n       <defs>\r\n        <path d=\"M 525 4666 \r\nL 3525 4666 \r\nL 3525 4397 \r\nL 1831 0 \r\nL 1172 0 \r\nL 2766 4134 \r\nL 525 4134 \r\nL 525 4666 \r\nz\r\n\" id=\"DejaVuSans-37\" transform=\"scale(0.015625)\"/>\r\n       </defs>\r\n       <use xlink:href=\"#DejaVuSans-30\"/>\r\n       <use x=\"63.623047\" xlink:href=\"#DejaVuSans-2e\"/>\r\n       <use x=\"95.410156\" xlink:href=\"#DejaVuSans-37\"/>\r\n       <use x=\"159.033203\" xlink:href=\"#DejaVuSans-30\"/>\r\n      </g>\r\n     </g>\r\n    </g>\r\n    <g id=\"ytick_4\">\r\n     <g id=\"line2d_19\">\r\n      <path clip-path=\"url(#p89909a8aba)\" d=\"M 50.14375 146.899219 \r\nL 384.94375 146.899219 \r\n\" style=\"fill:none;stroke:#b0b0b0;stroke-linecap:square;stroke-width:0.8;\"/>\r\n     </g>\r\n     <g id=\"line2d_20\">\r\n      <g>\r\n       <use style=\"stroke:#000000;stroke-width:0.8;\" x=\"50.14375\" xlink:href=\"#md9fe113f82\" y=\"146.899219\"/>\r\n      </g>\r\n     </g>\r\n     <g id=\"text_11\">\r\n      <!-- 0.75 -->\r\n      <g transform=\"translate(20.878125 150.698437)scale(0.1 -0.1)\">\r\n       <use xlink:href=\"#DejaVuSans-30\"/>\r\n       <use x=\"63.623047\" xlink:href=\"#DejaVuSans-2e\"/>\r\n       <use x=\"95.410156\" xlink:href=\"#DejaVuSans-37\"/>\r\n       <use x=\"159.033203\" xlink:href=\"#DejaVuSans-35\"/>\r\n      </g>\r\n     </g>\r\n    </g>\r\n    <g id=\"ytick_5\">\r\n     <g id=\"line2d_21\">\r\n      <path clip-path=\"url(#p89909a8aba)\" d=\"M 50.14375 119.719219 \r\nL 384.94375 119.719219 \r\n\" style=\"fill:none;stroke:#b0b0b0;stroke-linecap:square;stroke-width:0.8;\"/>\r\n     </g>\r\n     <g id=\"line2d_22\">\r\n      <g>\r\n       <use style=\"stroke:#000000;stroke-width:0.8;\" x=\"50.14375\" xlink:href=\"#md9fe113f82\" y=\"119.719219\"/>\r\n      </g>\r\n     </g>\r\n     <g id=\"text_12\">\r\n      <!-- 0.80 -->\r\n      <g transform=\"translate(20.878125 123.518437)scale(0.1 -0.1)\">\r\n       <defs>\r\n        <path d=\"M 2034 2216 \r\nQ 1584 2216 1326 1975 \r\nQ 1069 1734 1069 1313 \r\nQ 1069 891 1326 650 \r\nQ 1584 409 2034 409 \r\nQ 2484 409 2743 651 \r\nQ 3003 894 3003 1313 \r\nQ 3003 1734 2745 1975 \r\nQ 2488 2216 2034 2216 \r\nz\r\nM 1403 2484 \r\nQ 997 2584 770 2862 \r\nQ 544 3141 544 3541 \r\nQ 544 4100 942 4425 \r\nQ 1341 4750 2034 4750 \r\nQ 2731 4750 3128 4425 \r\nQ 3525 4100 3525 3541 \r\nQ 3525 3141 3298 2862 \r\nQ 3072 2584 2669 2484 \r\nQ 3125 2378 3379 2068 \r\nQ 3634 1759 3634 1313 \r\nQ 3634 634 3220 271 \r\nQ 2806 -91 2034 -91 \r\nQ 1263 -91 848 271 \r\nQ 434 634 434 1313 \r\nQ 434 1759 690 2068 \r\nQ 947 2378 1403 2484 \r\nz\r\nM 1172 3481 \r\nQ 1172 3119 1398 2916 \r\nQ 1625 2713 2034 2713 \r\nQ 2441 2713 2670 2916 \r\nQ 2900 3119 2900 3481 \r\nQ 2900 3844 2670 4047 \r\nQ 2441 4250 2034 4250 \r\nQ 1625 4250 1398 4047 \r\nQ 1172 3844 1172 3481 \r\nz\r\n\" id=\"DejaVuSans-38\" transform=\"scale(0.015625)\"/>\r\n       </defs>\r\n       <use xlink:href=\"#DejaVuSans-30\"/>\r\n       <use x=\"63.623047\" xlink:href=\"#DejaVuSans-2e\"/>\r\n       <use x=\"95.410156\" xlink:href=\"#DejaVuSans-38\"/>\r\n       <use x=\"159.033203\" xlink:href=\"#DejaVuSans-30\"/>\r\n      </g>\r\n     </g>\r\n    </g>\r\n    <g id=\"ytick_6\">\r\n     <g id=\"line2d_23\">\r\n      <path clip-path=\"url(#p89909a8aba)\" d=\"M 50.14375 92.539219 \r\nL 384.94375 92.539219 \r\n\" style=\"fill:none;stroke:#b0b0b0;stroke-linecap:square;stroke-width:0.8;\"/>\r\n     </g>\r\n     <g id=\"line2d_24\">\r\n      <g>\r\n       <use style=\"stroke:#000000;stroke-width:0.8;\" x=\"50.14375\" xlink:href=\"#md9fe113f82\" y=\"92.539219\"/>\r\n      </g>\r\n     </g>\r\n     <g id=\"text_13\">\r\n      <!-- 0.85 -->\r\n      <g transform=\"translate(20.878125 96.338437)scale(0.1 -0.1)\">\r\n       <use xlink:href=\"#DejaVuSans-30\"/>\r\n       <use x=\"63.623047\" xlink:href=\"#DejaVuSans-2e\"/>\r\n       <use x=\"95.410156\" xlink:href=\"#DejaVuSans-38\"/>\r\n       <use x=\"159.033203\" xlink:href=\"#DejaVuSans-35\"/>\r\n      </g>\r\n     </g>\r\n    </g>\r\n    <g id=\"ytick_7\">\r\n     <g id=\"line2d_25\">\r\n      <path clip-path=\"url(#p89909a8aba)\" d=\"M 50.14375 65.359219 \r\nL 384.94375 65.359219 \r\n\" style=\"fill:none;stroke:#b0b0b0;stroke-linecap:square;stroke-width:0.8;\"/>\r\n     </g>\r\n     <g id=\"line2d_26\">\r\n      <g>\r\n       <use style=\"stroke:#000000;stroke-width:0.8;\" x=\"50.14375\" xlink:href=\"#md9fe113f82\" y=\"65.359219\"/>\r\n      </g>\r\n     </g>\r\n     <g id=\"text_14\">\r\n      <!-- 0.90 -->\r\n      <g transform=\"translate(20.878125 69.158437)scale(0.1 -0.1)\">\r\n       <defs>\r\n        <path d=\"M 703 97 \r\nL 703 672 \r\nQ 941 559 1184 500 \r\nQ 1428 441 1663 441 \r\nQ 2288 441 2617 861 \r\nQ 2947 1281 2994 2138 \r\nQ 2813 1869 2534 1725 \r\nQ 2256 1581 1919 1581 \r\nQ 1219 1581 811 2004 \r\nQ 403 2428 403 3163 \r\nQ 403 3881 828 4315 \r\nQ 1253 4750 1959 4750 \r\nQ 2769 4750 3195 4129 \r\nQ 3622 3509 3622 2328 \r\nQ 3622 1225 3098 567 \r\nQ 2575 -91 1691 -91 \r\nQ 1453 -91 1209 -44 \r\nQ 966 3 703 97 \r\nz\r\nM 1959 2075 \r\nQ 2384 2075 2632 2365 \r\nQ 2881 2656 2881 3163 \r\nQ 2881 3666 2632 3958 \r\nQ 2384 4250 1959 4250 \r\nQ 1534 4250 1286 3958 \r\nQ 1038 3666 1038 3163 \r\nQ 1038 2656 1286 2365 \r\nQ 1534 2075 1959 2075 \r\nz\r\n\" id=\"DejaVuSans-39\" transform=\"scale(0.015625)\"/>\r\n       </defs>\r\n       <use xlink:href=\"#DejaVuSans-30\"/>\r\n       <use x=\"63.623047\" xlink:href=\"#DejaVuSans-2e\"/>\r\n       <use x=\"95.410156\" xlink:href=\"#DejaVuSans-39\"/>\r\n       <use x=\"159.033203\" xlink:href=\"#DejaVuSans-30\"/>\r\n      </g>\r\n     </g>\r\n    </g>\r\n    <g id=\"ytick_8\">\r\n     <g id=\"line2d_27\">\r\n      <path clip-path=\"url(#p89909a8aba)\" d=\"M 50.14375 38.179219 \r\nL 384.94375 38.179219 \r\n\" style=\"fill:none;stroke:#b0b0b0;stroke-linecap:square;stroke-width:0.8;\"/>\r\n     </g>\r\n     <g id=\"line2d_28\">\r\n      <g>\r\n       <use style=\"stroke:#000000;stroke-width:0.8;\" x=\"50.14375\" xlink:href=\"#md9fe113f82\" y=\"38.179219\"/>\r\n      </g>\r\n     </g>\r\n     <g id=\"text_15\">\r\n      <!-- 0.95 -->\r\n      <g transform=\"translate(20.878125 41.978437)scale(0.1 -0.1)\">\r\n       <use xlink:href=\"#DejaVuSans-30\"/>\r\n       <use x=\"63.623047\" xlink:href=\"#DejaVuSans-2e\"/>\r\n       <use x=\"95.410156\" xlink:href=\"#DejaVuSans-39\"/>\r\n       <use x=\"159.033203\" xlink:href=\"#DejaVuSans-35\"/>\r\n      </g>\r\n     </g>\r\n    </g>\r\n    <g id=\"ytick_9\">\r\n     <g id=\"line2d_29\">\r\n      <path clip-path=\"url(#p89909a8aba)\" d=\"M 50.14375 10.999219 \r\nL 384.94375 10.999219 \r\n\" style=\"fill:none;stroke:#b0b0b0;stroke-linecap:square;stroke-width:0.8;\"/>\r\n     </g>\r\n     <g id=\"line2d_30\">\r\n      <g>\r\n       <use style=\"stroke:#000000;stroke-width:0.8;\" x=\"50.14375\" xlink:href=\"#md9fe113f82\" y=\"10.999219\"/>\r\n      </g>\r\n     </g>\r\n     <g id=\"text_16\">\r\n      <!-- 1.00 -->\r\n      <g transform=\"translate(20.878125 14.798438)scale(0.1 -0.1)\">\r\n       <use xlink:href=\"#DejaVuSans-31\"/>\r\n       <use x=\"63.623047\" xlink:href=\"#DejaVuSans-2e\"/>\r\n       <use x=\"95.410156\" xlink:href=\"#DejaVuSans-30\"/>\r\n       <use x=\"159.033203\" xlink:href=\"#DejaVuSans-30\"/>\r\n      </g>\r\n     </g>\r\n    </g>\r\n    <g id=\"text_17\">\r\n     <!-- Accuracy -->\r\n     <g transform=\"translate(14.798438 142.547344)rotate(-90)scale(0.1 -0.1)\">\r\n      <defs>\r\n       <path d=\"M 2188 4044 \r\nL 1331 1722 \r\nL 3047 1722 \r\nL 2188 4044 \r\nz\r\nM 1831 4666 \r\nL 2547 4666 \r\nL 4325 0 \r\nL 3669 0 \r\nL 3244 1197 \r\nL 1141 1197 \r\nL 716 0 \r\nL 50 0 \r\nL 1831 4666 \r\nz\r\n\" id=\"DejaVuSans-41\" transform=\"scale(0.015625)\"/>\r\n       <path d=\"M 544 1381 \r\nL 544 3500 \r\nL 1119 3500 \r\nL 1119 1403 \r\nQ 1119 906 1312 657 \r\nQ 1506 409 1894 409 \r\nQ 2359 409 2629 706 \r\nQ 2900 1003 2900 1516 \r\nL 2900 3500 \r\nL 3475 3500 \r\nL 3475 0 \r\nL 2900 0 \r\nL 2900 538 \r\nQ 2691 219 2414 64 \r\nQ 2138 -91 1772 -91 \r\nQ 1169 -91 856 284 \r\nQ 544 659 544 1381 \r\nz\r\nM 1991 3584 \r\nL 1991 3584 \r\nz\r\n\" id=\"DejaVuSans-75\" transform=\"scale(0.015625)\"/>\r\n       <path d=\"M 2631 2963 \r\nQ 2534 3019 2420 3045 \r\nQ 2306 3072 2169 3072 \r\nQ 1681 3072 1420 2755 \r\nQ 1159 2438 1159 1844 \r\nL 1159 0 \r\nL 581 0 \r\nL 581 3500 \r\nL 1159 3500 \r\nL 1159 2956 \r\nQ 1341 3275 1631 3429 \r\nQ 1922 3584 2338 3584 \r\nQ 2397 3584 2469 3576 \r\nQ 2541 3569 2628 3553 \r\nL 2631 2963 \r\nz\r\n\" id=\"DejaVuSans-72\" transform=\"scale(0.015625)\"/>\r\n       <path d=\"M 2194 1759 \r\nQ 1497 1759 1228 1600 \r\nQ 959 1441 959 1056 \r\nQ 959 750 1161 570 \r\nQ 1363 391 1709 391 \r\nQ 2188 391 2477 730 \r\nQ 2766 1069 2766 1631 \r\nL 2766 1759 \r\nL 2194 1759 \r\nz\r\nM 3341 1997 \r\nL 3341 0 \r\nL 2766 0 \r\nL 2766 531 \r\nQ 2569 213 2275 61 \r\nQ 1981 -91 1556 -91 \r\nQ 1019 -91 701 211 \r\nQ 384 513 384 1019 \r\nQ 384 1609 779 1909 \r\nQ 1175 2209 1959 2209 \r\nL 2766 2209 \r\nL 2766 2266 \r\nQ 2766 2663 2505 2880 \r\nQ 2244 3097 1772 3097 \r\nQ 1472 3097 1187 3025 \r\nQ 903 2953 641 2809 \r\nL 641 3341 \r\nQ 956 3463 1253 3523 \r\nQ 1550 3584 1831 3584 \r\nQ 2591 3584 2966 3190 \r\nQ 3341 2797 3341 1997 \r\nz\r\n\" id=\"DejaVuSans-61\" transform=\"scale(0.015625)\"/>\r\n       <path d=\"M 2059 -325 \r\nQ 1816 -950 1584 -1140 \r\nQ 1353 -1331 966 -1331 \r\nL 506 -1331 \r\nL 506 -850 \r\nL 844 -850 \r\nQ 1081 -850 1212 -737 \r\nQ 1344 -625 1503 -206 \r\nL 1606 56 \r\nL 191 3500 \r\nL 800 3500 \r\nL 1894 763 \r\nL 2988 3500 \r\nL 3597 3500 \r\nL 2059 -325 \r\nz\r\n\" id=\"DejaVuSans-79\" transform=\"scale(0.015625)\"/>\r\n      </defs>\r\n      <use xlink:href=\"#DejaVuSans-41\"/>\r\n      <use x=\"66.658203\" xlink:href=\"#DejaVuSans-63\"/>\r\n      <use x=\"121.638672\" xlink:href=\"#DejaVuSans-63\"/>\r\n      <use x=\"176.619141\" xlink:href=\"#DejaVuSans-75\"/>\r\n      <use x=\"239.998047\" xlink:href=\"#DejaVuSans-72\"/>\r\n      <use x=\"281.111328\" xlink:href=\"#DejaVuSans-61\"/>\r\n      <use x=\"342.390625\" xlink:href=\"#DejaVuSans-63\"/>\r\n      <use x=\"397.371094\" xlink:href=\"#DejaVuSans-79\"/>\r\n     </g>\r\n    </g>\r\n   </g>\r\n   <g id=\"line2d_31\">\r\n    <path clip-path=\"url(#p89909a8aba)\" d=\"M 50.14375 220.876377 \r\nL 52.15255 217.802041 \r\nL 57.50935 208.938862 \r\nL 59.51815 206.264745 \r\nL 61.52695 203.949547 \r\nL 63.53575 201.958162 \r\nL 66.88375 198.82472 \r\nL 68.22295 197.063425 \r\nL 69.56215 194.816082 \r\nL 72.24055 189.538765 \r\nL 76.92775 180.263538 \r\nL 78.26695 178.060179 \r\nL 80.27575 175.378839 \r\nL 81.61495 173.528542 \r\nL 82.95415 171.347991 \r\nL 86.30215 165.489634 \r\nL 88.31095 162.58216 \r\nL 90.31975 159.758986 \r\nL 92.32855 156.474623 \r\nL 96.34615 149.595181 \r\nL 98.35495 146.65359 \r\nL 100.36375 144.136532 \r\nL 103.04215 141.230222 \r\nL 105.05095 139.040801 \r\nL 109.73815 133.598199 \r\nL 112.41655 130.665713 \r\nL 117.10375 125.279909 \r\nL 120.45175 121.666029 \r\nL 121.79095 120.544031 \r\nL 123.13015 119.697167 \r\nL 125.13895 118.786155 \r\nL 127.81735 117.660021 \r\nL 129.15655 116.780656 \r\nL 130.49575 115.554881 \r\nL 135.85255 110.021187 \r\nL 138.53095 107.537212 \r\nL 140.53975 106.023602 \r\nL 143.21815 104.35177 \r\nL 144.55735 103.685267 \r\nL 145.89655 103.272538 \r\nL 147.23575 103.160178 \r\nL 149.24455 103.070966 \r\nL 149.91415 102.873309 \r\nL 151.25335 102.115594 \r\nL 153.26215 100.701567 \r\nL 154.60135 100.085984 \r\nL 157.27975 99.116168 \r\nL 163.30615 96.008596 \r\nL 166.65415 93.591346 \r\nL 167.99335 92.986423 \r\nL 171.34135 91.98806 \r\nL 172.68055 91.105909 \r\nL 174.68935 89.11366 \r\nL 176.02855 87.964534 \r\nL 176.69815 87.609136 \r\nL 177.36775 87.42545 \r\nL 178.03735 87.398591 \r\nL 179.37655 87.650665 \r\nL 180.71575 87.942719 \r\nL 182.05495 87.920505 \r\nL 183.39415 87.550481 \r\nL 187.41175 86.11978 \r\nL 188.75095 85.245345 \r\nL 190.75975 83.673566 \r\nL 192.09895 82.934183 \r\nL 194.10775 82.315967 \r\nL 195.44695 81.854319 \r\nL 196.78615 81.146439 \r\nL 198.79495 79.949786 \r\nL 199.46455 79.715103 \r\nL 200.13415 79.645828 \r\nL 200.80375 79.758719 \r\nL 202.14295 80.419489 \r\nL 203.48215 81.203544 \r\nL 204.15175 81.457517 \r\nL 204.82135 81.569638 \r\nL 206.16055 81.458673 \r\nL 207.49975 81.287974 \r\nL 208.83895 81.38679 \r\nL 210.17815 81.591684 \r\nL 210.84775 81.588222 \r\nL 211.51735 81.439422 \r\nL 212.18695 81.110608 \r\nL 212.85655 80.588693 \r\nL 214.19575 79.014948 \r\nL 217.54375 74.131686 \r\nL 218.21335 73.441602 \r\nL 218.88295 72.928725 \r\nL 219.55255 72.595665 \r\nL 220.22215 72.436221 \r\nL 220.89175 72.442296 \r\nL 221.56135 72.607635 \r\nL 222.23095 72.926814 \r\nL 223.57015 73.977134 \r\nL 226.24855 76.611438 \r\nL 226.91815 77.023563 \r\nL 227.58775 77.225628 \r\nL 228.25735 77.194799 \r\nL 228.92695 76.935959 \r\nL 229.59655 76.481493 \r\nL 230.93575 75.215784 \r\nL 232.94455 73.314117 \r\nL 234.28375 72.34161 \r\nL 236.29255 71.193971 \r\nL 237.63175 70.764208 \r\nL 238.30135 70.746352 \r\nL 238.97095 70.901523 \r\nL 239.64055 71.246373 \r\nL 240.31015 71.778467 \r\nL 241.64935 73.267171 \r\nL 242.98855 74.823955 \r\nL 243.65815 75.376764 \r\nL 244.32775 75.652566 \r\nL 244.99735 75.592223 \r\nL 245.66695 75.181252 \r\nL 246.33655 74.453383 \r\nL 247.67575 72.374234 \r\nL 249.01495 70.148351 \r\nL 250.35415 68.391912 \r\nL 251.69335 67.276621 \r\nL 253.03255 66.695183 \r\nL 254.37175 66.507041 \r\nL 255.71095 66.601199 \r\nL 257.05015 66.889057 \r\nL 258.38935 67.35344 \r\nL 259.72855 68.070822 \r\nL 261.06775 69.14962 \r\nL 262.40695 70.602873 \r\nL 263.74615 72.12965 \r\nL 264.41575 72.705334 \r\nL 265.08535 73.012099 \r\nL 265.75495 72.963821 \r\nL 266.42455 72.522176 \r\nL 267.09415 71.710343 \r\nL 268.43335 69.340939 \r\nL 269.77255 66.81595 \r\nL 270.44215 65.76638 \r\nL 271.11175 64.938609 \r\nL 271.78135 64.349253 \r\nL 272.45095 63.989571 \r\nL 273.12055 63.835908 \r\nL 273.79015 63.859648 \r\nL 274.45975 64.035111 \r\nL 275.79895 64.773718 \r\nL 277.13815 65.941318 \r\nL 279.14695 67.901108 \r\nL 279.81655 68.359873 \r\nL 280.48615 68.615896 \r\nL 281.15575 68.636602 \r\nL 281.82535 68.422936 \r\nL 282.49495 68.009699 \r\nL 285.84295 65.28312 \r\nL 286.51255 64.986231 \r\nL 287.85175 64.751976 \r\nL 289.19095 64.844156 \r\nL 291.19975 65.027941 \r\nL 292.53895 64.936316 \r\nL 295.21735 64.426902 \r\nL 298.56535 63.583764 \r\nL 302.58295 62.509061 \r\nL 304.59175 62.285192 \r\nL 305.93095 62.134588 \r\nL 307.27015 61.767749 \r\nL 309.94855 60.698749 \r\nL 310.61815 60.680426 \r\nL 311.28775 60.8944 \r\nL 311.95735 61.371534 \r\nL 312.62695 62.098455 \r\nL 315.30535 65.784516 \r\nL 315.97495 66.378756 \r\nL 316.64455 66.729965 \r\nL 317.31415 66.857367 \r\nL 317.98375 66.805244 \r\nL 319.32295 66.348619 \r\nL 320.66215 65.611342 \r\nL 322.67095 64.136976 \r\nL 328.69735 59.017949 \r\nL 332.04535 55.504331 \r\nL 333.38455 54.645494 \r\nL 334.05415 54.416952 \r\nL 334.72375 54.328636 \r\nL 335.39335 54.384839 \r\nL 336.06295 54.595145 \r\nL 336.73255 54.977531 \r\nL 337.40215 55.558539 \r\nL 338.07175 56.369153 \r\nL 338.74135 57.43567 \r\nL 340.08055 60.337498 \r\nL 342.75895 67.131164 \r\nL 343.42855 68.265586 \r\nL 344.09815 68.923834 \r\nL 344.76775 69.048254 \r\nL 345.43735 68.635815 \r\nL 346.10695 67.736927 \r\nL 346.77655 66.44836 \r\nL 350.12455 58.849987 \r\nL 350.79415 57.821632 \r\nL 351.46375 57.021578 \r\nL 352.80295 55.938668 \r\nL 354.14215 55.286157 \r\nL 355.48135 54.987977 \r\nL 356.15095 55.008271 \r\nL 357.49015 55.414327 \r\nL 359.49895 56.36299 \r\nL 360.16855 56.528973 \r\nL 360.83815 56.558487 \r\nL 363.51655 56.175138 \r\nL 364.18615 56.347278 \r\nL 364.85575 56.754748 \r\nL 365.52535 57.405355 \r\nL 366.86455 59.268465 \r\nL 368.20375 61.300382 \r\nL 368.87335 62.107248 \r\nL 369.54295 62.637265 \r\nL 370.21255 62.816986 \r\nL 370.88215 62.611996 \r\nL 371.55175 62.03435 \r\nL 372.22135 61.141753 \r\nL 373.56055 58.801193 \r\nL 374.89975 56.425943 \r\nL 376.23895 54.595574 \r\nL 376.90855 53.945198 \r\nL 377.57815 53.461219 \r\nL 378.91735 52.906155 \r\nL 380.25655 52.75052 \r\nL 381.59575 52.850039 \r\nL 384.27415 53.401519 \r\nL 384.94375 53.552628 \r\nL 384.94375 53.552628 \r\n\" style=\"fill:none;stroke:#1f77b4;stroke-linecap:square;stroke-width:1.5;\"/>\r\n   </g>\r\n   <g id=\"line2d_32\">\r\n    <path clip-path=\"url(#p89909a8aba)\" d=\"M 50.14375 216.850713 \r\nL 51.48295 215.541144 \r\nL 52.82215 213.606724 \r\nL 54.83095 209.823592 \r\nL 56.83975 206.214301 \r\nL 58.17895 204.217404 \r\nL 59.51815 202.558344 \r\nL 60.85735 201.402849 \r\nL 62.86615 200.077467 \r\nL 63.53575 199.408004 \r\nL 64.20535 198.532792 \r\nL 65.54455 196.285662 \r\nL 67.55335 192.774723 \r\nL 68.89255 190.897529 \r\nL 71.57095 187.377483 \r\nL 72.91015 185.143032 \r\nL 78.26695 175.103127 \r\nL 80.27575 170.671262 \r\nL 82.28455 166.250722 \r\nL 83.62375 163.880862 \r\nL 84.96295 162.130848 \r\nL 88.31095 158.510014 \r\nL 89.65015 156.536174 \r\nL 92.32855 152.420684 \r\nL 93.66775 150.801797 \r\nL 96.34615 147.788837 \r\nL 97.68535 145.765397 \r\nL 99.02455 143.17297 \r\nL 100.36375 140.056455 \r\nL 102.37255 135.100836 \r\nL 103.71175 132.417593 \r\nL 104.38135 131.425679 \r\nL 105.05095 130.671478 \r\nL 106.39015 129.697023 \r\nL 108.39895 128.59099 \r\nL 109.73815 127.563453 \r\nL 111.74695 125.588394 \r\nL 113.75575 123.703472 \r\nL 116.43415 121.550979 \r\nL 117.77335 120.041787 \r\nL 120.45175 116.424642 \r\nL 121.12135 115.737218 \r\nL 121.79095 115.222667 \r\nL 122.46055 114.877014 \r\nL 123.79975 114.539529 \r\nL 125.13895 114.254013 \r\nL 125.80855 113.969692 \r\nL 126.47815 113.540121 \r\nL 127.81735 112.29275 \r\nL 129.82615 110.226845 \r\nL 134.51335 106.061435 \r\nL 136.52215 103.734715 \r\nL 138.53095 101.284888 \r\nL 139.87015 100.079592 \r\nL 141.20935 99.338278 \r\nL 143.21815 98.668826 \r\nL 144.55735 98.415626 \r\nL 146.56615 98.277092 \r\nL 149.24455 98.225049 \r\nL 150.58375 97.917863 \r\nL 152.59255 97.161099 \r\nL 153.93175 96.989094 \r\nL 156.61015 97.232564 \r\nL 157.27975 96.999551 \r\nL 157.94935 96.510377 \r\nL 158.61895 95.755208 \r\nL 159.95815 93.640645 \r\nL 161.96695 90.317902 \r\nL 162.63655 89.491703 \r\nL 163.30615 88.86392 \r\nL 163.97575 88.42154 \r\nL 165.31495 87.917247 \r\nL 166.65415 87.522772 \r\nL 167.99335 86.884386 \r\nL 174.01975 83.167772 \r\nL 175.35895 82.508031 \r\nL 176.69815 82.189092 \r\nL 178.03735 82.241131 \r\nL 179.37655 82.336894 \r\nL 180.04615 82.266955 \r\nL 181.38535 81.771373 \r\nL 183.39415 80.644062 \r\nL 184.73335 80.260551 \r\nL 188.75095 79.909269 \r\nL 190.75975 79.466801 \r\nL 192.76855 79.120171 \r\nL 194.10775 78.596942 \r\nL 196.11655 77.298882 \r\nL 197.45575 76.558792 \r\nL 198.12535 76.347574 \r\nL 198.79495 76.265973 \r\nL 199.46455 76.315962 \r\nL 200.80375 76.763569 \r\nL 202.81255 77.711502 \r\nL 203.48215 77.844081 \r\nL 204.15175 77.794306 \r\nL 204.82135 77.560548 \r\nL 207.49975 76.062724 \r\nL 208.16935 75.923921 \r\nL 208.83895 75.93862 \r\nL 211.51735 76.395928 \r\nL 212.18695 76.262891 \r\nL 212.85655 75.954552 \r\nL 214.19575 74.876588 \r\nL 217.54375 71.485228 \r\nL 218.21335 71.035966 \r\nL 218.88295 70.720741 \r\nL 220.22215 70.465487 \r\nL 221.56135 70.609945 \r\nL 222.90055 71.112063 \r\nL 224.23975 71.992353 \r\nL 226.24855 73.506001 \r\nL 226.91815 73.824607 \r\nL 227.58775 73.965145 \r\nL 228.25735 73.905715 \r\nL 228.92695 73.644618 \r\nL 229.59655 73.197119 \r\nL 230.93575 71.870182 \r\nL 233.61415 68.548759 \r\nL 235.62295 66.151693 \r\nL 236.29255 65.521911 \r\nL 236.96215 65.0789 \r\nL 237.63175 64.883077 \r\nL 238.30135 64.972211 \r\nL 238.97095 65.353533 \r\nL 239.64055 66.004566 \r\nL 240.97975 67.909163 \r\nL 242.98855 71.01416 \r\nL 243.65815 71.684652 \r\nL 244.32775 72.000354 \r\nL 244.99735 71.90326 \r\nL 245.66695 71.38706 \r\nL 246.33655 70.499445 \r\nL 247.67575 68.003161 \r\nL 249.01495 65.329321 \r\nL 250.35415 63.209212 \r\nL 251.02375 62.46896 \r\nL 251.69335 61.956381 \r\nL 252.36295 61.663838 \r\nL 253.03255 61.572975 \r\nL 253.70215 61.656558 \r\nL 255.04135 62.208871 \r\nL 259.05895 64.508997 \r\nL 260.39815 65.206629 \r\nL 261.73735 66.264959 \r\nL 263.74615 68.242857 \r\nL 264.41575 68.63188 \r\nL 265.08535 68.699276 \r\nL 265.75495 68.385537 \r\nL 266.42455 67.696688 \r\nL 267.76375 65.535859 \r\nL 269.10295 63.222362 \r\nL 269.77255 62.302606 \r\nL 270.44215 61.612401 \r\nL 271.11175 61.143989 \r\nL 271.78135 60.857675 \r\nL 273.12055 60.646996 \r\nL 274.45975 60.769741 \r\nL 275.79895 61.25646 \r\nL 277.13815 62.124747 \r\nL 280.48615 64.729043 \r\nL 281.15575 64.979654 \r\nL 281.82535 65.047023 \r\nL 282.49495 64.93081 \r\nL 283.83415 64.278227 \r\nL 286.51255 62.604756 \r\nL 287.85175 62.043313 \r\nL 289.19095 61.753244 \r\nL 293.20855 61.299842 \r\nL 293.87815 60.956578 \r\nL 295.21735 59.850252 \r\nL 297.22615 57.938036 \r\nL 297.89575 57.530424 \r\nL 298.56535 57.300629 \r\nL 299.23495 57.233193 \r\nL 300.57415 57.440745 \r\nL 302.58295 58.169126 \r\nL 303.92215 58.667298 \r\nL 304.59175 58.809296 \r\nL 305.26135 58.816931 \r\nL 305.93095 58.657163 \r\nL 306.60055 58.324924 \r\nL 309.27895 56.390594 \r\nL 309.94855 56.22873 \r\nL 310.61815 56.371449 \r\nL 311.28775 56.851558 \r\nL 311.95735 57.650229 \r\nL 313.29655 59.864936 \r\nL 314.63575 62.0178 \r\nL 315.30535 62.763744 \r\nL 315.97495 63.215413 \r\nL 316.64455 63.391086 \r\nL 317.31415 63.349645 \r\nL 318.65335 62.880764 \r\nL 319.99255 62.110757 \r\nL 321.33175 60.970312 \r\nL 322.67095 59.393954 \r\nL 325.34935 55.938076 \r\nL 327.35815 53.927216 \r\nL 330.03655 51.561704 \r\nL 331.37575 50.787433 \r\nL 332.04535 50.609472 \r\nL 332.71495 50.582619 \r\nL 333.38455 50.700602 \r\nL 334.05415 50.953019 \r\nL 335.39335 51.827635 \r\nL 336.73255 53.159685 \r\nL 338.07175 54.923674 \r\nL 339.41095 57.150268 \r\nL 341.41975 61.248105 \r\nL 342.75895 63.77936 \r\nL 343.42855 64.644161 \r\nL 344.09815 65.077634 \r\nL 344.76775 64.988373 \r\nL 345.43735 64.334392 \r\nL 346.10695 63.137994 \r\nL 346.77655 61.49047 \r\nL 349.45495 53.732464 \r\nL 350.12455 52.305795 \r\nL 350.79415 51.249647 \r\nL 351.46375 50.546017 \r\nL 352.13335 50.137389 \r\nL 352.80295 49.94759 \r\nL 354.14215 49.940783 \r\nL 355.48135 50.178976 \r\nL 356.82055 50.706424 \r\nL 358.15975 51.618902 \r\nL 359.49895 52.609642 \r\nL 360.16855 52.957266 \r\nL 360.83815 53.147999 \r\nL 363.51655 53.337345 \r\nL 364.18615 53.700409 \r\nL 364.85575 54.311176 \r\nL 366.19495 56.159578 \r\nL 368.20375 59.263544 \r\nL 368.87335 59.969213 \r\nL 369.54295 60.332486 \r\nL 370.21255 60.269565 \r\nL 370.88215 59.738697 \r\nL 371.55175 58.758159 \r\nL 372.89095 55.834221 \r\nL 374.23015 52.625018 \r\nL 374.89975 51.266231 \r\nL 375.56935 50.182857 \r\nL 376.23895 49.397298 \r\nL 376.90855 48.890418 \r\nL 377.57815 48.613232 \r\nL 378.91735 48.477778 \r\nL 380.92615 48.418435 \r\nL 384.94375 47.893659 \r\nL 384.94375 47.893659 \r\n\" style=\"fill:none;stroke:#1f77b4;stroke-dasharray:5.55,2.4;stroke-dashoffset:0;stroke-width:1.5;\"/>\r\n   </g>\r\n   <g id=\"patch_3\">\r\n    <path d=\"M 50.14375 228.439219 \r\nL 50.14375 10.999219 \r\n\" style=\"fill:none;stroke:#000000;stroke-linecap:square;stroke-linejoin:miter;stroke-width:0.8;\"/>\r\n   </g>\r\n   <g id=\"patch_4\">\r\n    <path d=\"M 384.94375 228.439219 \r\nL 384.94375 10.999219 \r\n\" style=\"fill:none;stroke:#000000;stroke-linecap:square;stroke-linejoin:miter;stroke-width:0.8;\"/>\r\n   </g>\r\n   <g id=\"patch_5\">\r\n    <path d=\"M 50.14375 228.439219 \r\nL 384.94375 228.439219 \r\n\" style=\"fill:none;stroke:#000000;stroke-linecap:square;stroke-linejoin:miter;stroke-width:0.8;\"/>\r\n   </g>\r\n   <g id=\"patch_6\">\r\n    <path d=\"M 50.14375 10.999219 \r\nL 384.94375 10.999219 \r\n\" style=\"fill:none;stroke:#000000;stroke-linecap:square;stroke-linejoin:miter;stroke-width:0.8;\"/>\r\n   </g>\r\n   <g id=\"legend_1\">\r\n    <g id=\"patch_7\">\r\n     <path d=\"M 266.1 48.355469 \r\nL 377.94375 48.355469 \r\nQ 379.94375 48.355469 379.94375 46.355469 \r\nL 379.94375 17.999219 \r\nQ 379.94375 15.999219 377.94375 15.999219 \r\nL 266.1 15.999219 \r\nQ 264.1 15.999219 264.1 17.999219 \r\nL 264.1 46.355469 \r\nQ 264.1 48.355469 266.1 48.355469 \r\nz\r\n\" style=\"fill:#ffffff;opacity:0.8;stroke:#cccccc;stroke-linejoin:miter;\"/>\r\n    </g>\r\n    <g id=\"line2d_33\">\r\n     <path d=\"M 268.1 24.097656 \r\nL 288.1 24.097656 \r\n\" style=\"fill:none;stroke:#1f77b4;stroke-linecap:square;stroke-width:1.5;\"/>\r\n    </g>\r\n    <g id=\"line2d_34\"/>\r\n    <g id=\"text_18\">\r\n     <!-- Nodropout Train -->\r\n     <g transform=\"translate(296.1 27.597656)scale(0.1 -0.1)\">\r\n      <defs>\r\n       <path d=\"M 628 4666 \r\nL 1478 4666 \r\nL 3547 763 \r\nL 3547 4666 \r\nL 4159 4666 \r\nL 4159 0 \r\nL 3309 0 \r\nL 1241 3903 \r\nL 1241 0 \r\nL 628 0 \r\nL 628 4666 \r\nz\r\n\" id=\"DejaVuSans-4e\" transform=\"scale(0.015625)\"/>\r\n       <path d=\"M 2906 2969 \r\nL 2906 4863 \r\nL 3481 4863 \r\nL 3481 0 \r\nL 2906 0 \r\nL 2906 525 \r\nQ 2725 213 2448 61 \r\nQ 2172 -91 1784 -91 \r\nQ 1150 -91 751 415 \r\nQ 353 922 353 1747 \r\nQ 353 2572 751 3078 \r\nQ 1150 3584 1784 3584 \r\nQ 2172 3584 2448 3432 \r\nQ 2725 3281 2906 2969 \r\nz\r\nM 947 1747 \r\nQ 947 1113 1208 752 \r\nQ 1469 391 1925 391 \r\nQ 2381 391 2643 752 \r\nQ 2906 1113 2906 1747 \r\nQ 2906 2381 2643 2742 \r\nQ 2381 3103 1925 3103 \r\nQ 1469 3103 1208 2742 \r\nQ 947 2381 947 1747 \r\nz\r\n\" id=\"DejaVuSans-64\" transform=\"scale(0.015625)\"/>\r\n       <path d=\"M 1172 4494 \r\nL 1172 3500 \r\nL 2356 3500 \r\nL 2356 3053 \r\nL 1172 3053 \r\nL 1172 1153 \r\nQ 1172 725 1289 603 \r\nQ 1406 481 1766 481 \r\nL 2356 481 \r\nL 2356 0 \r\nL 1766 0 \r\nQ 1100 0 847 248 \r\nQ 594 497 594 1153 \r\nL 594 3053 \r\nL 172 3053 \r\nL 172 3500 \r\nL 594 3500 \r\nL 594 4494 \r\nL 1172 4494 \r\nz\r\n\" id=\"DejaVuSans-74\" transform=\"scale(0.015625)\"/>\r\n       <path id=\"DejaVuSans-20\" transform=\"scale(0.015625)\"/>\r\n       <path d=\"M -19 4666 \r\nL 3928 4666 \r\nL 3928 4134 \r\nL 2272 4134 \r\nL 2272 0 \r\nL 1638 0 \r\nL 1638 4134 \r\nL -19 4134 \r\nL -19 4666 \r\nz\r\n\" id=\"DejaVuSans-54\" transform=\"scale(0.015625)\"/>\r\n       <path d=\"M 603 3500 \r\nL 1178 3500 \r\nL 1178 0 \r\nL 603 0 \r\nL 603 3500 \r\nz\r\nM 603 4863 \r\nL 1178 4863 \r\nL 1178 4134 \r\nL 603 4134 \r\nL 603 4863 \r\nz\r\n\" id=\"DejaVuSans-69\" transform=\"scale(0.015625)\"/>\r\n       <path d=\"M 3513 2113 \r\nL 3513 0 \r\nL 2938 0 \r\nL 2938 2094 \r\nQ 2938 2591 2744 2837 \r\nQ 2550 3084 2163 3084 \r\nQ 1697 3084 1428 2787 \r\nQ 1159 2491 1159 1978 \r\nL 1159 0 \r\nL 581 0 \r\nL 581 3500 \r\nL 1159 3500 \r\nL 1159 2956 \r\nQ 1366 3272 1645 3428 \r\nQ 1925 3584 2291 3584 \r\nQ 2894 3584 3203 3211 \r\nQ 3513 2838 3513 2113 \r\nz\r\n\" id=\"DejaVuSans-6e\" transform=\"scale(0.015625)\"/>\r\n      </defs>\r\n      <use xlink:href=\"#DejaVuSans-4e\"/>\r\n      <use x=\"74.804688\" xlink:href=\"#DejaVuSans-6f\"/>\r\n      <use x=\"135.986328\" xlink:href=\"#DejaVuSans-64\"/>\r\n      <use x=\"199.462891\" xlink:href=\"#DejaVuSans-72\"/>\r\n      <use x=\"238.326172\" xlink:href=\"#DejaVuSans-6f\"/>\r\n      <use x=\"299.507812\" xlink:href=\"#DejaVuSans-70\"/>\r\n      <use x=\"362.984375\" xlink:href=\"#DejaVuSans-6f\"/>\r\n      <use x=\"424.166016\" xlink:href=\"#DejaVuSans-75\"/>\r\n      <use x=\"487.544922\" xlink:href=\"#DejaVuSans-74\"/>\r\n      <use x=\"526.753906\" xlink:href=\"#DejaVuSans-20\"/>\r\n      <use x=\"558.541016\" xlink:href=\"#DejaVuSans-54\"/>\r\n      <use x=\"604.875\" xlink:href=\"#DejaVuSans-72\"/>\r\n      <use x=\"645.988281\" xlink:href=\"#DejaVuSans-61\"/>\r\n      <use x=\"707.267578\" xlink:href=\"#DejaVuSans-69\"/>\r\n      <use x=\"735.050781\" xlink:href=\"#DejaVuSans-6e\"/>\r\n     </g>\r\n    </g>\r\n    <g id=\"line2d_35\">\r\n     <path d=\"M 268.1 38.775781 \r\nL 288.1 38.775781 \r\n\" style=\"fill:none;stroke:#1f77b4;stroke-dasharray:5.55,2.4;stroke-dashoffset:0;stroke-width:1.5;\"/>\r\n    </g>\r\n    <g id=\"line2d_36\"/>\r\n    <g id=\"text_19\">\r\n     <!-- Nodropout Val -->\r\n     <g transform=\"translate(296.1 42.275781)scale(0.1 -0.1)\">\r\n      <defs>\r\n       <path d=\"M 1831 0 \r\nL 50 4666 \r\nL 709 4666 \r\nL 2188 738 \r\nL 3669 4666 \r\nL 4325 4666 \r\nL 2547 0 \r\nL 1831 0 \r\nz\r\n\" id=\"DejaVuSans-56\" transform=\"scale(0.015625)\"/>\r\n       <path d=\"M 603 4863 \r\nL 1178 4863 \r\nL 1178 0 \r\nL 603 0 \r\nL 603 4863 \r\nz\r\n\" id=\"DejaVuSans-6c\" transform=\"scale(0.015625)\"/>\r\n      </defs>\r\n      <use xlink:href=\"#DejaVuSans-4e\"/>\r\n      <use x=\"74.804688\" xlink:href=\"#DejaVuSans-6f\"/>\r\n      <use x=\"135.986328\" xlink:href=\"#DejaVuSans-64\"/>\r\n      <use x=\"199.462891\" xlink:href=\"#DejaVuSans-72\"/>\r\n      <use x=\"238.326172\" xlink:href=\"#DejaVuSans-6f\"/>\r\n      <use x=\"299.507812\" xlink:href=\"#DejaVuSans-70\"/>\r\n      <use x=\"362.984375\" xlink:href=\"#DejaVuSans-6f\"/>\r\n      <use x=\"424.166016\" xlink:href=\"#DejaVuSans-75\"/>\r\n      <use x=\"487.544922\" xlink:href=\"#DejaVuSans-74\"/>\r\n      <use x=\"526.753906\" xlink:href=\"#DejaVuSans-20\"/>\r\n      <use x=\"558.541016\" xlink:href=\"#DejaVuSans-56\"/>\r\n      <use x=\"619.199219\" xlink:href=\"#DejaVuSans-61\"/>\r\n      <use x=\"680.478516\" xlink:href=\"#DejaVuSans-6c\"/>\r\n     </g>\r\n    </g>\r\n   </g>\r\n  </g>\r\n </g>\r\n <defs>\r\n  <clipPath id=\"p89909a8aba\">\r\n   <rect height=\"217.44\" width=\"334.8\" x=\"50.14375\" y=\"10.999219\"/>\r\n  </clipPath>\r\n </defs>\r\n</svg>\r\n",
      "image/png": "[encoded data removed]"
     },
     "metadata": {
      "needs_background": "light"
     }
    }
   ],
   "source": [
    "plotter = tfdocs.plots.HistoryPlotter(metric='accuracy', smoothing_std=10)\n",
    "plotter.plot(histories)\n",
    "plt.ylim([0.6, 1])"
   ]
  },
  {
   "source": [
    "## Testing the model"
   ],
   "cell_type": "markdown",
   "metadata": {}
  },
  {
   "source": [
    "We will be using the data that was left out at the beginning, data that the model has never seen in order to test it's performance and check for overfitting."
   ],
   "cell_type": "markdown",
   "metadata": {}
  },
  {
   "cell_type": "code",
   "execution_count": 15,
   "metadata": {},
   "outputs": [
    {
     "output_type": "stream",
     "name": "stdout",
     "text": [
      "6/6 [==============================] - 1s 10ms/step - loss: 0.1653 - binary_crossentropy: 0.1653 - accuracy: 0.9258\n"
     ]
    },
    {
     "output_type": "execute_result",
     "data": {
      "text/plain": [
       "{'loss': 0.1652573049068451,\n",
       " 'binary_crossentropy': 0.1652573049068451,\n",
       " 'accuracy': 0.92578125}"
      ]
     },
     "metadata": {},
     "execution_count": 15
    }
   ],
   "source": [
    "result = model.evaluate(test_dataset)\n",
    "dict(zip(model.metrics_names, result))"
   ]
  },
  {
   "source": [
    "## Generating a Submission"
   ],
   "cell_type": "markdown",
   "metadata": {}
  },
  {
   "source": [
    "We will now be usig the model we just trained to generate a submission for the [kaggle](https://www.kaggle.com/c/st4-data-challenge-2021) competition."
   ],
   "cell_type": "markdown",
   "metadata": {}
  },
  {
   "cell_type": "code",
   "execution_count": 16,
   "metadata": {},
   "outputs": [],
   "source": [
    "import pandas as pd\n",
    "df = pd.read_csv(r\"/data/test.csv\")\n",
    "\n",
    "def predictRow(row):\n",
    "    # We do not take the first item as it is the userid\n",
    "    tensor = tf.convert_to_tensor([[x for x in row[1:]]])\n",
    "    return 'Auto' if model.predict(tensor) > 0.5 else 'Hand'\n",
    "\n",
    "submission = pd.DataFrame()\n",
    "\n",
    "submission[\"userId\"] = df[\"userId\"]\n",
    "submission[\"washDishes\"] = df.apply(predictRow, axis=1)\n",
    "\n",
    "submission.to_csv('./data/submission.csv', index=False)"
   ]
  }
 ]
}