{
 "metadata": {
  "language_info": {
   "codemirror_mode": {
    "name": "ipython",
    "version": 3
   },
   "file_extension": ".py",
   "mimetype": "text/x-python",
   "name": "python",
   "nbconvert_exporter": "python",
   "pygments_lexer": "ipython3",
   "version": "3.9.2"
  },
  "orig_nbformat": 2,
  "kernelspec": {
   "name": "python392jvsc74a57bd0ac59ebe37160ed0dfa835113d9b8498d9f09ceb179beaac4002f036b9467c963",
   "display_name": "Python 3.9.2 64-bit"
  },
  "metadata": {
   "interpreter": {
    "hash": "ac59ebe37160ed0dfa835113d9b8498d9f09ceb179beaac4002f036b9467c963"
   }
  }
 },
 "nbformat": 4,
 "nbformat_minor": 2,
 "cells": [
  {
   "source": [
    "# EI ST4"
   ],
   "cell_type": "markdown",
   "metadata": {}
  },
  {
   "source": [
    "## Imports"
   ],
   "cell_type": "markdown",
   "metadata": {}
  },
  {
   "cell_type": "code",
   "execution_count": 1,
   "metadata": {},
   "outputs": [],
   "source": [
    "import pandas as pd\n",
    "from datetime import datetime\n",
    "import math"
   ]
  },
  {
   "cell_type": "code",
   "execution_count": 2,
   "metadata": {},
   "outputs": [],
   "source": [
    "tf = pd.read_csv(r\"DS_CentraleSupelec_ST42021/DS_CentraleSupelec_train.csv\")\n",
    "rf = pd.read_csv(r\"DS_CentraleSupelec_ST42021/DS_CentraleSupelec_test.csv\")"
   ]
  },
  {
   "source": [
    "## Cleaning up the dataframe"
   ],
   "cell_type": "markdown",
   "metadata": {}
  },
  {
   "cell_type": "code",
   "execution_count": 3,
   "metadata": {},
   "outputs": [
    {
     "output_type": "execute_result",
     "data": {
      "text/plain": [
       "                                userId  age gender      registrationDate  \\\n",
       "0      use_XbA1FTDcCrTMNTHK1851TzjyPMP   24      F  2019-10-14T17:33:37Z   \n",
       "1      use_3WHgsMVGSg5MHG2zja91TzdfmY2   67      F  2017-07-25T07:00:31Z   \n",
       "2      use_2SisOiR8QwDaHI4svm11TzcvK7V   45      F  2015-06-25T00:00:00Z   \n",
       "3      use_W0T1LmfKaQPJYD1RTWh1Tzdc69H   35      F  2018-01-31T07:24:39Z   \n",
       "4      use_KwYWZ7UMl4veveOaPGK1TzddtmI   38      F  2016-01-26T11:42:17Z   \n",
       "...                                ...  ...    ...                   ...   \n",
       "11995  use_ICSyEvCcRNPpQeBdWcM1TzdczV8   53      F  2015-03-11T20:03:16Z   \n",
       "11996  use_Q5DNYeSmG7g6VeMV4n71TzeTRRz   43      F  2015-10-10T19:16:19Z   \n",
       "11997  use_rEoce5pc0MlKpndfzNj1Tze3J1L   42      F  2015-05-08T02:59:34Z   \n",
       "11998  use_0AuDL2wOJHy9I16zSC21TzeHRMo   39      M  2019-05-20T11:59:02Z   \n",
       "11999  use_B7F2PfU4eOKBmVc93AU1TzdqFY9   32      F  2017-03-05T12:42:26Z   \n",
       "\n",
       "      languageCode countryCode  emailContactable  postalContactable  \\\n",
       "0               fr         FRA              True               True   \n",
       "1               fr         FRA              True               True   \n",
       "2               fr         FRA              True               True   \n",
       "3               fr         FRA              True               True   \n",
       "4               fr         FRA              True               True   \n",
       "...            ...         ...               ...                ...   \n",
       "11995           fr         FRA              True               True   \n",
       "11996           fr         FRA              True               True   \n",
       "11997           fr         FRA              True               True   \n",
       "11998           fr         FRA              True               True   \n",
       "11999           FR         FRA              True               True   \n",
       "\n",
       "      postalCode numberChildren  ... detergentType MrPropreTrier AntikalTrier  \\\n",
       "0          68540              1  ...        Liquid           NaN          NaN   \n",
       "1          17390              3  ...          Pods   Known Trier  Known Trier   \n",
       "2          30200              1  ...        Liquid           NaN          NaN   \n",
       "3          61400              2  ...          Pods           NaN          NaN   \n",
       "4          30620              0  ...        Liquid   Known Trier  Known Trier   \n",
       "...          ...            ...  ...           ...           ...          ...   \n",
       "11995      77240             4+  ...          Pods           NaN          NaN   \n",
       "11996      45120              0  ...        Liquid           NaN          NaN   \n",
       "11997      35170              3  ...        Liquid           NaN          NaN   \n",
       "11998      45160              1  ...        Liquid           NaN          NaN   \n",
       "11999      37600              3  ...        Liquid           NaN          NaN   \n",
       "\n",
       "        ArielTrier    DashTrier scentLover petOwner ecoInterest  \\\n",
       "0              NaN          NaN    NonUser      Yes         NaN   \n",
       "1      Known Trier          NaN        NaN       No        High   \n",
       "2      Known Trier  Known Trier    NonUser      Yes        High   \n",
       "3      Known Trier  Known Trier        Low      Yes      Medium   \n",
       "4      Known Trier  Known Trier        NaN      Yes         Low   \n",
       "...            ...          ...        ...      ...         ...   \n",
       "11995          NaN          NaN        NaN      Yes         NaN   \n",
       "11996          NaN          NaN        Low      Yes      Medium   \n",
       "11997          NaN          NaN        NaN      Yes        High   \n",
       "11998          NaN          NaN        NaN      Yes         NaN   \n",
       "11999          NaN          NaN    NonUser      Yes        High   \n",
       "\n",
       "          closestShop washDishes  \n",
       "0                 NaN       Auto  \n",
       "1                 NaN       Auto  \n",
       "2                 NaN       Auto  \n",
       "3                 NaN       Hand  \n",
       "4                 NaN       Hand  \n",
       "...               ...        ...  \n",
       "11995             NaN       Auto  \n",
       "11996             NaN       Hand  \n",
       "11997             NaN       Hand  \n",
       "11998             NaN       Auto  \n",
       "11999  3. SuperMarket       Hand  \n",
       "\n",
       "[12000 rows x 23 columns]"
      ],
      "text/html": "<div>\n<style scoped>\n    .dataframe tbody tr th:only-of-type {\n        vertical-align: middle;\n    }\n\n    .dataframe tbody tr th {\n        vertical-align: top;\n    }\n\n    .dataframe thead th {\n        text-align: right;\n    }\n</style>\n<table border=\"1\" class=\"dataframe\">\n  <thead>\n    <tr style=\"text-align: right;\">\n      <th></th>\n      <th>userId</th>\n      <th>age</th>\n      <th>gender</th>\n      <th>registrationDate</th>\n      <th>languageCode</th>\n      <th>countryCode</th>\n      <th>emailContactable</th>\n      <th>postalContactable</th>\n      <th>postalCode</th>\n      <th>numberChildren</th>\n      <th>...</th>\n      <th>detergentType</th>\n      <th>MrPropreTrier</th>\n      <th>AntikalTrier</th>\n      <th>ArielTrier</th>\n      <th>DashTrier</th>\n      <th>scentLover</th>\n      <th>petOwner</th>\n      <th>ecoInterest</th>\n      <th>closestShop</th>\n      <th>washDishes</th>\n    </tr>\n  </thead>\n  <tbody>\n    <tr>\n      <th>0</th>\n      <td>use_XbA1FTDcCrTMNTHK1851TzjyPMP</td>\n      <td>24</td>\n      <td>F</td>\n      <td>2019-10-14T17:33:37Z</td>\n      <td>fr</td>\n      <td>FRA</td>\n      <td>True</td>\n      <td>True</td>\n      <td>68540</td>\n      <td>1</td>\n      <td>...</td>\n      <td>Liquid</td>\n      <td>NaN</td>\n      <td>NaN</td>\n      <td>NaN</td>\n      <td>NaN</td>\n      <td>NonUser</td>\n      <td>Yes</td>\n      <td>NaN</td>\n      <td>NaN</td>\n      <td>Auto</td>\n    </tr>\n    <tr>\n      <th>1</th>\n      <td>use_3WHgsMVGSg5MHG2zja91TzdfmY2</td>\n      <td>67</td>\n      <td>F</td>\n      <td>2017-07-25T07:00:31Z</td>\n      <td>fr</td>\n      <td>FRA</td>\n      <td>True</td>\n      <td>True</td>\n      <td>17390</td>\n      <td>3</td>\n      <td>...</td>\n      <td>Pods</td>\n      <td>Known Trier</td>\n      <td>Known Trier</td>\n      <td>Known Trier</td>\n      <td>NaN</td>\n      <td>NaN</td>\n      <td>No</td>\n      <td>High</td>\n      <td>NaN</td>\n      <td>Auto</td>\n    </tr>\n    <tr>\n      <th>2</th>\n      <td>use_2SisOiR8QwDaHI4svm11TzcvK7V</td>\n      <td>45</td>\n      <td>F</td>\n      <td>2015-06-25T00:00:00Z</td>\n      <td>fr</td>\n      <td>FRA</td>\n      <td>True</td>\n      <td>True</td>\n      <td>30200</td>\n      <td>1</td>\n      <td>...</td>\n      <td>Liquid</td>\n      <td>NaN</td>\n      <td>NaN</td>\n      <td>Known Trier</td>\n      <td>Known Trier</td>\n      <td>NonUser</td>\n      <td>Yes</td>\n      <td>High</td>\n      <td>NaN</td>\n      <td>Auto</td>\n    </tr>\n    <tr>\n      <th>3</th>\n      <td>use_W0T1LmfKaQPJYD1RTWh1Tzdc69H</td>\n      <td>35</td>\n      <td>F</td>\n      <td>2018-01-31T07:24:39Z</td>\n      <td>fr</td>\n      <td>FRA</td>\n      <td>True</td>\n      <td>True</td>\n      <td>61400</td>\n      <td>2</td>\n      <td>...</td>\n      <td>Pods</td>\n      <td>NaN</td>\n      <td>NaN</td>\n      <td>Known Trier</td>\n      <td>Known Trier</td>\n      <td>Low</td>\n      <td>Yes</td>\n      <td>Medium</td>\n      <td>NaN</td>\n      <td>Hand</td>\n    </tr>\n    <tr>\n      <th>4</th>\n      <td>use_KwYWZ7UMl4veveOaPGK1TzddtmI</td>\n      <td>38</td>\n      <td>F</td>\n      <td>2016-01-26T11:42:17Z</td>\n      <td>fr</td>\n      <td>FRA</td>\n      <td>True</td>\n      <td>True</td>\n      <td>30620</td>\n      <td>0</td>\n      <td>...</td>\n      <td>Liquid</td>\n      <td>Known Trier</td>\n      <td>Known Trier</td>\n      <td>Known Trier</td>\n      <td>Known Trier</td>\n      <td>NaN</td>\n      <td>Yes</td>\n      <td>Low</td>\n      <td>NaN</td>\n      <td>Hand</td>\n    </tr>\n    <tr>\n      <th>...</th>\n      <td>...</td>\n      <td>...</td>\n      <td>...</td>\n      <td>...</td>\n      <td>...</td>\n      <td>...</td>\n      <td>...</td>\n      <td>...</td>\n      <td>...</td>\n      <td>...</td>\n      <td>...</td>\n      <td>...</td>\n      <td>...</td>\n      <td>...</td>\n      <td>...</td>\n      <td>...</td>\n      <td>...</td>\n      <td>...</td>\n      <td>...</td>\n      <td>...</td>\n      <td>...</td>\n    </tr>\n    <tr>\n      <th>11995</th>\n      <td>use_ICSyEvCcRNPpQeBdWcM1TzdczV8</td>\n      <td>53</td>\n      <td>F</td>\n      <td>2015-03-11T20:03:16Z</td>\n      <td>fr</td>\n      <td>FRA</td>\n      <td>True</td>\n      <td>True</td>\n      <td>77240</td>\n      <td>4+</td>\n      <td>...</td>\n      <td>Pods</td>\n      <td>NaN</td>\n      <td>NaN</td>\n      <td>NaN</td>\n      <td>NaN</td>\n      <td>NaN</td>\n      <td>Yes</td>\n      <td>NaN</td>\n      <td>NaN</td>\n      <td>Auto</td>\n    </tr>\n    <tr>\n      <th>11996</th>\n      <td>use_Q5DNYeSmG7g6VeMV4n71TzeTRRz</td>\n      <td>43</td>\n      <td>F</td>\n      <td>2015-10-10T19:16:19Z</td>\n      <td>fr</td>\n      <td>FRA</td>\n      <td>True</td>\n      <td>True</td>\n      <td>45120</td>\n      <td>0</td>\n      <td>...</td>\n      <td>Liquid</td>\n      <td>NaN</td>\n      <td>NaN</td>\n      <td>NaN</td>\n      <td>NaN</td>\n      <td>Low</td>\n      <td>Yes</td>\n      <td>Medium</td>\n      <td>NaN</td>\n      <td>Hand</td>\n    </tr>\n    <tr>\n      <th>11997</th>\n      <td>use_rEoce5pc0MlKpndfzNj1Tze3J1L</td>\n      <td>42</td>\n      <td>F</td>\n      <td>2015-05-08T02:59:34Z</td>\n      <td>fr</td>\n      <td>FRA</td>\n      <td>True</td>\n      <td>True</td>\n      <td>35170</td>\n      <td>3</td>\n      <td>...</td>\n      <td>Liquid</td>\n      <td>NaN</td>\n      <td>NaN</td>\n      <td>NaN</td>\n      <td>NaN</td>\n      <td>NaN</td>\n      <td>Yes</td>\n      <td>High</td>\n      <td>NaN</td>\n      <td>Hand</td>\n    </tr>\n    <tr>\n      <th>11998</th>\n      <td>use_0AuDL2wOJHy9I16zSC21TzeHRMo</td>\n      <td>39</td>\n      <td>M</td>\n      <td>2019-05-20T11:59:02Z</td>\n      <td>fr</td>\n      <td>FRA</td>\n      <td>True</td>\n      <td>True</td>\n      <td>45160</td>\n      <td>1</td>\n      <td>...</td>\n      <td>Liquid</td>\n      <td>NaN</td>\n      <td>NaN</td>\n      <td>NaN</td>\n      <td>NaN</td>\n      <td>NaN</td>\n      <td>Yes</td>\n      <td>NaN</td>\n      <td>NaN</td>\n      <td>Auto</td>\n    </tr>\n    <tr>\n      <th>11999</th>\n      <td>use_B7F2PfU4eOKBmVc93AU1TzdqFY9</td>\n      <td>32</td>\n      <td>F</td>\n      <td>2017-03-05T12:42:26Z</td>\n      <td>FR</td>\n      <td>FRA</td>\n      <td>True</td>\n      <td>True</td>\n      <td>37600</td>\n      <td>3</td>\n      <td>...</td>\n      <td>Liquid</td>\n      <td>NaN</td>\n      <td>NaN</td>\n      <td>NaN</td>\n      <td>NaN</td>\n      <td>NonUser</td>\n      <td>Yes</td>\n      <td>High</td>\n      <td>3. SuperMarket</td>\n      <td>Hand</td>\n    </tr>\n  </tbody>\n</table>\n<p>12000 rows × 23 columns</p>\n</div>"
     },
     "metadata": {},
     "execution_count": 3
    }
   ],
   "source": [
    "tf"
   ]
  },
  {
   "cell_type": "code",
   "execution_count": 4,
   "metadata": {},
   "outputs": [
    {
     "output_type": "execute_result",
     "data": {
      "text/plain": [
       "                               userId  age gender      registrationDate  \\\n",
       "0     use_yFJKoOUCJ7ED8c8Xeov1TzdfpRL   38      F  2017-10-05T08:03:06Z   \n",
       "1     use_t1WpMt2fprbjEteXNSZ1TzdyvAi   45      F  2017-11-16T15:45:53Z   \n",
       "2     use_w9jT58WcsP3tUkPCA0A1TzgYdeE   27      F  2013-05-31T00:00:00Z   \n",
       "3     use_onifqa3LnOsjZOhPYfN1TzdfkfA   66      F  2016-08-31T05:48:51Z   \n",
       "4     use_KgP1NlkmR24pbU9KRwK1Tzdqm8u   42      F  2017-09-01T13:14:54Z   \n",
       "...                               ...  ...    ...                   ...   \n",
       "3995  use_yXWhQEP4R6vvYOeJzz61TZU7JRs   50      F  2006-02-06T00:00:00Z   \n",
       "3996  use_MafnxsXODJV5oVhfi1h1TzdgYQT   43      F  2008-03-10T00:00:00Z   \n",
       "3997  use_Pbui34WhFhPjNeX6TEz1TzdZdVv   38      F  2019-04-19T14:18:48Z   \n",
       "3998  use_sDxhHoOEzHyrAzWSPnM1TzdYVjB   38      F  2015-10-02T00:08:39Z   \n",
       "3999  use_cK0eXBDkaHEqmbVJLYC1TzdsXiW   43      F  2007-12-31T00:00:00Z   \n",
       "\n",
       "     languageCode countryCode  emailContactable  postalContactable  \\\n",
       "0              fr         FRA              True               True   \n",
       "1              fr         FRA              True               True   \n",
       "2              fr         FRA             False               True   \n",
       "3              fr         FRA              True               True   \n",
       "4              fr         FRA              True               True   \n",
       "...           ...         ...               ...                ...   \n",
       "3995           fr         FRA              True               True   \n",
       "3996           fr         FRA              True               True   \n",
       "3997           fr         FRA              True               True   \n",
       "3998           fr         FRA              True               True   \n",
       "3999           fr         FRA              True              False   \n",
       "\n",
       "      postalCode numberChildren  ... toothBrushType detergentType  \\\n",
       "0          59640             4+  ...         Manual        Liquid   \n",
       "1          67110              2  ...         Manual        Liquid   \n",
       "2          62700              1  ...         Manual        Liquid   \n",
       "3          85130              3  ...         Manual        Liquid   \n",
       "4          44460              2  ...         Manual          Pods   \n",
       "...          ...            ...  ...            ...           ...   \n",
       "3995       59000              0  ...         Manual           NaN   \n",
       "3996       80090              0  ...       Electric          Pods   \n",
       "3997       51200              2  ...         Manual          Pods   \n",
       "3998       29200              2  ...       Electric        Liquid   \n",
       "3999       67800              0  ...         Manual        Powder   \n",
       "\n",
       "     MrPropreTrier AntikalTrier   ArielTrier    DashTrier scentLover  \\\n",
       "0      Known Trier          NaN  Known Trier  Known Trier        NaN   \n",
       "1              NaN          NaN  Known Trier          NaN        NaN   \n",
       "2              NaN          NaN          NaN          NaN        NaN   \n",
       "3      Known Trier          NaN          NaN          NaN        NaN   \n",
       "4              NaN          NaN  Known Trier  Known Trier    NonUser   \n",
       "...            ...          ...          ...          ...        ...   \n",
       "3995           NaN          NaN  Known Trier  Known Trier       High   \n",
       "3996           NaN          NaN          NaN          NaN        Low   \n",
       "3997           NaN          NaN  Known Trier  Known Trier       High   \n",
       "3998   Known Trier  Known Trier  Known Trier  Known Trier        Low   \n",
       "3999           NaN          NaN          NaN  Known Trier        NaN   \n",
       "\n",
       "               petOwner ecoInterest         closestShop  \n",
       "0     No - maybe future        High                 NaN  \n",
       "1                   Yes        High                 NaN  \n",
       "2                   Yes         NaN                 NaN  \n",
       "3                    No         NaN                 NaN  \n",
       "4                   Yes      Medium                 NaN  \n",
       "...                 ...         ...                 ...  \n",
       "3995                Yes        High                 NaN  \n",
       "3996                Yes        High      3. SuperMarket  \n",
       "3997                Yes   Very high  2. Moyenne Surface  \n",
       "3998                 No         NaN                 NaN  \n",
       "3999                 No      Medium                 NaN  \n",
       "\n",
       "[4000 rows x 22 columns]"
      ],
      "text/html": "<div>\n<style scoped>\n    .dataframe tbody tr th:only-of-type {\n        vertical-align: middle;\n    }\n\n    .dataframe tbody tr th {\n        vertical-align: top;\n    }\n\n    .dataframe thead th {\n        text-align: right;\n    }\n</style>\n<table border=\"1\" class=\"dataframe\">\n  <thead>\n    <tr style=\"text-align: right;\">\n      <th></th>\n      <th>userId</th>\n      <th>age</th>\n      <th>gender</th>\n      <th>registrationDate</th>\n      <th>languageCode</th>\n      <th>countryCode</th>\n      <th>emailContactable</th>\n      <th>postalContactable</th>\n      <th>postalCode</th>\n      <th>numberChildren</th>\n      <th>...</th>\n      <th>toothBrushType</th>\n      <th>detergentType</th>\n      <th>MrPropreTrier</th>\n      <th>AntikalTrier</th>\n      <th>ArielTrier</th>\n      <th>DashTrier</th>\n      <th>scentLover</th>\n      <th>petOwner</th>\n      <th>ecoInterest</th>\n      <th>closestShop</th>\n    </tr>\n  </thead>\n  <tbody>\n    <tr>\n      <th>0</th>\n      <td>use_yFJKoOUCJ7ED8c8Xeov1TzdfpRL</td>\n      <td>38</td>\n      <td>F</td>\n      <td>2017-10-05T08:03:06Z</td>\n      <td>fr</td>\n      <td>FRA</td>\n      <td>True</td>\n      <td>True</td>\n      <td>59640</td>\n      <td>4+</td>\n      <td>...</td>\n      <td>Manual</td>\n      <td>Liquid</td>\n      <td>Known Trier</td>\n      <td>NaN</td>\n      <td>Known Trier</td>\n      <td>Known Trier</td>\n      <td>NaN</td>\n      <td>No - maybe future</td>\n      <td>High</td>\n      <td>NaN</td>\n    </tr>\n    <tr>\n      <th>1</th>\n      <td>use_t1WpMt2fprbjEteXNSZ1TzdyvAi</td>\n      <td>45</td>\n      <td>F</td>\n      <td>2017-11-16T15:45:53Z</td>\n      <td>fr</td>\n      <td>FRA</td>\n      <td>True</td>\n      <td>True</td>\n      <td>67110</td>\n      <td>2</td>\n      <td>...</td>\n      <td>Manual</td>\n      <td>Liquid</td>\n      <td>NaN</td>\n      <td>NaN</td>\n      <td>Known Trier</td>\n      <td>NaN</td>\n      <td>NaN</td>\n      <td>Yes</td>\n      <td>High</td>\n      <td>NaN</td>\n    </tr>\n    <tr>\n      <th>2</th>\n      <td>use_w9jT58WcsP3tUkPCA0A1TzgYdeE</td>\n      <td>27</td>\n      <td>F</td>\n      <td>2013-05-31T00:00:00Z</td>\n      <td>fr</td>\n      <td>FRA</td>\n      <td>False</td>\n      <td>True</td>\n      <td>62700</td>\n      <td>1</td>\n      <td>...</td>\n      <td>Manual</td>\n      <td>Liquid</td>\n      <td>NaN</td>\n      <td>NaN</td>\n      <td>NaN</td>\n      <td>NaN</td>\n      <td>NaN</td>\n      <td>Yes</td>\n      <td>NaN</td>\n      <td>NaN</td>\n    </tr>\n    <tr>\n      <th>3</th>\n      <td>use_onifqa3LnOsjZOhPYfN1TzdfkfA</td>\n      <td>66</td>\n      <td>F</td>\n      <td>2016-08-31T05:48:51Z</td>\n      <td>fr</td>\n      <td>FRA</td>\n      <td>True</td>\n      <td>True</td>\n      <td>85130</td>\n      <td>3</td>\n      <td>...</td>\n      <td>Manual</td>\n      <td>Liquid</td>\n      <td>Known Trier</td>\n      <td>NaN</td>\n      <td>NaN</td>\n      <td>NaN</td>\n      <td>NaN</td>\n      <td>No</td>\n      <td>NaN</td>\n      <td>NaN</td>\n    </tr>\n    <tr>\n      <th>4</th>\n      <td>use_KgP1NlkmR24pbU9KRwK1Tzdqm8u</td>\n      <td>42</td>\n      <td>F</td>\n      <td>2017-09-01T13:14:54Z</td>\n      <td>fr</td>\n      <td>FRA</td>\n      <td>True</td>\n      <td>True</td>\n      <td>44460</td>\n      <td>2</td>\n      <td>...</td>\n      <td>Manual</td>\n      <td>Pods</td>\n      <td>NaN</td>\n      <td>NaN</td>\n      <td>Known Trier</td>\n      <td>Known Trier</td>\n      <td>NonUser</td>\n      <td>Yes</td>\n      <td>Medium</td>\n      <td>NaN</td>\n    </tr>\n    <tr>\n      <th>...</th>\n      <td>...</td>\n      <td>...</td>\n      <td>...</td>\n      <td>...</td>\n      <td>...</td>\n      <td>...</td>\n      <td>...</td>\n      <td>...</td>\n      <td>...</td>\n      <td>...</td>\n      <td>...</td>\n      <td>...</td>\n      <td>...</td>\n      <td>...</td>\n      <td>...</td>\n      <td>...</td>\n      <td>...</td>\n      <td>...</td>\n      <td>...</td>\n      <td>...</td>\n      <td>...</td>\n    </tr>\n    <tr>\n      <th>3995</th>\n      <td>use_yXWhQEP4R6vvYOeJzz61TZU7JRs</td>\n      <td>50</td>\n      <td>F</td>\n      <td>2006-02-06T00:00:00Z</td>\n      <td>fr</td>\n      <td>FRA</td>\n      <td>True</td>\n      <td>True</td>\n      <td>59000</td>\n      <td>0</td>\n      <td>...</td>\n      <td>Manual</td>\n      <td>NaN</td>\n      <td>NaN</td>\n      <td>NaN</td>\n      <td>Known Trier</td>\n      <td>Known Trier</td>\n      <td>High</td>\n      <td>Yes</td>\n      <td>High</td>\n      <td>NaN</td>\n    </tr>\n    <tr>\n      <th>3996</th>\n      <td>use_MafnxsXODJV5oVhfi1h1TzdgYQT</td>\n      <td>43</td>\n      <td>F</td>\n      <td>2008-03-10T00:00:00Z</td>\n      <td>fr</td>\n      <td>FRA</td>\n      <td>True</td>\n      <td>True</td>\n      <td>80090</td>\n      <td>0</td>\n      <td>...</td>\n      <td>Electric</td>\n      <td>Pods</td>\n      <td>NaN</td>\n      <td>NaN</td>\n      <td>NaN</td>\n      <td>NaN</td>\n      <td>Low</td>\n      <td>Yes</td>\n      <td>High</td>\n      <td>3. SuperMarket</td>\n    </tr>\n    <tr>\n      <th>3997</th>\n      <td>use_Pbui34WhFhPjNeX6TEz1TzdZdVv</td>\n      <td>38</td>\n      <td>F</td>\n      <td>2019-04-19T14:18:48Z</td>\n      <td>fr</td>\n      <td>FRA</td>\n      <td>True</td>\n      <td>True</td>\n      <td>51200</td>\n      <td>2</td>\n      <td>...</td>\n      <td>Manual</td>\n      <td>Pods</td>\n      <td>NaN</td>\n      <td>NaN</td>\n      <td>Known Trier</td>\n      <td>Known Trier</td>\n      <td>High</td>\n      <td>Yes</td>\n      <td>Very high</td>\n      <td>2. Moyenne Surface</td>\n    </tr>\n    <tr>\n      <th>3998</th>\n      <td>use_sDxhHoOEzHyrAzWSPnM1TzdYVjB</td>\n      <td>38</td>\n      <td>F</td>\n      <td>2015-10-02T00:08:39Z</td>\n      <td>fr</td>\n      <td>FRA</td>\n      <td>True</td>\n      <td>True</td>\n      <td>29200</td>\n      <td>2</td>\n      <td>...</td>\n      <td>Electric</td>\n      <td>Liquid</td>\n      <td>Known Trier</td>\n      <td>Known Trier</td>\n      <td>Known Trier</td>\n      <td>Known Trier</td>\n      <td>Low</td>\n      <td>No</td>\n      <td>NaN</td>\n      <td>NaN</td>\n    </tr>\n    <tr>\n      <th>3999</th>\n      <td>use_cK0eXBDkaHEqmbVJLYC1TzdsXiW</td>\n      <td>43</td>\n      <td>F</td>\n      <td>2007-12-31T00:00:00Z</td>\n      <td>fr</td>\n      <td>FRA</td>\n      <td>True</td>\n      <td>False</td>\n      <td>67800</td>\n      <td>0</td>\n      <td>...</td>\n      <td>Manual</td>\n      <td>Powder</td>\n      <td>NaN</td>\n      <td>NaN</td>\n      <td>NaN</td>\n      <td>Known Trier</td>\n      <td>NaN</td>\n      <td>No</td>\n      <td>Medium</td>\n      <td>NaN</td>\n    </tr>\n  </tbody>\n</table>\n<p>4000 rows × 22 columns</p>\n</div>"
     },
     "metadata": {},
     "execution_count": 4
    }
   ],
   "source": [
    "rf"
   ]
  },
  {
   "source": [
    "We can remove the `languageCode` and `countryCode` column as they are constant"
   ],
   "cell_type": "markdown",
   "metadata": {}
  },
  {
   "cell_type": "code",
   "execution_count": 5,
   "metadata": {},
   "outputs": [
    {
     "output_type": "execute_result",
     "data": {
      "text/plain": [
       "True"
      ]
     },
     "metadata": {},
     "execution_count": 5
    }
   ],
   "source": [
    "tf[~tf.languageCode.isin(['fr', 'FR'])].empty and tf[~tf.countryCode.eq('FRA')].empty"
   ]
  },
  {
   "cell_type": "code",
   "execution_count": 6,
   "metadata": {},
   "outputs": [],
   "source": [
    "tf = tf.drop(columns=['languageCode', 'countryCode'])\n",
    "rf = rf.drop(columns=['languageCode', 'countryCode'])"
   ]
  },
  {
   "source": [
    "We will also remove the `userId`, `registrationDate`, `reactivationValue`, `emailContactable` and `postalContactable` as they are irrelevant. `postalCode` as it will be to hard to analyse."
   ],
   "cell_type": "markdown",
   "metadata": {}
  },
  {
   "cell_type": "code",
   "execution_count": 7,
   "metadata": {},
   "outputs": [],
   "source": [
    "tf = tf.drop(columns=['registrationDate', 'reactivationValue', 'emailContactable', 'postalContactable', 'postalCode'])\n",
    "rf = rf.drop(columns=['registrationDate', 'reactivationValue', 'emailContactable', 'postalContactable', 'postalCode'])"
   ]
  },
  {
   "source": [
    "We are going to replace the `washDishes` `STRING` column with an `INT` column"
   ],
   "cell_type": "markdown",
   "metadata": {}
  },
  {
   "cell_type": "code",
   "execution_count": 8,
   "metadata": {},
   "outputs": [],
   "source": [
    "tf[\"washDishes\"] = tf[\"washDishes\"].apply(lambda e: 1 if e == 'Auto' else 0)"
   ]
  },
  {
   "source": [
    "In the `MrPropreTrier`, `AntikalTrier`, `ArielTrier`, `DashTrier` we will replace `Known Trier` with `1` and `Nan` with `-1`"
   ],
   "cell_type": "markdown",
   "metadata": {}
  },
  {
   "cell_type": "code",
   "execution_count": 9,
   "metadata": {},
   "outputs": [],
   "source": [
    "for c in ['MrPropreTrier', 'AntikalTrier', 'ArielTrier', 'DashTrier']:\n",
    "    tf[c[:-5]] = tf.apply(lambda row: 1.0 if row[c] == 'Known Trier' else 0.0, axis=1)\n",
    "    tf = tf.drop(columns=[c])\n",
    "\n",
    "    rf[c[:-5]] = rf.apply(lambda row: 1.0 if row[c] == 'Known Trier' else 0.0, axis=1)\n",
    "    rf = rf.drop(columns=[c])"
   ]
  },
  {
   "source": [
    "We will replace `detergentType` by `liquid`, `pods` and `powder` "
   ],
   "cell_type": "markdown",
   "metadata": {}
  },
  {
   "cell_type": "code",
   "execution_count": 10,
   "metadata": {},
   "outputs": [],
   "source": [
    "# pods\n",
    "tf['pods'] = tf['detergentType'].apply(lambda e: 1.0 if pd.notna(e) and 'Pods' in e else 0.0)\n",
    "rf['pods'] = rf['detergentType'].apply(lambda e: 1.0 if pd.notna(e) and 'Pods' in e else 0.0)\n",
    "\n",
    "# powder\n",
    "tf['powder'] = tf['detergentType'].apply(lambda e: 1.0 if pd.notna(e) and 'Powder' in e else 0.0)\n",
    "rf['powder'] = rf['detergentType'].apply(lambda e: 1.0 if pd.notna(e) and 'Powder' in e else 0.0)\n",
    "\n",
    "# liquid\n",
    "tf['liquid'] = tf['detergentType'].apply(lambda e: 1.0 if pd.notna(e) and 'Liquid' in e else 0.0)\n",
    "rf['liquid'] = rf['detergentType'].apply(lambda e: 1.0 if pd.notna(e) and 'Liquid' in e else 0.0)\n",
    "\n",
    "# removes extra column\n",
    "tf = tf.drop(columns=['detergentType']) \n",
    "rf = rf.drop(columns=['detergentType']) "
   ]
  },
  {
   "source": [
    "Replacing `toothBrushType` with `electricToothbrush`"
   ],
   "cell_type": "markdown",
   "metadata": {}
  },
  {
   "cell_type": "code",
   "execution_count": 11,
   "metadata": {},
   "outputs": [],
   "source": [
    "tf['electricToothbrush'] = tf['toothBrushType'].apply(lambda e: 1.0 if e == 'Electric' else 0.0)\n",
    "rf['electricToothbrush'] = rf['toothBrushType'].apply(lambda e: 1.0 if e == 'Electric' else 0.0)\n",
    "\n",
    "tf = tf.drop(columns=['toothBrushType'])\n",
    "rf = rf.drop(columns=['toothBrushType'])"
   ]
  },
  {
   "source": [
    "Replacing `petOwner` with `hasPet`, if the first 3 characters are 'Yes' or 'Oui' the value is `1`, else it is `-1`"
   ],
   "cell_type": "markdown",
   "metadata": {}
  },
  {
   "cell_type": "code",
   "execution_count": 12,
   "metadata": {},
   "outputs": [],
   "source": [
    "def likesPets(s:str) -> float:\n",
    "    if s in ['Yes, we love our furry friends', \"Oui, j'adore nos petites boules de poils !\"]: \n",
    "        return 1\n",
    "\n",
    "    if s in ['Yes']: \n",
    "        return 0.9\n",
    "\n",
    "    if s in [\"Non, j'aime les animaux, mais je n'en ai pas pour le moment.\", 'No, we love animals but no pets here for now']:   \n",
    "        return 0.8\n",
    "    \n",
    "    if s in ['No - maybe future']:\n",
    "        return 0.5\n",
    "\n",
    "    if s in ['No']:\n",
    "        return 0.3\n",
    "\n",
    "    if s in ['Des animaux dans la maison ? Non merci !', \"No, we'd never have pets in the house\"]:\n",
    "        return 0\n",
    "    return 0.3\n",
    "\n",
    "# creating a new column for animal lovers\n",
    "tf['likesPets'] = tf['petOwner'].apply(likesPets)\n",
    "rf['likesPets'] = rf['petOwner'].apply(likesPets)\n",
    "\n",
    "# creating a new column for pet owners\n",
    "tf['hasPet'] = tf['petOwner'].apply(lambda e: 1.0 if str(e)[:3] == 'Yes' or str(e)[:3] == 'Oui' else 0.0)\n",
    "rf['hasPet'] = rf['petOwner'].apply(lambda e: 1.0 if str(e)[:3] == 'Yes' or str(e)[:3] == 'Oui' else 0.0)\n",
    "\n",
    "tf = tf.drop(columns=['petOwner'])\n",
    "rf = rf.drop(columns=['petOwner'])"
   ]
  },
  {
   "source": [
    "Transforms a `ISO 8601` time string to the amount of days since the time string"
   ],
   "cell_type": "markdown",
   "metadata": {}
  },
  {
   "cell_type": "code",
   "execution_count": 13,
   "metadata": {},
   "outputs": [],
   "source": [
    "def timeStringToDelta(timeString: str) -> int:\n",
    "    if pd.isna(timeString): return None\n",
    "    return int((datetime.utcnow().timestamp() - datetime.strptime(timeString[:10], \"%Y-%m-%d\").timestamp()) / 3600 / 24)"
   ]
  },
  {
   "source": [
    "Replaces `lastActivityDate` with `daysSinceActivity`: an `integer` representing the amount of ellapsed days since last activity"
   ],
   "cell_type": "markdown",
   "metadata": {}
  },
  {
   "cell_type": "code",
   "execution_count": 14,
   "metadata": {},
   "outputs": [],
   "source": [
    "def fillAvg(c_name: str, df1: pd.DataFrame, df2: pd.DataFrame):\n",
    "    mean = (df1[c_name].mean(skipna=True) * df1.shape[0] + df2[c_name].mean(skipna=True) * df2.shape[0]) / (df1.shape[0] + df2.shape[0])\n",
    "    df1[c_name] = df1[c_name].fillna(mean)\n",
    "    df2[c_name] = df2[c_name].fillna(mean)"
   ]
  },
  {
   "cell_type": "code",
   "execution_count": 15,
   "metadata": {},
   "outputs": [],
   "source": [
    "tf['daysSinceActivity'] = tf['lastActivityDate'].apply(timeStringToDelta)\n",
    "rf['daysSinceActivity'] = rf['lastActivityDate'].apply(timeStringToDelta)\n",
    "\n",
    "# normalizess the new column\n",
    "minV = min(tf['daysSinceActivity'].min(), rf['daysSinceActivity'].min())\n",
    "maxV = max(tf['daysSinceActivity'].max(), rf['daysSinceActivity'].max())\n",
    "\n",
    "tf['daysSinceActivity'] = tf['daysSinceActivity'].apply(lambda e: (e - minV) / (maxV - minV))\n",
    "rf['daysSinceActivity'] = rf['daysSinceActivity'].apply(lambda e: (e - minV) / (maxV - minV))\n",
    "\n",
    "# replaces Nan by the avg\n",
    "fillAvg('daysSinceActivity', tf, rf)\n",
    "\n",
    "# removes the extra column\n",
    "tf = tf.drop(columns=['lastActivityDate'])\n",
    "rf = rf.drop(columns=['lastActivityDate'])"
   ]
  },
  {
   "source": [
    "Replaces `age` with a normalized column"
   ],
   "cell_type": "markdown",
   "metadata": {}
  },
  {
   "cell_type": "code",
   "execution_count": 16,
   "metadata": {},
   "outputs": [],
   "source": [
    "# normalizess the new column\n",
    "minV = min(tf['age'].min(), rf['age'].min())\n",
    "maxV = max(tf['age'].max(), rf['age'].max())\n",
    "\n",
    "tf['age'] = tf['age'].apply(lambda e: (e - minV) / (maxV - minV))\n",
    "rf['age'] = rf['age'].apply(lambda e: (e - minV) / (maxV - minV))\n",
    "\n",
    "# replaces Nan by the avg\n",
    "fillAvg('age', tf, rf)"
   ]
  },
  {
   "source": [
    "The possible values for `numberChildren` are `'1'`, `'2'`, `'3'`, `'4'`, `'4+'` and `'NaN'`. We will be creating a column `nbChildren` of type `int` where `'NaN'` will be mapped to `None`."
   ],
   "cell_type": "markdown",
   "metadata": {}
  },
  {
   "cell_type": "code",
   "execution_count": 17,
   "metadata": {
    "tags": []
   },
   "outputs": [],
   "source": [
    "def childrenMagik(children: str) -> float:\n",
    "    if children == '0': return 0\n",
    "    if children == '1': return 1 / 5\n",
    "    if children == '2': return 2 / 5\n",
    "    if children == '3': return 3 / 5\n",
    "    if children == '4': return 4 / 5\n",
    "    if children == '4+': return 1\n",
    "    return None\n",
    "\n",
    "tf['nbChildren'] = tf['numberChildren'].apply(childrenMagik)\n",
    "rf['nbChildren'] = rf['numberChildren'].apply(childrenMagik)\n",
    "\n",
    "# Replacing nan with the avg\n",
    "fillAvg('nbChildren', tf, rf)\n",
    "\n",
    "tf = tf.drop(columns=['numberChildren'])\n",
    "rf = rf.drop(columns=['numberChildren'])"
   ]
  },
  {
   "source": [
    "Replaces `F` with `1` and `M` with `-1` in the `gender` column"
   ],
   "cell_type": "markdown",
   "metadata": {}
  },
  {
   "cell_type": "code",
   "execution_count": 18,
   "metadata": {},
   "outputs": [],
   "source": [
    "tf['gender'] = tf['gender'].apply(lambda e: 1.0 if e == \"F\" else 0.0)\n",
    "rf['gender'] = rf['gender'].apply(lambda e: 1.0 if e == \"F\" else 0.0)"
   ]
  },
  {
   "source": [
    "Changes `ecoInterest` replacing `High`, `Medium`, `Low`, `Very high` with a scale going from `0` to `1`. We the replace `nan` with the avg."
   ],
   "cell_type": "markdown",
   "metadata": {}
  },
  {
   "cell_type": "code",
   "execution_count": 19,
   "metadata": {},
   "outputs": [],
   "source": [
    "def textScaleToFloat(s:str) -> float:\n",
    "    if s == 'Very high': return 1\n",
    "    if s == 'High': return 2 / 3\n",
    "    if s == 'Medium': return 1 / 3\n",
    "    if s == 'Low': return 0\n",
    "    return None\n",
    "\n",
    "# replaces the 'normal' values with floats\n",
    "tf['ecoInterest'] = tf['ecoInterest'].apply(textScaleToFloat)\n",
    "rf['ecoInterest'] = rf['ecoInterest'].apply(textScaleToFloat)\n",
    "\n",
    "# replaces the nan with the avg\n",
    "fillAvg('ecoInterest', tf, rf)"
   ]
  },
  {
   "source": [
    "Changes `scentLover` replacing `NonUser`, `Low`, `Medium`, `High` with a scale going from 0 to 1. We the replace `nan` with the avg."
   ],
   "cell_type": "markdown",
   "metadata": {}
  },
  {
   "cell_type": "code",
   "execution_count": 20,
   "metadata": {},
   "outputs": [],
   "source": [
    "def textScaleToFloat(s:str) -> float:\n",
    "    if s == 'High': return 1\n",
    "    if s == 'Medium': return 2 / 3\n",
    "    if s == 'Low': return 1 / 3\n",
    "    if s == 'NonUser': return 0\n",
    "    return None\n",
    "\n",
    "# replaces the 'normal' values with floats\n",
    "tf['scentLover'] = tf['scentLover'].apply(textScaleToFloat)\n",
    "rf['scentLover'] = rf['scentLover'].apply(textScaleToFloat)\n",
    "\n",
    "# replaces the nan with the avg\n",
    "fillAvg('scentLover', tf, rf)"
   ]
  },
  {
   "source": [
    "Handles the closest shop"
   ],
   "cell_type": "markdown",
   "metadata": {}
  },
  {
   "cell_type": "code",
   "execution_count": 21,
   "metadata": {},
   "outputs": [],
   "source": [
    "def shops(df):\n",
    "    df['magasin']           = df['closestShop'].apply(lambda e: 1.0 if e =='1. Magasin de Proximit�' else 0.0)\n",
    "    df['moyenneSurface']    = df['closestShop'].apply(lambda e: 1.0 if e =='2. Moyenne Surface' else 0.0)\n",
    "    df['superMarket']       = df['closestShop'].apply(lambda e: 1.0 if e =='3. SuperMarket' else 0.0)\n",
    "    df['hyperMarket']       = df['closestShop'].apply(lambda e: 1.0 if e =='4. HyperMarket' else 0.0)\n",
    "    df['drive']             = df['closestShop'].apply(lambda e: 1.0 if e =='5. Drive' else 0.0)\n",
    "    df['hardDiscount']      = df['closestShop'].apply(lambda e: 1.0 if e =='6. Hard Discounter' else 0.0)\n",
    "\n",
    "shops(tf)\n",
    "shops(rf)\n",
    "\n",
    "tf = tf.drop(columns=['closestShop'])\n",
    "rf = rf.drop(columns=['closestShop'])"
   ]
  },
  {
   "cell_type": "code",
   "execution_count": 22,
   "metadata": {},
   "outputs": [
    {
     "output_type": "execute_result",
     "data": {
      "text/plain": [
       "                                userId       age  gender  scentLover  \\\n",
       "0      use_XbA1FTDcCrTMNTHK1851TzjyPMP  0.077922     1.0    0.000000   \n",
       "1      use_3WHgsMVGSg5MHG2zja91TzdfmY2  0.636364     1.0    0.380207   \n",
       "2      use_2SisOiR8QwDaHI4svm11TzcvK7V  0.350649     1.0    0.000000   \n",
       "3      use_W0T1LmfKaQPJYD1RTWh1Tzdc69H  0.220779     1.0    0.333333   \n",
       "4      use_KwYWZ7UMl4veveOaPGK1TzddtmI  0.259740     1.0    0.380207   \n",
       "...                                ...       ...     ...         ...   \n",
       "11995  use_ICSyEvCcRNPpQeBdWcM1TzdczV8  0.454545     1.0    0.380207   \n",
       "11996  use_Q5DNYeSmG7g6VeMV4n71TzeTRRz  0.324675     1.0    0.333333   \n",
       "11997  use_rEoce5pc0MlKpndfzNj1Tze3J1L  0.311688     1.0    0.380207   \n",
       "11998  use_0AuDL2wOJHy9I16zSC21TzeHRMo  0.272727     0.0    0.380207   \n",
       "11999  use_B7F2PfU4eOKBmVc93AU1TzdqFY9  0.181818     1.0    0.000000   \n",
       "\n",
       "       ecoInterest     closestShop  MrPropre  Antikal  Ariel  Dash  ...  \\\n",
       "0         0.387677             NaN       0.0      0.0    0.0   0.0  ...   \n",
       "1         0.666667             NaN       1.0      1.0    1.0   0.0  ...   \n",
       "2         0.666667             NaN       0.0      0.0    1.0   1.0  ...   \n",
       "3         0.333333             NaN       0.0      0.0    1.0   1.0  ...   \n",
       "4         0.000000             NaN       1.0      1.0    1.0   1.0  ...   \n",
       "...            ...             ...       ...      ...    ...   ...  ...   \n",
       "11995     0.387677             NaN       0.0      0.0    0.0   0.0  ...   \n",
       "11996     0.333333             NaN       0.0      0.0    0.0   0.0  ...   \n",
       "11997     0.666667             NaN       0.0      0.0    0.0   0.0  ...   \n",
       "11998     0.387677             NaN       0.0      0.0    0.0   0.0  ...   \n",
       "11999     0.666667  3. SuperMarket       0.0      0.0    0.0   0.0  ...   \n",
       "\n",
       "       hasPet  daysSinceActivity  nbChildren  magasin  moyenneSurface  \\\n",
       "0         1.0           0.234694         0.2      0.0             0.0   \n",
       "1         0.0           0.014914         0.6      0.0             0.0   \n",
       "2         1.0           0.094976         0.2      0.0             0.0   \n",
       "3         1.0           0.259812         0.4      0.0             0.0   \n",
       "4         1.0           0.116954         0.0      0.0             0.0   \n",
       "...       ...                ...         ...      ...             ...   \n",
       "11995     1.0           0.000785         1.0      0.0             0.0   \n",
       "11996     1.0           0.124019         0.0      0.0             0.0   \n",
       "11997     1.0           0.018838         0.6      0.0             0.0   \n",
       "11998     1.0           0.197017         0.2      0.0             0.0   \n",
       "11999     1.0           0.220565         0.6      0.0             0.0   \n",
       "\n",
       "       superMarket  hyperMarket  drive  hardDiscount  labels  \n",
       "0              0.0          0.0    0.0           0.0       1  \n",
       "1              0.0          0.0    0.0           0.0       1  \n",
       "2              0.0          0.0    0.0           0.0       1  \n",
       "3              0.0          0.0    0.0           0.0       0  \n",
       "4              0.0          0.0    0.0           0.0       0  \n",
       "...            ...          ...    ...           ...     ...  \n",
       "11995          0.0          0.0    0.0           0.0       1  \n",
       "11996          0.0          0.0    0.0           0.0       0  \n",
       "11997          0.0          0.0    0.0           0.0       0  \n",
       "11998          0.0          0.0    0.0           0.0       1  \n",
       "11999          1.0          0.0    0.0           0.0       0  \n",
       "\n",
       "[12000 rows x 25 columns]"
      ],
      "text/html": "<div>\n<style scoped>\n    .dataframe tbody tr th:only-of-type {\n        vertical-align: middle;\n    }\n\n    .dataframe tbody tr th {\n        vertical-align: top;\n    }\n\n    .dataframe thead th {\n        text-align: right;\n    }\n</style>\n<table border=\"1\" class=\"dataframe\">\n  <thead>\n    <tr style=\"text-align: right;\">\n      <th></th>\n      <th>userId</th>\n      <th>age</th>\n      <th>gender</th>\n      <th>scentLover</th>\n      <th>ecoInterest</th>\n      <th>closestShop</th>\n      <th>MrPropre</th>\n      <th>Antikal</th>\n      <th>Ariel</th>\n      <th>Dash</th>\n      <th>...</th>\n      <th>hasPet</th>\n      <th>daysSinceActivity</th>\n      <th>nbChildren</th>\n      <th>magasin</th>\n      <th>moyenneSurface</th>\n      <th>superMarket</th>\n      <th>hyperMarket</th>\n      <th>drive</th>\n      <th>hardDiscount</th>\n      <th>labels</th>\n    </tr>\n  </thead>\n  <tbody>\n    <tr>\n      <th>0</th>\n      <td>use_XbA1FTDcCrTMNTHK1851TzjyPMP</td>\n      <td>0.077922</td>\n      <td>1.0</td>\n      <td>0.000000</td>\n      <td>0.387677</td>\n      <td>NaN</td>\n      <td>0.0</td>\n      <td>0.0</td>\n      <td>0.0</td>\n      <td>0.0</td>\n      <td>...</td>\n      <td>1.0</td>\n      <td>0.234694</td>\n      <td>0.2</td>\n      <td>0.0</td>\n      <td>0.0</td>\n      <td>0.0</td>\n      <td>0.0</td>\n      <td>0.0</td>\n      <td>0.0</td>\n      <td>1</td>\n    </tr>\n    <tr>\n      <th>1</th>\n      <td>use_3WHgsMVGSg5MHG2zja91TzdfmY2</td>\n      <td>0.636364</td>\n      <td>1.0</td>\n      <td>0.380207</td>\n      <td>0.666667</td>\n      <td>NaN</td>\n      <td>1.0</td>\n      <td>1.0</td>\n      <td>1.0</td>\n      <td>0.0</td>\n      <td>...</td>\n      <td>0.0</td>\n      <td>0.014914</td>\n      <td>0.6</td>\n      <td>0.0</td>\n      <td>0.0</td>\n      <td>0.0</td>\n      <td>0.0</td>\n      <td>0.0</td>\n      <td>0.0</td>\n      <td>1</td>\n    </tr>\n    <tr>\n      <th>2</th>\n      <td>use_2SisOiR8QwDaHI4svm11TzcvK7V</td>\n      <td>0.350649</td>\n      <td>1.0</td>\n      <td>0.000000</td>\n      <td>0.666667</td>\n      <td>NaN</td>\n      <td>0.0</td>\n      <td>0.0</td>\n      <td>1.0</td>\n      <td>1.0</td>\n      <td>...</td>\n      <td>1.0</td>\n      <td>0.094976</td>\n      <td>0.2</td>\n      <td>0.0</td>\n      <td>0.0</td>\n      <td>0.0</td>\n      <td>0.0</td>\n      <td>0.0</td>\n      <td>0.0</td>\n      <td>1</td>\n    </tr>\n    <tr>\n      <th>3</th>\n      <td>use_W0T1LmfKaQPJYD1RTWh1Tzdc69H</td>\n      <td>0.220779</td>\n      <td>1.0</td>\n      <td>0.333333</td>\n      <td>0.333333</td>\n      <td>NaN</td>\n      <td>0.0</td>\n      <td>0.0</td>\n      <td>1.0</td>\n      <td>1.0</td>\n      <td>...</td>\n      <td>1.0</td>\n      <td>0.259812</td>\n      <td>0.4</td>\n      <td>0.0</td>\n      <td>0.0</td>\n      <td>0.0</td>\n      <td>0.0</td>\n      <td>0.0</td>\n      <td>0.0</td>\n      <td>0</td>\n    </tr>\n    <tr>\n      <th>4</th>\n      <td>use_KwYWZ7UMl4veveOaPGK1TzddtmI</td>\n      <td>0.259740</td>\n      <td>1.0</td>\n      <td>0.380207</td>\n      <td>0.000000</td>\n      <td>NaN</td>\n      <td>1.0</td>\n      <td>1.0</td>\n      <td>1.0</td>\n      <td>1.0</td>\n      <td>...</td>\n      <td>1.0</td>\n      <td>0.116954</td>\n      <td>0.0</td>\n      <td>0.0</td>\n      <td>0.0</td>\n      <td>0.0</td>\n      <td>0.0</td>\n      <td>0.0</td>\n      <td>0.0</td>\n      <td>0</td>\n    </tr>\n    <tr>\n      <th>...</th>\n      <td>...</td>\n      <td>...</td>\n      <td>...</td>\n      <td>...</td>\n      <td>...</td>\n      <td>...</td>\n      <td>...</td>\n      <td>...</td>\n      <td>...</td>\n      <td>...</td>\n      <td>...</td>\n      <td>...</td>\n      <td>...</td>\n      <td>...</td>\n      <td>...</td>\n      <td>...</td>\n      <td>...</td>\n      <td>...</td>\n      <td>...</td>\n      <td>...</td>\n      <td>...</td>\n    </tr>\n    <tr>\n      <th>11995</th>\n      <td>use_ICSyEvCcRNPpQeBdWcM1TzdczV8</td>\n      <td>0.454545</td>\n      <td>1.0</td>\n      <td>0.380207</td>\n      <td>0.387677</td>\n      <td>NaN</td>\n      <td>0.0</td>\n      <td>0.0</td>\n      <td>0.0</td>\n      <td>0.0</td>\n      <td>...</td>\n      <td>1.0</td>\n      <td>0.000785</td>\n      <td>1.0</td>\n      <td>0.0</td>\n      <td>0.0</td>\n      <td>0.0</td>\n      <td>0.0</td>\n      <td>0.0</td>\n      <td>0.0</td>\n      <td>1</td>\n    </tr>\n    <tr>\n      <th>11996</th>\n      <td>use_Q5DNYeSmG7g6VeMV4n71TzeTRRz</td>\n      <td>0.324675</td>\n      <td>1.0</td>\n      <td>0.333333</td>\n      <td>0.333333</td>\n      <td>NaN</td>\n      <td>0.0</td>\n      <td>0.0</td>\n      <td>0.0</td>\n      <td>0.0</td>\n      <td>...</td>\n      <td>1.0</td>\n      <td>0.124019</td>\n      <td>0.0</td>\n      <td>0.0</td>\n      <td>0.0</td>\n      <td>0.0</td>\n      <td>0.0</td>\n      <td>0.0</td>\n      <td>0.0</td>\n      <td>0</td>\n    </tr>\n    <tr>\n      <th>11997</th>\n      <td>use_rEoce5pc0MlKpndfzNj1Tze3J1L</td>\n      <td>0.311688</td>\n      <td>1.0</td>\n      <td>0.380207</td>\n      <td>0.666667</td>\n      <td>NaN</td>\n      <td>0.0</td>\n      <td>0.0</td>\n      <td>0.0</td>\n      <td>0.0</td>\n      <td>...</td>\n      <td>1.0</td>\n      <td>0.018838</td>\n      <td>0.6</td>\n      <td>0.0</td>\n      <td>0.0</td>\n      <td>0.0</td>\n      <td>0.0</td>\n      <td>0.0</td>\n      <td>0.0</td>\n      <td>0</td>\n    </tr>\n    <tr>\n      <th>11998</th>\n      <td>use_0AuDL2wOJHy9I16zSC21TzeHRMo</td>\n      <td>0.272727</td>\n      <td>0.0</td>\n      <td>0.380207</td>\n      <td>0.387677</td>\n      <td>NaN</td>\n      <td>0.0</td>\n      <td>0.0</td>\n      <td>0.0</td>\n      <td>0.0</td>\n      <td>...</td>\n      <td>1.0</td>\n      <td>0.197017</td>\n      <td>0.2</td>\n      <td>0.0</td>\n      <td>0.0</td>\n      <td>0.0</td>\n      <td>0.0</td>\n      <td>0.0</td>\n      <td>0.0</td>\n      <td>1</td>\n    </tr>\n    <tr>\n      <th>11999</th>\n      <td>use_B7F2PfU4eOKBmVc93AU1TzdqFY9</td>\n      <td>0.181818</td>\n      <td>1.0</td>\n      <td>0.000000</td>\n      <td>0.666667</td>\n      <td>3. SuperMarket</td>\n      <td>0.0</td>\n      <td>0.0</td>\n      <td>0.0</td>\n      <td>0.0</td>\n      <td>...</td>\n      <td>1.0</td>\n      <td>0.220565</td>\n      <td>0.6</td>\n      <td>0.0</td>\n      <td>0.0</td>\n      <td>1.0</td>\n      <td>0.0</td>\n      <td>0.0</td>\n      <td>0.0</td>\n      <td>0</td>\n    </tr>\n  </tbody>\n</table>\n<p>12000 rows × 25 columns</p>\n</div>"
     },
     "metadata": {},
     "execution_count": 22
    }
   ],
   "source": [
    "labels = tf.pop('washDishes')\n",
    "tf['labels'] = labels\n",
    "\n",
    "tf"
   ]
  },
  {
   "cell_type": "code",
   "execution_count": 23,
   "metadata": {},
   "outputs": [
    {
     "output_type": "execute_result",
     "data": {
      "text/plain": [
       "                               userId       age  gender  scentLover  \\\n",
       "0     use_yFJKoOUCJ7ED8c8Xeov1TzdfpRL  0.259740     1.0    0.380207   \n",
       "1     use_t1WpMt2fprbjEteXNSZ1TzdyvAi  0.350649     1.0    0.380207   \n",
       "2     use_w9jT58WcsP3tUkPCA0A1TzgYdeE  0.116883     1.0    0.380207   \n",
       "3     use_onifqa3LnOsjZOhPYfN1TzdfkfA  0.623377     1.0    0.380207   \n",
       "4     use_KgP1NlkmR24pbU9KRwK1Tzdqm8u  0.311688     1.0    0.000000   \n",
       "...                               ...       ...     ...         ...   \n",
       "3995  use_yXWhQEP4R6vvYOeJzz61TZU7JRs  0.415584     1.0    1.000000   \n",
       "3996  use_MafnxsXODJV5oVhfi1h1TzdgYQT  0.324675     1.0    0.333333   \n",
       "3997  use_Pbui34WhFhPjNeX6TEz1TzdZdVv  0.259740     1.0    1.000000   \n",
       "3998  use_sDxhHoOEzHyrAzWSPnM1TzdYVjB  0.259740     1.0    0.333333   \n",
       "3999  use_cK0eXBDkaHEqmbVJLYC1TzdsXiW  0.324675     1.0    0.380207   \n",
       "\n",
       "      ecoInterest         closestShop  MrPropre  Antikal  Ariel  Dash  ...  \\\n",
       "0        0.666667                 NaN       1.0      0.0    1.0   1.0  ...   \n",
       "1        0.666667                 NaN       0.0      0.0    1.0   0.0  ...   \n",
       "2        0.387677                 NaN       0.0      0.0    0.0   0.0  ...   \n",
       "3        0.387677                 NaN       1.0      0.0    0.0   0.0  ...   \n",
       "4        0.333333                 NaN       0.0      0.0    1.0   1.0  ...   \n",
       "...           ...                 ...       ...      ...    ...   ...  ...   \n",
       "3995     0.666667                 NaN       0.0      0.0    1.0   1.0  ...   \n",
       "3996     0.666667      3. SuperMarket       0.0      0.0    0.0   0.0  ...   \n",
       "3997     1.000000  2. Moyenne Surface       0.0      0.0    1.0   1.0  ...   \n",
       "3998     0.387677                 NaN       1.0      1.0    1.0   1.0  ...   \n",
       "3999     0.333333                 NaN       0.0      0.0    0.0   1.0  ...   \n",
       "\n",
       "      likesPets  hasPet  daysSinceActivity  nbChildren  magasin  \\\n",
       "0           0.5     0.0           0.060440         1.0      0.0   \n",
       "1           0.9     1.0           0.145997         0.4      0.0   \n",
       "2           0.9     1.0           0.097331         0.2      0.0   \n",
       "3           0.3     0.0           0.041601         0.6      0.0   \n",
       "4           0.9     1.0           0.008634         0.4      0.0   \n",
       "...         ...     ...                ...         ...      ...   \n",
       "3995        0.9     1.0           0.008634         0.0      0.0   \n",
       "3996        0.9     1.0           0.120094         0.0      0.0   \n",
       "3997        0.9     1.0           0.008634         0.4      0.0   \n",
       "3998        0.3     0.0           0.209576         0.4      0.0   \n",
       "3999        0.3     0.0           0.036892         0.0      0.0   \n",
       "\n",
       "      moyenneSurface  superMarket  hyperMarket  drive  hardDiscount  \n",
       "0                0.0          0.0          0.0    0.0           0.0  \n",
       "1                0.0          0.0          0.0    0.0           0.0  \n",
       "2                0.0          0.0          0.0    0.0           0.0  \n",
       "3                0.0          0.0          0.0    0.0           0.0  \n",
       "4                0.0          0.0          0.0    0.0           0.0  \n",
       "...              ...          ...          ...    ...           ...  \n",
       "3995             0.0          0.0          0.0    0.0           0.0  \n",
       "3996             0.0          1.0          0.0    0.0           0.0  \n",
       "3997             1.0          0.0          0.0    0.0           0.0  \n",
       "3998             0.0          0.0          0.0    0.0           0.0  \n",
       "3999             0.0          0.0          0.0    0.0           0.0  \n",
       "\n",
       "[4000 rows x 24 columns]"
      ],
      "text/html": "<div>\n<style scoped>\n    .dataframe tbody tr th:only-of-type {\n        vertical-align: middle;\n    }\n\n    .dataframe tbody tr th {\n        vertical-align: top;\n    }\n\n    .dataframe thead th {\n        text-align: right;\n    }\n</style>\n<table border=\"1\" class=\"dataframe\">\n  <thead>\n    <tr style=\"text-align: right;\">\n      <th></th>\n      <th>userId</th>\n      <th>age</th>\n      <th>gender</th>\n      <th>scentLover</th>\n      <th>ecoInterest</th>\n      <th>closestShop</th>\n      <th>MrPropre</th>\n      <th>Antikal</th>\n      <th>Ariel</th>\n      <th>Dash</th>\n      <th>...</th>\n      <th>likesPets</th>\n      <th>hasPet</th>\n      <th>daysSinceActivity</th>\n      <th>nbChildren</th>\n      <th>magasin</th>\n      <th>moyenneSurface</th>\n      <th>superMarket</th>\n      <th>hyperMarket</th>\n      <th>drive</th>\n      <th>hardDiscount</th>\n    </tr>\n  </thead>\n  <tbody>\n    <tr>\n      <th>0</th>\n      <td>use_yFJKoOUCJ7ED8c8Xeov1TzdfpRL</td>\n      <td>0.259740</td>\n      <td>1.0</td>\n      <td>0.380207</td>\n      <td>0.666667</td>\n      <td>NaN</td>\n      <td>1.0</td>\n      <td>0.0</td>\n      <td>1.0</td>\n      <td>1.0</td>\n      <td>...</td>\n      <td>0.5</td>\n      <td>0.0</td>\n      <td>0.060440</td>\n      <td>1.0</td>\n      <td>0.0</td>\n      <td>0.0</td>\n      <td>0.0</td>\n      <td>0.0</td>\n      <td>0.0</td>\n      <td>0.0</td>\n    </tr>\n    <tr>\n      <th>1</th>\n      <td>use_t1WpMt2fprbjEteXNSZ1TzdyvAi</td>\n      <td>0.350649</td>\n      <td>1.0</td>\n      <td>0.380207</td>\n      <td>0.666667</td>\n      <td>NaN</td>\n      <td>0.0</td>\n      <td>0.0</td>\n      <td>1.0</td>\n      <td>0.0</td>\n      <td>...</td>\n      <td>0.9</td>\n      <td>1.0</td>\n      <td>0.145997</td>\n      <td>0.4</td>\n      <td>0.0</td>\n      <td>0.0</td>\n      <td>0.0</td>\n      <td>0.0</td>\n      <td>0.0</td>\n      <td>0.0</td>\n    </tr>\n    <tr>\n      <th>2</th>\n      <td>use_w9jT58WcsP3tUkPCA0A1TzgYdeE</td>\n      <td>0.116883</td>\n      <td>1.0</td>\n      <td>0.380207</td>\n      <td>0.387677</td>\n      <td>NaN</td>\n      <td>0.0</td>\n      <td>0.0</td>\n      <td>0.0</td>\n      <td>0.0</td>\n      <td>...</td>\n      <td>0.9</td>\n      <td>1.0</td>\n      <td>0.097331</td>\n      <td>0.2</td>\n      <td>0.0</td>\n      <td>0.0</td>\n      <td>0.0</td>\n      <td>0.0</td>\n      <td>0.0</td>\n      <td>0.0</td>\n    </tr>\n    <tr>\n      <th>3</th>\n      <td>use_onifqa3LnOsjZOhPYfN1TzdfkfA</td>\n      <td>0.623377</td>\n      <td>1.0</td>\n      <td>0.380207</td>\n      <td>0.387677</td>\n      <td>NaN</td>\n      <td>1.0</td>\n      <td>0.0</td>\n      <td>0.0</td>\n      <td>0.0</td>\n      <td>...</td>\n      <td>0.3</td>\n      <td>0.0</td>\n      <td>0.041601</td>\n      <td>0.6</td>\n      <td>0.0</td>\n      <td>0.0</td>\n      <td>0.0</td>\n      <td>0.0</td>\n      <td>0.0</td>\n      <td>0.0</td>\n    </tr>\n    <tr>\n      <th>4</th>\n      <td>use_KgP1NlkmR24pbU9KRwK1Tzdqm8u</td>\n      <td>0.311688</td>\n      <td>1.0</td>\n      <td>0.000000</td>\n      <td>0.333333</td>\n      <td>NaN</td>\n      <td>0.0</td>\n      <td>0.0</td>\n      <td>1.0</td>\n      <td>1.0</td>\n      <td>...</td>\n      <td>0.9</td>\n      <td>1.0</td>\n      <td>0.008634</td>\n      <td>0.4</td>\n      <td>0.0</td>\n      <td>0.0</td>\n      <td>0.0</td>\n      <td>0.0</td>\n      <td>0.0</td>\n      <td>0.0</td>\n    </tr>\n    <tr>\n      <th>...</th>\n      <td>...</td>\n      <td>...</td>\n      <td>...</td>\n      <td>...</td>\n      <td>...</td>\n      <td>...</td>\n      <td>...</td>\n      <td>...</td>\n      <td>...</td>\n      <td>...</td>\n      <td>...</td>\n      <td>...</td>\n      <td>...</td>\n      <td>...</td>\n      <td>...</td>\n      <td>...</td>\n      <td>...</td>\n      <td>...</td>\n      <td>...</td>\n      <td>...</td>\n      <td>...</td>\n    </tr>\n    <tr>\n      <th>3995</th>\n      <td>use_yXWhQEP4R6vvYOeJzz61TZU7JRs</td>\n      <td>0.415584</td>\n      <td>1.0</td>\n      <td>1.000000</td>\n      <td>0.666667</td>\n      <td>NaN</td>\n      <td>0.0</td>\n      <td>0.0</td>\n      <td>1.0</td>\n      <td>1.0</td>\n      <td>...</td>\n      <td>0.9</td>\n      <td>1.0</td>\n      <td>0.008634</td>\n      <td>0.0</td>\n      <td>0.0</td>\n      <td>0.0</td>\n      <td>0.0</td>\n      <td>0.0</td>\n      <td>0.0</td>\n      <td>0.0</td>\n    </tr>\n    <tr>\n      <th>3996</th>\n      <td>use_MafnxsXODJV5oVhfi1h1TzdgYQT</td>\n      <td>0.324675</td>\n      <td>1.0</td>\n      <td>0.333333</td>\n      <td>0.666667</td>\n      <td>3. SuperMarket</td>\n      <td>0.0</td>\n      <td>0.0</td>\n      <td>0.0</td>\n      <td>0.0</td>\n      <td>...</td>\n      <td>0.9</td>\n      <td>1.0</td>\n      <td>0.120094</td>\n      <td>0.0</td>\n      <td>0.0</td>\n      <td>0.0</td>\n      <td>1.0</td>\n      <td>0.0</td>\n      <td>0.0</td>\n      <td>0.0</td>\n    </tr>\n    <tr>\n      <th>3997</th>\n      <td>use_Pbui34WhFhPjNeX6TEz1TzdZdVv</td>\n      <td>0.259740</td>\n      <td>1.0</td>\n      <td>1.000000</td>\n      <td>1.000000</td>\n      <td>2. Moyenne Surface</td>\n      <td>0.0</td>\n      <td>0.0</td>\n      <td>1.0</td>\n      <td>1.0</td>\n      <td>...</td>\n      <td>0.9</td>\n      <td>1.0</td>\n      <td>0.008634</td>\n      <td>0.4</td>\n      <td>0.0</td>\n      <td>1.0</td>\n      <td>0.0</td>\n      <td>0.0</td>\n      <td>0.0</td>\n      <td>0.0</td>\n    </tr>\n    <tr>\n      <th>3998</th>\n      <td>use_sDxhHoOEzHyrAzWSPnM1TzdYVjB</td>\n      <td>0.259740</td>\n      <td>1.0</td>\n      <td>0.333333</td>\n      <td>0.387677</td>\n      <td>NaN</td>\n      <td>1.0</td>\n      <td>1.0</td>\n      <td>1.0</td>\n      <td>1.0</td>\n      <td>...</td>\n      <td>0.3</td>\n      <td>0.0</td>\n      <td>0.209576</td>\n      <td>0.4</td>\n      <td>0.0</td>\n      <td>0.0</td>\n      <td>0.0</td>\n      <td>0.0</td>\n      <td>0.0</td>\n      <td>0.0</td>\n    </tr>\n    <tr>\n      <th>3999</th>\n      <td>use_cK0eXBDkaHEqmbVJLYC1TzdsXiW</td>\n      <td>0.324675</td>\n      <td>1.0</td>\n      <td>0.380207</td>\n      <td>0.333333</td>\n      <td>NaN</td>\n      <td>0.0</td>\n      <td>0.0</td>\n      <td>0.0</td>\n      <td>1.0</td>\n      <td>...</td>\n      <td>0.3</td>\n      <td>0.0</td>\n      <td>0.036892</td>\n      <td>0.0</td>\n      <td>0.0</td>\n      <td>0.0</td>\n      <td>0.0</td>\n      <td>0.0</td>\n      <td>0.0</td>\n      <td>0.0</td>\n    </tr>\n  </tbody>\n</table>\n<p>4000 rows × 24 columns</p>\n</div>"
     },
     "metadata": {},
     "execution_count": 23
    }
   ],
   "source": [
    "rf"
   ]
  },
  {
   "cell_type": "code",
   "execution_count": 24,
   "metadata": {},
   "outputs": [],
   "source": [
    "tf.to_csv('./data/train.csv', index=False)\n",
    "rf.to_csv('./data/test.csv', index=False)"
   ]
  },
  {
   "cell_type": "code",
   "execution_count": null,
   "metadata": {},
   "outputs": [],
   "source": []
  }
 ]
}