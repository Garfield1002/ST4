{
 "cells": [
  {
   "cell_type": "markdown",
   "metadata": {},
   "source": [
    "# Graphiques de corrélation"
   ]
  },
  {
   "cell_type": "markdown",
   "metadata": {},
   "source": [
    "## Getting the dataset"
   ]
  },
  {
   "cell_type": "code",
   "execution_count": null,
   "metadata": {},
   "outputs": [],
   "source": [
    "## REQUIRED LIBRARIES\n",
    "# For data wrangling \n",
    "import numpy as np\n",
    "import pandas as pd\n",
    "\n",
    "# For visualization\n",
    "import matplotlib.pyplot as plt\n",
    "%matplotlib inline\n",
    "import seaborn as sns\n",
    "pd.options.display.max_rows = None\n",
    "pd.options.display.max_columns = None"
   ]
  },
  {
   "cell_type": "code",
   "execution_count": null,
   "metadata": {},
   "outputs": [],
   "source": [
    "from datetime import datetime\n",
    "import math\n",
    "df = pd.read_csv(r\"DS_CentraleSupelec_ST42021/DS_CentraleSupelec_train.csv\")\n",
    "df = df.drop(columns=['languageCode', 'countryCode'])\n",
    "df = df.drop(columns=['userId', 'registrationDate', 'reactivationValue', 'emailContactable', 'postalContactable'])\n",
    "df['hasPet'] = df.apply(lambda row: 'Yes' if str(row['petOwner'])[:3] == 'Yes' or str(row['petOwner'])[:3] == 'Oui' else 'No', axis=1)\n",
    "df = df.drop(columns=['petOwner'])\n",
    "def childrenMagik(children: str):\n",
    "    if str(children).lower() in 'nan': return None\n",
    "    if children == '4+': return 5\n",
    "    return int(children)\n",
    "\n",
    "df['nbChildren'] = df.apply(lambda row: childrenMagik(row['numberChildren']), axis=1)\n",
    "df = df.drop(columns=['numberChildren'])\n"
   ]
  },
  {
   "cell_type": "markdown",
   "metadata": {},
   "source": [
    "## Relations"
   ]
  },
  {
   "cell_type": "markdown",
   "metadata": {},
   "source": [
    "Here our main interest is to get an understanding as to how the given attributes relate too the 'Automatic dishwasher' status."
   ]
  },
  {
   "cell_type": "code",
   "execution_count": null,
   "metadata": {},
   "outputs": [],
   "source": [
    "labels = 'Automatic', 'Manual'\n",
    "sizes = [df.washDishes[df['washDishes']=='Auto'].count(), df.washDishes[df['washDishes']=='Hand'].count()]\n",
    "explode = (0, 0.1)\n",
    "fig1, ax1 = plt.subplots(figsize=(10, 8))\n",
    "ax1.pie(sizes, explode=explode, labels=labels, autopct='%1.1f%%',\n",
    "        shadow=True, startangle=90)\n",
    "ax1.axis('equal')\n",
    "plt.title(\"Proportion of users who have an automatic dishwasher\", size = 20)\n",
    "plt.show()"
   ]
  },
  {
   "cell_type": "markdown",
   "metadata": {},
   "source": [
    "So about 40% of the customers have an automatic dishwasher. The baseline model will be to predict that 40% of the customers might be interested by the Fairy product."
   ]
  },
  {
   "cell_type": "code",
   "execution_count": null,
   "metadata": {},
   "outputs": [],
   "source": [
    "# We first review the relation of automatic dishwasher owners with categorical variables\n",
    "fig, axarr = plt.subplots(6, 1, figsize=(30, 50))\n",
    "sns.countplot(x='ecoInterest', hue = 'washDishes',data = df, ax=axarr[0])\n",
    "sns.countplot(x='gender', hue = 'washDishes',data = df, ax=axarr[1])\n",
    "sns.countplot(x='nbChildren', hue = 'washDishes',data = df, ax=axarr[2])\n",
    "sns.countplot(x='hasPet', hue = 'washDishes',data = df, ax=axarr[3])\n",
    "sns.countplot(x='scentLover', hue = 'washDishes',data = df, ax=axarr[4])\n",
    "sns.countplot(x='closestShop', hue = 'washDishes',data = df, ax=axarr[5])"
   ]
  },
  {
   "cell_type": "code",
   "execution_count": null,
   "metadata": {},
   "outputs": [],
   "source": [
    "# Relations based on the continuous data attributes\n",
    "fig, axarr = plt.subplots(1, 1, figsize=(20, 12))\n",
    "sns.boxplot(y='age',x = 'washDishes', hue = 'washDishes',data = df, ax=axarr)"
   ]
  }
 ],
 "metadata": {
  "kernelspec": {
   "display_name": "Python 3.8.3 64-bit ('base': conda)",
   "name": "python383jvsc74a57bd0dca0ade3e726a953b501b15e8e990130d2b7799f14cfd9f4271676035ebe5511"
  },
  "language_info": {
   "name": "python",
   "version": ""
  },
  "orig_nbformat": 2
 },
 "nbformat": 4,
 "nbformat_minor": 2
}