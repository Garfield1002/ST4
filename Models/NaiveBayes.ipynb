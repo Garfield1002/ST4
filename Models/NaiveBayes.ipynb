{
 "cells": [
  {
   "cell_type": "markdown",
   "metadata": {},
   "source": [
    "# Naive Bayes Algorithm"
   ]
  },
  {
   "cell_type": "markdown",
   "metadata": {},
   "source": [
    "## Classical imports and getting the training dataset"
   ]
  },
  {
   "cell_type": "code",
   "execution_count": 1,
   "metadata": {},
   "outputs": [],
   "source": [
    "# Necessary imports\n",
    "import numpy as np\n",
    "import pandas as pd\n",
    "import matplotlib.pyplot as plt\n",
    "import seaborn as sns\n",
    "from sklearn.model_selection import GridSearchCV\n",
    "from sklearn.naive_bayes import GaussianNB\n",
    "from sklearn.model_selection import train_test_split"
   ]
  },
  {
   "cell_type": "markdown",
   "metadata": {},
   "source": [
    "Getting the datasets"
   ]
  },
  {
   "cell_type": "code",
   "execution_count": 2,
   "metadata": {},
   "outputs": [],
   "source": [
    "tf= pd.read_csv(r'../data/train.csv')\n",
    "rf= pd.read_csv(r'../data/test.csv')"
   ]
  },
  {
   "cell_type": "markdown",
   "metadata": {},
   "source": [
    "Checking that the datasets are ok"
   ]
  },
  {
   "cell_type": "code",
   "execution_count": 3,
   "metadata": {},
   "outputs": [
    {
     "data": {
      "text/html": "<div>\n<style scoped>\n    .dataframe tbody tr th:only-of-type {\n        vertical-align: middle;\n    }\n\n    .dataframe tbody tr th {\n        vertical-align: top;\n    }\n\n    .dataframe thead th {\n        text-align: right;\n    }\n</style>\n<table border=\"1\" class=\"dataframe\">\n  <thead>\n    <tr style=\"text-align: right;\">\n      <th></th>\n      <th>userId</th>\n      <th>age</th>\n      <th>gender</th>\n      <th>scentLover</th>\n      <th>ecoInterest</th>\n      <th>MrPropre</th>\n      <th>Antikal</th>\n      <th>Ariel</th>\n      <th>Dash</th>\n      <th>pods</th>\n      <th>...</th>\n      <th>magasin</th>\n      <th>moyenneSurface</th>\n      <th>superMarket</th>\n      <th>hyperMarket</th>\n      <th>drive</th>\n      <th>hardDiscount</th>\n      <th>interested_by_fairypeps_email</th>\n      <th>level_of_interest_about_marketing</th>\n      <th>number_of_actions</th>\n      <th>washDishes</th>\n    </tr>\n  </thead>\n  <tbody>\n    <tr>\n      <th>0</th>\n      <td>use_XbA1FTDcCrTMNTHK1851TzjyPMP</td>\n      <td>0.077922</td>\n      <td>1.0</td>\n      <td>0.000000</td>\n      <td>0.386816</td>\n      <td>0.0</td>\n      <td>0.0</td>\n      <td>0.0</td>\n      <td>0.0</td>\n      <td>0.0</td>\n      <td>...</td>\n      <td>0.0</td>\n      <td>0.0</td>\n      <td>0.0</td>\n      <td>0.0</td>\n      <td>0.0</td>\n      <td>0.0</td>\n      <td>-1.0</td>\n      <td>1.0</td>\n      <td>0.002068</td>\n      <td>1</td>\n    </tr>\n    <tr>\n      <th>1</th>\n      <td>use_3WHgsMVGSg5MHG2zja91TzdfmY2</td>\n      <td>0.636364</td>\n      <td>1.0</td>\n      <td>0.379664</td>\n      <td>0.666667</td>\n      <td>1.0</td>\n      <td>1.0</td>\n      <td>1.0</td>\n      <td>0.0</td>\n      <td>1.0</td>\n      <td>...</td>\n      <td>0.0</td>\n      <td>0.0</td>\n      <td>0.0</td>\n      <td>0.0</td>\n      <td>0.0</td>\n      <td>0.0</td>\n      <td>-1.0</td>\n      <td>1.0</td>\n      <td>0.022234</td>\n      <td>1</td>\n    </tr>\n    <tr>\n      <th>2</th>\n      <td>use_2SisOiR8QwDaHI4svm11TzcvK7V</td>\n      <td>0.350649</td>\n      <td>1.0</td>\n      <td>0.000000</td>\n      <td>0.666667</td>\n      <td>0.0</td>\n      <td>0.0</td>\n      <td>1.0</td>\n      <td>1.0</td>\n      <td>0.0</td>\n      <td>...</td>\n      <td>0.0</td>\n      <td>0.0</td>\n      <td>0.0</td>\n      <td>0.0</td>\n      <td>0.0</td>\n      <td>0.0</td>\n      <td>-1.0</td>\n      <td>1.0</td>\n      <td>0.009824</td>\n      <td>1</td>\n    </tr>\n    <tr>\n      <th>3</th>\n      <td>use_W0T1LmfKaQPJYD1RTWh1Tzdc69H</td>\n      <td>0.220779</td>\n      <td>1.0</td>\n      <td>0.333333</td>\n      <td>0.333333</td>\n      <td>0.0</td>\n      <td>0.0</td>\n      <td>1.0</td>\n      <td>1.0</td>\n      <td>1.0</td>\n      <td>...</td>\n      <td>0.0</td>\n      <td>0.0</td>\n      <td>0.0</td>\n      <td>0.0</td>\n      <td>0.0</td>\n      <td>0.0</td>\n      <td>-1.0</td>\n      <td>0.4</td>\n      <td>0.002327</td>\n      <td>0</td>\n    </tr>\n    <tr>\n      <th>4</th>\n      <td>use_KwYWZ7UMl4veveOaPGK1TzddtmI</td>\n      <td>0.259740</td>\n      <td>1.0</td>\n      <td>0.379664</td>\n      <td>0.000000</td>\n      <td>1.0</td>\n      <td>1.0</td>\n      <td>1.0</td>\n      <td>1.0</td>\n      <td>0.0</td>\n      <td>...</td>\n      <td>0.0</td>\n      <td>0.0</td>\n      <td>0.0</td>\n      <td>0.0</td>\n      <td>0.0</td>\n      <td>0.0</td>\n      <td>-1.0</td>\n      <td>1.0</td>\n      <td>0.936143</td>\n      <td>0</td>\n    </tr>\n    <tr>\n      <th>...</th>\n      <td>...</td>\n      <td>...</td>\n      <td>...</td>\n      <td>...</td>\n      <td>...</td>\n      <td>...</td>\n      <td>...</td>\n      <td>...</td>\n      <td>...</td>\n      <td>...</td>\n      <td>...</td>\n      <td>...</td>\n      <td>...</td>\n      <td>...</td>\n      <td>...</td>\n      <td>...</td>\n      <td>...</td>\n      <td>...</td>\n      <td>...</td>\n      <td>...</td>\n      <td>...</td>\n    </tr>\n    <tr>\n      <th>11995</th>\n      <td>use_ICSyEvCcRNPpQeBdWcM1TzdczV8</td>\n      <td>0.454545</td>\n      <td>1.0</td>\n      <td>0.379664</td>\n      <td>0.386816</td>\n      <td>0.0</td>\n      <td>0.0</td>\n      <td>0.0</td>\n      <td>0.0</td>\n      <td>1.0</td>\n      <td>...</td>\n      <td>0.0</td>\n      <td>0.0</td>\n      <td>0.0</td>\n      <td>0.0</td>\n      <td>0.0</td>\n      <td>0.0</td>\n      <td>1.0</td>\n      <td>1.0</td>\n      <td>0.043175</td>\n      <td>1</td>\n    </tr>\n    <tr>\n      <th>11996</th>\n      <td>use_Q5DNYeSmG7g6VeMV4n71TzeTRRz</td>\n      <td>0.324675</td>\n      <td>1.0</td>\n      <td>0.333333</td>\n      <td>0.333333</td>\n      <td>0.0</td>\n      <td>0.0</td>\n      <td>0.0</td>\n      <td>0.0</td>\n      <td>0.0</td>\n      <td>...</td>\n      <td>0.0</td>\n      <td>0.0</td>\n      <td>0.0</td>\n      <td>0.0</td>\n      <td>0.0</td>\n      <td>0.0</td>\n      <td>-1.0</td>\n      <td>0.2</td>\n      <td>0.000517</td>\n      <td>0</td>\n    </tr>\n    <tr>\n      <th>11997</th>\n      <td>use_rEoce5pc0MlKpndfzNj1Tze3J1L</td>\n      <td>0.311688</td>\n      <td>1.0</td>\n      <td>0.379664</td>\n      <td>0.666667</td>\n      <td>0.0</td>\n      <td>0.0</td>\n      <td>0.0</td>\n      <td>0.0</td>\n      <td>0.0</td>\n      <td>...</td>\n      <td>0.0</td>\n      <td>0.0</td>\n      <td>0.0</td>\n      <td>0.0</td>\n      <td>0.0</td>\n      <td>0.0</td>\n      <td>-1.0</td>\n      <td>0.4</td>\n      <td>0.009824</td>\n      <td>0</td>\n    </tr>\n    <tr>\n      <th>11998</th>\n      <td>use_0AuDL2wOJHy9I16zSC21TzeHRMo</td>\n      <td>0.272727</td>\n      <td>0.0</td>\n      <td>0.379664</td>\n      <td>0.386816</td>\n      <td>0.0</td>\n      <td>0.0</td>\n      <td>0.0</td>\n      <td>0.0</td>\n      <td>0.0</td>\n      <td>...</td>\n      <td>0.0</td>\n      <td>0.0</td>\n      <td>0.0</td>\n      <td>0.0</td>\n      <td>0.0</td>\n      <td>0.0</td>\n      <td>-1.0</td>\n      <td>1.0</td>\n      <td>0.000259</td>\n      <td>1</td>\n    </tr>\n    <tr>\n      <th>11999</th>\n      <td>use_B7F2PfU4eOKBmVc93AU1TzdqFY9</td>\n      <td>0.181818</td>\n      <td>1.0</td>\n      <td>0.000000</td>\n      <td>0.666667</td>\n      <td>0.0</td>\n      <td>0.0</td>\n      <td>0.0</td>\n      <td>0.0</td>\n      <td>0.0</td>\n      <td>...</td>\n      <td>0.0</td>\n      <td>0.0</td>\n      <td>1.0</td>\n      <td>0.0</td>\n      <td>0.0</td>\n      <td>0.0</td>\n      <td>-1.0</td>\n      <td>0.2</td>\n      <td>0.003102</td>\n      <td>0</td>\n    </tr>\n  </tbody>\n</table>\n<p>12000 rows × 27 columns</p>\n</div>",
      "text/plain": "                                userId       age  gender  scentLover  \\\n0      use_XbA1FTDcCrTMNTHK1851TzjyPMP  0.077922     1.0    0.000000   \n1      use_3WHgsMVGSg5MHG2zja91TzdfmY2  0.636364     1.0    0.379664   \n2      use_2SisOiR8QwDaHI4svm11TzcvK7V  0.350649     1.0    0.000000   \n3      use_W0T1LmfKaQPJYD1RTWh1Tzdc69H  0.220779     1.0    0.333333   \n4      use_KwYWZ7UMl4veveOaPGK1TzddtmI  0.259740     1.0    0.379664   \n...                                ...       ...     ...         ...   \n11995  use_ICSyEvCcRNPpQeBdWcM1TzdczV8  0.454545     1.0    0.379664   \n11996  use_Q5DNYeSmG7g6VeMV4n71TzeTRRz  0.324675     1.0    0.333333   \n11997  use_rEoce5pc0MlKpndfzNj1Tze3J1L  0.311688     1.0    0.379664   \n11998  use_0AuDL2wOJHy9I16zSC21TzeHRMo  0.272727     0.0    0.379664   \n11999  use_B7F2PfU4eOKBmVc93AU1TzdqFY9  0.181818     1.0    0.000000   \n\n       ecoInterest  MrPropre  Antikal  Ariel  Dash  pods  ...  magasin  \\\n0         0.386816       0.0      0.0    0.0   0.0   0.0  ...      0.0   \n1         0.666667       1.0      1.0    1.0   0.0   1.0  ...      0.0   \n2         0.666667       0.0      0.0    1.0   1.0   0.0  ...      0.0   \n3         0.333333       0.0      0.0    1.0   1.0   1.0  ...      0.0   \n4         0.000000       1.0      1.0    1.0   1.0   0.0  ...      0.0   \n...            ...       ...      ...    ...   ...   ...  ...      ...   \n11995     0.386816       0.0      0.0    0.0   0.0   1.0  ...      0.0   \n11996     0.333333       0.0      0.0    0.0   0.0   0.0  ...      0.0   \n11997     0.666667       0.0      0.0    0.0   0.0   0.0  ...      0.0   \n11998     0.386816       0.0      0.0    0.0   0.0   0.0  ...      0.0   \n11999     0.666667       0.0      0.0    0.0   0.0   0.0  ...      0.0   \n\n       moyenneSurface  superMarket  hyperMarket  drive  hardDiscount  \\\n0                 0.0          0.0          0.0    0.0           0.0   \n1                 0.0          0.0          0.0    0.0           0.0   \n2                 0.0          0.0          0.0    0.0           0.0   \n3                 0.0          0.0          0.0    0.0           0.0   \n4                 0.0          0.0          0.0    0.0           0.0   \n...               ...          ...          ...    ...           ...   \n11995             0.0          0.0          0.0    0.0           0.0   \n11996             0.0          0.0          0.0    0.0           0.0   \n11997             0.0          0.0          0.0    0.0           0.0   \n11998             0.0          0.0          0.0    0.0           0.0   \n11999             0.0          1.0          0.0    0.0           0.0   \n\n       interested_by_fairypeps_email  level_of_interest_about_marketing  \\\n0                               -1.0                                1.0   \n1                               -1.0                                1.0   \n2                               -1.0                                1.0   \n3                               -1.0                                0.4   \n4                               -1.0                                1.0   \n...                              ...                                ...   \n11995                            1.0                                1.0   \n11996                           -1.0                                0.2   \n11997                           -1.0                                0.4   \n11998                           -1.0                                1.0   \n11999                           -1.0                                0.2   \n\n       number_of_actions  washDishes  \n0               0.002068           1  \n1               0.022234           1  \n2               0.009824           1  \n3               0.002327           0  \n4               0.936143           0  \n...                  ...         ...  \n11995           0.043175           1  \n11996           0.000517           0  \n11997           0.009824           0  \n11998           0.000259           1  \n11999           0.003102           0  \n\n[12000 rows x 27 columns]"
     },
     "execution_count": 3,
     "metadata": {},
     "output_type": "execute_result"
    }
   ],
   "source": [
    "tf # the training set"
   ]
  },
  {
   "cell_type": "code",
   "execution_count": 4,
   "metadata": {},
   "outputs": [
    {
     "data": {
      "text/html": "<div>\n<style scoped>\n    .dataframe tbody tr th:only-of-type {\n        vertical-align: middle;\n    }\n\n    .dataframe tbody tr th {\n        vertical-align: top;\n    }\n\n    .dataframe thead th {\n        text-align: right;\n    }\n</style>\n<table border=\"1\" class=\"dataframe\">\n  <thead>\n    <tr style=\"text-align: right;\">\n      <th></th>\n      <th>userId</th>\n      <th>age</th>\n      <th>gender</th>\n      <th>scentLover</th>\n      <th>ecoInterest</th>\n      <th>MrPropre</th>\n      <th>Antikal</th>\n      <th>Ariel</th>\n      <th>Dash</th>\n      <th>pods</th>\n      <th>...</th>\n      <th>nbChildren</th>\n      <th>magasin</th>\n      <th>moyenneSurface</th>\n      <th>superMarket</th>\n      <th>hyperMarket</th>\n      <th>drive</th>\n      <th>hardDiscount</th>\n      <th>interested_by_fairypeps_email</th>\n      <th>level_of_interest_about_marketing</th>\n      <th>number_of_actions</th>\n    </tr>\n  </thead>\n  <tbody>\n    <tr>\n      <th>0</th>\n      <td>use_yFJKoOUCJ7ED8c8Xeov1TzdfpRL</td>\n      <td>0.259740</td>\n      <td>1.0</td>\n      <td>0.379664</td>\n      <td>0.666667</td>\n      <td>1.0</td>\n      <td>0.0</td>\n      <td>1.0</td>\n      <td>1.0</td>\n      <td>0.0</td>\n      <td>...</td>\n      <td>1.0</td>\n      <td>0.0</td>\n      <td>0.0</td>\n      <td>0.0</td>\n      <td>0.0</td>\n      <td>0.0</td>\n      <td>0.0</td>\n      <td>-1.000000</td>\n      <td>1.00000</td>\n      <td>0.005946</td>\n    </tr>\n    <tr>\n      <th>1</th>\n      <td>use_t1WpMt2fprbjEteXNSZ1TzdyvAi</td>\n      <td>0.350649</td>\n      <td>1.0</td>\n      <td>0.379664</td>\n      <td>0.666667</td>\n      <td>0.0</td>\n      <td>0.0</td>\n      <td>1.0</td>\n      <td>0.0</td>\n      <td>0.0</td>\n      <td>...</td>\n      <td>0.4</td>\n      <td>0.0</td>\n      <td>0.0</td>\n      <td>0.0</td>\n      <td>0.0</td>\n      <td>0.0</td>\n      <td>0.0</td>\n      <td>-1.000000</td>\n      <td>1.00000</td>\n      <td>0.001551</td>\n    </tr>\n    <tr>\n      <th>2</th>\n      <td>use_w9jT58WcsP3tUkPCA0A1TzgYdeE</td>\n      <td>0.116883</td>\n      <td>1.0</td>\n      <td>0.379664</td>\n      <td>0.386816</td>\n      <td>0.0</td>\n      <td>0.0</td>\n      <td>0.0</td>\n      <td>0.0</td>\n      <td>0.0</td>\n      <td>...</td>\n      <td>0.2</td>\n      <td>0.0</td>\n      <td>0.0</td>\n      <td>0.0</td>\n      <td>0.0</td>\n      <td>0.0</td>\n      <td>0.0</td>\n      <td>-1.000000</td>\n      <td>1.00000</td>\n      <td>0.005946</td>\n    </tr>\n    <tr>\n      <th>3</th>\n      <td>use_onifqa3LnOsjZOhPYfN1TzdfkfA</td>\n      <td>0.623377</td>\n      <td>1.0</td>\n      <td>0.379664</td>\n      <td>0.386816</td>\n      <td>1.0</td>\n      <td>0.0</td>\n      <td>0.0</td>\n      <td>0.0</td>\n      <td>0.0</td>\n      <td>...</td>\n      <td>0.6</td>\n      <td>0.0</td>\n      <td>0.0</td>\n      <td>0.0</td>\n      <td>0.0</td>\n      <td>0.0</td>\n      <td>0.0</td>\n      <td>1.000000</td>\n      <td>1.00000</td>\n      <td>0.040848</td>\n    </tr>\n    <tr>\n      <th>4</th>\n      <td>use_KgP1NlkmR24pbU9KRwK1Tzdqm8u</td>\n      <td>0.311688</td>\n      <td>1.0</td>\n      <td>0.000000</td>\n      <td>0.333333</td>\n      <td>0.0</td>\n      <td>0.0</td>\n      <td>1.0</td>\n      <td>1.0</td>\n      <td>1.0</td>\n      <td>...</td>\n      <td>0.4</td>\n      <td>0.0</td>\n      <td>0.0</td>\n      <td>0.0</td>\n      <td>0.0</td>\n      <td>0.0</td>\n      <td>0.0</td>\n      <td>-1.000000</td>\n      <td>1.00000</td>\n      <td>0.134436</td>\n    </tr>\n    <tr>\n      <th>...</th>\n      <td>...</td>\n      <td>...</td>\n      <td>...</td>\n      <td>...</td>\n      <td>...</td>\n      <td>...</td>\n      <td>...</td>\n      <td>...</td>\n      <td>...</td>\n      <td>...</td>\n      <td>...</td>\n      <td>...</td>\n      <td>...</td>\n      <td>...</td>\n      <td>...</td>\n      <td>...</td>\n      <td>...</td>\n      <td>...</td>\n      <td>...</td>\n      <td>...</td>\n      <td>...</td>\n    </tr>\n    <tr>\n      <th>3995</th>\n      <td>use_yXWhQEP4R6vvYOeJzz61TZU7JRs</td>\n      <td>0.415584</td>\n      <td>1.0</td>\n      <td>1.000000</td>\n      <td>0.666667</td>\n      <td>0.0</td>\n      <td>0.0</td>\n      <td>1.0</td>\n      <td>1.0</td>\n      <td>0.0</td>\n      <td>...</td>\n      <td>0.0</td>\n      <td>0.0</td>\n      <td>0.0</td>\n      <td>0.0</td>\n      <td>0.0</td>\n      <td>0.0</td>\n      <td>0.0</td>\n      <td>-0.953082</td>\n      <td>0.71773</td>\n      <td>0.019794</td>\n    </tr>\n    <tr>\n      <th>3996</th>\n      <td>use_MafnxsXODJV5oVhfi1h1TzdgYQT</td>\n      <td>0.324675</td>\n      <td>1.0</td>\n      <td>0.333333</td>\n      <td>0.666667</td>\n      <td>0.0</td>\n      <td>0.0</td>\n      <td>0.0</td>\n      <td>0.0</td>\n      <td>1.0</td>\n      <td>...</td>\n      <td>0.0</td>\n      <td>0.0</td>\n      <td>0.0</td>\n      <td>1.0</td>\n      <td>0.0</td>\n      <td>0.0</td>\n      <td>0.0</td>\n      <td>-1.000000</td>\n      <td>0.40000</td>\n      <td>0.008273</td>\n    </tr>\n    <tr>\n      <th>3997</th>\n      <td>use_Pbui34WhFhPjNeX6TEz1TzdZdVv</td>\n      <td>0.259740</td>\n      <td>1.0</td>\n      <td>1.000000</td>\n      <td>1.000000</td>\n      <td>0.0</td>\n      <td>0.0</td>\n      <td>1.0</td>\n      <td>1.0</td>\n      <td>1.0</td>\n      <td>...</td>\n      <td>0.4</td>\n      <td>0.0</td>\n      <td>1.0</td>\n      <td>0.0</td>\n      <td>0.0</td>\n      <td>0.0</td>\n      <td>0.0</td>\n      <td>-0.953082</td>\n      <td>0.71773</td>\n      <td>0.019794</td>\n    </tr>\n    <tr>\n      <th>3998</th>\n      <td>use_sDxhHoOEzHyrAzWSPnM1TzdYVjB</td>\n      <td>0.259740</td>\n      <td>1.0</td>\n      <td>0.333333</td>\n      <td>0.386816</td>\n      <td>1.0</td>\n      <td>1.0</td>\n      <td>1.0</td>\n      <td>1.0</td>\n      <td>0.0</td>\n      <td>...</td>\n      <td>0.4</td>\n      <td>0.0</td>\n      <td>0.0</td>\n      <td>0.0</td>\n      <td>0.0</td>\n      <td>0.0</td>\n      <td>0.0</td>\n      <td>-1.000000</td>\n      <td>1.00000</td>\n      <td>0.015770</td>\n    </tr>\n    <tr>\n      <th>3999</th>\n      <td>use_cK0eXBDkaHEqmbVJLYC1TzdsXiW</td>\n      <td>0.324675</td>\n      <td>1.0</td>\n      <td>0.379664</td>\n      <td>0.333333</td>\n      <td>0.0</td>\n      <td>0.0</td>\n      <td>0.0</td>\n      <td>1.0</td>\n      <td>0.0</td>\n      <td>...</td>\n      <td>0.0</td>\n      <td>0.0</td>\n      <td>0.0</td>\n      <td>0.0</td>\n      <td>0.0</td>\n      <td>0.0</td>\n      <td>0.0</td>\n      <td>-0.953082</td>\n      <td>0.71773</td>\n      <td>0.019794</td>\n    </tr>\n  </tbody>\n</table>\n<p>4000 rows × 26 columns</p>\n</div>",
      "text/plain": "                               userId       age  gender  scentLover  \\\n0     use_yFJKoOUCJ7ED8c8Xeov1TzdfpRL  0.259740     1.0    0.379664   \n1     use_t1WpMt2fprbjEteXNSZ1TzdyvAi  0.350649     1.0    0.379664   \n2     use_w9jT58WcsP3tUkPCA0A1TzgYdeE  0.116883     1.0    0.379664   \n3     use_onifqa3LnOsjZOhPYfN1TzdfkfA  0.623377     1.0    0.379664   \n4     use_KgP1NlkmR24pbU9KRwK1Tzdqm8u  0.311688     1.0    0.000000   \n...                               ...       ...     ...         ...   \n3995  use_yXWhQEP4R6vvYOeJzz61TZU7JRs  0.415584     1.0    1.000000   \n3996  use_MafnxsXODJV5oVhfi1h1TzdgYQT  0.324675     1.0    0.333333   \n3997  use_Pbui34WhFhPjNeX6TEz1TzdZdVv  0.259740     1.0    1.000000   \n3998  use_sDxhHoOEzHyrAzWSPnM1TzdYVjB  0.259740     1.0    0.333333   \n3999  use_cK0eXBDkaHEqmbVJLYC1TzdsXiW  0.324675     1.0    0.379664   \n\n      ecoInterest  MrPropre  Antikal  Ariel  Dash  pods  ...  nbChildren  \\\n0        0.666667       1.0      0.0    1.0   1.0   0.0  ...         1.0   \n1        0.666667       0.0      0.0    1.0   0.0   0.0  ...         0.4   \n2        0.386816       0.0      0.0    0.0   0.0   0.0  ...         0.2   \n3        0.386816       1.0      0.0    0.0   0.0   0.0  ...         0.6   \n4        0.333333       0.0      0.0    1.0   1.0   1.0  ...         0.4   \n...           ...       ...      ...    ...   ...   ...  ...         ...   \n3995     0.666667       0.0      0.0    1.0   1.0   0.0  ...         0.0   \n3996     0.666667       0.0      0.0    0.0   0.0   1.0  ...         0.0   \n3997     1.000000       0.0      0.0    1.0   1.0   1.0  ...         0.4   \n3998     0.386816       1.0      1.0    1.0   1.0   0.0  ...         0.4   \n3999     0.333333       0.0      0.0    0.0   1.0   0.0  ...         0.0   \n\n      magasin  moyenneSurface  superMarket  hyperMarket  drive  hardDiscount  \\\n0         0.0             0.0          0.0          0.0    0.0           0.0   \n1         0.0             0.0          0.0          0.0    0.0           0.0   \n2         0.0             0.0          0.0          0.0    0.0           0.0   \n3         0.0             0.0          0.0          0.0    0.0           0.0   \n4         0.0             0.0          0.0          0.0    0.0           0.0   \n...       ...             ...          ...          ...    ...           ...   \n3995      0.0             0.0          0.0          0.0    0.0           0.0   \n3996      0.0             0.0          1.0          0.0    0.0           0.0   \n3997      0.0             1.0          0.0          0.0    0.0           0.0   \n3998      0.0             0.0          0.0          0.0    0.0           0.0   \n3999      0.0             0.0          0.0          0.0    0.0           0.0   \n\n      interested_by_fairypeps_email  level_of_interest_about_marketing  \\\n0                         -1.000000                            1.00000   \n1                         -1.000000                            1.00000   \n2                         -1.000000                            1.00000   \n3                          1.000000                            1.00000   \n4                         -1.000000                            1.00000   \n...                             ...                                ...   \n3995                      -0.953082                            0.71773   \n3996                      -1.000000                            0.40000   \n3997                      -0.953082                            0.71773   \n3998                      -1.000000                            1.00000   \n3999                      -0.953082                            0.71773   \n\n      number_of_actions  \n0              0.005946  \n1              0.001551  \n2              0.005946  \n3              0.040848  \n4              0.134436  \n...                 ...  \n3995           0.019794  \n3996           0.008273  \n3997           0.019794  \n3998           0.015770  \n3999           0.019794  \n\n[4000 rows x 26 columns]"
     },
     "execution_count": 4,
     "metadata": {},
     "output_type": "execute_result"
    }
   ],
   "source": [
    "rf # the validation set"
   ]
  },
  {
   "cell_type": "code",
   "execution_count": 5,
   "metadata": {},
   "outputs": [],
   "source": [
    "#Deleting the Id (we don't want our training to take into account the Id)\n",
    "tf=tf.drop(columns='userId')\n",
    "sol=pd.DataFrame({'userId':rf['userId']}) #creating the dataframe for the solution and getting the ID\n",
    "rf=rf.drop(columns='userId') #dropping the id to have the same structure as the training dataset"
   ]
  },
  {
   "cell_type": "code",
   "execution_count": 6,
   "metadata": {},
   "outputs": [],
   "source": [
    "# A last clean to have float64 values\n",
    "def clean_dataset(df):\n",
    "    assert isinstance(df, pd.DataFrame), \"df needs to be a pd.DataFrame\"\n",
    "    df.dropna(inplace=True)\n",
    "    indices_to_keep = ~df.isin([np.nan, np.inf, -np.inf]).any(1)\n",
    "    return df[indices_to_keep].astype(np.float64)\n",
    "\n",
    "tf=clean_dataset(tf)\n",
    "rf=clean_dataset(rf)"
   ]
  },
  {
   "cell_type": "markdown",
   "metadata": {},
   "source": [
    "## Naive Bayes Model"
   ]
  },
  {
   "cell_type": "code",
   "execution_count": 7,
   "metadata": {},
   "outputs": [],
   "source": [
    "#To see what the best parameters are\n",
    "def best_model(model):\n",
    "    print(model.best_score_)    \n",
    "    print(model.best_params_)\n",
    "    print(model.best_estimator_)"
   ]
  },
  {
   "cell_type": "code",
   "execution_count": 8,
   "metadata": {},
   "outputs": [],
   "source": [
    "#splitting our dataset into one set of training and one set of test\n",
    "y = tf.washDishes.values\n",
    "x = tf.drop(['washDishes'], axis = 1)\n",
    "x_train, x_test, y_train, y_test = train_test_split(x,y,test_size = 0.2,random_state=0)"
   ]
  },
  {
   "cell_type": "code",
   "execution_count": 9,
   "metadata": {},
   "outputs": [
    {
     "name": "stdout",
     "output_type": "stream",
     "text": [
      "Fitting 5 folds for each of 100 candidates, totalling 500 fits\n"
     ]
    },
    {
     "name": "stderr",
     "output_type": "stream",
     "text": [
      "[Parallel(n_jobs=1)]: Using backend SequentialBackend with 1 concurrent workers.\n"
     ]
    },
    {
     "name": "stdout",
     "output_type": "stream",
     "text": [
      "0.6302083333333333\n",
      "{'var_smoothing': 0.3511191734215131}\n",
      "GaussianNB(var_smoothing=0.3511191734215131)\n",
      "None\n",
      "Test Accuracy 63.92%\n"
     ]
    },
    {
     "name": "stderr",
     "output_type": "stream",
     "text": [
      "[Parallel(n_jobs=1)]: Done 500 out of 500 | elapsed:    6.9s finished\n"
     ]
    }
   ],
   "source": [
    "#Gaussian NB classifier\n",
    "nb_classifier = GaussianNB()\n",
    "\n",
    "params_NB = {'var_smoothing': np.logspace(0,-9, num=100)} ##testing different parameters \n",
    "\n",
    "#GridSearch automatically takes the best parameter after testing all the options\n",
    "gs_NB = GridSearchCV(estimator=nb_classifier, \n",
    "                 param_grid=params_NB,\n",
    "                 verbose=1, \n",
    "                 scoring='accuracy') \n",
    "gs_NB.fit(x_train, y_train) #the fitting\n",
    "\n",
    "acc = gs_NB.score(x_test,y_test)*100 #calculating the accuracy\n",
    "\n",
    "print(best_model(gs_NB)) # to show the best parameters found by GridSearch\n",
    "print(\"Test Accuracy {:.2f}%\".format(acc)) # to show the accuracy"
   ]
  },
  {
   "cell_type": "markdown",
   "metadata": {},
   "source": [
    "## Prediction"
   ]
  },
  {
   "cell_type": "code",
   "execution_count": 10,
   "metadata": {},
   "outputs": [
    {
     "data": {
      "text/html": "<div>\n<style scoped>\n    .dataframe tbody tr th:only-of-type {\n        vertical-align: middle;\n    }\n\n    .dataframe tbody tr th {\n        vertical-align: top;\n    }\n\n    .dataframe thead th {\n        text-align: right;\n    }\n</style>\n<table border=\"1\" class=\"dataframe\">\n  <thead>\n    <tr style=\"text-align: right;\">\n      <th></th>\n      <th>userId</th>\n      <th>washDishes</th>\n    </tr>\n  </thead>\n  <tbody>\n    <tr>\n      <th>0</th>\n      <td>use_yFJKoOUCJ7ED8c8Xeov1TzdfpRL</td>\n      <td>Hand</td>\n    </tr>\n    <tr>\n      <th>1</th>\n      <td>use_t1WpMt2fprbjEteXNSZ1TzdyvAi</td>\n      <td>Hand</td>\n    </tr>\n    <tr>\n      <th>2</th>\n      <td>use_w9jT58WcsP3tUkPCA0A1TzgYdeE</td>\n      <td>Hand</td>\n    </tr>\n    <tr>\n      <th>3</th>\n      <td>use_onifqa3LnOsjZOhPYfN1TzdfkfA</td>\n      <td>Auto</td>\n    </tr>\n    <tr>\n      <th>4</th>\n      <td>use_KgP1NlkmR24pbU9KRwK1Tzdqm8u</td>\n      <td>Hand</td>\n    </tr>\n    <tr>\n      <th>...</th>\n      <td>...</td>\n      <td>...</td>\n    </tr>\n    <tr>\n      <th>3995</th>\n      <td>use_yXWhQEP4R6vvYOeJzz61TZU7JRs</td>\n      <td>Hand</td>\n    </tr>\n    <tr>\n      <th>3996</th>\n      <td>use_MafnxsXODJV5oVhfi1h1TzdgYQT</td>\n      <td>Hand</td>\n    </tr>\n    <tr>\n      <th>3997</th>\n      <td>use_Pbui34WhFhPjNeX6TEz1TzdZdVv</td>\n      <td>Hand</td>\n    </tr>\n    <tr>\n      <th>3998</th>\n      <td>use_sDxhHoOEzHyrAzWSPnM1TzdYVjB</td>\n      <td>Hand</td>\n    </tr>\n    <tr>\n      <th>3999</th>\n      <td>use_cK0eXBDkaHEqmbVJLYC1TzdsXiW</td>\n      <td>Hand</td>\n    </tr>\n  </tbody>\n</table>\n<p>4000 rows × 2 columns</p>\n</div>",
      "text/plain": "                               userId washDishes\n0     use_yFJKoOUCJ7ED8c8Xeov1TzdfpRL       Hand\n1     use_t1WpMt2fprbjEteXNSZ1TzdyvAi       Hand\n2     use_w9jT58WcsP3tUkPCA0A1TzgYdeE       Hand\n3     use_onifqa3LnOsjZOhPYfN1TzdfkfA       Auto\n4     use_KgP1NlkmR24pbU9KRwK1Tzdqm8u       Hand\n...                               ...        ...\n3995  use_yXWhQEP4R6vvYOeJzz61TZU7JRs       Hand\n3996  use_MafnxsXODJV5oVhfi1h1TzdgYQT       Hand\n3997  use_Pbui34WhFhPjNeX6TEz1TzdZdVv       Hand\n3998  use_sDxhHoOEzHyrAzWSPnM1TzdYVjB       Hand\n3999  use_cK0eXBDkaHEqmbVJLYC1TzdsXiW       Hand\n\n[4000 rows x 2 columns]"
     },
     "execution_count": 10,
     "metadata": {},
     "output_type": "execute_result"
    }
   ],
   "source": [
    "#Predicting, and exporting to csv to make a submission\n",
    "y_pred = gs_NB.predict(rf) #the prediction\n",
    "sol['washDishes'] = y_pred\n",
    "sol[\"washDishes\"] = sol[\"washDishes\"].apply(lambda e: 'Auto' if e == 1 else 'Hand') #replacing the -1 and 1 with the original values\n",
    "sol.to_csv('../data/naivebayessolution.csv', index=False) #exporting to csv without the index\n",
    "sol #checking the output"
   ]
  },
  {
   "cell_type": "markdown",
   "metadata": {},
   "source": [
    "## Confusion matrix"
   ]
  },
  {
   "cell_type": "code",
   "execution_count": 11,
   "metadata": {},
   "outputs": [
    {
     "data": {
      "image/png": "[encoded data removed]",
      "text/plain": "<Figure size 360x360 with 2 Axes>"
     },
     "metadata": {
      "needs_background": "light"
     },
     "output_type": "display_data"
    }
   ],
   "source": [
    "preds=gs_NB.predict(x_test)\n",
    "def plot_confusion_matrix():\n",
    "    cm = pd.crosstab(y_test, preds, rownames=['Actual'], colnames=['Predicted'])\n",
    "    fig, (ax1) = plt.subplots(ncols=1, figsize=(5,5))\n",
    "    sns.heatmap(cm, \n",
    "                xticklabels=['Hand', 'Auto'],\n",
    "                yticklabels=['Hand', 'Auto'],\n",
    "                annot=True,ax=ax1,\n",
    "                linewidths=.2,linecolor=\"Darkblue\", cmap=\"Blues\")\n",
    "    plt.title('Confusion Matrix', fontsize=14)\n",
    "    plt.show()\n",
    "\n",
    "plot_confusion_matrix()"
   ]
  }
 ],
 "metadata": {
  "kernelspec": {
   "display_name": "Python 3.8.3 64-bit ('base': conda)",
   "name": "python383jvsc74a57bd0dca0ade3e726a953b501b15e8e990130d2b7799f14cfd9f4271676035ebe5511"
  },
  "language_info": {
   "codemirror_mode": {
    "name": "ipython",
    "version": 3
   },
   "file_extension": ".py",
   "mimetype": "text/x-python",
   "name": "python",
   "nbconvert_exporter": "python",
   "pygments_lexer": "ipython3",
   "version": "3.8.3"
  },
  "orig_nbformat": 3
 },
 "nbformat": 4,
 "nbformat_minor": 2
}