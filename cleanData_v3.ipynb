{
 "metadata": {
  "language_info": {
   "codemirror_mode": {
    "name": "ipython",
    "version": 3
   },
   "file_extension": ".py",
   "mimetype": "text/x-python",
   "name": "python",
   "nbconvert_exporter": "python",
   "pygments_lexer": "ipython3",
   "version": "3.8.3"
  },
  "orig_nbformat": 2,
  "kernelspec": {
   "name": "python383jvsc74a57bd04e3844b72a7cf8ab0d3d9d1f66ba811b683ddb4d84051a42926a17d4fe42a429",
   "display_name": "Python 3.8.3 64-bit ('base': conda)"
  },
  "metadata": {
   "interpreter": {
    "hash": "ac59ebe37160ed0dfa835113d9b8498d9f09ceb179beaac4002f036b9467c963"
   }
  }
 },
 "nbformat": 4,
 "nbformat_minor": 2,
 "cells": [
  {
   "source": [
    "# EI ST4"
   ],
   "cell_type": "markdown",
   "metadata": {}
  },
  {
   "source": [
    "## Imports"
   ],
   "cell_type": "markdown",
   "metadata": {}
  },
  {
   "cell_type": "code",
   "execution_count": 37,
   "metadata": {},
   "outputs": [],
   "source": [
    "import pandas as pd\n",
    "from datetime import datetime\n",
    "import math"
   ]
  },
  {
   "cell_type": "code",
   "execution_count": 38,
   "metadata": {},
   "outputs": [],
   "source": [
    "df = pd.read_csv(r\"DS_CentraleSupelec_ST42021/DS_CentraleSupelec_train.csv\")"
   ]
  },
  {
   "source": [
    "## Cleaning up the dataframe"
   ],
   "cell_type": "markdown",
   "metadata": {}
  },
  {
   "cell_type": "code",
   "execution_count": 39,
   "metadata": {},
   "outputs": [
    {
     "output_type": "execute_result",
     "data": {
      "text/plain": [
       "                                userId  age gender      registrationDate  \\\n",
       "0      use_XbA1FTDcCrTMNTHK1851TzjyPMP   24      F  2019-10-14T17:33:37Z   \n",
       "1      use_3WHgsMVGSg5MHG2zja91TzdfmY2   67      F  2017-07-25T07:00:31Z   \n",
       "2      use_2SisOiR8QwDaHI4svm11TzcvK7V   45      F  2015-06-25T00:00:00Z   \n",
       "3      use_W0T1LmfKaQPJYD1RTWh1Tzdc69H   35      F  2018-01-31T07:24:39Z   \n",
       "4      use_KwYWZ7UMl4veveOaPGK1TzddtmI   38      F  2016-01-26T11:42:17Z   \n",
       "...                                ...  ...    ...                   ...   \n",
       "11995  use_ICSyEvCcRNPpQeBdWcM1TzdczV8   53      F  2015-03-11T20:03:16Z   \n",
       "11996  use_Q5DNYeSmG7g6VeMV4n71TzeTRRz   43      F  2015-10-10T19:16:19Z   \n",
       "11997  use_rEoce5pc0MlKpndfzNj1Tze3J1L   42      F  2015-05-08T02:59:34Z   \n",
       "11998  use_0AuDL2wOJHy9I16zSC21TzeHRMo   39      M  2019-05-20T11:59:02Z   \n",
       "11999  use_B7F2PfU4eOKBmVc93AU1TzdqFY9   32      F  2017-03-05T12:42:26Z   \n",
       "\n",
       "      languageCode countryCode  emailContactable  postalContactable  \\\n",
       "0               fr         FRA              True               True   \n",
       "1               fr         FRA              True               True   \n",
       "2               fr         FRA              True               True   \n",
       "3               fr         FRA              True               True   \n",
       "4               fr         FRA              True               True   \n",
       "...            ...         ...               ...                ...   \n",
       "11995           fr         FRA              True               True   \n",
       "11996           fr         FRA              True               True   \n",
       "11997           fr         FRA              True               True   \n",
       "11998           fr         FRA              True               True   \n",
       "11999           FR         FRA              True               True   \n",
       "\n",
       "      postalCode numberChildren  ... detergentType MrPropreTrier AntikalTrier  \\\n",
       "0          68540              1  ...        Liquid           NaN          NaN   \n",
       "1          17390              3  ...          Pods   Known Trier  Known Trier   \n",
       "2          30200              1  ...        Liquid           NaN          NaN   \n",
       "3          61400              2  ...          Pods           NaN          NaN   \n",
       "4          30620              0  ...        Liquid   Known Trier  Known Trier   \n",
       "...          ...            ...  ...           ...           ...          ...   \n",
       "11995      77240             4+  ...          Pods           NaN          NaN   \n",
       "11996      45120              0  ...        Liquid           NaN          NaN   \n",
       "11997      35170              3  ...        Liquid           NaN          NaN   \n",
       "11998      45160              1  ...        Liquid           NaN          NaN   \n",
       "11999      37600              3  ...        Liquid           NaN          NaN   \n",
       "\n",
       "        ArielTrier    DashTrier scentLover petOwner ecoInterest  \\\n",
       "0              NaN          NaN    NonUser      Yes         NaN   \n",
       "1      Known Trier          NaN        NaN       No        High   \n",
       "2      Known Trier  Known Trier    NonUser      Yes        High   \n",
       "3      Known Trier  Known Trier        Low      Yes      Medium   \n",
       "4      Known Trier  Known Trier        NaN      Yes         Low   \n",
       "...            ...          ...        ...      ...         ...   \n",
       "11995          NaN          NaN        NaN      Yes         NaN   \n",
       "11996          NaN          NaN        Low      Yes      Medium   \n",
       "11997          NaN          NaN        NaN      Yes        High   \n",
       "11998          NaN          NaN        NaN      Yes         NaN   \n",
       "11999          NaN          NaN    NonUser      Yes        High   \n",
       "\n",
       "          closestShop washDishes  \n",
       "0                 NaN       Auto  \n",
       "1                 NaN       Auto  \n",
       "2                 NaN       Auto  \n",
       "3                 NaN       Hand  \n",
       "4                 NaN       Hand  \n",
       "...               ...        ...  \n",
       "11995             NaN       Auto  \n",
       "11996             NaN       Hand  \n",
       "11997             NaN       Hand  \n",
       "11998             NaN       Auto  \n",
       "11999  3. SuperMarket       Hand  \n",
       "\n",
       "[12000 rows x 23 columns]"
      ],
      "text/html": "<div>\n<style scoped>\n    .dataframe tbody tr th:only-of-type {\n        vertical-align: middle;\n    }\n\n    .dataframe tbody tr th {\n        vertical-align: top;\n    }\n\n    .dataframe thead th {\n        text-align: right;\n    }\n</style>\n<table border=\"1\" class=\"dataframe\">\n  <thead>\n    <tr style=\"text-align: right;\">\n      <th></th>\n      <th>userId</th>\n      <th>age</th>\n      <th>gender</th>\n      <th>registrationDate</th>\n      <th>languageCode</th>\n      <th>countryCode</th>\n      <th>emailContactable</th>\n      <th>postalContactable</th>\n      <th>postalCode</th>\n      <th>numberChildren</th>\n      <th>...</th>\n      <th>detergentType</th>\n      <th>MrPropreTrier</th>\n      <th>AntikalTrier</th>\n      <th>ArielTrier</th>\n      <th>DashTrier</th>\n      <th>scentLover</th>\n      <th>petOwner</th>\n      <th>ecoInterest</th>\n      <th>closestShop</th>\n      <th>washDishes</th>\n    </tr>\n  </thead>\n  <tbody>\n    <tr>\n      <th>0</th>\n      <td>use_XbA1FTDcCrTMNTHK1851TzjyPMP</td>\n      <td>24</td>\n      <td>F</td>\n      <td>2019-10-14T17:33:37Z</td>\n      <td>fr</td>\n      <td>FRA</td>\n      <td>True</td>\n      <td>True</td>\n      <td>68540</td>\n      <td>1</td>\n      <td>...</td>\n      <td>Liquid</td>\n      <td>NaN</td>\n      <td>NaN</td>\n      <td>NaN</td>\n      <td>NaN</td>\n      <td>NonUser</td>\n      <td>Yes</td>\n      <td>NaN</td>\n      <td>NaN</td>\n      <td>Auto</td>\n    </tr>\n    <tr>\n      <th>1</th>\n      <td>use_3WHgsMVGSg5MHG2zja91TzdfmY2</td>\n      <td>67</td>\n      <td>F</td>\n      <td>2017-07-25T07:00:31Z</td>\n      <td>fr</td>\n      <td>FRA</td>\n      <td>True</td>\n      <td>True</td>\n      <td>17390</td>\n      <td>3</td>\n      <td>...</td>\n      <td>Pods</td>\n      <td>Known Trier</td>\n      <td>Known Trier</td>\n      <td>Known Trier</td>\n      <td>NaN</td>\n      <td>NaN</td>\n      <td>No</td>\n      <td>High</td>\n      <td>NaN</td>\n      <td>Auto</td>\n    </tr>\n    <tr>\n      <th>2</th>\n      <td>use_2SisOiR8QwDaHI4svm11TzcvK7V</td>\n      <td>45</td>\n      <td>F</td>\n      <td>2015-06-25T00:00:00Z</td>\n      <td>fr</td>\n      <td>FRA</td>\n      <td>True</td>\n      <td>True</td>\n      <td>30200</td>\n      <td>1</td>\n      <td>...</td>\n      <td>Liquid</td>\n      <td>NaN</td>\n      <td>NaN</td>\n      <td>Known Trier</td>\n      <td>Known Trier</td>\n      <td>NonUser</td>\n      <td>Yes</td>\n      <td>High</td>\n      <td>NaN</td>\n      <td>Auto</td>\n    </tr>\n    <tr>\n      <th>3</th>\n      <td>use_W0T1LmfKaQPJYD1RTWh1Tzdc69H</td>\n      <td>35</td>\n      <td>F</td>\n      <td>2018-01-31T07:24:39Z</td>\n      <td>fr</td>\n      <td>FRA</td>\n      <td>True</td>\n      <td>True</td>\n      <td>61400</td>\n      <td>2</td>\n      <td>...</td>\n      <td>Pods</td>\n      <td>NaN</td>\n      <td>NaN</td>\n      <td>Known Trier</td>\n      <td>Known Trier</td>\n      <td>Low</td>\n      <td>Yes</td>\n      <td>Medium</td>\n      <td>NaN</td>\n      <td>Hand</td>\n    </tr>\n    <tr>\n      <th>4</th>\n      <td>use_KwYWZ7UMl4veveOaPGK1TzddtmI</td>\n      <td>38</td>\n      <td>F</td>\n      <td>2016-01-26T11:42:17Z</td>\n      <td>fr</td>\n      <td>FRA</td>\n      <td>True</td>\n      <td>True</td>\n      <td>30620</td>\n      <td>0</td>\n      <td>...</td>\n      <td>Liquid</td>\n      <td>Known Trier</td>\n      <td>Known Trier</td>\n      <td>Known Trier</td>\n      <td>Known Trier</td>\n      <td>NaN</td>\n      <td>Yes</td>\n      <td>Low</td>\n      <td>NaN</td>\n      <td>Hand</td>\n    </tr>\n    <tr>\n      <th>...</th>\n      <td>...</td>\n      <td>...</td>\n      <td>...</td>\n      <td>...</td>\n      <td>...</td>\n      <td>...</td>\n      <td>...</td>\n      <td>...</td>\n      <td>...</td>\n      <td>...</td>\n      <td>...</td>\n      <td>...</td>\n      <td>...</td>\n      <td>...</td>\n      <td>...</td>\n      <td>...</td>\n      <td>...</td>\n      <td>...</td>\n      <td>...</td>\n      <td>...</td>\n      <td>...</td>\n    </tr>\n    <tr>\n      <th>11995</th>\n      <td>use_ICSyEvCcRNPpQeBdWcM1TzdczV8</td>\n      <td>53</td>\n      <td>F</td>\n      <td>2015-03-11T20:03:16Z</td>\n      <td>fr</td>\n      <td>FRA</td>\n      <td>True</td>\n      <td>True</td>\n      <td>77240</td>\n      <td>4+</td>\n      <td>...</td>\n      <td>Pods</td>\n      <td>NaN</td>\n      <td>NaN</td>\n      <td>NaN</td>\n      <td>NaN</td>\n      <td>NaN</td>\n      <td>Yes</td>\n      <td>NaN</td>\n      <td>NaN</td>\n      <td>Auto</td>\n    </tr>\n    <tr>\n      <th>11996</th>\n      <td>use_Q5DNYeSmG7g6VeMV4n71TzeTRRz</td>\n      <td>43</td>\n      <td>F</td>\n      <td>2015-10-10T19:16:19Z</td>\n      <td>fr</td>\n      <td>FRA</td>\n      <td>True</td>\n      <td>True</td>\n      <td>45120</td>\n      <td>0</td>\n      <td>...</td>\n      <td>Liquid</td>\n      <td>NaN</td>\n      <td>NaN</td>\n      <td>NaN</td>\n      <td>NaN</td>\n      <td>Low</td>\n      <td>Yes</td>\n      <td>Medium</td>\n      <td>NaN</td>\n      <td>Hand</td>\n    </tr>\n    <tr>\n      <th>11997</th>\n      <td>use_rEoce5pc0MlKpndfzNj1Tze3J1L</td>\n      <td>42</td>\n      <td>F</td>\n      <td>2015-05-08T02:59:34Z</td>\n      <td>fr</td>\n      <td>FRA</td>\n      <td>True</td>\n      <td>True</td>\n      <td>35170</td>\n      <td>3</td>\n      <td>...</td>\n      <td>Liquid</td>\n      <td>NaN</td>\n      <td>NaN</td>\n      <td>NaN</td>\n      <td>NaN</td>\n      <td>NaN</td>\n      <td>Yes</td>\n      <td>High</td>\n      <td>NaN</td>\n      <td>Hand</td>\n    </tr>\n    <tr>\n      <th>11998</th>\n      <td>use_0AuDL2wOJHy9I16zSC21TzeHRMo</td>\n      <td>39</td>\n      <td>M</td>\n      <td>2019-05-20T11:59:02Z</td>\n      <td>fr</td>\n      <td>FRA</td>\n      <td>True</td>\n      <td>True</td>\n      <td>45160</td>\n      <td>1</td>\n      <td>...</td>\n      <td>Liquid</td>\n      <td>NaN</td>\n      <td>NaN</td>\n      <td>NaN</td>\n      <td>NaN</td>\n      <td>NaN</td>\n      <td>Yes</td>\n      <td>NaN</td>\n      <td>NaN</td>\n      <td>Auto</td>\n    </tr>\n    <tr>\n      <th>11999</th>\n      <td>use_B7F2PfU4eOKBmVc93AU1TzdqFY9</td>\n      <td>32</td>\n      <td>F</td>\n      <td>2017-03-05T12:42:26Z</td>\n      <td>FR</td>\n      <td>FRA</td>\n      <td>True</td>\n      <td>True</td>\n      <td>37600</td>\n      <td>3</td>\n      <td>...</td>\n      <td>Liquid</td>\n      <td>NaN</td>\n      <td>NaN</td>\n      <td>NaN</td>\n      <td>NaN</td>\n      <td>NonUser</td>\n      <td>Yes</td>\n      <td>High</td>\n      <td>3. SuperMarket</td>\n      <td>Hand</td>\n    </tr>\n  </tbody>\n</table>\n<p>12000 rows × 23 columns</p>\n</div>"
     },
     "metadata": {},
     "execution_count": 39
    }
   ],
   "source": [
    "df"
   ]
  },
  {
   "source": [
    "Get unique count for each variable"
   ],
   "cell_type": "markdown",
   "metadata": {}
  },
  {
   "cell_type": "code",
   "execution_count": 40,
   "metadata": {},
   "outputs": [
    {
     "output_type": "execute_result",
     "data": {
      "text/plain": [
       "userId               12000\n",
       "age                     74\n",
       "gender                   2\n",
       "registrationDate      9875\n",
       "languageCode             2\n",
       "countryCode              1\n",
       "emailContactable         2\n",
       "postalContactable        2\n",
       "postalCode            3794\n",
       "numberChildren          10\n",
       "lastActivityDate     12000\n",
       "reactivationValue        5\n",
       "toothBrushType           2\n",
       "detergentType           10\n",
       "MrPropreTrier            1\n",
       "AntikalTrier             1\n",
       "ArielTrier               1\n",
       "DashTrier                1\n",
       "scentLover               4\n",
       "petOwner                 9\n",
       "ecoInterest              4\n",
       "closestShop              6\n",
       "washDishes               2\n",
       "dtype: int64"
      ]
     },
     "metadata": {},
     "execution_count": 40
    }
   ],
   "source": [
    "df.nunique()"
   ]
  },
  {
   "source": [
    "Check variable data type"
   ],
   "cell_type": "markdown",
   "metadata": {}
  },
  {
   "cell_type": "code",
   "execution_count": 41,
   "metadata": {},
   "outputs": [
    {
     "output_type": "execute_result",
     "data": {
      "text/plain": [
       "userId               object\n",
       "age                   int64\n",
       "gender               object\n",
       "registrationDate     object\n",
       "languageCode         object\n",
       "countryCode          object\n",
       "emailContactable       bool\n",
       "postalContactable      bool\n",
       "postalCode           object\n",
       "numberChildren       object\n",
       "lastActivityDate     object\n",
       "reactivationValue    object\n",
       "toothBrushType       object\n",
       "detergentType        object\n",
       "MrPropreTrier        object\n",
       "AntikalTrier         object\n",
       "ArielTrier           object\n",
       "DashTrier            object\n",
       "scentLover           object\n",
       "petOwner             object\n",
       "ecoInterest          object\n",
       "closestShop          object\n",
       "washDishes           object\n",
       "dtype: object"
      ]
     },
     "metadata": {},
     "execution_count": 41
    }
   ],
   "source": [
    "df.dtypes"
   ]
  },
  {
   "source": [
    "We can remove the `languageCode` and `countryCode` column as they are constant"
   ],
   "cell_type": "markdown",
   "metadata": {}
  },
  {
   "cell_type": "code",
   "execution_count": 42,
   "metadata": {},
   "outputs": [
    {
     "output_type": "execute_result",
     "data": {
      "text/plain": [
       "True"
      ]
     },
     "metadata": {},
     "execution_count": 42
    }
   ],
   "source": [
    "df[~df.languageCode.isin(['fr', 'FR'])].empty and df[~df.countryCode.eq('FRA')].empty"
   ]
  },
  {
   "cell_type": "code",
   "execution_count": 43,
   "metadata": {},
   "outputs": [],
   "source": [
    "df = df.drop(columns=['languageCode', 'countryCode'])"
   ]
  },
  {
   "source": [
    "We will also remove the `registrationDate`, `reactivationValue`, `emailContactable` and `postalContactable` as they are irrelevant. `postalCode` as it will be to hard to analyse."
   ],
   "cell_type": "markdown",
   "metadata": {}
  },
  {
   "cell_type": "code",
   "execution_count": 44,
   "metadata": {},
   "outputs": [],
   "source": [
    "df = df.drop(columns=['registrationDate', 'reactivationValue', 'emailContactable', 'postalContactable', 'postalCode'])"
   ]
  },
  {
   "source": [
    "We are going to replace the `washDishes` `STRING` column with an `INT` column"
   ],
   "cell_type": "markdown",
   "metadata": {}
  },
  {
   "cell_type": "code",
   "execution_count": 45,
   "metadata": {},
   "outputs": [],
   "source": [
    "df[\"washDishes\"] = df[\"washDishes\"].apply(lambda e: 1 if e == 'Auto' else -1)"
   ]
  },
  {
   "source": [
    "In the `MrPropreTrier`, `AntikalTrier`, `ArielTrier`, `DashTrier` we will replace `Known Trier` with `1` and `Nan` with `-1`"
   ],
   "cell_type": "markdown",
   "metadata": {}
  },
  {
   "cell_type": "code",
   "execution_count": 46,
   "metadata": {},
   "outputs": [],
   "source": [
    "for c in ['MrPropreTrier', 'AntikalTrier', 'ArielTrier', 'DashTrier']:\n",
    "    df[c[:-5]] = df.apply(lambda row: 1 if row[c] == 'Known Trier' else -1, axis=1)\n",
    "    df = df.drop(columns=[c])"
   ]
  },
  {
   "source": [
    "We will replace `detergentType` by `liquid`, `pods` and `powder` "
   ],
   "cell_type": "markdown",
   "metadata": {}
  },
  {
   "cell_type": "code",
   "execution_count": 47,
   "metadata": {},
   "outputs": [],
   "source": [
    "# pods\n",
    "df['pods'] = df['detergentType'].apply(lambda e: 1 if pd.notna(e) and 'Pods' in e else -1)\n",
    "\n",
    "# powder\n",
    "df['powder'] = df['detergentType'].apply(lambda e: 1 if pd.notna(e) and 'Powder' in e else -1)\n",
    "\n",
    "# liquid\n",
    "df['liquid'] = df['detergentType'].apply(lambda e: 1 if pd.notna(e) and 'Liquid' in e else -1)\n",
    "\n",
    "# removes extra column\n",
    "df = df.drop(columns=['detergentType']) "
   ]
  },
  {
   "source": [
    "Replacing `toothBrushType` with `electricToothbrush`"
   ],
   "cell_type": "markdown",
   "metadata": {}
  },
  {
   "cell_type": "code",
   "execution_count": 48,
   "metadata": {},
   "outputs": [],
   "source": [
    "df['electricToothbrush'] = df.apply(lambda row: 1 if row['toothBrushType'] == 'Electric' else -1, axis=1)\n",
    "df = df.drop(columns=['toothBrushType'])"
   ]
  },
  {
   "source": [
    "Replacing `petOwner` with `hasPet`, if the first 3 characters are 'Yes' or 'Oui' the value is `1`, else it is `-1`"
   ],
   "cell_type": "markdown",
   "metadata": {}
  },
  {
   "cell_type": "code",
   "execution_count": 49,
   "metadata": {},
   "outputs": [],
   "source": [
    "def likesPets(s:str) -> float:\n",
    "    if s in ['Yes, we love our furry friends', \"Oui, j'adore nos petites boules de poils !\"]: \n",
    "        return 1\n",
    "\n",
    "    if s in ['Yes']: \n",
    "        return 0.9\n",
    "\n",
    "    if s in [\"Non, j'aime les animaux, mais je n'en ai pas pour le moment.\", 'No, we love animals but no pets here for now']:   \n",
    "        return 0.8\n",
    "    \n",
    "    if s in ['No - maybe future']:\n",
    "        return 0.5\n",
    "\n",
    "    if s in ['No']:\n",
    "        return 0.3\n",
    "\n",
    "    if s in ['Des animaux dans la maison ? Non merci !', \"No, we'd never have pets in the house\"]:\n",
    "        return 0\n",
    "\n",
    "# creating a new column for animal lovers\n",
    "df['likesPets'] = df['petOwner'].apply(likesPets)\n",
    "\n",
    "# creating a new column for pet owners\n",
    "df['hasPet'] = df['petOwner'].apply(lambda e: 1 if str(e)[:3] == 'Yes' or str(e)[:3] == 'Oui' else -1)\n",
    "\n",
    "df = df.drop(columns=['petOwner'])"
   ]
  },
  {
   "source": [
    "Transforms a `ISO 8601` time string to the amount of days since the time string"
   ],
   "cell_type": "markdown",
   "metadata": {}
  },
  {
   "cell_type": "code",
   "execution_count": 50,
   "metadata": {},
   "outputs": [],
   "source": [
    "def timeStringToDelta(timeString: str) -> int:\n",
    "    if pd.isna(timeString): return None\n",
    "    return int((datetime.utcnow().timestamp() - datetime.strptime(timeString[:10], \"%Y-%m-%d\").timestamp()) / 3600 / 24)"
   ]
  },
  {
   "source": [
    "Replaces `lastActivityDate` with `daysSinceActivity`: an `integer` representing the amount of ellapsed days since last activity"
   ],
   "cell_type": "markdown",
   "metadata": {}
  },
  {
   "cell_type": "code",
   "execution_count": 51,
   "metadata": {},
   "outputs": [],
   "source": [
    "df['daysSinceActivity'] = df['lastActivityDate'].apply(timeStringToDelta)\n",
    "\n",
    "# normalizess the new column\n",
    "minV = df['daysSinceActivity'].min()\n",
    "maxV = df['daysSinceActivity'].max()\n",
    "df['daysSinceActivity'] = df['daysSinceActivity'].apply(lambda e: (e - minV) / (maxV - minV))\n",
    "\n",
    "# replaces Nan by the avg\n",
    "df['daysSinceActivity'].fillna(df['daysSinceActivity'].mean(skipna=True))\n",
    "\n",
    "# removes the extra column\n",
    "df = df.drop(columns=['lastActivityDate'])"
   ]
  },
  {
   "source": [
    "Replaces `age` with a normalized column"
   ],
   "cell_type": "markdown",
   "metadata": {}
  },
  {
   "cell_type": "code",
   "execution_count": 52,
   "metadata": {},
   "outputs": [
    {
     "output_type": "execute_result",
     "data": {
      "text/plain": [
       "0        0.077922\n",
       "1        0.636364\n",
       "2        0.350649\n",
       "3        0.220779\n",
       "4        0.259740\n",
       "           ...   \n",
       "11995    0.454545\n",
       "11996    0.324675\n",
       "11997    0.311688\n",
       "11998    0.272727\n",
       "11999    0.181818\n",
       "Name: age, Length: 12000, dtype: float64"
      ]
     },
     "metadata": {},
     "execution_count": 52
    }
   ],
   "source": [
    "# normalizess the new column\n",
    "minV = df['age'].min()\n",
    "maxV = df['age'].max()\n",
    "df['age'] = df['age'].apply(lambda e: (e - minV) / (maxV - minV))\n",
    "\n",
    "# replaces Nan by the avg\n",
    "df['age'].fillna(df['age'].mean(skipna=True))"
   ]
  },
  {
   "source": [
    "The possible values for `numberChildren` are `'1'`, `'2'`, `'3'`, `'4'`, `'4+'` and `'NaN'`. We will be creating a column `nbChildren` of type `int` where `'NaN'` will be mapped to `None`."
   ],
   "cell_type": "markdown",
   "metadata": {}
  },
  {
   "cell_type": "code",
   "execution_count": 53,
   "metadata": {
    "tags": []
   },
   "outputs": [],
   "source": [
    "def childrenMagik(children: str) -> float:\n",
    "    if children == '0': return 0\n",
    "    if children == '1': return 1 / 5\n",
    "    if children == '2': return 2 / 5\n",
    "    if children == '3': return 3 / 5\n",
    "    if children == '4': return 4 / 5\n",
    "    if children == '4+': return 1\n",
    "    return None\n",
    "\n",
    "df['nbChildren'] = df['numberChildren'].apply(childrenMagik)\n",
    "\n",
    "# Replacing nan with the avg\n",
    "df['nbChildren'] = df['nbChildren'].fillna(df['nbChildren'].mean(skipna=True))\n",
    "\n",
    "df = df.drop(columns=['numberChildren'])"
   ]
  },
  {
   "source": [
    "Replaces `F` with `1` and `M` with `-1` in the `gender` column"
   ],
   "cell_type": "markdown",
   "metadata": {}
  },
  {
   "cell_type": "code",
   "execution_count": 54,
   "metadata": {},
   "outputs": [],
   "source": [
    "df['gender'] = df['gender'].apply(lambda e: 1 if e == \"F\" else -1)"
   ]
  },
  {
   "source": [
    "Changes `ecoInterest` replacing `High`, `Medium`, `Low`, `Very high` with a scale going from `0` to `1`. We the replace `nan` with the avg."
   ],
   "cell_type": "markdown",
   "metadata": {}
  },
  {
   "cell_type": "code",
   "execution_count": 55,
   "metadata": {},
   "outputs": [],
   "source": [
    "def textScaleToFloat(s:str) -> float:\n",
    "    if s == 'Very high': return 1\n",
    "    if s == 'High': return 2 / 3\n",
    "    if s == 'Medium': return 1 / 3\n",
    "    if s == 'Low': return 0\n",
    "    return None\n",
    "\n",
    "# replaces the 'normal' values with floats\n",
    "df['ecoInterest'] = df['ecoInterest'].apply(textScaleToFloat)\n",
    "\n",
    "# replaces the nan with the avg\n",
    "df['ecoInterest'] = df['ecoInterest'].fillna(df['ecoInterest'].mean(skipna=True))"
   ]
  },
  {
   "source": [
    "Changes `scentLover` replacing `NonUser`, `Low`, `Medium`, `High` with a scale going from 0 to 1. We the replace `nan` with the avg."
   ],
   "cell_type": "markdown",
   "metadata": {}
  },
  {
   "cell_type": "code",
   "execution_count": 56,
   "metadata": {},
   "outputs": [],
   "source": [
    "def textScaleToFloat(s:str) -> float:\n",
    "    if s == 'High': return 1\n",
    "    if s == 'Medium': return 2 / 3\n",
    "    if s == 'Low': return 1 / 3\n",
    "    if s == 'NonUser': return 0\n",
    "    return None\n",
    "\n",
    "# replaces the 'normal' values with floats\n",
    "df['scentLover'] = df['scentLover'].apply(textScaleToFloat)\n",
    "\n",
    "# replaces the nan with the avg\n",
    "df['scentLover'] = df['scentLover'].fillna(df['scentLover'].mean(skipna=True))"
   ]
  },
  {
   "source": [
    "Handles the closest shop"
   ],
   "cell_type": "markdown",
   "metadata": {}
  },
  {
   "cell_type": "code",
   "execution_count": 57,
   "metadata": {},
   "outputs": [],
   "source": [
    "df['magasin']           = df['closestShop'].apply(lambda e: 1 if e =='1. Magasin de Proximit�' else -1)\n",
    "df['moyenneSurface']    = df['closestShop'].apply(lambda e: 1 if e =='2. Moyenne Surface' else -1)\n",
    "df['superMarket']       = df['closestShop'].apply(lambda e: 1 if e =='3. SuperMarket' else -1)\n",
    "df['hyperMarket']       = df['closestShop'].apply(lambda e: 1 if e =='4. HyperMarket' else -1)\n",
    "df['drive']             = df['closestShop'].apply(lambda e: 1 if e =='5. Drive' else -1)\n",
    "df['hardDiscount']      = df['closestShop'].apply(lambda e: 1 if e =='6. Hard Discounter' else -1)\n",
    "\n",
    "# removes extra column\n",
    "df = df.drop(columns=['closestShop'])"
   ]
  },
  {
   "cell_type": "code",
   "execution_count": 58,
   "metadata": {},
   "outputs": [],
   "source": [
    "df.to_csv('./DS_CentraleSupelec_ST42021/clean.csv')  "
   ]
  },
  {
   "source": [
    "# Using consumeractions data set"
   ],
   "cell_type": "markdown",
   "metadata": {}
  },
  {
   "source": [
    "In order to have more information about customers, we are going to add features, using the data set \"consumer actions\"\n"
   ],
   "cell_type": "markdown",
   "metadata": {}
  },
  {
   "cell_type": "code",
   "execution_count": 59,
   "metadata": {},
   "outputs": [
    {
     "output_type": "execute_result",
     "data": {
      "text/plain": [
       "array(['Product Reviewed', 'Email Clicked', 'Email Opened',\n",
       "       'Request Coupon Add To Basket', 'Coupon Redemption',\n",
       "       'Request Coupon Print', 'Search Site'], dtype=object)"
      ]
     },
     "metadata": {},
     "execution_count": 59
    }
   ],
   "source": [
    "#Let's get the csv consumer_actions\n",
    "df_consumer_actions = pd.read_csv(r\"DS_CentraleSupelec_ST42021/DS_CentraleSupelec_consumeractions.csv\")\n",
    "\n",
    "#Let's check the possible values for 'event'\n",
    "df_consumer_actions.event.unique()\n",
    "\n"
   ]
  },
  {
   "cell_type": "code",
   "execution_count": 60,
   "metadata": {},
   "outputs": [
    {
     "output_type": "execute_result",
     "data": {
      "text/plain": [
       "array(['Fairy PEPS Platinum+ Tout-en-1', nan, 'Ariel', 'Lenor', 'Febreze',\n",
       "       'Dash 2 in 1', 'Head & Shoulders', 'Dash', 'Minor Brands',\n",
       "       'Mr. Propre Gomme Magique',\n",
       "       'Balai Swiffer avec lingettes sèches et humides',\n",
       "       'Head&Shoulders Anti-Démangeaisons',\n",
       "       'Head & Shoulders Citrus Fresh',\n",
       "       'Lingettes humides Swiffer pour le sol',\n",
       "       \"Febreze Plaisir d'Air Fleur de Vanille\",\n",
       "       'Ariel Simply Fraîcheur Marseille et Aloe Vera',\n",
       "       'Dash Allin1 Pods Caresse Aérienne', 'Satin Care', 'Swiffer',\n",
       "       'Couches Pampers® Baby-Dry™', 'Mr Proper', 'Oral-B Power',\n",
       "       'Antikal Classic Spray', 'Jolly', 'Oral-B Manual', 'Fixodent',\n",
       "       'Always', 'Aussie', 'Tampax', 'Antikal', 'Herbal Essences',\n",
       "       'ZzzQuil™ SOMMEIL',\n",
       "       'Mr. Propre Ultra Power Liquide Multi-Surfaces',\n",
       "       'Lenor 0% Colorant Aloe Vera', 'Fairy PEPS Tout-en-1 Plus',\n",
       "       \"Dash 2en1 Liquide La Collection Envolée d'Air\",\n",
       "       'Ariel Allin1 Pods Alpine', 'Febreze Textile Lenor La Collection',\n",
       "       'Balai Swiffer 3D Clean', 'Pampers',\n",
       "       'Febreze Petit Coin et Salle de Bains',\n",
       "       'Dash Allin1 Pods La Collection Bouquet Mystère',\n",
       "       'Lenor La Collection Divine Envie',\n",
       "       'Baume VapoEnfant RecommandÃ© par Vicks',\n",
       "       'Balai Spray Swiffer WetJet Wood', 'Febreze Textile Désinfectant',\n",
       "       'Balai Swiffer', 'Always Discreet Boutique Serviettes',\n",
       "       'Lenor La Collection Bouquet Mystère', 'Spray Propreté Mr Propre',\n",
       "       'Always Discreet Boutique Culottes',\n",
       "       'Ariel Simply Bouquet Provençal',\n",
       "       \"Lenor La Collection Envolée d'Air\",\n",
       "       \"Lenor Parfum de linge - Envolée d'air Frais\",\n",
       "       'Couches-Culottes Pampers® Premium Protection™ Pants',\n",
       "       'Always Discreet Culottes', 'Gel à raser Gillette Skinguard',\n",
       "       'Always Dailies Singles to go Protège-slips',\n",
       "       'Dash Allin1 Pods Caresse Provençale', 'Oral-B Sensi UltraThin',\n",
       "       'Mr. Propre Collection Tradition Bicarbonate de Soude',\n",
       "       'Oral-B Sensibilité & Gencives Calm Blancheur',\n",
       "       'Always Discreet Boutique Culottes Taille Basse',\n",
       "       \"Ariel d'origine végétale\",\n",
       "       'Oral-B 3D White Whitening Therapy Protection Émail',\n",
       "       'Ariel Poudre Original', 'Balai Spray Swiffer Wetjet',\n",
       "       'Mr. Propre Ultra Power Spray Multi-Usages',\n",
       "       'Always Discreet Protège-slips',\n",
       "       'Fixodent Pro Professional Notre Meilleure Crème Adhésive ',\n",
       "       'Fixodent Original Fixation Extra Forte', 'Ariel Professional',\n",
       "       'Febreze Textile Rosée du Matin',\n",
       "       'Lenor Souffle Précieux - Parfum de linge',\n",
       "       'Fixodent Pro Soin neutre',\n",
       "       'Venus Smooth Sensitive avec SkinElixir',\n",
       "       'Oral-B Vitality Pro Timer',\n",
       "       'Always Discreet Boutique Culottes Noires', 'Venus Swirl',\n",
       "       'Baume VapoEnfant recommandé par Vicks',\n",
       "       'Oral-B 3D White Arctic Fresh', 'Braun FaceSpa Pro',\n",
       "       'Always Maxi Night serviettes hygiéniques avec ailettes',\n",
       "       'Always Cotton Protection Normal Serviettes avec Ailettes',\n",
       "       'Aussie Huile 3 Miracle Reconstructor', 'Lenor Caresse Provençale',\n",
       "       'Lenor Caresse Aérienne', 'Lenor La Collection Coup De Foudre',\n",
       "       'Plumeau Swiffer 3d Clean', 'Lingettes sèches Swiffer 3D Clean',\n",
       "       'Fixodent Pro Soin confort', 'Venus Embrace',\n",
       "       'Always Platinum Secure Night Serviettes Hygiéniques ',\n",
       "       'Always Dailies Fresh & Protect Protège-slips',\n",
       "       'Lenor 0% Colorant Fleur de Japon',\n",
       "       'Couches Pampers® Premium Protection™',\n",
       "       \"Dash Allin1 Pods La Collection Envolée d'Air\",\n",
       "       'Dash 2en1 Liquide La Collection Bouquet Mystère',\n",
       "       'Bion®3 Énergie Continue ', 'Aussie Aussome Volume Shampoing ',\n",
       "       'Head &amp; Shoulders Intense Hydration Shampooing',\n",
       "       'Lingettes Pampers® Sensitive',\n",
       "       'Recharge Plumeau Swiffer 3D Clean',\n",
       "       'Lenor Unstoppables Tropiques',\n",
       "       'Mr. Propre Nettoyant Liquide Multi-Usages',\n",
       "       'Oral-B Gencives Purify nettoyage intense',\n",
       "       'Ariel Allin1 Pods+ Lenor Unstoppables Lavender',\n",
       "       'Oral-B 3D White Whitening Therapy Charbon Nettoyage Intense',\n",
       "       'Oral-B Répare Gencives & Émail Nettoyage en Douceur',\n",
       "       'Ariel Allin1 Pods Original', 'Plumeau Swiffer Duster XXL',\n",
       "       'Antikal Spray Vinaigre', 'Ariel Allin1 Pods  Ultra',\n",
       "       'Plumeau Swiffer avec la fraîcheur de Febreze ',\n",
       "       'Always Ultra Secure Night Serviettes Hygiéniques',\n",
       "       \"Herbal Essences Huile capillaire Huile d'Argan et Aloe Vera\",\n",
       "       'Bion®3 Défense ', 'Lenor Unstoppables Songes',\n",
       "       'jolly Crème dépilatoire pour le corps',\n",
       "       'Bion<sup>®</sup>3 Défense',\n",
       "       'Herbal Essences pure Lait de Coco Après-Shamp.',\n",
       "       'Always Ultra Normal Serviettes Hygiéniques',\n",
       "       'Antikal 3en1 Salle de Bains Spray',\n",
       "       'Shampooing Head & Shoulders Réparation et Soin',\n",
       "       'Aussie Pure Miracle Volume Mousse Après-Shampoing',\n",
       "       'Ariel Liquide Alpine', 'Ariel Liquide Febreze',\n",
       "       'Febreze Lavande Au Clair De Lune Spray Désodorisant',\n",
       "       'Always Ultra Long Serviettes Hygiéniques',\n",
       "       'Head&Shoulders Suprême Réparation Après-shampooing',\n",
       "       'Ariel Liquide Ultra', 'Couches Pampers® Harmonie™',\n",
       "       'Oral-B 3D White Whitening Therapy Dents Sensibles',\n",
       "       'Head&Shoulders Sensitive Shampooing Antipelliculaire 2\\xa0En\\xa01',\n",
       "       'Tampax Cotton Protection avec applicateur',\n",
       "       'Lenor La Collection Souffle Précieux',\n",
       "       'Lenor Unstoppables Aérien',\n",
       "       'Dash 2en1 Liquide La Collection Divine Envie',\n",
       "       'Couches-Culottes Pampers® Baby-Dry™ Pants',\n",
       "       'Lenor Inspiré par la Nature Lavande', 'Lenor Unstoppables Active',\n",
       "       'Lenor Unstoppables - Active', 'TAMPAX Pearl Compak Tampons',\n",
       "       'Ariel Liquide Original', 'Ariel Allin1 Pods+ Active',\n",
       "       'Venus lames de rasoir', 'Venus ComfortGlide Breeze',\n",
       "       'Ariel Allin1 Pods+ Lenor Unstoppables Air',\n",
       "       'Fixodent Plus Anti-particules',\n",
       "       'Febreze Textile Fruits du Soleil',\n",
       "       \"Herbal Essences pure Huile d'Argan du Maroc Shampooing\",\n",
       "       'Oral-B Sensibilité &amp; Gencives Calm Original',\n",
       "       'Febreze Petit Coin et Salle de Bain',\n",
       "       'jolly Bandes de cire pour le corps',\n",
       "       'Ariel Allin1 Pods Fresh Sensations', 'Braun Silk-épil 9',\n",
       "       'Oral-B PureActiv Soin Émail',\n",
       "       \"Febreze ZERO% 300ml Mandarine Brume d'Air et Textile\",\n",
       "       \"Herbal Essences pure masque Huile d'Argan réparation\",\n",
       "       'Always Platinum Secure Night Serviettes Hygiéniques',\n",
       "       'jolly Rasoir Turquoise', 'Ariel Allin1 Pods+ Ultra',\n",
       "       'Oral-B Genius 8000 Brosse À Dents Électrique',\n",
       "       'Dash Allin1 Pods Caresse Peaux Sensibles',\n",
       "       'Always Platinum Normal Plus Serviettes Hygiéniques',\n",
       "       'Dash 2en1 Liquide La Collection Coup de Foudre',\n",
       "       'Always Dailies Cotton Protection Normal Protège-slips',\n",
       "       'Ariel Liquide+ Active',\n",
       "       'Venus Smooth Sensitive lames de rasoir avec SkinElixir',\n",
       "       'Head &amp; Shoulders Citrus Fresh',\n",
       "       'Dash Allin1 Pods La Collection Coup de Foudre',\n",
       "       \"Febreze ZERO% 300ml Bambou Brume d'Air et Textile\",\n",
       "       'Bion<sup>®</sup>3 Énergie Continue',\n",
       "       'jolly Bandes de cire pour le visage', 'Oral-B Smart 4 4000',\n",
       "       'Always Dailies Extra Protect Protège-slips',\n",
       "       'Always Ultra Night Serviettes Hygiéniques',\n",
       "       'Head&amp;Shoulders Anti-Démangeaisons', 'Plumeau Swiffer Duster',\n",
       "       'Mr Propre', 'jolly Bandes de cire pour le maillot',\n",
       "       'Antikal Classic Gel\\t\\t\\t',\n",
       "       \"Dash 3en1 Pods La Collection Envolée d'Air\",\n",
       "       'Ariel Liquide Fresh Sensations',\n",
       "       'Head&Shoulders Suprême Shampooing Réparation',\n",
       "       'Lingettes Pampers® Aqua Harmonie',\n",
       "       \"Febreze Plaisir d'Air Thai Orchidée\", 'Ariel Liquide Color',\n",
       "       'Antikal Fresh Spray',\n",
       "       'Head&Shoulders Suprême Hydratation Shampooing'], dtype=object)"
      ]
     },
     "metadata": {},
     "execution_count": 60
    }
   ],
   "source": [
    "df_consumer_actions.brandName.unique()"
   ]
  },
  {
   "cell_type": "code",
   "execution_count": 61,
   "metadata": {},
   "outputs": [],
   "source": [
    "### First step : we will determine if a user has had an action related to the product 'Fairy PEPS'. We have seen in the list of brands that Fairy PEPS can be written 'Fairy PEPS Platinum+ Tout-en-1' or 'Fairy PEPS Tout-en-1 Plus'"
   ]
  },
  {
   "cell_type": "code",
   "execution_count": 62,
   "metadata": {},
   "outputs": [],
   "source": [
    "#Let's create target text\n",
    "target_brand1 = 'Fairy PEPS Platinum+ Tout-en-1'\n",
    "target_brand2 = 'Fairy PEPS Tout-en-1 Plus'"
   ]
  },
  {
   "cell_type": "code",
   "execution_count": 63,
   "metadata": {},
   "outputs": [],
   "source": [
    "#We want to test if the brandName related to each action is Fairy PEPS\n",
    "bool1 = df_consumer_actions['brandName']== target_brand1\n",
    "bool2 = df_consumer_actions['brandName']== target_brand2\n",
    "bool3 = df_consumer_actions['brandName2']== target_brand1\n",
    "bool4 = df_consumer_actions['brandName2']== target_brand2\n",
    "\n",
    "df_consumer_actions['brandName_bool'] = bool1 | bool2\n",
    "df_consumer_actions['brandName2_bool'] = bool3 | bool4 \n",
    "\n",
    "#Let's create a new column for each row telling us if the brandname 1 or 2 of the email was FairyPEPS\n",
    "df_consumer_actions['brand'] = df_consumer_actions['brandName_bool'] | df_consumer_actions['brandName2_bool']\n",
    "#We want it in the 1 or -1 format\n",
    "df_consumer_actions['brand'] = df_consumer_actions.apply(lambda row: 1 if row['brand'] else -1, axis=1)\n",
    "\n",
    "\n"
   ]
  },
  {
   "cell_type": "code",
   "execution_count": 64,
   "metadata": {},
   "outputs": [
    {
     "output_type": "execute_result",
     "data": {
      "text/plain": [
       "                                  userId             event  \\\n",
       "0        use_bw7Dd2MM9RLPaulrFsQ1TzdmFsi  Product Reviewed   \n",
       "1        use_bw7Dd2MM9RLPaulrFsQ1TzdmFsi     Email Clicked   \n",
       "2        use_bw7Dd2MM9RLPaulrFsQ1TzdmFsi      Email Opened   \n",
       "3        use_bw7Dd2MM9RLPaulrFsQ1TzdmFsi      Email Opened   \n",
       "4        use_bw7Dd2MM9RLPaulrFsQ1TzdmFsi      Email Opened   \n",
       "...                                  ...               ...   \n",
       "1172500  use_sLe3AqB7h7jlypX6JmC1TzdphFJ      Email Opened   \n",
       "1172501  use_fLS7y8W7sAXSCohYlWi1TzdXPjQ      Email Opened   \n",
       "1172502  use_YyWKhnJXM3bUmsc66TA1TzdcFXm      Email Opened   \n",
       "1172503  use_8th6Vk4n1QZDcXwBfU41TzdfDDF      Email Opened   \n",
       "1172504  use_7IOHjF4piNqadzKbaZ41TzeNx4r      Email Opened   \n",
       "\n",
       "                        originalTimestamp                       brandName  \\\n",
       "0        2021-05-13 22:57:44.182000+00:00  Fairy PEPS Platinum+ Tout-en-1   \n",
       "1               2021-05-06 20:36:14+00:00                             NaN   \n",
       "2               2020-09-17 19:35:13+00:00                             NaN   \n",
       "3               2020-10-23 06:18:35+00:00                             NaN   \n",
       "4               2021-05-10 19:50:41+00:00                             NaN   \n",
       "...                                   ...                             ...   \n",
       "1172500         2020-12-01 12:19:38+00:00                             NaN   \n",
       "1172501         2020-08-04 07:46:36+00:00                             NaN   \n",
       "1172502         2020-11-05 15:49:48+00:00                             NaN   \n",
       "1172503         2020-12-04 10:02:03+00:00                             NaN   \n",
       "1172504         2020-12-08 07:18:25+00:00                             NaN   \n",
       "\n",
       "        brandName2                                        subjectLine  \\\n",
       "0              NaN     Fairy PEPS Platinum+ Tout-en-1 | Envie de Plus   \n",
       "1              NaN  Lenor vous fait une fleur <%${user['FirstName'...   \n",
       "2              NaN                         Ariel Pods x Whirlpool = 💝   \n",
       "3              NaN         Bye-bye la grisaille, bonjour la couleur 🍂   \n",
       "4              NaN       Il faut qu’on parle <%${user['FirstName']}%>   \n",
       "...            ...                                                ...   \n",
       "1172500        NaN  Jusqu'à 85 € de réductions* avec les Jours en ...   \n",
       "1172501        NaN             Envie de... faire une bonne action ? 🤲   \n",
       "1172502        NaN               Votre surprise pour une peau nette 🎁   \n",
       "1172503        NaN  🖤 Profitez de vos marques préférées avec le Bl...   \n",
       "1172504        NaN  Top départ pour remporter l’un de nos 100 coff...   \n",
       "\n",
       "                                                       url keyword  \\\n",
       "0        https://www.enviedeplus.com/marques/fairy/fair...     NaN   \n",
       "1        https://www.enviedeplus.com/50-euros-chez-truf...     NaN   \n",
       "2                                                      NaN     NaN   \n",
       "3                                                      NaN     NaN   \n",
       "4                                                      NaN     NaN   \n",
       "...                                                    ...     ...   \n",
       "1172500                                                NaN     NaN   \n",
       "1172501                                                NaN     NaN   \n",
       "1172502                                                NaN     NaN   \n",
       "1172503                                                NaN     NaN   \n",
       "1172504                                                NaN     NaN   \n",
       "\n",
       "         couponRedemptionDate  brandName_bool  brandName2_bool  brand  \\\n",
       "0                         NaN            True            False      1   \n",
       "1                         NaN           False            False     -1   \n",
       "2                         NaN           False            False     -1   \n",
       "3                         NaN           False            False     -1   \n",
       "4                         NaN           False            False     -1   \n",
       "...                       ...             ...              ...    ...   \n",
       "1172500                   NaN           False            False     -1   \n",
       "1172501                   NaN           False            False     -1   \n",
       "1172502                   NaN           False            False     -1   \n",
       "1172503                   NaN           False            False     -1   \n",
       "1172504                   NaN           False            False     -1   \n",
       "\n",
       "         level_of_interest_about_marketing  \n",
       "0                                      0.8  \n",
       "1                                      0.4  \n",
       "2                                      0.2  \n",
       "3                                      0.2  \n",
       "4                                      0.2  \n",
       "...                                    ...  \n",
       "1172500                                0.2  \n",
       "1172501                                0.2  \n",
       "1172502                                0.2  \n",
       "1172503                                0.2  \n",
       "1172504                                0.2  \n",
       "\n",
       "[1172505 rows x 13 columns]"
      ],
      "text/html": "<div>\n<style scoped>\n    .dataframe tbody tr th:only-of-type {\n        vertical-align: middle;\n    }\n\n    .dataframe tbody tr th {\n        vertical-align: top;\n    }\n\n    .dataframe thead th {\n        text-align: right;\n    }\n</style>\n<table border=\"1\" class=\"dataframe\">\n  <thead>\n    <tr style=\"text-align: right;\">\n      <th></th>\n      <th>userId</th>\n      <th>event</th>\n      <th>originalTimestamp</th>\n      <th>brandName</th>\n      <th>brandName2</th>\n      <th>subjectLine</th>\n      <th>url</th>\n      <th>keyword</th>\n      <th>couponRedemptionDate</th>\n      <th>brandName_bool</th>\n      <th>brandName2_bool</th>\n      <th>brand</th>\n      <th>level_of_interest_about_marketing</th>\n    </tr>\n  </thead>\n  <tbody>\n    <tr>\n      <th>0</th>\n      <td>use_bw7Dd2MM9RLPaulrFsQ1TzdmFsi</td>\n      <td>Product Reviewed</td>\n      <td>2021-05-13 22:57:44.182000+00:00</td>\n      <td>Fairy PEPS Platinum+ Tout-en-1</td>\n      <td>NaN</td>\n      <td>Fairy PEPS Platinum+ Tout-en-1 | Envie de Plus</td>\n      <td>https://www.enviedeplus.com/marques/fairy/fair...</td>\n      <td>NaN</td>\n      <td>NaN</td>\n      <td>True</td>\n      <td>False</td>\n      <td>1</td>\n      <td>0.8</td>\n    </tr>\n    <tr>\n      <th>1</th>\n      <td>use_bw7Dd2MM9RLPaulrFsQ1TzdmFsi</td>\n      <td>Email Clicked</td>\n      <td>2021-05-06 20:36:14+00:00</td>\n      <td>NaN</td>\n      <td>NaN</td>\n      <td>Lenor vous fait une fleur &lt;%${user['FirstName'...</td>\n      <td>https://www.enviedeplus.com/50-euros-chez-truf...</td>\n      <td>NaN</td>\n      <td>NaN</td>\n      <td>False</td>\n      <td>False</td>\n      <td>-1</td>\n      <td>0.4</td>\n    </tr>\n    <tr>\n      <th>2</th>\n      <td>use_bw7Dd2MM9RLPaulrFsQ1TzdmFsi</td>\n      <td>Email Opened</td>\n      <td>2020-09-17 19:35:13+00:00</td>\n      <td>NaN</td>\n      <td>NaN</td>\n      <td>Ariel Pods x Whirlpool = 💝</td>\n      <td>NaN</td>\n      <td>NaN</td>\n      <td>NaN</td>\n      <td>False</td>\n      <td>False</td>\n      <td>-1</td>\n      <td>0.2</td>\n    </tr>\n    <tr>\n      <th>3</th>\n      <td>use_bw7Dd2MM9RLPaulrFsQ1TzdmFsi</td>\n      <td>Email Opened</td>\n      <td>2020-10-23 06:18:35+00:00</td>\n      <td>NaN</td>\n      <td>NaN</td>\n      <td>Bye-bye la grisaille, bonjour la couleur 🍂</td>\n      <td>NaN</td>\n      <td>NaN</td>\n      <td>NaN</td>\n      <td>False</td>\n      <td>False</td>\n      <td>-1</td>\n      <td>0.2</td>\n    </tr>\n    <tr>\n      <th>4</th>\n      <td>use_bw7Dd2MM9RLPaulrFsQ1TzdmFsi</td>\n      <td>Email Opened</td>\n      <td>2021-05-10 19:50:41+00:00</td>\n      <td>NaN</td>\n      <td>NaN</td>\n      <td>Il faut qu’on parle &lt;%${user['FirstName']}%&gt;</td>\n      <td>NaN</td>\n      <td>NaN</td>\n      <td>NaN</td>\n      <td>False</td>\n      <td>False</td>\n      <td>-1</td>\n      <td>0.2</td>\n    </tr>\n    <tr>\n      <th>...</th>\n      <td>...</td>\n      <td>...</td>\n      <td>...</td>\n      <td>...</td>\n      <td>...</td>\n      <td>...</td>\n      <td>...</td>\n      <td>...</td>\n      <td>...</td>\n      <td>...</td>\n      <td>...</td>\n      <td>...</td>\n      <td>...</td>\n    </tr>\n    <tr>\n      <th>1172500</th>\n      <td>use_sLe3AqB7h7jlypX6JmC1TzdphFJ</td>\n      <td>Email Opened</td>\n      <td>2020-12-01 12:19:38+00:00</td>\n      <td>NaN</td>\n      <td>NaN</td>\n      <td>Jusqu'à 85 € de réductions* avec les Jours en ...</td>\n      <td>NaN</td>\n      <td>NaN</td>\n      <td>NaN</td>\n      <td>False</td>\n      <td>False</td>\n      <td>-1</td>\n      <td>0.2</td>\n    </tr>\n    <tr>\n      <th>1172501</th>\n      <td>use_fLS7y8W7sAXSCohYlWi1TzdXPjQ</td>\n      <td>Email Opened</td>\n      <td>2020-08-04 07:46:36+00:00</td>\n      <td>NaN</td>\n      <td>NaN</td>\n      <td>Envie de... faire une bonne action ? 🤲</td>\n      <td>NaN</td>\n      <td>NaN</td>\n      <td>NaN</td>\n      <td>False</td>\n      <td>False</td>\n      <td>-1</td>\n      <td>0.2</td>\n    </tr>\n    <tr>\n      <th>1172502</th>\n      <td>use_YyWKhnJXM3bUmsc66TA1TzdcFXm</td>\n      <td>Email Opened</td>\n      <td>2020-11-05 15:49:48+00:00</td>\n      <td>NaN</td>\n      <td>NaN</td>\n      <td>Votre surprise pour une peau nette 🎁</td>\n      <td>NaN</td>\n      <td>NaN</td>\n      <td>NaN</td>\n      <td>False</td>\n      <td>False</td>\n      <td>-1</td>\n      <td>0.2</td>\n    </tr>\n    <tr>\n      <th>1172503</th>\n      <td>use_8th6Vk4n1QZDcXwBfU41TzdfDDF</td>\n      <td>Email Opened</td>\n      <td>2020-12-04 10:02:03+00:00</td>\n      <td>NaN</td>\n      <td>NaN</td>\n      <td>🖤 Profitez de vos marques préférées avec le Bl...</td>\n      <td>NaN</td>\n      <td>NaN</td>\n      <td>NaN</td>\n      <td>False</td>\n      <td>False</td>\n      <td>-1</td>\n      <td>0.2</td>\n    </tr>\n    <tr>\n      <th>1172504</th>\n      <td>use_7IOHjF4piNqadzKbaZ41TzeNx4r</td>\n      <td>Email Opened</td>\n      <td>2020-12-08 07:18:25+00:00</td>\n      <td>NaN</td>\n      <td>NaN</td>\n      <td>Top départ pour remporter l’un de nos 100 coff...</td>\n      <td>NaN</td>\n      <td>NaN</td>\n      <td>NaN</td>\n      <td>False</td>\n      <td>False</td>\n      <td>-1</td>\n      <td>0.2</td>\n    </tr>\n  </tbody>\n</table>\n<p>1172505 rows × 13 columns</p>\n</div>"
     },
     "metadata": {},
     "execution_count": 64
    }
   ],
   "source": [
    "#We want to evaluate to level of interest of each user about the emails, coupons or products of P&G depending on their action\n",
    "\n",
    "def levelOfInterestAboutMarketing(action: str) -> float:\n",
    "    if action == 'Email Opened': return 1/5\n",
    "    if action == 'Email Clicked': return 2/5\n",
    "    if action == 'Search Site': return 3/5\n",
    "    if action == 'Product Reviewed': return 4/5\n",
    "    if action == 'Request Coupon Print': return 1\n",
    "    if action == 'Request Coupon Add To Basket': return 1\n",
    "    if action == 'Coupon Redemption': return 1\n",
    "    \n",
    "    \n",
    "    \n",
    "    return None\n",
    "\n",
    "df_consumer_actions['level_of_interest_about_marketing'] = df_consumer_actions['event'].apply(levelOfInterestAboutMarketing)\n",
    "df_consumer_actions"
   ]
  },
  {
   "cell_type": "code",
   "execution_count": 65,
   "metadata": {},
   "outputs": [
    {
     "output_type": "stream",
     "name": "stderr",
     "text": [
      "<ipython-input-65-9b478b728fa5>:2: FutureWarning: Indexing with multiple keys (implicitly converted to a tuple of keys) will be deprecated, use a list instead.\n  df_consumer_actions_cleaned_one = df_consumer_actions.groupby(['userId'], sort=False, as_index=False)[\"brand\",'level_of_interest_about_marketing'].max()\n"
     ]
    }
   ],
   "source": [
    "#As each user appears several time, we have to group by userId the rows and apply aggregate functions. It allows us to get a new information : the number of actions done by an user. It requires two groupby and a merge of the two results.\n",
    "df_consumer_actions_cleaned_one = df_consumer_actions.groupby(['userId'], sort=False, as_index=False)[\"brand\",'level_of_interest_about_marketing'].max()\n",
    "df_consumer_actions_cleaned_two = df_consumer_actions.groupby(['userId'], sort=False, as_index=False)['event'].count()\n"
   ]
  },
  {
   "cell_type": "code",
   "execution_count": 66,
   "metadata": {},
   "outputs": [],
   "source": [
    "\n",
    "df_consumer_actions_cleaned = df_consumer_actions_cleaned_one.merge(df_consumer_actions_cleaned_two, left_on ='userId', right_on='userId',  how='left')"
   ]
  },
  {
   "cell_type": "code",
   "execution_count": 67,
   "metadata": {},
   "outputs": [],
   "source": [
    "#The number of action is an integer : we have to scale it from 0 to 1\n",
    "minV = df_consumer_actions_cleaned['event'].min()\n",
    "maxV = df_consumer_actions_cleaned['event'].max()\n",
    "df_consumer_actions_cleaned['event'] = df_consumer_actions_cleaned['event'].apply(lambda e: (e - minV) / (maxV - minV))"
   ]
  },
  {
   "cell_type": "code",
   "execution_count": 68,
   "metadata": {},
   "outputs": [
    {
     "output_type": "execute_result",
     "data": {
      "text/plain": [
       "                                userId  brand  \\\n",
       "0      use_bw7Dd2MM9RLPaulrFsQ1TzdmFsi      1   \n",
       "1      use_zfO6MmwMKMABup7Fs9E1TzdcfQy      1   \n",
       "2      use_ejDjloCwQD84hJpLAAs1TzdfSXa      1   \n",
       "3      use_CAJDPBtqY7NfMHkKbYQ1TzdcUuk     -1   \n",
       "4      use_azRTZAf4XAfhkCMfvQz1TzdppT4      1   \n",
       "...                                ...    ...   \n",
       "14741  use_sLe3AqB7h7jlypX6JmC1TzdphFJ     -1   \n",
       "14742  use_fLS7y8W7sAXSCohYlWi1TzdXPjQ     -1   \n",
       "14743  use_YyWKhnJXM3bUmsc66TA1TzdcFXm     -1   \n",
       "14744  use_8th6Vk4n1QZDcXwBfU41TzdfDDF     -1   \n",
       "14745  use_7IOHjF4piNqadzKbaZ41TzeNx4r     -1   \n",
       "\n",
       "       level_of_interest_about_marketing     event  \n",
       "0                                    0.8  0.003619  \n",
       "1                                    1.0  0.036711  \n",
       "2                                    1.0  0.019131  \n",
       "3                                    1.0  0.057394  \n",
       "4                                    0.8  0.150982  \n",
       "...                                  ...       ...  \n",
       "14741                                0.2  0.000000  \n",
       "14742                                0.2  0.000000  \n",
       "14743                                0.2  0.000000  \n",
       "14744                                0.2  0.000000  \n",
       "14745                                0.2  0.000000  \n",
       "\n",
       "[14746 rows x 4 columns]"
      ],
      "text/html": "<div>\n<style scoped>\n    .dataframe tbody tr th:only-of-type {\n        vertical-align: middle;\n    }\n\n    .dataframe tbody tr th {\n        vertical-align: top;\n    }\n\n    .dataframe thead th {\n        text-align: right;\n    }\n</style>\n<table border=\"1\" class=\"dataframe\">\n  <thead>\n    <tr style=\"text-align: right;\">\n      <th></th>\n      <th>userId</th>\n      <th>brand</th>\n      <th>level_of_interest_about_marketing</th>\n      <th>event</th>\n    </tr>\n  </thead>\n  <tbody>\n    <tr>\n      <th>0</th>\n      <td>use_bw7Dd2MM9RLPaulrFsQ1TzdmFsi</td>\n      <td>1</td>\n      <td>0.8</td>\n      <td>0.003619</td>\n    </tr>\n    <tr>\n      <th>1</th>\n      <td>use_zfO6MmwMKMABup7Fs9E1TzdcfQy</td>\n      <td>1</td>\n      <td>1.0</td>\n      <td>0.036711</td>\n    </tr>\n    <tr>\n      <th>2</th>\n      <td>use_ejDjloCwQD84hJpLAAs1TzdfSXa</td>\n      <td>1</td>\n      <td>1.0</td>\n      <td>0.019131</td>\n    </tr>\n    <tr>\n      <th>3</th>\n      <td>use_CAJDPBtqY7NfMHkKbYQ1TzdcUuk</td>\n      <td>-1</td>\n      <td>1.0</td>\n      <td>0.057394</td>\n    </tr>\n    <tr>\n      <th>4</th>\n      <td>use_azRTZAf4XAfhkCMfvQz1TzdppT4</td>\n      <td>1</td>\n      <td>0.8</td>\n      <td>0.150982</td>\n    </tr>\n    <tr>\n      <th>...</th>\n      <td>...</td>\n      <td>...</td>\n      <td>...</td>\n      <td>...</td>\n    </tr>\n    <tr>\n      <th>14741</th>\n      <td>use_sLe3AqB7h7jlypX6JmC1TzdphFJ</td>\n      <td>-1</td>\n      <td>0.2</td>\n      <td>0.000000</td>\n    </tr>\n    <tr>\n      <th>14742</th>\n      <td>use_fLS7y8W7sAXSCohYlWi1TzdXPjQ</td>\n      <td>-1</td>\n      <td>0.2</td>\n      <td>0.000000</td>\n    </tr>\n    <tr>\n      <th>14743</th>\n      <td>use_YyWKhnJXM3bUmsc66TA1TzdcFXm</td>\n      <td>-1</td>\n      <td>0.2</td>\n      <td>0.000000</td>\n    </tr>\n    <tr>\n      <th>14744</th>\n      <td>use_8th6Vk4n1QZDcXwBfU41TzdfDDF</td>\n      <td>-1</td>\n      <td>0.2</td>\n      <td>0.000000</td>\n    </tr>\n    <tr>\n      <th>14745</th>\n      <td>use_7IOHjF4piNqadzKbaZ41TzeNx4r</td>\n      <td>-1</td>\n      <td>0.2</td>\n      <td>0.000000</td>\n    </tr>\n  </tbody>\n</table>\n<p>14746 rows × 4 columns</p>\n</div>"
     },
     "metadata": {},
     "execution_count": 68
    }
   ],
   "source": [
    "#Let's check the results\n",
    "df_consumer_actions_cleaned"
   ]
  },
  {
   "cell_type": "code",
   "execution_count": 69,
   "metadata": {},
   "outputs": [],
   "source": [
    "#the column \"brand\" should be renamed to be more relevant\n",
    "df_consumer_actions_cleaned = df_consumer_actions_cleaned.rename(columns = {\"brand\" : \"interested_by_fairypeps_email\", \"event\": \"number_of_actions\"})\n"
   ]
  },
  {
   "cell_type": "code",
   "execution_count": 70,
   "metadata": {},
   "outputs": [
    {
     "output_type": "execute_result",
     "data": {
      "text/plain": [
       "                                userId  interested_by_fairypeps_email  \\\n",
       "0      use_bw7Dd2MM9RLPaulrFsQ1TzdmFsi                              1   \n",
       "1      use_zfO6MmwMKMABup7Fs9E1TzdcfQy                              1   \n",
       "2      use_ejDjloCwQD84hJpLAAs1TzdfSXa                              1   \n",
       "3      use_CAJDPBtqY7NfMHkKbYQ1TzdcUuk                             -1   \n",
       "4      use_azRTZAf4XAfhkCMfvQz1TzdppT4                              1   \n",
       "...                                ...                            ...   \n",
       "14741  use_sLe3AqB7h7jlypX6JmC1TzdphFJ                             -1   \n",
       "14742  use_fLS7y8W7sAXSCohYlWi1TzdXPjQ                             -1   \n",
       "14743  use_YyWKhnJXM3bUmsc66TA1TzdcFXm                             -1   \n",
       "14744  use_8th6Vk4n1QZDcXwBfU41TzdfDDF                             -1   \n",
       "14745  use_7IOHjF4piNqadzKbaZ41TzeNx4r                             -1   \n",
       "\n",
       "       level_of_interest_about_marketing  number_of_actions  \n",
       "0                                    0.8           0.003619  \n",
       "1                                    1.0           0.036711  \n",
       "2                                    1.0           0.019131  \n",
       "3                                    1.0           0.057394  \n",
       "4                                    0.8           0.150982  \n",
       "...                                  ...                ...  \n",
       "14741                                0.2           0.000000  \n",
       "14742                                0.2           0.000000  \n",
       "14743                                0.2           0.000000  \n",
       "14744                                0.2           0.000000  \n",
       "14745                                0.2           0.000000  \n",
       "\n",
       "[14746 rows x 4 columns]"
      ],
      "text/html": "<div>\n<style scoped>\n    .dataframe tbody tr th:only-of-type {\n        vertical-align: middle;\n    }\n\n    .dataframe tbody tr th {\n        vertical-align: top;\n    }\n\n    .dataframe thead th {\n        text-align: right;\n    }\n</style>\n<table border=\"1\" class=\"dataframe\">\n  <thead>\n    <tr style=\"text-align: right;\">\n      <th></th>\n      <th>userId</th>\n      <th>interested_by_fairypeps_email</th>\n      <th>level_of_interest_about_marketing</th>\n      <th>number_of_actions</th>\n    </tr>\n  </thead>\n  <tbody>\n    <tr>\n      <th>0</th>\n      <td>use_bw7Dd2MM9RLPaulrFsQ1TzdmFsi</td>\n      <td>1</td>\n      <td>0.8</td>\n      <td>0.003619</td>\n    </tr>\n    <tr>\n      <th>1</th>\n      <td>use_zfO6MmwMKMABup7Fs9E1TzdcfQy</td>\n      <td>1</td>\n      <td>1.0</td>\n      <td>0.036711</td>\n    </tr>\n    <tr>\n      <th>2</th>\n      <td>use_ejDjloCwQD84hJpLAAs1TzdfSXa</td>\n      <td>1</td>\n      <td>1.0</td>\n      <td>0.019131</td>\n    </tr>\n    <tr>\n      <th>3</th>\n      <td>use_CAJDPBtqY7NfMHkKbYQ1TzdcUuk</td>\n      <td>-1</td>\n      <td>1.0</td>\n      <td>0.057394</td>\n    </tr>\n    <tr>\n      <th>4</th>\n      <td>use_azRTZAf4XAfhkCMfvQz1TzdppT4</td>\n      <td>1</td>\n      <td>0.8</td>\n      <td>0.150982</td>\n    </tr>\n    <tr>\n      <th>...</th>\n      <td>...</td>\n      <td>...</td>\n      <td>...</td>\n      <td>...</td>\n    </tr>\n    <tr>\n      <th>14741</th>\n      <td>use_sLe3AqB7h7jlypX6JmC1TzdphFJ</td>\n      <td>-1</td>\n      <td>0.2</td>\n      <td>0.000000</td>\n    </tr>\n    <tr>\n      <th>14742</th>\n      <td>use_fLS7y8W7sAXSCohYlWi1TzdXPjQ</td>\n      <td>-1</td>\n      <td>0.2</td>\n      <td>0.000000</td>\n    </tr>\n    <tr>\n      <th>14743</th>\n      <td>use_YyWKhnJXM3bUmsc66TA1TzdcFXm</td>\n      <td>-1</td>\n      <td>0.2</td>\n      <td>0.000000</td>\n    </tr>\n    <tr>\n      <th>14744</th>\n      <td>use_8th6Vk4n1QZDcXwBfU41TzdfDDF</td>\n      <td>-1</td>\n      <td>0.2</td>\n      <td>0.000000</td>\n    </tr>\n    <tr>\n      <th>14745</th>\n      <td>use_7IOHjF4piNqadzKbaZ41TzeNx4r</td>\n      <td>-1</td>\n      <td>0.2</td>\n      <td>0.000000</td>\n    </tr>\n  </tbody>\n</table>\n<p>14746 rows × 4 columns</p>\n</div>"
     },
     "metadata": {},
     "execution_count": 70
    }
   ],
   "source": [
    "df_consumer_actions_cleaned"
   ]
  },
  {
   "source": [
    "#Let's add the new columns, gotten in consumeractions, to the initial DataFrame \n",
    "df_merged = df.merge(df_consumer_actions_cleaned, left_on ='userId', right_on='userId',  how='left')\n",
    "print(df.shape)\n",
    "print(df_consumer_actions_cleaned.shape)\n",
    "print(df_merged.shape)"
   ],
   "cell_type": "code",
   "metadata": {},
   "execution_count": 71,
   "outputs": [
    {
     "output_type": "stream",
     "name": "stdout",
     "text": [
      "(12000, 24)\n(14746, 4)\n(12000, 27)\n"
     ]
    }
   ]
  },
  {
   "cell_type": "code",
   "execution_count": 72,
   "metadata": {},
   "outputs": [
    {
     "output_type": "execute_result",
     "data": {
      "text/plain": [
       "                                userId       age  gender  scentLover  \\\n",
       "0      use_XbA1FTDcCrTMNTHK1851TzjyPMP  0.077922       1    0.000000   \n",
       "1      use_3WHgsMVGSg5MHG2zja91TzdfmY2  0.636364       1    0.378981   \n",
       "2      use_2SisOiR8QwDaHI4svm11TzcvK7V  0.350649       1    0.000000   \n",
       "3      use_W0T1LmfKaQPJYD1RTWh1Tzdc69H  0.220779       1    0.333333   \n",
       "4      use_KwYWZ7UMl4veveOaPGK1TzddtmI  0.259740       1    0.378981   \n",
       "...                                ...       ...     ...         ...   \n",
       "11995  use_ICSyEvCcRNPpQeBdWcM1TzdczV8  0.454545       1    0.378981   \n",
       "11996  use_Q5DNYeSmG7g6VeMV4n71TzeTRRz  0.324675       1    0.333333   \n",
       "11997  use_rEoce5pc0MlKpndfzNj1Tze3J1L  0.311688       1    0.378981   \n",
       "11998  use_0AuDL2wOJHy9I16zSC21TzeHRMo  0.272727      -1    0.378981   \n",
       "11999  use_B7F2PfU4eOKBmVc93AU1TzdqFY9  0.181818       1    0.000000   \n",
       "\n",
       "       ecoInterest  washDishes  MrPropre  Antikal  Ariel  Dash  ...  \\\n",
       "0         0.388626           1        -1       -1     -1    -1  ...   \n",
       "1         0.666667           1         1        1      1    -1  ...   \n",
       "2         0.666667           1        -1       -1      1     1  ...   \n",
       "3         0.333333          -1        -1       -1      1     1  ...   \n",
       "4         0.000000          -1         1        1      1     1  ...   \n",
       "...            ...         ...       ...      ...    ...   ...  ...   \n",
       "11995     0.388626           1        -1       -1     -1    -1  ...   \n",
       "11996     0.333333          -1        -1       -1     -1    -1  ...   \n",
       "11997     0.666667          -1        -1       -1     -1    -1  ...   \n",
       "11998     0.388626           1        -1       -1     -1    -1  ...   \n",
       "11999     0.666667          -1        -1       -1     -1    -1  ...   \n",
       "\n",
       "       nbChildren  magasin  moyenneSurface  superMarket  hyperMarket  drive  \\\n",
       "0             0.2       -1              -1           -1           -1     -1   \n",
       "1             0.6       -1              -1           -1           -1     -1   \n",
       "2             0.2       -1              -1           -1           -1     -1   \n",
       "3             0.4       -1              -1           -1           -1     -1   \n",
       "4             0.0       -1              -1           -1           -1     -1   \n",
       "...           ...      ...             ...          ...          ...    ...   \n",
       "11995         1.0       -1              -1           -1           -1     -1   \n",
       "11996         0.0       -1              -1           -1           -1     -1   \n",
       "11997         0.6       -1              -1           -1           -1     -1   \n",
       "11998         0.2       -1              -1           -1           -1     -1   \n",
       "11999         0.6       -1              -1            1           -1     -1   \n",
       "\n",
       "       hardDiscount  interested_by_fairypeps_email  \\\n",
       "0                -1                           -1.0   \n",
       "1                -1                           -1.0   \n",
       "2                -1                           -1.0   \n",
       "3                -1                           -1.0   \n",
       "4                -1                           -1.0   \n",
       "...             ...                            ...   \n",
       "11995            -1                            1.0   \n",
       "11996            -1                           -1.0   \n",
       "11997            -1                           -1.0   \n",
       "11998            -1                           -1.0   \n",
       "11999            -1                           -1.0   \n",
       "\n",
       "       level_of_interest_about_marketing  number_of_actions  \n",
       "0                                    1.0           0.002068  \n",
       "1                                    1.0           0.022234  \n",
       "2                                    1.0           0.009824  \n",
       "3                                    0.4           0.002327  \n",
       "4                                    1.0           0.936143  \n",
       "...                                  ...                ...  \n",
       "11995                                1.0           0.043175  \n",
       "11996                                0.2           0.000517  \n",
       "11997                                0.4           0.009824  \n",
       "11998                                1.0           0.000259  \n",
       "11999                                0.2           0.003102  \n",
       "\n",
       "[12000 rows x 27 columns]"
      ],
      "text/html": "<div>\n<style scoped>\n    .dataframe tbody tr th:only-of-type {\n        vertical-align: middle;\n    }\n\n    .dataframe tbody tr th {\n        vertical-align: top;\n    }\n\n    .dataframe thead th {\n        text-align: right;\n    }\n</style>\n<table border=\"1\" class=\"dataframe\">\n  <thead>\n    <tr style=\"text-align: right;\">\n      <th></th>\n      <th>userId</th>\n      <th>age</th>\n      <th>gender</th>\n      <th>scentLover</th>\n      <th>ecoInterest</th>\n      <th>washDishes</th>\n      <th>MrPropre</th>\n      <th>Antikal</th>\n      <th>Ariel</th>\n      <th>Dash</th>\n      <th>...</th>\n      <th>nbChildren</th>\n      <th>magasin</th>\n      <th>moyenneSurface</th>\n      <th>superMarket</th>\n      <th>hyperMarket</th>\n      <th>drive</th>\n      <th>hardDiscount</th>\n      <th>interested_by_fairypeps_email</th>\n      <th>level_of_interest_about_marketing</th>\n      <th>number_of_actions</th>\n    </tr>\n  </thead>\n  <tbody>\n    <tr>\n      <th>0</th>\n      <td>use_XbA1FTDcCrTMNTHK1851TzjyPMP</td>\n      <td>0.077922</td>\n      <td>1</td>\n      <td>0.000000</td>\n      <td>0.388626</td>\n      <td>1</td>\n      <td>-1</td>\n      <td>-1</td>\n      <td>-1</td>\n      <td>-1</td>\n      <td>...</td>\n      <td>0.2</td>\n      <td>-1</td>\n      <td>-1</td>\n      <td>-1</td>\n      <td>-1</td>\n      <td>-1</td>\n      <td>-1</td>\n      <td>-1.0</td>\n      <td>1.0</td>\n      <td>0.002068</td>\n    </tr>\n    <tr>\n      <th>1</th>\n      <td>use_3WHgsMVGSg5MHG2zja91TzdfmY2</td>\n      <td>0.636364</td>\n      <td>1</td>\n      <td>0.378981</td>\n      <td>0.666667</td>\n      <td>1</td>\n      <td>1</td>\n      <td>1</td>\n      <td>1</td>\n      <td>-1</td>\n      <td>...</td>\n      <td>0.6</td>\n      <td>-1</td>\n      <td>-1</td>\n      <td>-1</td>\n      <td>-1</td>\n      <td>-1</td>\n      <td>-1</td>\n      <td>-1.0</td>\n      <td>1.0</td>\n      <td>0.022234</td>\n    </tr>\n    <tr>\n      <th>2</th>\n      <td>use_2SisOiR8QwDaHI4svm11TzcvK7V</td>\n      <td>0.350649</td>\n      <td>1</td>\n      <td>0.000000</td>\n      <td>0.666667</td>\n      <td>1</td>\n      <td>-1</td>\n      <td>-1</td>\n      <td>1</td>\n      <td>1</td>\n      <td>...</td>\n      <td>0.2</td>\n      <td>-1</td>\n      <td>-1</td>\n      <td>-1</td>\n      <td>-1</td>\n      <td>-1</td>\n      <td>-1</td>\n      <td>-1.0</td>\n      <td>1.0</td>\n      <td>0.009824</td>\n    </tr>\n    <tr>\n      <th>3</th>\n      <td>use_W0T1LmfKaQPJYD1RTWh1Tzdc69H</td>\n      <td>0.220779</td>\n      <td>1</td>\n      <td>0.333333</td>\n      <td>0.333333</td>\n      <td>-1</td>\n      <td>-1</td>\n      <td>-1</td>\n      <td>1</td>\n      <td>1</td>\n      <td>...</td>\n      <td>0.4</td>\n      <td>-1</td>\n      <td>-1</td>\n      <td>-1</td>\n      <td>-1</td>\n      <td>-1</td>\n      <td>-1</td>\n      <td>-1.0</td>\n      <td>0.4</td>\n      <td>0.002327</td>\n    </tr>\n    <tr>\n      <th>4</th>\n      <td>use_KwYWZ7UMl4veveOaPGK1TzddtmI</td>\n      <td>0.259740</td>\n      <td>1</td>\n      <td>0.378981</td>\n      <td>0.000000</td>\n      <td>-1</td>\n      <td>1</td>\n      <td>1</td>\n      <td>1</td>\n      <td>1</td>\n      <td>...</td>\n      <td>0.0</td>\n      <td>-1</td>\n      <td>-1</td>\n      <td>-1</td>\n      <td>-1</td>\n      <td>-1</td>\n      <td>-1</td>\n      <td>-1.0</td>\n      <td>1.0</td>\n      <td>0.936143</td>\n    </tr>\n    <tr>\n      <th>...</th>\n      <td>...</td>\n      <td>...</td>\n      <td>...</td>\n      <td>...</td>\n      <td>...</td>\n      <td>...</td>\n      <td>...</td>\n      <td>...</td>\n      <td>...</td>\n      <td>...</td>\n      <td>...</td>\n      <td>...</td>\n      <td>...</td>\n      <td>...</td>\n      <td>...</td>\n      <td>...</td>\n      <td>...</td>\n      <td>...</td>\n      <td>...</td>\n      <td>...</td>\n      <td>...</td>\n    </tr>\n    <tr>\n      <th>11995</th>\n      <td>use_ICSyEvCcRNPpQeBdWcM1TzdczV8</td>\n      <td>0.454545</td>\n      <td>1</td>\n      <td>0.378981</td>\n      <td>0.388626</td>\n      <td>1</td>\n      <td>-1</td>\n      <td>-1</td>\n      <td>-1</td>\n      <td>-1</td>\n      <td>...</td>\n      <td>1.0</td>\n      <td>-1</td>\n      <td>-1</td>\n      <td>-1</td>\n      <td>-1</td>\n      <td>-1</td>\n      <td>-1</td>\n      <td>1.0</td>\n      <td>1.0</td>\n      <td>0.043175</td>\n    </tr>\n    <tr>\n      <th>11996</th>\n      <td>use_Q5DNYeSmG7g6VeMV4n71TzeTRRz</td>\n      <td>0.324675</td>\n      <td>1</td>\n      <td>0.333333</td>\n      <td>0.333333</td>\n      <td>-1</td>\n      <td>-1</td>\n      <td>-1</td>\n      <td>-1</td>\n      <td>-1</td>\n      <td>...</td>\n      <td>0.0</td>\n      <td>-1</td>\n      <td>-1</td>\n      <td>-1</td>\n      <td>-1</td>\n      <td>-1</td>\n      <td>-1</td>\n      <td>-1.0</td>\n      <td>0.2</td>\n      <td>0.000517</td>\n    </tr>\n    <tr>\n      <th>11997</th>\n      <td>use_rEoce5pc0MlKpndfzNj1Tze3J1L</td>\n      <td>0.311688</td>\n      <td>1</td>\n      <td>0.378981</td>\n      <td>0.666667</td>\n      <td>-1</td>\n      <td>-1</td>\n      <td>-1</td>\n      <td>-1</td>\n      <td>-1</td>\n      <td>...</td>\n      <td>0.6</td>\n      <td>-1</td>\n      <td>-1</td>\n      <td>-1</td>\n      <td>-1</td>\n      <td>-1</td>\n      <td>-1</td>\n      <td>-1.0</td>\n      <td>0.4</td>\n      <td>0.009824</td>\n    </tr>\n    <tr>\n      <th>11998</th>\n      <td>use_0AuDL2wOJHy9I16zSC21TzeHRMo</td>\n      <td>0.272727</td>\n      <td>-1</td>\n      <td>0.378981</td>\n      <td>0.388626</td>\n      <td>1</td>\n      <td>-1</td>\n      <td>-1</td>\n      <td>-1</td>\n      <td>-1</td>\n      <td>...</td>\n      <td>0.2</td>\n      <td>-1</td>\n      <td>-1</td>\n      <td>-1</td>\n      <td>-1</td>\n      <td>-1</td>\n      <td>-1</td>\n      <td>-1.0</td>\n      <td>1.0</td>\n      <td>0.000259</td>\n    </tr>\n    <tr>\n      <th>11999</th>\n      <td>use_B7F2PfU4eOKBmVc93AU1TzdqFY9</td>\n      <td>0.181818</td>\n      <td>1</td>\n      <td>0.000000</td>\n      <td>0.666667</td>\n      <td>-1</td>\n      <td>-1</td>\n      <td>-1</td>\n      <td>-1</td>\n      <td>-1</td>\n      <td>...</td>\n      <td>0.6</td>\n      <td>-1</td>\n      <td>-1</td>\n      <td>1</td>\n      <td>-1</td>\n      <td>-1</td>\n      <td>-1</td>\n      <td>-1.0</td>\n      <td>0.2</td>\n      <td>0.003102</td>\n    </tr>\n  </tbody>\n</table>\n<p>12000 rows × 27 columns</p>\n</div>"
     },
     "metadata": {},
     "execution_count": 72
    }
   ],
   "source": [
    "#Let's check the result\n",
    "df_merged"
   ]
  },
  {
   "source": [
    "Finally, we don't need anymore the column userId which is not useful for the algorithms"
   ],
   "cell_type": "markdown",
   "metadata": {}
  },
  {
   "cell_type": "code",
   "execution_count": 73,
   "metadata": {},
   "outputs": [
    {
     "output_type": "execute_result",
     "data": {
      "text/plain": [
       "            age  gender  scentLover  ecoInterest  washDishes  MrPropre  \\\n",
       "0      0.077922       1    0.000000     0.388626           1        -1   \n",
       "1      0.636364       1    0.378981     0.666667           1         1   \n",
       "2      0.350649       1    0.000000     0.666667           1        -1   \n",
       "3      0.220779       1    0.333333     0.333333          -1        -1   \n",
       "4      0.259740       1    0.378981     0.000000          -1         1   \n",
       "...         ...     ...         ...          ...         ...       ...   \n",
       "11995  0.454545       1    0.378981     0.388626           1        -1   \n",
       "11996  0.324675       1    0.333333     0.333333          -1        -1   \n",
       "11997  0.311688       1    0.378981     0.666667          -1        -1   \n",
       "11998  0.272727      -1    0.378981     0.388626           1        -1   \n",
       "11999  0.181818       1    0.000000     0.666667          -1        -1   \n",
       "\n",
       "       Antikal  Ariel  Dash  pods  ...  nbChildren  magasin  moyenneSurface  \\\n",
       "0           -1     -1    -1    -1  ...         0.2       -1              -1   \n",
       "1            1      1    -1     1  ...         0.6       -1              -1   \n",
       "2           -1      1     1    -1  ...         0.2       -1              -1   \n",
       "3           -1      1     1     1  ...         0.4       -1              -1   \n",
       "4            1      1     1    -1  ...         0.0       -1              -1   \n",
       "...        ...    ...   ...   ...  ...         ...      ...             ...   \n",
       "11995       -1     -1    -1     1  ...         1.0       -1              -1   \n",
       "11996       -1     -1    -1    -1  ...         0.0       -1              -1   \n",
       "11997       -1     -1    -1    -1  ...         0.6       -1              -1   \n",
       "11998       -1     -1    -1    -1  ...         0.2       -1              -1   \n",
       "11999       -1     -1    -1    -1  ...         0.6       -1              -1   \n",
       "\n",
       "       superMarket  hyperMarket  drive  hardDiscount  \\\n",
       "0               -1           -1     -1            -1   \n",
       "1               -1           -1     -1            -1   \n",
       "2               -1           -1     -1            -1   \n",
       "3               -1           -1     -1            -1   \n",
       "4               -1           -1     -1            -1   \n",
       "...            ...          ...    ...           ...   \n",
       "11995           -1           -1     -1            -1   \n",
       "11996           -1           -1     -1            -1   \n",
       "11997           -1           -1     -1            -1   \n",
       "11998           -1           -1     -1            -1   \n",
       "11999            1           -1     -1            -1   \n",
       "\n",
       "       interested_by_fairypeps_email  level_of_interest_about_marketing  \\\n",
       "0                               -1.0                                1.0   \n",
       "1                               -1.0                                1.0   \n",
       "2                               -1.0                                1.0   \n",
       "3                               -1.0                                0.4   \n",
       "4                               -1.0                                1.0   \n",
       "...                              ...                                ...   \n",
       "11995                            1.0                                1.0   \n",
       "11996                           -1.0                                0.2   \n",
       "11997                           -1.0                                0.4   \n",
       "11998                           -1.0                                1.0   \n",
       "11999                           -1.0                                0.2   \n",
       "\n",
       "       number_of_actions  \n",
       "0               0.002068  \n",
       "1               0.022234  \n",
       "2               0.009824  \n",
       "3               0.002327  \n",
       "4               0.936143  \n",
       "...                  ...  \n",
       "11995           0.043175  \n",
       "11996           0.000517  \n",
       "11997           0.009824  \n",
       "11998           0.000259  \n",
       "11999           0.003102  \n",
       "\n",
       "[12000 rows x 26 columns]"
      ],
      "text/html": "<div>\n<style scoped>\n    .dataframe tbody tr th:only-of-type {\n        vertical-align: middle;\n    }\n\n    .dataframe tbody tr th {\n        vertical-align: top;\n    }\n\n    .dataframe thead th {\n        text-align: right;\n    }\n</style>\n<table border=\"1\" class=\"dataframe\">\n  <thead>\n    <tr style=\"text-align: right;\">\n      <th></th>\n      <th>age</th>\n      <th>gender</th>\n      <th>scentLover</th>\n      <th>ecoInterest</th>\n      <th>washDishes</th>\n      <th>MrPropre</th>\n      <th>Antikal</th>\n      <th>Ariel</th>\n      <th>Dash</th>\n      <th>pods</th>\n      <th>...</th>\n      <th>nbChildren</th>\n      <th>magasin</th>\n      <th>moyenneSurface</th>\n      <th>superMarket</th>\n      <th>hyperMarket</th>\n      <th>drive</th>\n      <th>hardDiscount</th>\n      <th>interested_by_fairypeps_email</th>\n      <th>level_of_interest_about_marketing</th>\n      <th>number_of_actions</th>\n    </tr>\n  </thead>\n  <tbody>\n    <tr>\n      <th>0</th>\n      <td>0.077922</td>\n      <td>1</td>\n      <td>0.000000</td>\n      <td>0.388626</td>\n      <td>1</td>\n      <td>-1</td>\n      <td>-1</td>\n      <td>-1</td>\n      <td>-1</td>\n      <td>-1</td>\n      <td>...</td>\n      <td>0.2</td>\n      <td>-1</td>\n      <td>-1</td>\n      <td>-1</td>\n      <td>-1</td>\n      <td>-1</td>\n      <td>-1</td>\n      <td>-1.0</td>\n      <td>1.0</td>\n      <td>0.002068</td>\n    </tr>\n    <tr>\n      <th>1</th>\n      <td>0.636364</td>\n      <td>1</td>\n      <td>0.378981</td>\n      <td>0.666667</td>\n      <td>1</td>\n      <td>1</td>\n      <td>1</td>\n      <td>1</td>\n      <td>-1</td>\n      <td>1</td>\n      <td>...</td>\n      <td>0.6</td>\n      <td>-1</td>\n      <td>-1</td>\n      <td>-1</td>\n      <td>-1</td>\n      <td>-1</td>\n      <td>-1</td>\n      <td>-1.0</td>\n      <td>1.0</td>\n      <td>0.022234</td>\n    </tr>\n    <tr>\n      <th>2</th>\n      <td>0.350649</td>\n      <td>1</td>\n      <td>0.000000</td>\n      <td>0.666667</td>\n      <td>1</td>\n      <td>-1</td>\n      <td>-1</td>\n      <td>1</td>\n      <td>1</td>\n      <td>-1</td>\n      <td>...</td>\n      <td>0.2</td>\n      <td>-1</td>\n      <td>-1</td>\n      <td>-1</td>\n      <td>-1</td>\n      <td>-1</td>\n      <td>-1</td>\n      <td>-1.0</td>\n      <td>1.0</td>\n      <td>0.009824</td>\n    </tr>\n    <tr>\n      <th>3</th>\n      <td>0.220779</td>\n      <td>1</td>\n      <td>0.333333</td>\n      <td>0.333333</td>\n      <td>-1</td>\n      <td>-1</td>\n      <td>-1</td>\n      <td>1</td>\n      <td>1</td>\n      <td>1</td>\n      <td>...</td>\n      <td>0.4</td>\n      <td>-1</td>\n      <td>-1</td>\n      <td>-1</td>\n      <td>-1</td>\n      <td>-1</td>\n      <td>-1</td>\n      <td>-1.0</td>\n      <td>0.4</td>\n      <td>0.002327</td>\n    </tr>\n    <tr>\n      <th>4</th>\n      <td>0.259740</td>\n      <td>1</td>\n      <td>0.378981</td>\n      <td>0.000000</td>\n      <td>-1</td>\n      <td>1</td>\n      <td>1</td>\n      <td>1</td>\n      <td>1</td>\n      <td>-1</td>\n      <td>...</td>\n      <td>0.0</td>\n      <td>-1</td>\n      <td>-1</td>\n      <td>-1</td>\n      <td>-1</td>\n      <td>-1</td>\n      <td>-1</td>\n      <td>-1.0</td>\n      <td>1.0</td>\n      <td>0.936143</td>\n    </tr>\n    <tr>\n      <th>...</th>\n      <td>...</td>\n      <td>...</td>\n      <td>...</td>\n      <td>...</td>\n      <td>...</td>\n      <td>...</td>\n      <td>...</td>\n      <td>...</td>\n      <td>...</td>\n      <td>...</td>\n      <td>...</td>\n      <td>...</td>\n      <td>...</td>\n      <td>...</td>\n      <td>...</td>\n      <td>...</td>\n      <td>...</td>\n      <td>...</td>\n      <td>...</td>\n      <td>...</td>\n      <td>...</td>\n    </tr>\n    <tr>\n      <th>11995</th>\n      <td>0.454545</td>\n      <td>1</td>\n      <td>0.378981</td>\n      <td>0.388626</td>\n      <td>1</td>\n      <td>-1</td>\n      <td>-1</td>\n      <td>-1</td>\n      <td>-1</td>\n      <td>1</td>\n      <td>...</td>\n      <td>1.0</td>\n      <td>-1</td>\n      <td>-1</td>\n      <td>-1</td>\n      <td>-1</td>\n      <td>-1</td>\n      <td>-1</td>\n      <td>1.0</td>\n      <td>1.0</td>\n      <td>0.043175</td>\n    </tr>\n    <tr>\n      <th>11996</th>\n      <td>0.324675</td>\n      <td>1</td>\n      <td>0.333333</td>\n      <td>0.333333</td>\n      <td>-1</td>\n      <td>-1</td>\n      <td>-1</td>\n      <td>-1</td>\n      <td>-1</td>\n      <td>-1</td>\n      <td>...</td>\n      <td>0.0</td>\n      <td>-1</td>\n      <td>-1</td>\n      <td>-1</td>\n      <td>-1</td>\n      <td>-1</td>\n      <td>-1</td>\n      <td>-1.0</td>\n      <td>0.2</td>\n      <td>0.000517</td>\n    </tr>\n    <tr>\n      <th>11997</th>\n      <td>0.311688</td>\n      <td>1</td>\n      <td>0.378981</td>\n      <td>0.666667</td>\n      <td>-1</td>\n      <td>-1</td>\n      <td>-1</td>\n      <td>-1</td>\n      <td>-1</td>\n      <td>-1</td>\n      <td>...</td>\n      <td>0.6</td>\n      <td>-1</td>\n      <td>-1</td>\n      <td>-1</td>\n      <td>-1</td>\n      <td>-1</td>\n      <td>-1</td>\n      <td>-1.0</td>\n      <td>0.4</td>\n      <td>0.009824</td>\n    </tr>\n    <tr>\n      <th>11998</th>\n      <td>0.272727</td>\n      <td>-1</td>\n      <td>0.378981</td>\n      <td>0.388626</td>\n      <td>1</td>\n      <td>-1</td>\n      <td>-1</td>\n      <td>-1</td>\n      <td>-1</td>\n      <td>-1</td>\n      <td>...</td>\n      <td>0.2</td>\n      <td>-1</td>\n      <td>-1</td>\n      <td>-1</td>\n      <td>-1</td>\n      <td>-1</td>\n      <td>-1</td>\n      <td>-1.0</td>\n      <td>1.0</td>\n      <td>0.000259</td>\n    </tr>\n    <tr>\n      <th>11999</th>\n      <td>0.181818</td>\n      <td>1</td>\n      <td>0.000000</td>\n      <td>0.666667</td>\n      <td>-1</td>\n      <td>-1</td>\n      <td>-1</td>\n      <td>-1</td>\n      <td>-1</td>\n      <td>-1</td>\n      <td>...</td>\n      <td>0.6</td>\n      <td>-1</td>\n      <td>-1</td>\n      <td>1</td>\n      <td>-1</td>\n      <td>-1</td>\n      <td>-1</td>\n      <td>-1.0</td>\n      <td>0.2</td>\n      <td>0.003102</td>\n    </tr>\n  </tbody>\n</table>\n<p>12000 rows × 26 columns</p>\n</div>"
     },
     "metadata": {},
     "execution_count": 73
    }
   ],
   "source": [
    "#We do not need the other columns and the userId\n",
    "df_merged =  df_merged.drop(columns=['userId'])\n",
    "df_merged"
   ]
  },
  {
   "cell_type": "code",
   "execution_count": 74,
   "metadata": {},
   "outputs": [],
   "source": [
    "#Reindexing of the columns to have washDishes on the last column\n",
    "\n",
    "df_merged = df_merged.reindex(columns=[\n",
    "'userId',\n",
    "'age',\n",
    "'gender',\n",
    "'scentLover',\n",
    "'ecoInterest',\n",
    "'MrPropre',\n",
    "'Antikal',\n",
    "'Ariel',\n",
    "'Dash',\n",
    "'pods',\n",
    "'powder',\n",
    "'liquid',\n",
    "'electricToothbrush',\n",
    "'likesPets',\n",
    "'hasPet',\n",
    "'daysSinceActivity',\n",
    "'nbChildren',\n",
    "'magasin',\n",
    "'moyenneSurface',\n",
    "'superMarket',\n",
    "'hyperMarket',\n",
    "'drive',\n",
    "'hardDiscount',\n",
    "'interested_by_fairypeps_email',\n",
    "'level_of_interest_about_marketing',\n",
    "'number_of_actions',\n",
    "'washDishes',])\n",
    "\n",
    "df_train = df_merged"
   ]
  },
  {
   "cell_type": "code",
   "execution_count": 75,
   "metadata": {},
   "outputs": [
    {
     "output_type": "execute_result",
     "data": {
      "text/plain": [
       "       userId       age  gender  scentLover  ecoInterest  MrPropre  Antikal  \\\n",
       "0         NaN  0.077922       1    0.000000     0.388626        -1       -1   \n",
       "1         NaN  0.636364       1    0.378981     0.666667         1        1   \n",
       "2         NaN  0.350649       1    0.000000     0.666667        -1       -1   \n",
       "3         NaN  0.220779       1    0.333333     0.333333        -1       -1   \n",
       "4         NaN  0.259740       1    0.378981     0.000000         1        1   \n",
       "...       ...       ...     ...         ...          ...       ...      ...   \n",
       "11995     NaN  0.454545       1    0.378981     0.388626        -1       -1   \n",
       "11996     NaN  0.324675       1    0.333333     0.333333        -1       -1   \n",
       "11997     NaN  0.311688       1    0.378981     0.666667        -1       -1   \n",
       "11998     NaN  0.272727      -1    0.378981     0.388626        -1       -1   \n",
       "11999     NaN  0.181818       1    0.000000     0.666667        -1       -1   \n",
       "\n",
       "       Ariel  Dash  pods  ...  magasin  moyenneSurface  superMarket  \\\n",
       "0         -1    -1    -1  ...       -1              -1           -1   \n",
       "1          1    -1     1  ...       -1              -1           -1   \n",
       "2          1     1    -1  ...       -1              -1           -1   \n",
       "3          1     1     1  ...       -1              -1           -1   \n",
       "4          1     1    -1  ...       -1              -1           -1   \n",
       "...      ...   ...   ...  ...      ...             ...          ...   \n",
       "11995     -1    -1     1  ...       -1              -1           -1   \n",
       "11996     -1    -1    -1  ...       -1              -1           -1   \n",
       "11997     -1    -1    -1  ...       -1              -1           -1   \n",
       "11998     -1    -1    -1  ...       -1              -1           -1   \n",
       "11999     -1    -1    -1  ...       -1              -1            1   \n",
       "\n",
       "       hyperMarket  drive  hardDiscount  interested_by_fairypeps_email  \\\n",
       "0               -1     -1            -1                           -1.0   \n",
       "1               -1     -1            -1                           -1.0   \n",
       "2               -1     -1            -1                           -1.0   \n",
       "3               -1     -1            -1                           -1.0   \n",
       "4               -1     -1            -1                           -1.0   \n",
       "...            ...    ...           ...                            ...   \n",
       "11995           -1     -1            -1                            1.0   \n",
       "11996           -1     -1            -1                           -1.0   \n",
       "11997           -1     -1            -1                           -1.0   \n",
       "11998           -1     -1            -1                           -1.0   \n",
       "11999           -1     -1            -1                           -1.0   \n",
       "\n",
       "       level_of_interest_about_marketing  number_of_actions  washDishes  \n",
       "0                                    1.0           0.002068           1  \n",
       "1                                    1.0           0.022234           1  \n",
       "2                                    1.0           0.009824           1  \n",
       "3                                    0.4           0.002327          -1  \n",
       "4                                    1.0           0.936143          -1  \n",
       "...                                  ...                ...         ...  \n",
       "11995                                1.0           0.043175           1  \n",
       "11996                                0.2           0.000517          -1  \n",
       "11997                                0.4           0.009824          -1  \n",
       "11998                                1.0           0.000259           1  \n",
       "11999                                0.2           0.003102          -1  \n",
       "\n",
       "[12000 rows x 27 columns]"
      ],
      "text/html": "<div>\n<style scoped>\n    .dataframe tbody tr th:only-of-type {\n        vertical-align: middle;\n    }\n\n    .dataframe tbody tr th {\n        vertical-align: top;\n    }\n\n    .dataframe thead th {\n        text-align: right;\n    }\n</style>\n<table border=\"1\" class=\"dataframe\">\n  <thead>\n    <tr style=\"text-align: right;\">\n      <th></th>\n      <th>userId</th>\n      <th>age</th>\n      <th>gender</th>\n      <th>scentLover</th>\n      <th>ecoInterest</th>\n      <th>MrPropre</th>\n      <th>Antikal</th>\n      <th>Ariel</th>\n      <th>Dash</th>\n      <th>pods</th>\n      <th>...</th>\n      <th>magasin</th>\n      <th>moyenneSurface</th>\n      <th>superMarket</th>\n      <th>hyperMarket</th>\n      <th>drive</th>\n      <th>hardDiscount</th>\n      <th>interested_by_fairypeps_email</th>\n      <th>level_of_interest_about_marketing</th>\n      <th>number_of_actions</th>\n      <th>washDishes</th>\n    </tr>\n  </thead>\n  <tbody>\n    <tr>\n      <th>0</th>\n      <td>NaN</td>\n      <td>0.077922</td>\n      <td>1</td>\n      <td>0.000000</td>\n      <td>0.388626</td>\n      <td>-1</td>\n      <td>-1</td>\n      <td>-1</td>\n      <td>-1</td>\n      <td>-1</td>\n      <td>...</td>\n      <td>-1</td>\n      <td>-1</td>\n      <td>-1</td>\n      <td>-1</td>\n      <td>-1</td>\n      <td>-1</td>\n      <td>-1.0</td>\n      <td>1.0</td>\n      <td>0.002068</td>\n      <td>1</td>\n    </tr>\n    <tr>\n      <th>1</th>\n      <td>NaN</td>\n      <td>0.636364</td>\n      <td>1</td>\n      <td>0.378981</td>\n      <td>0.666667</td>\n      <td>1</td>\n      <td>1</td>\n      <td>1</td>\n      <td>-1</td>\n      <td>1</td>\n      <td>...</td>\n      <td>-1</td>\n      <td>-1</td>\n      <td>-1</td>\n      <td>-1</td>\n      <td>-1</td>\n      <td>-1</td>\n      <td>-1.0</td>\n      <td>1.0</td>\n      <td>0.022234</td>\n      <td>1</td>\n    </tr>\n    <tr>\n      <th>2</th>\n      <td>NaN</td>\n      <td>0.350649</td>\n      <td>1</td>\n      <td>0.000000</td>\n      <td>0.666667</td>\n      <td>-1</td>\n      <td>-1</td>\n      <td>1</td>\n      <td>1</td>\n      <td>-1</td>\n      <td>...</td>\n      <td>-1</td>\n      <td>-1</td>\n      <td>-1</td>\n      <td>-1</td>\n      <td>-1</td>\n      <td>-1</td>\n      <td>-1.0</td>\n      <td>1.0</td>\n      <td>0.009824</td>\n      <td>1</td>\n    </tr>\n    <tr>\n      <th>3</th>\n      <td>NaN</td>\n      <td>0.220779</td>\n      <td>1</td>\n      <td>0.333333</td>\n      <td>0.333333</td>\n      <td>-1</td>\n      <td>-1</td>\n      <td>1</td>\n      <td>1</td>\n      <td>1</td>\n      <td>...</td>\n      <td>-1</td>\n      <td>-1</td>\n      <td>-1</td>\n      <td>-1</td>\n      <td>-1</td>\n      <td>-1</td>\n      <td>-1.0</td>\n      <td>0.4</td>\n      <td>0.002327</td>\n      <td>-1</td>\n    </tr>\n    <tr>\n      <th>4</th>\n      <td>NaN</td>\n      <td>0.259740</td>\n      <td>1</td>\n      <td>0.378981</td>\n      <td>0.000000</td>\n      <td>1</td>\n      <td>1</td>\n      <td>1</td>\n      <td>1</td>\n      <td>-1</td>\n      <td>...</td>\n      <td>-1</td>\n      <td>-1</td>\n      <td>-1</td>\n      <td>-1</td>\n      <td>-1</td>\n      <td>-1</td>\n      <td>-1.0</td>\n      <td>1.0</td>\n      <td>0.936143</td>\n      <td>-1</td>\n    </tr>\n    <tr>\n      <th>...</th>\n      <td>...</td>\n      <td>...</td>\n      <td>...</td>\n      <td>...</td>\n      <td>...</td>\n      <td>...</td>\n      <td>...</td>\n      <td>...</td>\n      <td>...</td>\n      <td>...</td>\n      <td>...</td>\n      <td>...</td>\n      <td>...</td>\n      <td>...</td>\n      <td>...</td>\n      <td>...</td>\n      <td>...</td>\n      <td>...</td>\n      <td>...</td>\n      <td>...</td>\n      <td>...</td>\n    </tr>\n    <tr>\n      <th>11995</th>\n      <td>NaN</td>\n      <td>0.454545</td>\n      <td>1</td>\n      <td>0.378981</td>\n      <td>0.388626</td>\n      <td>-1</td>\n      <td>-1</td>\n      <td>-1</td>\n      <td>-1</td>\n      <td>1</td>\n      <td>...</td>\n      <td>-1</td>\n      <td>-1</td>\n      <td>-1</td>\n      <td>-1</td>\n      <td>-1</td>\n      <td>-1</td>\n      <td>1.0</td>\n      <td>1.0</td>\n      <td>0.043175</td>\n      <td>1</td>\n    </tr>\n    <tr>\n      <th>11996</th>\n      <td>NaN</td>\n      <td>0.324675</td>\n      <td>1</td>\n      <td>0.333333</td>\n      <td>0.333333</td>\n      <td>-1</td>\n      <td>-1</td>\n      <td>-1</td>\n      <td>-1</td>\n      <td>-1</td>\n      <td>...</td>\n      <td>-1</td>\n      <td>-1</td>\n      <td>-1</td>\n      <td>-1</td>\n      <td>-1</td>\n      <td>-1</td>\n      <td>-1.0</td>\n      <td>0.2</td>\n      <td>0.000517</td>\n      <td>-1</td>\n    </tr>\n    <tr>\n      <th>11997</th>\n      <td>NaN</td>\n      <td>0.311688</td>\n      <td>1</td>\n      <td>0.378981</td>\n      <td>0.666667</td>\n      <td>-1</td>\n      <td>-1</td>\n      <td>-1</td>\n      <td>-1</td>\n      <td>-1</td>\n      <td>...</td>\n      <td>-1</td>\n      <td>-1</td>\n      <td>-1</td>\n      <td>-1</td>\n      <td>-1</td>\n      <td>-1</td>\n      <td>-1.0</td>\n      <td>0.4</td>\n      <td>0.009824</td>\n      <td>-1</td>\n    </tr>\n    <tr>\n      <th>11998</th>\n      <td>NaN</td>\n      <td>0.272727</td>\n      <td>-1</td>\n      <td>0.378981</td>\n      <td>0.388626</td>\n      <td>-1</td>\n      <td>-1</td>\n      <td>-1</td>\n      <td>-1</td>\n      <td>-1</td>\n      <td>...</td>\n      <td>-1</td>\n      <td>-1</td>\n      <td>-1</td>\n      <td>-1</td>\n      <td>-1</td>\n      <td>-1</td>\n      <td>-1.0</td>\n      <td>1.0</td>\n      <td>0.000259</td>\n      <td>1</td>\n    </tr>\n    <tr>\n      <th>11999</th>\n      <td>NaN</td>\n      <td>0.181818</td>\n      <td>1</td>\n      <td>0.000000</td>\n      <td>0.666667</td>\n      <td>-1</td>\n      <td>-1</td>\n      <td>-1</td>\n      <td>-1</td>\n      <td>-1</td>\n      <td>...</td>\n      <td>-1</td>\n      <td>-1</td>\n      <td>1</td>\n      <td>-1</td>\n      <td>-1</td>\n      <td>-1</td>\n      <td>-1.0</td>\n      <td>0.2</td>\n      <td>0.003102</td>\n      <td>-1</td>\n    </tr>\n  </tbody>\n</table>\n<p>12000 rows × 27 columns</p>\n</div>"
     },
     "metadata": {},
     "execution_count": 75
    }
   ],
   "source": [
    "#The final result is..\n",
    "df_train"
   ]
  },
  {
   "cell_type": "code",
   "execution_count": null,
   "metadata": {},
   "outputs": [],
   "source": []
  }
 ]
}