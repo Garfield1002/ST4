{
 "metadata": {
  "language_info": {
   "codemirror_mode": {
    "name": "ipython",
    "version": 3
   },
   "file_extension": ".py",
   "mimetype": "text/x-python",
   "name": "python",
   "nbconvert_exporter": "python",
   "pygments_lexer": "ipython3",
   "version": "3.9.2"
  },
  "orig_nbformat": 2,
  "kernelspec": {
   "name": "python392jvsc74a57bd0ac59ebe37160ed0dfa835113d9b8498d9f09ceb179beaac4002f036b9467c963",
   "display_name": "Python 3.9.2 64-bit"
  },
  "metadata": {
   "interpreter": {
    "hash": "ac59ebe37160ed0dfa835113d9b8498d9f09ceb179beaac4002f036b9467c963"
   }
  }
 },
 "nbformat": 4,
 "nbformat_minor": 2,
 "cells": [
  {
   "cell_type": "code",
   "execution_count": 1,
   "metadata": {},
   "outputs": [],
   "source": [
    "import os\n",
    "import matplotlib.pyplot as plt"
   ]
  },
  {
   "cell_type": "code",
   "execution_count": 2,
   "metadata": {},
   "outputs": [],
   "source": [
    "import tensorflow as tf"
   ]
  },
  {
   "cell_type": "code",
   "execution_count": 3,
   "metadata": {},
   "outputs": [
    {
     "output_type": "stream",
     "name": "stdout",
     "text": [
      "TensorFlow version: 2.5.0\nEager execution: True\n"
     ]
    }
   ],
   "source": [
    "print(\"TensorFlow version: {}\".format(tf.__version__))\n",
    "print(\"Eager execution: {}\".format(tf.executing_eagerly()))"
   ]
  },
  {
   "cell_type": "code",
   "execution_count": 6,
   "metadata": {},
   "outputs": [
    {
     "output_type": "stream",
     "name": "stdout",
     "text": [
      "Features: ['', 'age', 'gender', 'scentLover', 'ecoInterest', 'MrPropre', 'Antikal', 'Ariel', 'Dash', 'pods', 'powder', 'liquid', 'electricToothbrush', 'likesPets', 'hasPet', 'daysSinceActivity', 'nbChildren', 'magasin', 'moyenneSurface', 'superMarket', 'hyperMarket', 'drive', 'hardDiscount']\nLabel: washDishes\n"
     ]
    }
   ],
   "source": [
    "# column order in CSV file\n",
    "column_names = [\"\",\"age\",\"gender\",\"scentLover\",\"ecoInterest\",\"washDishes\",\"MrPropre\",\"Antikal\",\"Ariel\",\"Dash\",\"pods\",\"powder\",\"liquid\",\"electricToothbrush\",\"likesPets\",\"hasPet\",\"daysSinceActivity\",\"nbChildren\",\"magasin\",\"moyenneSurface\",\"superMarket\",\"hyperMarket\",\"drive\",\"hardDiscount\"]\n",
    "\n",
    "feature_names = [c for c in column_names if c!='washDishes']\n",
    "label_name = column_names[5]\n",
    "\n",
    "print(\"Features: {}\".format(feature_names))\n",
    "print(\"Label: {}\".format(label_name))"
   ]
  },
  {
   "cell_type": "code",
   "execution_count": null,
   "metadata": {},
   "outputs": [],
   "source": []
  }
 ]
}