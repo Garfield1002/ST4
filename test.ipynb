{
 "cells": [
  {
   "cell_type": "markdown",
   "metadata": {},
   "source": [
    "# EI ST4"
   ]
  },
  {
   "cell_type": "markdown",
   "metadata": {},
   "source": [
    "## Imports"
   ]
  },
  {
   "cell_type": "code",
   "execution_count": 1,
   "metadata": {},
   "outputs": [],
   "source": [
    "import pandas as pd\n",
    "from datetime import datetime"
   ]
  },
  {
   "cell_type": "code",
   "execution_count": 2,
   "metadata": {},
   "outputs": [],
   "source": [
    "df = pd.read_csv(r\"DS_CentraleSupelec_ST42021/DS_CentraleSupelec_train.csv\")"
   ]
  },
  {
   "cell_type": "markdown",
   "metadata": {},
   "source": [
    "## Cleaning up the dataframe"
   ]
  },
  {
   "cell_type": "code",
<<<<<<< HEAD
<<<<<<< HEAD
   "execution_count": 8,
=======
   "execution_count": 4,
>>>>>>> f15432d283792795929292d9bb61f00fd23ccb6a
=======
   "execution_count": 3,
>>>>>>> 14ff6a1fa625b0d1812a44d8dc37ebffa8069e7a
   "metadata": {},
   "outputs": [
    {
     "data": {
      "text/html": "<div>\n<style scoped>\n    .dataframe tbody tr th:only-of-type {\n        vertical-align: middle;\n    }\n\n    .dataframe tbody tr th {\n        vertical-align: top;\n    }\n\n    .dataframe thead th {\n        text-align: right;\n    }\n</style>\n<table border=\"1\" class=\"dataframe\">\n  <thead>\n    <tr style=\"text-align: right;\">\n      <th></th>\n      <th>userId</th>\n      <th>age</th>\n      <th>gender</th>\n      <th>registrationDate</th>\n      <th>languageCode</th>\n      <th>countryCode</th>\n      <th>emailContactable</th>\n      <th>postalContactable</th>\n      <th>postalCode</th>\n      <th>numberChildren</th>\n      <th>...</th>\n      <th>detergentType</th>\n      <th>MrPropreTrier</th>\n      <th>AntikalTrier</th>\n      <th>ArielTrier</th>\n      <th>DashTrier</th>\n      <th>scentLover</th>\n      <th>petOwner</th>\n      <th>ecoInterest</th>\n      <th>closestShop</th>\n      <th>washDishes</th>\n    </tr>\n  </thead>\n  <tbody>\n    <tr>\n      <th>0</th>\n      <td>use_XbA1FTDcCrTMNTHK1851TzjyPMP</td>\n      <td>24</td>\n      <td>F</td>\n      <td>2019-10-14T17:33:37Z</td>\n      <td>fr</td>\n      <td>FRA</td>\n      <td>True</td>\n      <td>True</td>\n      <td>68540</td>\n      <td>1</td>\n      <td>...</td>\n      <td>Liquid</td>\n      <td>NaN</td>\n      <td>NaN</td>\n      <td>NaN</td>\n      <td>NaN</td>\n      <td>NonUser</td>\n      <td>Yes</td>\n      <td>NaN</td>\n      <td>NaN</td>\n      <td>Auto</td>\n    </tr>\n    <tr>\n      <th>1</th>\n      <td>use_3WHgsMVGSg5MHG2zja91TzdfmY2</td>\n      <td>67</td>\n      <td>F</td>\n      <td>2017-07-25T07:00:31Z</td>\n      <td>fr</td>\n      <td>FRA</td>\n      <td>True</td>\n      <td>True</td>\n      <td>17390</td>\n      <td>3</td>\n      <td>...</td>\n      <td>Pods</td>\n      <td>Known Trier</td>\n      <td>Known Trier</td>\n      <td>Known Trier</td>\n      <td>NaN</td>\n      <td>NaN</td>\n      <td>No</td>\n      <td>High</td>\n      <td>NaN</td>\n      <td>Auto</td>\n    </tr>\n    <tr>\n      <th>2</th>\n      <td>use_2SisOiR8QwDaHI4svm11TzcvK7V</td>\n      <td>45</td>\n      <td>F</td>\n      <td>2015-06-25T00:00:00Z</td>\n      <td>fr</td>\n      <td>FRA</td>\n      <td>True</td>\n      <td>True</td>\n      <td>30200</td>\n      <td>1</td>\n      <td>...</td>\n      <td>Liquid</td>\n      <td>NaN</td>\n      <td>NaN</td>\n      <td>Known Trier</td>\n      <td>Known Trier</td>\n      <td>NonUser</td>\n      <td>Yes</td>\n      <td>High</td>\n      <td>NaN</td>\n      <td>Auto</td>\n    </tr>\n    <tr>\n      <th>3</th>\n      <td>use_W0T1LmfKaQPJYD1RTWh1Tzdc69H</td>\n      <td>35</td>\n      <td>F</td>\n      <td>2018-01-31T07:24:39Z</td>\n      <td>fr</td>\n      <td>FRA</td>\n      <td>True</td>\n      <td>True</td>\n      <td>61400</td>\n      <td>2</td>\n      <td>...</td>\n      <td>Pods</td>\n      <td>NaN</td>\n      <td>NaN</td>\n      <td>Known Trier</td>\n      <td>Known Trier</td>\n      <td>Low</td>\n      <td>Yes</td>\n      <td>Medium</td>\n      <td>NaN</td>\n      <td>Hand</td>\n    </tr>\n    <tr>\n      <th>4</th>\n      <td>use_KwYWZ7UMl4veveOaPGK1TzddtmI</td>\n      <td>38</td>\n      <td>F</td>\n      <td>2016-01-26T11:42:17Z</td>\n      <td>fr</td>\n      <td>FRA</td>\n      <td>True</td>\n      <td>True</td>\n      <td>30620</td>\n      <td>0</td>\n      <td>...</td>\n      <td>Liquid</td>\n      <td>Known Trier</td>\n      <td>Known Trier</td>\n      <td>Known Trier</td>\n      <td>Known Trier</td>\n      <td>NaN</td>\n      <td>Yes</td>\n      <td>Low</td>\n      <td>NaN</td>\n      <td>Hand</td>\n    </tr>\n    <tr>\n      <th>...</th>\n      <td>...</td>\n      <td>...</td>\n      <td>...</td>\n      <td>...</td>\n      <td>...</td>\n      <td>...</td>\n      <td>...</td>\n      <td>...</td>\n      <td>...</td>\n      <td>...</td>\n      <td>...</td>\n      <td>...</td>\n      <td>...</td>\n      <td>...</td>\n      <td>...</td>\n      <td>...</td>\n      <td>...</td>\n      <td>...</td>\n      <td>...</td>\n      <td>...</td>\n      <td>...</td>\n    </tr>\n    <tr>\n      <th>11995</th>\n      <td>use_ICSyEvCcRNPpQeBdWcM1TzdczV8</td>\n      <td>53</td>\n      <td>F</td>\n      <td>2015-03-11T20:03:16Z</td>\n      <td>fr</td>\n      <td>FRA</td>\n      <td>True</td>\n      <td>True</td>\n      <td>77240</td>\n      <td>4+</td>\n      <td>...</td>\n      <td>Pods</td>\n      <td>NaN</td>\n      <td>NaN</td>\n      <td>NaN</td>\n      <td>NaN</td>\n      <td>NaN</td>\n      <td>Yes</td>\n      <td>NaN</td>\n      <td>NaN</td>\n      <td>Auto</td>\n    </tr>\n    <tr>\n      <th>11996</th>\n      <td>use_Q5DNYeSmG7g6VeMV4n71TzeTRRz</td>\n      <td>43</td>\n      <td>F</td>\n      <td>2015-10-10T19:16:19Z</td>\n      <td>fr</td>\n      <td>FRA</td>\n      <td>True</td>\n      <td>True</td>\n      <td>45120</td>\n      <td>0</td>\n      <td>...</td>\n      <td>Liquid</td>\n      <td>NaN</td>\n      <td>NaN</td>\n      <td>NaN</td>\n      <td>NaN</td>\n      <td>Low</td>\n      <td>Yes</td>\n      <td>Medium</td>\n      <td>NaN</td>\n      <td>Hand</td>\n    </tr>\n    <tr>\n      <th>11997</th>\n      <td>use_rEoce5pc0MlKpndfzNj1Tze3J1L</td>\n      <td>42</td>\n      <td>F</td>\n      <td>2015-05-08T02:59:34Z</td>\n      <td>fr</td>\n      <td>FRA</td>\n      <td>True</td>\n      <td>True</td>\n      <td>35170</td>\n      <td>3</td>\n      <td>...</td>\n      <td>Liquid</td>\n      <td>NaN</td>\n      <td>NaN</td>\n      <td>NaN</td>\n      <td>NaN</td>\n      <td>NaN</td>\n      <td>Yes</td>\n      <td>High</td>\n      <td>NaN</td>\n      <td>Hand</td>\n    </tr>\n    <tr>\n      <th>11998</th>\n      <td>use_0AuDL2wOJHy9I16zSC21TzeHRMo</td>\n      <td>39</td>\n      <td>M</td>\n      <td>2019-05-20T11:59:02Z</td>\n      <td>fr</td>\n      <td>FRA</td>\n      <td>True</td>\n      <td>True</td>\n      <td>45160</td>\n      <td>1</td>\n      <td>...</td>\n      <td>Liquid</td>\n      <td>NaN</td>\n      <td>NaN</td>\n      <td>NaN</td>\n      <td>NaN</td>\n      <td>NaN</td>\n      <td>Yes</td>\n      <td>NaN</td>\n      <td>NaN</td>\n      <td>Auto</td>\n    </tr>\n    <tr>\n      <th>11999</th>\n      <td>use_B7F2PfU4eOKBmVc93AU1TzdqFY9</td>\n      <td>32</td>\n      <td>F</td>\n      <td>2017-03-05T12:42:26Z</td>\n      <td>FR</td>\n      <td>FRA</td>\n      <td>True</td>\n      <td>True</td>\n      <td>37600</td>\n      <td>3</td>\n      <td>...</td>\n      <td>Liquid</td>\n      <td>NaN</td>\n      <td>NaN</td>\n      <td>NaN</td>\n      <td>NaN</td>\n      <td>NonUser</td>\n      <td>Yes</td>\n      <td>High</td>\n      <td>3. SuperMarket</td>\n      <td>Hand</td>\n    </tr>\n  </tbody>\n</table>\n<p>12000 rows × 23 columns</p>\n</div>",
      "text/plain": "                                userId  age gender      registrationDate  \\\n0      use_XbA1FTDcCrTMNTHK1851TzjyPMP   24      F  2019-10-14T17:33:37Z   \n1      use_3WHgsMVGSg5MHG2zja91TzdfmY2   67      F  2017-07-25T07:00:31Z   \n2      use_2SisOiR8QwDaHI4svm11TzcvK7V   45      F  2015-06-25T00:00:00Z   \n3      use_W0T1LmfKaQPJYD1RTWh1Tzdc69H   35      F  2018-01-31T07:24:39Z   \n4      use_KwYWZ7UMl4veveOaPGK1TzddtmI   38      F  2016-01-26T11:42:17Z   \n...                                ...  ...    ...                   ...   \n11995  use_ICSyEvCcRNPpQeBdWcM1TzdczV8   53      F  2015-03-11T20:03:16Z   \n11996  use_Q5DNYeSmG7g6VeMV4n71TzeTRRz   43      F  2015-10-10T19:16:19Z   \n11997  use_rEoce5pc0MlKpndfzNj1Tze3J1L   42      F  2015-05-08T02:59:34Z   \n11998  use_0AuDL2wOJHy9I16zSC21TzeHRMo   39      M  2019-05-20T11:59:02Z   \n11999  use_B7F2PfU4eOKBmVc93AU1TzdqFY9   32      F  2017-03-05T12:42:26Z   \n\n      languageCode countryCode  emailContactable  postalContactable  \\\n0               fr         FRA              True               True   \n1               fr         FRA              True               True   \n2               fr         FRA              True               True   \n3               fr         FRA              True               True   \n4               fr         FRA              True               True   \n...            ...         ...               ...                ...   \n11995           fr         FRA              True               True   \n11996           fr         FRA              True               True   \n11997           fr         FRA              True               True   \n11998           fr         FRA              True               True   \n11999           FR         FRA              True               True   \n\n      postalCode numberChildren  ... detergentType MrPropreTrier AntikalTrier  \\\n0          68540              1  ...        Liquid           NaN          NaN   \n1          17390              3  ...          Pods   Known Trier  Known Trier   \n2          30200              1  ...        Liquid           NaN          NaN   \n3          61400              2  ...          Pods           NaN          NaN   \n4          30620              0  ...        Liquid   Known Trier  Known Trier   \n...          ...            ...  ...           ...           ...          ...   \n11995      77240             4+  ...          Pods           NaN          NaN   \n11996      45120              0  ...        Liquid           NaN          NaN   \n11997      35170              3  ...        Liquid           NaN          NaN   \n11998      45160              1  ...        Liquid           NaN          NaN   \n11999      37600              3  ...        Liquid           NaN          NaN   \n\n        ArielTrier    DashTrier scentLover petOwner ecoInterest  \\\n0              NaN          NaN    NonUser      Yes         NaN   \n1      Known Trier          NaN        NaN       No        High   \n2      Known Trier  Known Trier    NonUser      Yes        High   \n3      Known Trier  Known Trier        Low      Yes      Medium   \n4      Known Trier  Known Trier        NaN      Yes         Low   \n...            ...          ...        ...      ...         ...   \n11995          NaN          NaN        NaN      Yes         NaN   \n11996          NaN          NaN        Low      Yes      Medium   \n11997          NaN          NaN        NaN      Yes        High   \n11998          NaN          NaN        NaN      Yes         NaN   \n11999          NaN          NaN    NonUser      Yes        High   \n\n          closestShop washDishes  \n0                 NaN       Auto  \n1                 NaN       Auto  \n2                 NaN       Auto  \n3                 NaN       Hand  \n4                 NaN       Hand  \n...               ...        ...  \n11995             NaN       Auto  \n11996             NaN       Hand  \n11997             NaN       Hand  \n11998             NaN       Auto  \n11999  3. SuperMarket       Hand  \n\n[12000 rows x 23 columns]"
     },
     "execution_count": 4,
     "metadata": {},
<<<<<<< HEAD
<<<<<<< HEAD
     "execution_count": 8
=======
     "output_type": "execute_result"
>>>>>>> f15432d283792795929292d9bb61f00fd23ccb6a
=======
     "execution_count": 3
>>>>>>> 14ff6a1fa625b0d1812a44d8dc37ebffa8069e7a
    }
   ],
   "source": [
    "df"
   ]
  },
  {
   "cell_type": "code",
   "execution_count": 5,
   "metadata": {},
   "outputs": [
    {
     "data": {
      "text/plain": "userId               12000\nage                     74\ngender                   2\nregistrationDate      9875\nlanguageCode             2\ncountryCode              1\nemailContactable         2\npostalContactable        2\npostalCode            3794\nnumberChildren          10\nlastActivityDate     12000\nreactivationValue        5\ntoothBrushType           2\ndetergentType           10\nMrPropreTrier            1\nAntikalTrier             1\nArielTrier               1\nDashTrier                1\nscentLover               4\npetOwner                 9\necoInterest              4\nclosestShop              6\nwashDishes               2\ndtype: int64"
     },
     "execution_count": 5,
     "metadata": {},
     "output_type": "execute_result"
    }
   ],
   "source": [
<<<<<<< HEAD
    "In order to clear the data, we would like to know which data is relevant for the categorization. First, we are going to clear the data specific to each user because they are not helpful to gather users in categories.\n",
    "The command below shows the redundancy of each column\n",
    "."
=======
    "# Get unique count for each variable\n",
    "df.nunique()"
   ]
  },
  {
   "cell_type": "code",
   "execution_count": 6,
   "metadata": {},
   "outputs": [
    {
     "data": {
      "text/plain": "userId               object\nage                   int64\ngender               object\nregistrationDate     object\nlanguageCode         object\ncountryCode          object\nemailContactable       bool\npostalContactable      bool\npostalCode           object\nnumberChildren       object\nlastActivityDate     object\nreactivationValue    object\ntoothBrushType       object\ndetergentType        object\nMrPropreTrier        object\nAntikalTrier         object\nArielTrier           object\nDashTrier            object\nscentLover           object\npetOwner             object\necoInterest          object\nclosestShop          object\nwashDishes           object\ndtype: object"
     },
     "execution_count": 6,
     "metadata": {},
     "output_type": "execute_result"
    }
>>>>>>> f15432d283792795929292d9bb61f00fd23ccb6a
   ],
   "source": [
    "# Check variable data types\n",
    "df.dtypes"
   ]
  },
  {
   "cell_type": "markdown",
   "metadata": {},
   "source": [
    "We can remove the `languageCode` and `countryCode` column as they are constant"
   ]
  },
  {
   "cell_type": "code",
<<<<<<< HEAD
<<<<<<< HEAD
   "execution_count": 9,
=======
   "execution_count": 7,
>>>>>>> f15432d283792795929292d9bb61f00fd23ccb6a
=======
   "execution_count": 4,
>>>>>>> 14ff6a1fa625b0d1812a44d8dc37ebffa8069e7a
   "metadata": {},
   "outputs": [
    {
     "data": {
<<<<<<< HEAD
      "text/plain": [
       "userId               12000\n",
       "age                     74\n",
       "gender                   2\n",
       "registrationDate      9875\n",
       "languageCode             2\n",
       "countryCode              1\n",
       "emailContactable         2\n",
       "postalContactable        2\n",
       "postalCode            3794\n",
       "numberChildren          10\n",
       "lastActivityDate     12000\n",
       "reactivationValue        5\n",
       "toothBrushType           2\n",
       "detergentType           10\n",
       "MrPropreTrier            1\n",
       "AntikalTrier             1\n",
       "ArielTrier               1\n",
       "DashTrier                1\n",
       "scentLover               4\n",
       "petOwner                 9\n",
       "ecoInterest              4\n",
       "closestShop              6\n",
       "washDishes               2\n",
       "dtype: int64"
      ]
=======
      "text/plain": "True"
>>>>>>> f15432d283792795929292d9bb61f00fd23ccb6a
     },
     "execution_count": 7,
     "metadata": {},
<<<<<<< HEAD
<<<<<<< HEAD
     "execution_count": 9
=======
     "output_type": "execute_result"
>>>>>>> f15432d283792795929292d9bb61f00fd23ccb6a
=======
>>>>>>> 14ff6a1fa625b0d1812a44d8dc37ebffa8069e7a
    }
   ]
  },
  {
   "cell_type": "code",
   "execution_count": 5,
   "metadata": {},
   "outputs": [],
   "source": [
    "df = df.drop(columns=['languageCode', 'countryCode'])"
   ]
  },
  {
   "source": [
    "We will also remove the `userId`, `registrationDate`, `reactivationValue`, `emailContactable` and `postalContactable` as they are irrelevant"
   ],
   "cell_type": "markdown",
   "metadata": {}
  },
  {
   "cell_type": "code",
   "execution_count": 6,
   "metadata": {},
   "outputs": [],
   "source": [
<<<<<<< HEAD
    "# Get unique count for each variable\n",
    "df.nunique()"
   ]
  },
  {
   "source": [
    "We can remove the `languageCode`, `countryCode`, 'MrPropreTrier', 'ArielTrier', 'DashTrier' column as they are constant"
   ],
   "cell_type": "markdown",
   "metadata": {}
  },
  {
   "cell_type": "code",
   "execution_count": null,
   "metadata": {},
   "outputs": [],
   "source": [
    "df[~df.languageCode.isin(['fr', 'FR'])].empty and df[~df.countryCode.eq('FRA')].empty"
=======
    "df = df.drop(columns=['userId', 'registrationDate', 'reactivationValue', 'emailContactable', 'postalContactable'])"
>>>>>>> 14ff6a1fa625b0d1812a44d8dc37ebffa8069e7a
   ]
  },
  {
   "source": [
    "We are going to replace the `washDishes` `STRING` column with a `ownsDishwasher` `INT` column"
   ],
   "cell_type": "markdown",
   "metadata": {}
  },
  {
   "cell_type": "code",
   "execution_count": 7,
   "metadata": {},
   "outputs": [],
   "source": [
    "df['ownsDishwasher'] = df.apply(lambda row: 1 if row['washDishes'] == 'Auto' else 0, axis=1)\n",
    "df = df.drop(columns=[\"washDishes\"])"
   ]
  },
  {
   "source": [
    "In the `MrPropreTrier`, `AntikalTrier`, `ArielTrier`, `DashTrier` we will replace `Known Trier` with `1` and `Nan` with `0`"
   ],
   "cell_type": "markdown",
   "metadata": {}
  },
  {
   "cell_type": "code",
   "execution_count": 8,
   "metadata": {},
   "outputs": [],
   "source": [
    "for c in ['MrPropreTrier', 'AntikalTrier', 'ArielTrier', 'DashTrier']:\n",
    "    df[c[:-5]] = df.apply(lambda row: 1 if row[c] == 'Known Trier' else 0, axis=1)\n",
    "    df = df.drop(columns=[c])"
   ]
  },
  {
   "source": [
    "We will replace `detergentType` by `liquidDetergent`"
   ],
   "cell_type": "markdown",
   "metadata": {}
  },
  {
   "cell_type": "code",
   "execution_count": 9,
   "metadata": {},
   "outputs": [],
   "source": [
    "df['liquidDetergent'] = df.apply(lambda row: 1 if row['detergentType'] == 'Liquid' else 0, axis=1)\n",
    "df = df.drop(columns=['detergentType'])"
   ]
  },
  {
   "source": [
    "Replacing `toothBrushType` with `electricToothbrush`"
   ],
   "cell_type": "markdown",
   "metadata": {}
  },
  {
   "cell_type": "code",
   "execution_count": 10,
   "metadata": {},
   "outputs": [],
   "source": [
    "df['electricToothbrush'] = df.apply(lambda row: 1 if row['toothBrushType'] == 'Electric' else 0, axis=1)\n",
    "df = df.drop(columns=['toothBrushType'])"
   ]
  },
  {
   "cell_type": "markdown",
   "metadata": {},
   "source": [
    "Replacing `petOwner` with `hasPet`"
   ],
   "cell_type": "markdown",
   "metadata": {}
  },
  {
   "cell_type": "code",
   "execution_count": 11,
   "metadata": {},
   "outputs": [],
   "source": [
    "df['hasPet'] = df.apply(lambda row: 1 if row['petOwner'] == 'Yes' else 0, axis=1)\n",
    "df = df.drop(columns=['petOwner'])"
   ]
  },
  {
   "source": [
    "Transforms a `ISO 8601` time string to the amount of days since the time string"
   ],
   "cell_type": "markdown",
   "metadata": {}
  },
  {
   "cell_type": "code",
   "execution_count": 17,
   "metadata": {},
   "outputs": [],
   "source": [
    "def timeStringToDelta(timeString: str) -> int:\n",
    "    return int((datetime.utcnow().timestamp() - datetime.strptime(timeString[:10], \"%Y-%m-%d\").timestamp()) / 3600 / 24)"
   ]
  },
  {
   "source": [
    "Replaces `lastActivityDate` with `daysSinceActivity`: an `integer` representing the amount of ellapsed days since last activity"
   ],
   "cell_type": "markdown",
   "metadata": {}
  },
  {
   "cell_type": "code",
   "execution_count": 18,
   "metadata": {},
   "outputs": [],
   "source": [
    "df[''] = df.apply(lambda row: timeStringToDelta(row['lastActivityDate']), axis=1)\n",
    "df = df.drop(columns=['lastActivityDate'])"
   ]
  },
  {
   "cell_type": "code",
   "execution_count": 19,
   "metadata": {},
   "outputs": [
    {
     "data": {
      "text/plain": [
       "       age gender postalCode numberChildren scentLover ecoInterest  \\\n",
       "0       24      F      68540              1    NonUser         NaN   \n",
       "1       67      F      17390              3        NaN        High   \n",
       "2       45      F      30200              1    NonUser        High   \n",
       "3       35      F      61400              2        Low      Medium   \n",
       "4       38      F      30620              0        NaN         Low   \n",
       "...    ...    ...        ...            ...        ...         ...   \n",
       "11995   53      F      77240             4+        NaN         NaN   \n",
       "11996   43      F      45120              0        Low      Medium   \n",
       "11997   42      F      35170              3        NaN        High   \n",
       "11998   39      M      45160              1        NaN         NaN   \n",
       "11999   32      F      37600              3    NonUser        High   \n",
       "\n",
       "          closestShop  ownsDishwasher  MrPropre  Antikal  Ariel  Dash  \\\n",
       "0                 NaN               1         0        0      0     0   \n",
       "1                 NaN               1         1        1      1     0   \n",
       "2                 NaN               1         0        0      1     1   \n",
       "3                 NaN               0         0        0      1     1   \n",
       "4                 NaN               0         1        1      1     1   \n",
       "...               ...             ...       ...      ...    ...   ...   \n",
       "11995             NaN               1         0        0      0     0   \n",
       "11996             NaN               0         0        0      0     0   \n",
       "11997             NaN               0         0        0      0     0   \n",
       "11998             NaN               1         0        0      0     0   \n",
       "11999  3. SuperMarket               0         0        0      0     0   \n",
       "\n",
       "       liquidDetergent  electricToothbrush  hasPet  durationSinceLastActivity  \n",
       "0                    1                   0       1                        307  \n",
       "1                    0                   0       0                         27  \n",
       "2                    1                   0       1                        129  \n",
       "3                    0                   0       1                        339  \n",
       "4                    1                   1       1                        157  \n",
       "...                ...                 ...     ...                        ...  \n",
       "11995                0                   0       1                          9  \n",
       "11996                1                   1       1                        166  \n",
       "11997                1                   0       1                         32  \n",
       "11998                1                   1       1                        259  \n",
       "11999                1                   1       1                        289  \n",
       "\n",
       "[12000 rows x 16 columns]"
      ],
      "text/html": "<div>\n<style scoped>\n    .dataframe tbody tr th:only-of-type {\n        vertical-align: middle;\n    }\n\n    .dataframe tbody tr th {\n        vertical-align: top;\n    }\n\n    .dataframe thead th {\n        text-align: right;\n    }\n</style>\n<table border=\"1\" class=\"dataframe\">\n  <thead>\n    <tr style=\"text-align: right;\">\n      <th></th>\n      <th>age</th>\n      <th>gender</th>\n      <th>postalCode</th>\n      <th>numberChildren</th>\n      <th>scentLover</th>\n      <th>ecoInterest</th>\n      <th>closestShop</th>\n      <th>ownsDishwasher</th>\n      <th>MrPropre</th>\n      <th>Antikal</th>\n      <th>Ariel</th>\n      <th>Dash</th>\n      <th>liquidDetergent</th>\n      <th>electricToothbrush</th>\n      <th>hasPet</th>\n      <th>durationSinceLastActivity</th>\n    </tr>\n  </thead>\n  <tbody>\n    <tr>\n      <th>0</th>\n      <td>24</td>\n      <td>F</td>\n      <td>68540</td>\n      <td>1</td>\n      <td>NonUser</td>\n      <td>NaN</td>\n      <td>NaN</td>\n      <td>1</td>\n      <td>0</td>\n      <td>0</td>\n      <td>0</td>\n      <td>0</td>\n      <td>1</td>\n      <td>0</td>\n      <td>1</td>\n      <td>307</td>\n    </tr>\n    <tr>\n      <th>1</th>\n      <td>67</td>\n      <td>F</td>\n      <td>17390</td>\n      <td>3</td>\n      <td>NaN</td>\n      <td>High</td>\n      <td>NaN</td>\n      <td>1</td>\n      <td>1</td>\n      <td>1</td>\n      <td>1</td>\n      <td>0</td>\n      <td>0</td>\n      <td>0</td>\n      <td>0</td>\n      <td>27</td>\n    </tr>\n    <tr>\n      <th>2</th>\n      <td>45</td>\n      <td>F</td>\n      <td>30200</td>\n      <td>1</td>\n      <td>NonUser</td>\n      <td>High</td>\n      <td>NaN</td>\n      <td>1</td>\n      <td>0</td>\n      <td>0</td>\n      <td>1</td>\n      <td>1</td>\n      <td>1</td>\n      <td>0</td>\n      <td>1</td>\n      <td>129</td>\n    </tr>\n    <tr>\n      <th>3</th>\n      <td>35</td>\n      <td>F</td>\n      <td>61400</td>\n      <td>2</td>\n      <td>Low</td>\n      <td>Medium</td>\n      <td>NaN</td>\n      <td>0</td>\n      <td>0</td>\n      <td>0</td>\n      <td>1</td>\n      <td>1</td>\n      <td>0</td>\n      <td>0</td>\n      <td>1</td>\n      <td>339</td>\n    </tr>\n    <tr>\n      <th>4</th>\n      <td>38</td>\n      <td>F</td>\n      <td>30620</td>\n      <td>0</td>\n      <td>NaN</td>\n      <td>Low</td>\n      <td>NaN</td>\n      <td>0</td>\n      <td>1</td>\n      <td>1</td>\n      <td>1</td>\n      <td>1</td>\n      <td>1</td>\n      <td>1</td>\n      <td>1</td>\n      <td>157</td>\n    </tr>\n    <tr>\n      <th>...</th>\n      <td>...</td>\n      <td>...</td>\n      <td>...</td>\n      <td>...</td>\n      <td>...</td>\n      <td>...</td>\n      <td>...</td>\n      <td>...</td>\n      <td>...</td>\n      <td>...</td>\n      <td>...</td>\n      <td>...</td>\n      <td>...</td>\n      <td>...</td>\n      <td>...</td>\n      <td>...</td>\n    </tr>\n    <tr>\n      <th>11995</th>\n      <td>53</td>\n      <td>F</td>\n      <td>77240</td>\n      <td>4+</td>\n      <td>NaN</td>\n      <td>NaN</td>\n      <td>NaN</td>\n      <td>1</td>\n      <td>0</td>\n      <td>0</td>\n      <td>0</td>\n      <td>0</td>\n      <td>0</td>\n      <td>0</td>\n      <td>1</td>\n      <td>9</td>\n    </tr>\n    <tr>\n      <th>11996</th>\n      <td>43</td>\n      <td>F</td>\n      <td>45120</td>\n      <td>0</td>\n      <td>Low</td>\n      <td>Medium</td>\n      <td>NaN</td>\n      <td>0</td>\n      <td>0</td>\n      <td>0</td>\n      <td>0</td>\n      <td>0</td>\n      <td>1</td>\n      <td>1</td>\n      <td>1</td>\n      <td>166</td>\n    </tr>\n    <tr>\n      <th>11997</th>\n      <td>42</td>\n      <td>F</td>\n      <td>35170</td>\n      <td>3</td>\n      <td>NaN</td>\n      <td>High</td>\n      <td>NaN</td>\n      <td>0</td>\n      <td>0</td>\n      <td>0</td>\n      <td>0</td>\n      <td>0</td>\n      <td>1</td>\n      <td>0</td>\n      <td>1</td>\n      <td>32</td>\n    </tr>\n    <tr>\n      <th>11998</th>\n      <td>39</td>\n      <td>M</td>\n      <td>45160</td>\n      <td>1</td>\n      <td>NaN</td>\n      <td>NaN</td>\n      <td>NaN</td>\n      <td>1</td>\n      <td>0</td>\n      <td>0</td>\n      <td>0</td>\n      <td>0</td>\n      <td>1</td>\n      <td>1</td>\n      <td>1</td>\n      <td>259</td>\n    </tr>\n    <tr>\n      <th>11999</th>\n      <td>32</td>\n      <td>F</td>\n      <td>37600</td>\n      <td>3</td>\n      <td>NonUser</td>\n      <td>High</td>\n      <td>3. SuperMarket</td>\n      <td>0</td>\n      <td>0</td>\n      <td>0</td>\n      <td>0</td>\n      <td>0</td>\n      <td>1</td>\n      <td>1</td>\n      <td>1</td>\n      <td>289</td>\n    </tr>\n  </tbody>\n</table>\n<p>12000 rows × 16 columns</p>\n</div>"
     },
     "execution_count": 9,
     "metadata": {},
     "execution_count": 19
    }
   ],
   "source": [
    "df"
   ]
  },
  {
   "cell_type": "code",
   "execution_count": 16,
   "metadata": {},
   "outputs": [
    {
     "output_type": "execute_result",
     "data": {
      "text/plain": [
       "'2021-05-06'"
      ]
     },
     "metadata": {},
     "execution_count": 16
    }
   ],
   "source": [
    "d = '2021-05-06T20:18:39.453599Z'\n",
    "d[:10]"
   ]
  },
  {
   "cell_type": "code",
   "execution_count": null,
   "metadata": {},
   "outputs": [],
   "source": []
  }
 ],
 "metadata": {
  "kernelspec": {
   "display_name": "Python 3.8.3 64-bit ('base': conda)",
   "name": "python383jvsc74a57bd0dca0ade3e726a953b501b15e8e990130d2b7799f14cfd9f4271676035ebe5511"
  },
  "language_info": {
   "codemirror_mode": {
    "name": "ipython",
    "version": 3
   },
   "file_extension": ".py",
   "mimetype": "text/x-python",
   "name": "python",
   "nbconvert_exporter": "python",
   "pygments_lexer": "ipython3",
   "version": "3.8.3"
  },
  "metadata": {
   "interpreter": {
    "hash": "ac59ebe37160ed0dfa835113d9b8498d9f09ceb179beaac4002f036b9467c963"
   }
  },
  "orig_nbformat": 2
 },
 "nbformat": 4,
 "nbformat_minor": 2
}