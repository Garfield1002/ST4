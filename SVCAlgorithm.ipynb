{
 "cells": [
  {
   "cell_type": "code",
   "execution_count": 1,
   "metadata": {},
   "outputs": [],
   "source": [
    "%run cleanData.ipynb\n",
    "%run cleanData_test.ipynb"
   ]
  },
  {
   "cell_type": "code",
   "execution_count": 2,
   "metadata": {},
   "outputs": [],
   "source": [
    "#Import libraries\n",
    "import pandas as pd\n",
    "import numpy as np\n",
    "import sys\n",
    "import os\n",
    "import random\n",
    "from pathlib import Path\n",
    "import matplotlib.pyplot as plt\n",
    "import seaborn as sns\n",
    "import scipy\n",
    "from sklearn.model_selection import train_test_split, KFold, GridSearchCV\n",
    "from sklearn import metrics\n",
    "from sklearn.metrics import roc_auc_score\n",
    "from sklearn.ensemble import RandomForestClassifier, AdaBoostClassifier, GradientBoostingClassifier, ExtraTreesClassifier\n",
    "from sklearn.svm import SVC\n",
    "from sklearn.linear_model import SGDClassifier"
   ]
  },
  {
   "cell_type": "code",
   "execution_count": 3,
   "metadata": {},
   "outputs": [],
   "source": [
    "#Convert data into float to be used in our algorithm\n",
    "\n",
    "def clean_dataset(df):\n",
    "    assert isinstance(df, pd.DataFrame), \"df needs to be a pd.DataFrame\"\n",
    "    df.dropna(inplace=True)\n",
    "    indices_to_keep = ~df.isin([np.nan, np.inf, -np.inf]).any(1)\n",
    "    return df[indices_to_keep].astype(np.float64)\n",
    "\n",
    "df_train=clean_dataset(df_train)\n",
    "df_test =clean_dataset(df_test)"
   ]
  },
  {
   "cell_type": "code",
   "execution_count": 4,
   "metadata": {},
   "outputs": [],
   "source": [
    "#We are using 80-20 split for train-test\n",
    "VALID_SIZE = 0.2\n",
    "#We also use random state for reproducibility\n",
    "RANDOM_STATE = 2018\n",
    "\n",
    "train, valid = train_test_split(df_train, test_size=VALID_SIZE, random_state=RANDOM_STATE, shuffle=True )"
   ]
  },
  {
   "cell_type": "code",
   "execution_count": 5,
   "metadata": {},
   "outputs": [
    {
     "data": {
      "text/html": "<div>\n<style scoped>\n    .dataframe tbody tr th:only-of-type {\n        vertical-align: middle;\n    }\n\n    .dataframe tbody tr th {\n        vertical-align: top;\n    }\n\n    .dataframe thead th {\n        text-align: right;\n    }\n</style>\n<table border=\"1\" class=\"dataframe\">\n  <thead>\n    <tr style=\"text-align: right;\">\n      <th></th>\n      <th>age</th>\n      <th>gender</th>\n      <th>scentLover</th>\n      <th>ecoInterest</th>\n      <th>washDishes</th>\n      <th>MrPropre</th>\n      <th>Antikal</th>\n      <th>Ariel</th>\n      <th>Dash</th>\n      <th>pods</th>\n      <th>...</th>\n      <th>likesPets</th>\n      <th>hasPet</th>\n      <th>daysSinceActivity</th>\n      <th>nbChildren</th>\n      <th>magasin</th>\n      <th>moyenneSurface</th>\n      <th>superMarket</th>\n      <th>hyperMarket</th>\n      <th>drive</th>\n      <th>hardDiscount</th>\n    </tr>\n  </thead>\n  <tbody>\n    <tr>\n      <th>0</th>\n      <td>0.077922</td>\n      <td>1.0</td>\n      <td>0.000000</td>\n      <td>0.387479</td>\n      <td>1.0</td>\n      <td>-1.0</td>\n      <td>-1.0</td>\n      <td>-1.0</td>\n      <td>-1.0</td>\n      <td>-1.0</td>\n      <td>...</td>\n      <td>0.9</td>\n      <td>1.0</td>\n      <td>0.234694</td>\n      <td>0.2</td>\n      <td>-1.0</td>\n      <td>-1.0</td>\n      <td>-1.0</td>\n      <td>-1.0</td>\n      <td>-1.0</td>\n      <td>-1.0</td>\n    </tr>\n    <tr>\n      <th>1</th>\n      <td>0.636364</td>\n      <td>1.0</td>\n      <td>0.378258</td>\n      <td>0.666667</td>\n      <td>1.0</td>\n      <td>1.0</td>\n      <td>1.0</td>\n      <td>1.0</td>\n      <td>-1.0</td>\n      <td>1.0</td>\n      <td>...</td>\n      <td>0.3</td>\n      <td>-1.0</td>\n      <td>0.014914</td>\n      <td>0.6</td>\n      <td>-1.0</td>\n      <td>-1.0</td>\n      <td>-1.0</td>\n      <td>-1.0</td>\n      <td>-1.0</td>\n      <td>-1.0</td>\n    </tr>\n    <tr>\n      <th>2</th>\n      <td>0.350649</td>\n      <td>1.0</td>\n      <td>0.000000</td>\n      <td>0.666667</td>\n      <td>1.0</td>\n      <td>-1.0</td>\n      <td>-1.0</td>\n      <td>1.0</td>\n      <td>1.0</td>\n      <td>-1.0</td>\n      <td>...</td>\n      <td>0.9</td>\n      <td>1.0</td>\n      <td>0.094976</td>\n      <td>0.2</td>\n      <td>-1.0</td>\n      <td>-1.0</td>\n      <td>-1.0</td>\n      <td>-1.0</td>\n      <td>-1.0</td>\n      <td>-1.0</td>\n    </tr>\n    <tr>\n      <th>3</th>\n      <td>0.220779</td>\n      <td>1.0</td>\n      <td>0.333333</td>\n      <td>0.333333</td>\n      <td>-1.0</td>\n      <td>-1.0</td>\n      <td>-1.0</td>\n      <td>1.0</td>\n      <td>1.0</td>\n      <td>1.0</td>\n      <td>...</td>\n      <td>0.9</td>\n      <td>1.0</td>\n      <td>0.259812</td>\n      <td>0.4</td>\n      <td>-1.0</td>\n      <td>-1.0</td>\n      <td>-1.0</td>\n      <td>-1.0</td>\n      <td>-1.0</td>\n      <td>-1.0</td>\n    </tr>\n    <tr>\n      <th>4</th>\n      <td>0.259740</td>\n      <td>1.0</td>\n      <td>0.378258</td>\n      <td>0.000000</td>\n      <td>-1.0</td>\n      <td>1.0</td>\n      <td>1.0</td>\n      <td>1.0</td>\n      <td>1.0</td>\n      <td>-1.0</td>\n      <td>...</td>\n      <td>0.9</td>\n      <td>1.0</td>\n      <td>0.116954</td>\n      <td>0.0</td>\n      <td>-1.0</td>\n      <td>-1.0</td>\n      <td>-1.0</td>\n      <td>-1.0</td>\n      <td>-1.0</td>\n      <td>-1.0</td>\n    </tr>\n    <tr>\n      <th>...</th>\n      <td>...</td>\n      <td>...</td>\n      <td>...</td>\n      <td>...</td>\n      <td>...</td>\n      <td>...</td>\n      <td>...</td>\n      <td>...</td>\n      <td>...</td>\n      <td>...</td>\n      <td>...</td>\n      <td>...</td>\n      <td>...</td>\n      <td>...</td>\n      <td>...</td>\n      <td>...</td>\n      <td>...</td>\n      <td>...</td>\n      <td>...</td>\n      <td>...</td>\n      <td>...</td>\n    </tr>\n    <tr>\n      <th>11995</th>\n      <td>0.454545</td>\n      <td>1.0</td>\n      <td>0.378258</td>\n      <td>0.387479</td>\n      <td>1.0</td>\n      <td>-1.0</td>\n      <td>-1.0</td>\n      <td>-1.0</td>\n      <td>-1.0</td>\n      <td>1.0</td>\n      <td>...</td>\n      <td>0.9</td>\n      <td>1.0</td>\n      <td>0.000785</td>\n      <td>1.0</td>\n      <td>-1.0</td>\n      <td>-1.0</td>\n      <td>-1.0</td>\n      <td>-1.0</td>\n      <td>-1.0</td>\n      <td>-1.0</td>\n    </tr>\n    <tr>\n      <th>11996</th>\n      <td>0.324675</td>\n      <td>1.0</td>\n      <td>0.333333</td>\n      <td>0.333333</td>\n      <td>-1.0</td>\n      <td>-1.0</td>\n      <td>-1.0</td>\n      <td>-1.0</td>\n      <td>-1.0</td>\n      <td>-1.0</td>\n      <td>...</td>\n      <td>0.9</td>\n      <td>1.0</td>\n      <td>0.124019</td>\n      <td>0.0</td>\n      <td>-1.0</td>\n      <td>-1.0</td>\n      <td>-1.0</td>\n      <td>-1.0</td>\n      <td>-1.0</td>\n      <td>-1.0</td>\n    </tr>\n    <tr>\n      <th>11997</th>\n      <td>0.311688</td>\n      <td>1.0</td>\n      <td>0.378258</td>\n      <td>0.666667</td>\n      <td>-1.0</td>\n      <td>-1.0</td>\n      <td>-1.0</td>\n      <td>-1.0</td>\n      <td>-1.0</td>\n      <td>-1.0</td>\n      <td>...</td>\n      <td>0.9</td>\n      <td>1.0</td>\n      <td>0.018838</td>\n      <td>0.6</td>\n      <td>-1.0</td>\n      <td>-1.0</td>\n      <td>-1.0</td>\n      <td>-1.0</td>\n      <td>-1.0</td>\n      <td>-1.0</td>\n    </tr>\n    <tr>\n      <th>11998</th>\n      <td>0.272727</td>\n      <td>-1.0</td>\n      <td>0.378258</td>\n      <td>0.387479</td>\n      <td>1.0</td>\n      <td>-1.0</td>\n      <td>-1.0</td>\n      <td>-1.0</td>\n      <td>-1.0</td>\n      <td>-1.0</td>\n      <td>...</td>\n      <td>0.9</td>\n      <td>1.0</td>\n      <td>0.197017</td>\n      <td>0.2</td>\n      <td>-1.0</td>\n      <td>-1.0</td>\n      <td>-1.0</td>\n      <td>-1.0</td>\n      <td>-1.0</td>\n      <td>-1.0</td>\n    </tr>\n    <tr>\n      <th>11999</th>\n      <td>0.181818</td>\n      <td>1.0</td>\n      <td>0.000000</td>\n      <td>0.666667</td>\n      <td>-1.0</td>\n      <td>-1.0</td>\n      <td>-1.0</td>\n      <td>-1.0</td>\n      <td>-1.0</td>\n      <td>-1.0</td>\n      <td>...</td>\n      <td>0.9</td>\n      <td>1.0</td>\n      <td>0.220565</td>\n      <td>0.6</td>\n      <td>-1.0</td>\n      <td>-1.0</td>\n      <td>1.0</td>\n      <td>-1.0</td>\n      <td>-1.0</td>\n      <td>-1.0</td>\n    </tr>\n  </tbody>\n</table>\n<p>11612 rows × 23 columns</p>\n</div>",
      "text/plain": "            age  gender  scentLover  ecoInterest  washDishes  MrPropre  \\\n0      0.077922     1.0    0.000000     0.387479         1.0      -1.0   \n1      0.636364     1.0    0.378258     0.666667         1.0       1.0   \n2      0.350649     1.0    0.000000     0.666667         1.0      -1.0   \n3      0.220779     1.0    0.333333     0.333333        -1.0      -1.0   \n4      0.259740     1.0    0.378258     0.000000        -1.0       1.0   \n...         ...     ...         ...          ...         ...       ...   \n11995  0.454545     1.0    0.378258     0.387479         1.0      -1.0   \n11996  0.324675     1.0    0.333333     0.333333        -1.0      -1.0   \n11997  0.311688     1.0    0.378258     0.666667        -1.0      -1.0   \n11998  0.272727    -1.0    0.378258     0.387479         1.0      -1.0   \n11999  0.181818     1.0    0.000000     0.666667        -1.0      -1.0   \n\n       Antikal  Ariel  Dash  pods  ...  likesPets  hasPet  daysSinceActivity  \\\n0         -1.0   -1.0  -1.0  -1.0  ...        0.9     1.0           0.234694   \n1          1.0    1.0  -1.0   1.0  ...        0.3    -1.0           0.014914   \n2         -1.0    1.0   1.0  -1.0  ...        0.9     1.0           0.094976   \n3         -1.0    1.0   1.0   1.0  ...        0.9     1.0           0.259812   \n4          1.0    1.0   1.0  -1.0  ...        0.9     1.0           0.116954   \n...        ...    ...   ...   ...  ...        ...     ...                ...   \n11995     -1.0   -1.0  -1.0   1.0  ...        0.9     1.0           0.000785   \n11996     -1.0   -1.0  -1.0  -1.0  ...        0.9     1.0           0.124019   \n11997     -1.0   -1.0  -1.0  -1.0  ...        0.9     1.0           0.018838   \n11998     -1.0   -1.0  -1.0  -1.0  ...        0.9     1.0           0.197017   \n11999     -1.0   -1.0  -1.0  -1.0  ...        0.9     1.0           0.220565   \n\n       nbChildren  magasin  moyenneSurface  superMarket  hyperMarket  drive  \\\n0             0.2     -1.0            -1.0         -1.0         -1.0   -1.0   \n1             0.6     -1.0            -1.0         -1.0         -1.0   -1.0   \n2             0.2     -1.0            -1.0         -1.0         -1.0   -1.0   \n3             0.4     -1.0            -1.0         -1.0         -1.0   -1.0   \n4             0.0     -1.0            -1.0         -1.0         -1.0   -1.0   \n...           ...      ...             ...          ...          ...    ...   \n11995         1.0     -1.0            -1.0         -1.0         -1.0   -1.0   \n11996         0.0     -1.0            -1.0         -1.0         -1.0   -1.0   \n11997         0.6     -1.0            -1.0         -1.0         -1.0   -1.0   \n11998         0.2     -1.0            -1.0         -1.0         -1.0   -1.0   \n11999         0.6     -1.0            -1.0          1.0         -1.0   -1.0   \n\n       hardDiscount  \n0              -1.0  \n1              -1.0  \n2              -1.0  \n3              -1.0  \n4              -1.0  \n...             ...  \n11995          -1.0  \n11996          -1.0  \n11997          -1.0  \n11998          -1.0  \n11999          -1.0  \n\n[11612 rows x 23 columns]"
     },
     "execution_count": 5,
     "metadata": {},
     "output_type": "execute_result"
    }
   ],
   "source": [
    "df_train"
   ]
  },
  {
   "cell_type": "markdown",
   "metadata": {},
   "source": [
    "First, we define the predictors variables, then the target variable to predict"
   ]
  },
  {
   "cell_type": "code",
   "execution_count": 6,
   "metadata": {},
   "outputs": [],
   "source": [
    "predictors = ['age',\n",
    "'gender',\n",
    "'scentLover',\n",
    "'ecoInterest',\n",
    "'MrPropre',\n",
    "'Antikal',\n",
    "'Ariel',\n",
    "'Dash',\n",
    "'pods',\n",
    "'powder',\n",
    "'liquid',\n",
    "'electricToothbrush',\n",
    "'likesPets',\n",
    "'hasPet',\n",
    "'daysSinceActivity',\n",
    "'nbChildren',\n",
    "'magasin',\n",
    "'moyenneSurface',\n",
    "'superMarket',\n",
    "'hyperMarket',\n",
    "'drive',\n",
    "'hardDiscount']\n",
    "target = 'washDishes'"
   ]
  },
  {
   "cell_type": "code",
   "execution_count": 7,
   "metadata": {},
   "outputs": [],
   "source": [
    "train_X = train[predictors]\n",
    "train_Y = train[target].values\n",
    "valid_X = valid[predictors]\n",
    "valid_Y = valid[target].values\n"
   ]
  },
  {
   "cell_type": "markdown",
   "metadata": {},
   "source": [
    "Implementation of Stochastic Gradient Descent Algorithm"
   ]
  },
  {
   "cell_type": "code",
   "execution_count": 8,
   "metadata": {},
   "outputs": [],
   "source": [
    "\n",
    "clf = SVC()\n"
   ]
  },
  {
   "cell_type": "code",
   "execution_count": 9,
   "metadata": {},
   "outputs": [
    {
     "data": {
      "text/plain": "SVC()"
     },
     "execution_count": 9,
     "metadata": {},
     "output_type": "execute_result"
    }
   ],
   "source": [
    "#Training of the model\n",
    "clf.fit(train_X, train_Y)"
   ]
  },
  {
   "cell_type": "code",
   "execution_count": 10,
   "metadata": {},
   "outputs": [],
   "source": [
    "#Validation of the model on the remaining 20% of the training set\n",
    "preds = clf.predict(valid_X)\n"
   ]
  },
  {
   "cell_type": "code",
   "execution_count": 11,
   "metadata": {},
   "outputs": [
    {
     "data": {
      "text/plain": "(2323,)"
     },
     "execution_count": 11,
     "metadata": {},
     "output_type": "execute_result"
    }
   ],
   "source": [
    "preds.shape"
   ]
  },
  {
   "cell_type": "code",
   "execution_count": 12,
   "metadata": {},
   "outputs": [],
   "source": [
    "#In order to better understand the importance of each variable, we want to plot the features importance.\n",
    "def plot_feature_importance():\n",
    "    tmp = pd.DataFrame({'Feature': predictors, 'Feature importance': clf.feature_importances_})\n",
    "    tmp = tmp.sort_values(by='Feature importance',ascending=False)\n",
    "    plt.figure(figsize = (7,4))\n",
    "    plt.title('Features importance',fontsize=14)\n",
    "    s = sns.barplot(x='Feature',y='Feature importance',data=tmp)\n",
    "    s.set_xticklabels(s.get_xticklabels(),rotation=90)\n",
    "    plt.show()"
   ]
  },
  {
   "cell_type": "code",
   "execution_count": 14,
   "metadata": {},
   "outputs": [],
   "source": [
    "#plot_feature_importance()"
   ]
  },
  {
   "cell_type": "markdown",
   "metadata": {},
   "source": [
    "'daysSinceActivity' and 'Age' are the two most important features in the prediction."
   ]
  },
  {
   "cell_type": "markdown",
   "metadata": {},
   "source": [
    "Evaluation of our model"
   ]
  },
  {
   "cell_type": "code",
   "execution_count": 15,
   "metadata": {},
   "outputs": [
    {
     "name": "stdout",
     "output_type": "stream",
     "text": [
      "SGD accuracy (train set): 62.45\n"
     ]
    }
   ],
   "source": [
    "clf.score(train_X, train_Y)\n",
    "acc = round(clf.score(train_X, train_Y) * 100, 2)\n",
    "print(\"SVC accuracy (train set):\", acc)"
   ]
  },
  {
   "cell_type": "code",
   "execution_count": 16,
   "metadata": {},
   "outputs": [
    {
     "name": "stdout",
     "output_type": "stream",
     "text": [
      "SGD accuracy (validation set): 61.43\n"
     ]
    }
   ],
   "source": [
    "\n",
    "clf.score(valid_X, valid_Y)\n",
    "acc = round(clf.score(valid_X, valid_Y) * 100, 2)\n",
    "print(\"SVC accuracy (validation set):\", acc)"
   ]
  },
  {
   "cell_type": "code",
   "execution_count": 17,
   "metadata": {},
   "outputs": [
    {
     "name": "stdout",
     "output_type": "stream",
     "text": [
      "              precision    recall  f1-score   support\n",
      "\n",
      "        Hand       0.62      0.95      0.75      1403\n",
      "        Auto       0.57      0.11      0.18       920\n",
      "\n",
      "    accuracy                           0.61      2323\n",
      "   macro avg       0.59      0.53      0.47      2323\n",
      "weighted avg       0.60      0.61      0.52      2323\n",
      "\n"
     ]
    }
   ],
   "source": [
    "print(metrics.classification_report(valid_Y, preds, target_names=['Hand', 'Auto']))"
   ]
  },
  {
   "cell_type": "code",
   "execution_count": 18,
   "metadata": {},
   "outputs": [
    {
     "data": {
      "image/png": "[encoded data removed]",
      "text/plain": "<Figure size 360x360 with 2 Axes>"
     },
     "metadata": {
      "needs_background": "light"
     },
     "output_type": "display_data"
    }
   ],
   "source": [
    "def plot_confusion_matrix():\n",
    "    cm = pd.crosstab(valid_Y, preds, rownames=['Actual'], colnames=['Predicted'])\n",
    "    fig, (ax1) = plt.subplots(ncols=1, figsize=(5,5))\n",
    "    sns.heatmap(cm, \n",
    "                xticklabels=['Hand', 'Auto'],\n",
    "                yticklabels=['Hand', 'Auto'],\n",
    "                annot=True,ax=ax1,\n",
    "                linewidths=.2,linecolor=\"Darkblue\", cmap=\"Blues\")\n",
    "    plt.title('Confusion Matrix', fontsize=14)\n",
    "    plt.show()\n",
    "\n",
    "plot_confusion_matrix()"
   ]
  },
  {
   "cell_type": "markdown",
   "metadata": {},
   "source": [
    "Let's initialize the GradientSearchCV parameters for optimization. We will set only few parameters, as following:\n",
    "\n",
    "n_estimators: number of trees in the foreset;\n",
    "\n",
    "max_features: max number of features considered for splitting a node;\n",
    "\n",
    "max_depth: max number of levels in each decision tree;\n",
    "\n",
    "min_samples_split: min number of data points placed in a node before the node is split;\n",
    "\n",
    "min_samples_leaf: min number of data points allowed in a leaf node."
   ]
  },
  {
   "cell_type": "code",
   "execution_count": 26,
   "metadata": {},
   "outputs": [
    {
     "name": "stdout",
     "output_type": "stream",
     "text": [
      "Best scores: 0.6064173796444081\n",
      "Best params: {'C': 0.8, 'gamma': 1.3, 'kernel': 'rbf'}\n"
     ]
    }
   ],
   "source": [
    "#Finding best parameters for our SVC model\n",
    "\n",
    "parameters = {\n",
    "    'C': [0.8,1.3],\n",
    "    'kernel':['linear', 'rbf'],\n",
    "    'gamma' :[0.8, 1.3]\n",
    "}\n",
    "\n",
    "#We initialize GridSearchCV with the classifier, the set of parameters, number of folds and also the level of verbose for printing out progress.\n",
    "\n",
    "grid_svc = GridSearchCV(clf, parameters, scoring='accuracy', cv=10)\n",
    "grid_svc.fit(train_X, train_Y)\n",
    "\n",
    "print('Best scores:',grid_svc.best_score_)\n",
    "print('Best params:',grid_svc.best_params_)\n",
    "\n",
    "\n"
   ]
  },
  {
   "cell_type": "code",
   "execution_count": 28,
   "metadata": {},
   "outputs": [
    {
     "name": "stdout",
     "output_type": "stream",
     "text": [
      "              precision    recall  f1-score   support\n",
      "\n",
      "        -1.0       0.62      0.87      0.72      1403\n",
      "         1.0       0.49      0.19      0.28       920\n",
      "\n",
      "    accuracy                           0.60      2323\n",
      "   macro avg       0.56      0.53      0.50      2323\n",
      "weighted avg       0.57      0.60      0.55      2323\n",
      "\n"
     ]
    }
   ],
   "source": [
    "#Let's run our SVC again with the best parameters.\n",
    "svc2 = SVC(C=0.8, gamma=1.3, kernel= 'rbf')\n",
    "svc2.fit(train_X, train_Y)\n",
    "pred_svc2 = svc2.predict(valid_X)\n",
    "print(metrics.classification_report(valid_Y, pred_svc2))"
   ]
  },
  {
   "cell_type": "code",
   "execution_count": 29,
   "metadata": {},
   "outputs": [
    {
     "name": "stdout",
     "output_type": "stream",
     "text": [
      "SVC accuracy optimized (validation set): 60.18\n"
     ]
    }
   ],
   "source": [
    "svc2.score(valid_X, valid_Y)\n",
    "acc = round(svc2.score(valid_X, valid_Y) * 100, 2)\n",
    "print(\"SVC accuracy optimized (validation set):\", acc)"
   ]
  },
  {
   "cell_type": "code",
   "execution_count": 30,
   "metadata": {},
   "outputs": [
    {
     "name": "stdout",
     "output_type": "stream",
     "text": [
      "              precision    recall  f1-score   support\n",
      "\n",
      "        Hand       0.62      0.95      0.75      1403\n",
      "        Auto       0.57      0.11      0.18       920\n",
      "\n",
      "    accuracy                           0.61      2323\n",
      "   macro avg       0.59      0.53      0.47      2323\n",
      "weighted avg       0.60      0.61      0.52      2323\n",
      "\n"
     ]
    }
   ],
   "source": [
    "print(metrics.classification_report(valid_Y, preds, target_names=['Hand', 'Auto']))"
   ]
  },
  {
   "cell_type": "markdown",
   "metadata": {},
   "source": [
    "Use of our model in the test dataset to submit on Kaggle"
   ]
  },
  {
   "cell_type": "code",
   "execution_count": 32,
   "metadata": {},
   "outputs": [],
   "source": [
    "prediction_test = svc2.predict(df_test)"
   ]
  },
  {
   "cell_type": "code",
   "execution_count": 33,
   "metadata": {},
   "outputs": [
    {
     "data": {
      "text/plain": "array([-1., -1., -1., -1., -1., -1., -1., -1., -1., -1.])"
     },
     "execution_count": 33,
     "metadata": {},
     "output_type": "execute_result"
    }
   ],
   "source": [
    "prediction_test[:10]"
   ]
  },
  {
   "cell_type": "markdown",
   "metadata": {},
   "source": [
    "#As we have drop the userId column, we have to add it again next to the predicted values for the column \"washDishes\" so we get the userId again from the data set test.\n",
    "df_test_full = pd.read_csv(r\"DS_CentraleSupelec_ST42021/DS_CentraleSupelec_test.csv\")"
   ]
  },
  {
   "cell_type": "code",
   "execution_count": 34,
   "metadata": {},
   "outputs": [],
   "source": [
    "result_prediction = pd.DataFrame(prediction_test, columns =['WashDishes'])"
   ]
  },
  {
   "cell_type": "code",
   "execution_count": 35,
   "metadata": {},
   "outputs": [
    {
     "data": {
      "text/plain": "0      -1.0\n1      -1.0\n2      -1.0\n3      -1.0\n4      -1.0\n       ... \n3995    1.0\n3996   -1.0\n3997   -1.0\n3998   -1.0\n3999   -1.0\nName: WashDishes, Length: 4000, dtype: float64"
     },
     "execution_count": 35,
     "metadata": {},
     "output_type": "execute_result"
    }
   ],
   "source": [
    "result_prediction['WashDishes']"
   ]
  },
  {
   "cell_type": "code",
   "execution_count": 36,
   "metadata": {},
   "outputs": [
    {
     "ename": "NameError",
     "evalue": "name 'df_test_full' is not defined",
     "output_type": "error",
     "traceback": [
      "\u001b[0;31m---------------------------------------------------------------------------\u001b[0m",
      "\u001b[0;31mNameError\u001b[0m                                 Traceback (most recent call last)",
      "\u001b[0;32m<ipython-input-36-8ee4a3f1f502>\u001b[0m in \u001b[0;36m<module>\u001b[0;34m\u001b[0m\n\u001b[0;32m----> 1\u001b[0;31m \u001b[0msubmit\u001b[0m \u001b[0;34m=\u001b[0m \u001b[0mpd\u001b[0m\u001b[0;34m.\u001b[0m\u001b[0mconcat\u001b[0m\u001b[0;34m(\u001b[0m\u001b[0;34m[\u001b[0m\u001b[0mdf_test_full\u001b[0m\u001b[0;34m[\u001b[0m\u001b[0;34m'userId'\u001b[0m\u001b[0;34m]\u001b[0m\u001b[0;34m,\u001b[0m\u001b[0mresult_prediction\u001b[0m\u001b[0;34m[\u001b[0m\u001b[0;34m'WashDishes'\u001b[0m\u001b[0;34m]\u001b[0m\u001b[0;34m]\u001b[0m\u001b[0;34m,\u001b[0m \u001b[0maxis\u001b[0m\u001b[0;34m=\u001b[0m\u001b[0;36m1\u001b[0m\u001b[0;34m)\u001b[0m\u001b[0;34m\u001b[0m\u001b[0;34m\u001b[0m\u001b[0m\n\u001b[0m\u001b[1;32m      2\u001b[0m \u001b[0msubmit\u001b[0m\u001b[0;34m.\u001b[0m\u001b[0mshape\u001b[0m\u001b[0;34m\u001b[0m\u001b[0;34m\u001b[0m\u001b[0m\n",
      "\u001b[0;31mNameError\u001b[0m: name 'df_test_full' is not defined"
     ]
    }
   ],
   "source": [
    "submit = pd.concat([df_test_full['userId'],result_prediction['WashDishes']], axis=1)\n",
    "submit.shape"
   ]
  },
  {
   "cell_type": "code",
   "execution_count": null,
   "metadata": {},
   "outputs": [],
   "source": [
    "submit"
   ]
  },
  {
   "cell_type": "markdown",
   "metadata": {},
   "source": [
    "#Formatting the submit data to fit the submission format expected by Kaggle.\n",
    "submit.rename(columns={\"washDishes\": \"WashDishes\"})\n",
    "\n",
    "submit['WashDishes'] = submit['WashDishes'].apply(lambda e: 'Auto' if e == 1 else 'Hand')\n",
    "submit"
   ]
  },
  {
   "cell_type": "code",
   "execution_count": null,
   "metadata": {},
   "outputs": [],
   "source": [
    "submit.to_csv('./DS_CentraleSupelec_ST42021/submit_catboost.csv', index=False)  "
   ]
  }
 ],
 "metadata": {
  "kernelspec": {
   "display_name": "Python 3.8.3 64-bit ('base': conda)",
   "name": "python383jvsc74a57bd0dca0ade3e726a953b501b15e8e990130d2b7799f14cfd9f4271676035ebe5511"
  },
  "language_info": {
   "codemirror_mode": {
    "name": "ipython",
    "version": 3
   },
   "file_extension": ".py",
   "mimetype": "text/x-python",
   "name": "python",
   "nbconvert_exporter": "python",
   "pygments_lexer": "ipython3",
   "version": "3.8.3"
  },
  "orig_nbformat": 2
 },
 "nbformat": 4,
 "nbformat_minor": 2
}