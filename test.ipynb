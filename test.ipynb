{
 "cells": [
  {
   "cell_type": "markdown",
   "metadata": {},
   "source": [
    "# EI ST4"
   ]
  },
  {
   "cell_type": "markdown",
   "metadata": {},
   "source": [
    "## Imports"
   ]
  },
  {
   "cell_type": "code",
   "execution_count": 2,
   "metadata": {},
   "outputs": [],
   "source": [
    "import pandas as pd"
   ]
  },
  {
   "cell_type": "code",
   "execution_count": 3,
   "metadata": {},
   "outputs": [],
   "source": [
    "df = pd.read_csv(r\"DS_CentraleSupelec_ST42021/DS_CentraleSupelec_train.csv\")"
   ]
  },
  {
   "cell_type": "markdown",
   "metadata": {},
   "source": [
    "## Cleaning up the dataframe"
   ]
  },
  {
   "cell_type": "code",
   "execution_count": 4,
   "metadata": {},
   "outputs": [
    {
     "data": {
      "text/html": "<div>\n<style scoped>\n    .dataframe tbody tr th:only-of-type {\n        vertical-align: middle;\n    }\n\n    .dataframe tbody tr th {\n        vertical-align: top;\n    }\n\n    .dataframe thead th {\n        text-align: right;\n    }\n</style>\n<table border=\"1\" class=\"dataframe\">\n  <thead>\n    <tr style=\"text-align: right;\">\n      <th></th>\n      <th>userId</th>\n      <th>age</th>\n      <th>gender</th>\n      <th>registrationDate</th>\n      <th>languageCode</th>\n      <th>countryCode</th>\n      <th>emailContactable</th>\n      <th>postalContactable</th>\n      <th>postalCode</th>\n      <th>numberChildren</th>\n      <th>...</th>\n      <th>detergentType</th>\n      <th>MrPropreTrier</th>\n      <th>AntikalTrier</th>\n      <th>ArielTrier</th>\n      <th>DashTrier</th>\n      <th>scentLover</th>\n      <th>petOwner</th>\n      <th>ecoInterest</th>\n      <th>closestShop</th>\n      <th>washDishes</th>\n    </tr>\n  </thead>\n  <tbody>\n    <tr>\n      <th>0</th>\n      <td>use_XbA1FTDcCrTMNTHK1851TzjyPMP</td>\n      <td>24</td>\n      <td>F</td>\n      <td>2019-10-14T17:33:37Z</td>\n      <td>fr</td>\n      <td>FRA</td>\n      <td>True</td>\n      <td>True</td>\n      <td>68540</td>\n      <td>1</td>\n      <td>...</td>\n      <td>Liquid</td>\n      <td>NaN</td>\n      <td>NaN</td>\n      <td>NaN</td>\n      <td>NaN</td>\n      <td>NonUser</td>\n      <td>Yes</td>\n      <td>NaN</td>\n      <td>NaN</td>\n      <td>Auto</td>\n    </tr>\n    <tr>\n      <th>1</th>\n      <td>use_3WHgsMVGSg5MHG2zja91TzdfmY2</td>\n      <td>67</td>\n      <td>F</td>\n      <td>2017-07-25T07:00:31Z</td>\n      <td>fr</td>\n      <td>FRA</td>\n      <td>True</td>\n      <td>True</td>\n      <td>17390</td>\n      <td>3</td>\n      <td>...</td>\n      <td>Pods</td>\n      <td>Known Trier</td>\n      <td>Known Trier</td>\n      <td>Known Trier</td>\n      <td>NaN</td>\n      <td>NaN</td>\n      <td>No</td>\n      <td>High</td>\n      <td>NaN</td>\n      <td>Auto</td>\n    </tr>\n    <tr>\n      <th>2</th>\n      <td>use_2SisOiR8QwDaHI4svm11TzcvK7V</td>\n      <td>45</td>\n      <td>F</td>\n      <td>2015-06-25T00:00:00Z</td>\n      <td>fr</td>\n      <td>FRA</td>\n      <td>True</td>\n      <td>True</td>\n      <td>30200</td>\n      <td>1</td>\n      <td>...</td>\n      <td>Liquid</td>\n      <td>NaN</td>\n      <td>NaN</td>\n      <td>Known Trier</td>\n      <td>Known Trier</td>\n      <td>NonUser</td>\n      <td>Yes</td>\n      <td>High</td>\n      <td>NaN</td>\n      <td>Auto</td>\n    </tr>\n    <tr>\n      <th>3</th>\n      <td>use_W0T1LmfKaQPJYD1RTWh1Tzdc69H</td>\n      <td>35</td>\n      <td>F</td>\n      <td>2018-01-31T07:24:39Z</td>\n      <td>fr</td>\n      <td>FRA</td>\n      <td>True</td>\n      <td>True</td>\n      <td>61400</td>\n      <td>2</td>\n      <td>...</td>\n      <td>Pods</td>\n      <td>NaN</td>\n      <td>NaN</td>\n      <td>Known Trier</td>\n      <td>Known Trier</td>\n      <td>Low</td>\n      <td>Yes</td>\n      <td>Medium</td>\n      <td>NaN</td>\n      <td>Hand</td>\n    </tr>\n    <tr>\n      <th>4</th>\n      <td>use_KwYWZ7UMl4veveOaPGK1TzddtmI</td>\n      <td>38</td>\n      <td>F</td>\n      <td>2016-01-26T11:42:17Z</td>\n      <td>fr</td>\n      <td>FRA</td>\n      <td>True</td>\n      <td>True</td>\n      <td>30620</td>\n      <td>0</td>\n      <td>...</td>\n      <td>Liquid</td>\n      <td>Known Trier</td>\n      <td>Known Trier</td>\n      <td>Known Trier</td>\n      <td>Known Trier</td>\n      <td>NaN</td>\n      <td>Yes</td>\n      <td>Low</td>\n      <td>NaN</td>\n      <td>Hand</td>\n    </tr>\n    <tr>\n      <th>...</th>\n      <td>...</td>\n      <td>...</td>\n      <td>...</td>\n      <td>...</td>\n      <td>...</td>\n      <td>...</td>\n      <td>...</td>\n      <td>...</td>\n      <td>...</td>\n      <td>...</td>\n      <td>...</td>\n      <td>...</td>\n      <td>...</td>\n      <td>...</td>\n      <td>...</td>\n      <td>...</td>\n      <td>...</td>\n      <td>...</td>\n      <td>...</td>\n      <td>...</td>\n      <td>...</td>\n    </tr>\n    <tr>\n      <th>11995</th>\n      <td>use_ICSyEvCcRNPpQeBdWcM1TzdczV8</td>\n      <td>53</td>\n      <td>F</td>\n      <td>2015-03-11T20:03:16Z</td>\n      <td>fr</td>\n      <td>FRA</td>\n      <td>True</td>\n      <td>True</td>\n      <td>77240</td>\n      <td>4+</td>\n      <td>...</td>\n      <td>Pods</td>\n      <td>NaN</td>\n      <td>NaN</td>\n      <td>NaN</td>\n      <td>NaN</td>\n      <td>NaN</td>\n      <td>Yes</td>\n      <td>NaN</td>\n      <td>NaN</td>\n      <td>Auto</td>\n    </tr>\n    <tr>\n      <th>11996</th>\n      <td>use_Q5DNYeSmG7g6VeMV4n71TzeTRRz</td>\n      <td>43</td>\n      <td>F</td>\n      <td>2015-10-10T19:16:19Z</td>\n      <td>fr</td>\n      <td>FRA</td>\n      <td>True</td>\n      <td>True</td>\n      <td>45120</td>\n      <td>0</td>\n      <td>...</td>\n      <td>Liquid</td>\n      <td>NaN</td>\n      <td>NaN</td>\n      <td>NaN</td>\n      <td>NaN</td>\n      <td>Low</td>\n      <td>Yes</td>\n      <td>Medium</td>\n      <td>NaN</td>\n      <td>Hand</td>\n    </tr>\n    <tr>\n      <th>11997</th>\n      <td>use_rEoce5pc0MlKpndfzNj1Tze3J1L</td>\n      <td>42</td>\n      <td>F</td>\n      <td>2015-05-08T02:59:34Z</td>\n      <td>fr</td>\n      <td>FRA</td>\n      <td>True</td>\n      <td>True</td>\n      <td>35170</td>\n      <td>3</td>\n      <td>...</td>\n      <td>Liquid</td>\n      <td>NaN</td>\n      <td>NaN</td>\n      <td>NaN</td>\n      <td>NaN</td>\n      <td>NaN</td>\n      <td>Yes</td>\n      <td>High</td>\n      <td>NaN</td>\n      <td>Hand</td>\n    </tr>\n    <tr>\n      <th>11998</th>\n      <td>use_0AuDL2wOJHy9I16zSC21TzeHRMo</td>\n      <td>39</td>\n      <td>M</td>\n      <td>2019-05-20T11:59:02Z</td>\n      <td>fr</td>\n      <td>FRA</td>\n      <td>True</td>\n      <td>True</td>\n      <td>45160</td>\n      <td>1</td>\n      <td>...</td>\n      <td>Liquid</td>\n      <td>NaN</td>\n      <td>NaN</td>\n      <td>NaN</td>\n      <td>NaN</td>\n      <td>NaN</td>\n      <td>Yes</td>\n      <td>NaN</td>\n      <td>NaN</td>\n      <td>Auto</td>\n    </tr>\n    <tr>\n      <th>11999</th>\n      <td>use_B7F2PfU4eOKBmVc93AU1TzdqFY9</td>\n      <td>32</td>\n      <td>F</td>\n      <td>2017-03-05T12:42:26Z</td>\n      <td>FR</td>\n      <td>FRA</td>\n      <td>True</td>\n      <td>True</td>\n      <td>37600</td>\n      <td>3</td>\n      <td>...</td>\n      <td>Liquid</td>\n      <td>NaN</td>\n      <td>NaN</td>\n      <td>NaN</td>\n      <td>NaN</td>\n      <td>NonUser</td>\n      <td>Yes</td>\n      <td>High</td>\n      <td>3. SuperMarket</td>\n      <td>Hand</td>\n    </tr>\n  </tbody>\n</table>\n<p>12000 rows × 23 columns</p>\n</div>",
      "text/plain": "                                userId  age gender      registrationDate  \\\n0      use_XbA1FTDcCrTMNTHK1851TzjyPMP   24      F  2019-10-14T17:33:37Z   \n1      use_3WHgsMVGSg5MHG2zja91TzdfmY2   67      F  2017-07-25T07:00:31Z   \n2      use_2SisOiR8QwDaHI4svm11TzcvK7V   45      F  2015-06-25T00:00:00Z   \n3      use_W0T1LmfKaQPJYD1RTWh1Tzdc69H   35      F  2018-01-31T07:24:39Z   \n4      use_KwYWZ7UMl4veveOaPGK1TzddtmI   38      F  2016-01-26T11:42:17Z   \n...                                ...  ...    ...                   ...   \n11995  use_ICSyEvCcRNPpQeBdWcM1TzdczV8   53      F  2015-03-11T20:03:16Z   \n11996  use_Q5DNYeSmG7g6VeMV4n71TzeTRRz   43      F  2015-10-10T19:16:19Z   \n11997  use_rEoce5pc0MlKpndfzNj1Tze3J1L   42      F  2015-05-08T02:59:34Z   \n11998  use_0AuDL2wOJHy9I16zSC21TzeHRMo   39      M  2019-05-20T11:59:02Z   \n11999  use_B7F2PfU4eOKBmVc93AU1TzdqFY9   32      F  2017-03-05T12:42:26Z   \n\n      languageCode countryCode  emailContactable  postalContactable  \\\n0               fr         FRA              True               True   \n1               fr         FRA              True               True   \n2               fr         FRA              True               True   \n3               fr         FRA              True               True   \n4               fr         FRA              True               True   \n...            ...         ...               ...                ...   \n11995           fr         FRA              True               True   \n11996           fr         FRA              True               True   \n11997           fr         FRA              True               True   \n11998           fr         FRA              True               True   \n11999           FR         FRA              True               True   \n\n      postalCode numberChildren  ... detergentType MrPropreTrier AntikalTrier  \\\n0          68540              1  ...        Liquid           NaN          NaN   \n1          17390              3  ...          Pods   Known Trier  Known Trier   \n2          30200              1  ...        Liquid           NaN          NaN   \n3          61400              2  ...          Pods           NaN          NaN   \n4          30620              0  ...        Liquid   Known Trier  Known Trier   \n...          ...            ...  ...           ...           ...          ...   \n11995      77240             4+  ...          Pods           NaN          NaN   \n11996      45120              0  ...        Liquid           NaN          NaN   \n11997      35170              3  ...        Liquid           NaN          NaN   \n11998      45160              1  ...        Liquid           NaN          NaN   \n11999      37600              3  ...        Liquid           NaN          NaN   \n\n        ArielTrier    DashTrier scentLover petOwner ecoInterest  \\\n0              NaN          NaN    NonUser      Yes         NaN   \n1      Known Trier          NaN        NaN       No        High   \n2      Known Trier  Known Trier    NonUser      Yes        High   \n3      Known Trier  Known Trier        Low      Yes      Medium   \n4      Known Trier  Known Trier        NaN      Yes         Low   \n...            ...          ...        ...      ...         ...   \n11995          NaN          NaN        NaN      Yes         NaN   \n11996          NaN          NaN        Low      Yes      Medium   \n11997          NaN          NaN        NaN      Yes        High   \n11998          NaN          NaN        NaN      Yes         NaN   \n11999          NaN          NaN    NonUser      Yes        High   \n\n          closestShop washDishes  \n0                 NaN       Auto  \n1                 NaN       Auto  \n2                 NaN       Auto  \n3                 NaN       Hand  \n4                 NaN       Hand  \n...               ...        ...  \n11995             NaN       Auto  \n11996             NaN       Hand  \n11997             NaN       Hand  \n11998             NaN       Auto  \n11999  3. SuperMarket       Hand  \n\n[12000 rows x 23 columns]"
     },
     "execution_count": 4,
     "metadata": {},
     "output_type": "execute_result"
    }
   ],
   "source": [
    "df"
   ]
  },
  {
   "cell_type": "code",
   "execution_count": 5,
   "metadata": {},
   "outputs": [
    {
     "data": {
      "text/plain": "userId               12000\nage                     74\ngender                   2\nregistrationDate      9875\nlanguageCode             2\ncountryCode              1\nemailContactable         2\npostalContactable        2\npostalCode            3794\nnumberChildren          10\nlastActivityDate     12000\nreactivationValue        5\ntoothBrushType           2\ndetergentType           10\nMrPropreTrier            1\nAntikalTrier             1\nArielTrier               1\nDashTrier                1\nscentLover               4\npetOwner                 9\necoInterest              4\nclosestShop              6\nwashDishes               2\ndtype: int64"
     },
     "execution_count": 5,
     "metadata": {},
     "output_type": "execute_result"
    }
   ],
   "source": [
    "# Get unique count for each variable\n",
    "df.nunique()"
   ]
  },
  {
   "cell_type": "code",
   "execution_count": 6,
   "metadata": {},
   "outputs": [
    {
     "data": {
      "text/plain": "userId               object\nage                   int64\ngender               object\nregistrationDate     object\nlanguageCode         object\ncountryCode          object\nemailContactable       bool\npostalContactable      bool\npostalCode           object\nnumberChildren       object\nlastActivityDate     object\nreactivationValue    object\ntoothBrushType       object\ndetergentType        object\nMrPropreTrier        object\nAntikalTrier         object\nArielTrier           object\nDashTrier            object\nscentLover           object\npetOwner             object\necoInterest          object\nclosestShop          object\nwashDishes           object\ndtype: object"
     },
     "execution_count": 6,
     "metadata": {},
     "output_type": "execute_result"
    }
   ],
   "source": [
    "# Check variable data types\n",
    "df.dtypes"
   ]
  },
  {
   "cell_type": "markdown",
   "metadata": {},
   "source": [
    "We can remove the `languageCode` and `countryCode` column as they are constant"
   ]
  },
  {
   "cell_type": "code",
   "execution_count": 7,
   "metadata": {},
   "outputs": [
    {
     "data": {
      "text/plain": "True"
     },
     "execution_count": 7,
     "metadata": {},
     "output_type": "execute_result"
    }
   ],
   "source": [
    "df[~df.languageCode.isin(['fr', 'FR'])].empty and df[~df.countryCode.eq('FRA')].empty"
   ]
  },
  {
   "cell_type": "code",
   "execution_count": 8,
   "metadata": {},
   "outputs": [
    {
     "data": {
      "text/html": "<div>\n<style scoped>\n    .dataframe tbody tr th:only-of-type {\n        vertical-align: middle;\n    }\n\n    .dataframe tbody tr th {\n        vertical-align: top;\n    }\n\n    .dataframe thead th {\n        text-align: right;\n    }\n</style>\n<table border=\"1\" class=\"dataframe\">\n  <thead>\n    <tr style=\"text-align: right;\">\n      <th></th>\n      <th>userId</th>\n      <th>age</th>\n      <th>gender</th>\n      <th>registrationDate</th>\n      <th>emailContactable</th>\n      <th>postalContactable</th>\n      <th>postalCode</th>\n      <th>numberChildren</th>\n      <th>lastActivityDate</th>\n      <th>reactivationValue</th>\n      <th>...</th>\n      <th>detergentType</th>\n      <th>MrPropreTrier</th>\n      <th>AntikalTrier</th>\n      <th>ArielTrier</th>\n      <th>DashTrier</th>\n      <th>scentLover</th>\n      <th>petOwner</th>\n      <th>ecoInterest</th>\n      <th>closestShop</th>\n      <th>washDishes</th>\n    </tr>\n  </thead>\n  <tbody>\n    <tr>\n      <th>0</th>\n      <td>use_XbA1FTDcCrTMNTHK1851TzjyPMP</td>\n      <td>24</td>\n      <td>F</td>\n      <td>2019-10-14T17:33:37Z</td>\n      <td>True</td>\n      <td>True</td>\n      <td>68540</td>\n      <td>1</td>\n      <td>2020-08-04T09:19:40.72668Z</td>\n      <td>Lapsing</td>\n      <td>...</td>\n      <td>Liquid</td>\n      <td>NaN</td>\n      <td>NaN</td>\n      <td>NaN</td>\n      <td>NaN</td>\n      <td>NonUser</td>\n      <td>Yes</td>\n      <td>NaN</td>\n      <td>NaN</td>\n      <td>Auto</td>\n    </tr>\n    <tr>\n      <th>1</th>\n      <td>use_3WHgsMVGSg5MHG2zja91TzdfmY2</td>\n      <td>67</td>\n      <td>F</td>\n      <td>2017-07-25T07:00:31Z</td>\n      <td>True</td>\n      <td>True</td>\n      <td>17390</td>\n      <td>3</td>\n      <td>2021-05-11T05:27:04.43326Z</td>\n      <td>Active</td>\n      <td>...</td>\n      <td>Pods</td>\n      <td>Known Trier</td>\n      <td>Known Trier</td>\n      <td>Known Trier</td>\n      <td>NaN</td>\n      <td>NaN</td>\n      <td>No</td>\n      <td>High</td>\n      <td>NaN</td>\n      <td>Auto</td>\n    </tr>\n    <tr>\n      <th>2</th>\n      <td>use_2SisOiR8QwDaHI4svm11TzcvK7V</td>\n      <td>45</td>\n      <td>F</td>\n      <td>2015-06-25T00:00:00Z</td>\n      <td>True</td>\n      <td>True</td>\n      <td>30200</td>\n      <td>1</td>\n      <td>2021-01-29T09:22:30.011639Z</td>\n      <td>Active</td>\n      <td>...</td>\n      <td>Liquid</td>\n      <td>NaN</td>\n      <td>NaN</td>\n      <td>Known Trier</td>\n      <td>Known Trier</td>\n      <td>NonUser</td>\n      <td>Yes</td>\n      <td>High</td>\n      <td>NaN</td>\n      <td>Auto</td>\n    </tr>\n    <tr>\n      <th>3</th>\n      <td>use_W0T1LmfKaQPJYD1RTWh1Tzdc69H</td>\n      <td>35</td>\n      <td>F</td>\n      <td>2018-01-31T07:24:39Z</td>\n      <td>True</td>\n      <td>True</td>\n      <td>61400</td>\n      <td>2</td>\n      <td>2020-07-03T20:36:10.177493Z</td>\n      <td>Active</td>\n      <td>...</td>\n      <td>Pods</td>\n      <td>NaN</td>\n      <td>NaN</td>\n      <td>Known Trier</td>\n      <td>Known Trier</td>\n      <td>Low</td>\n      <td>Yes</td>\n      <td>Medium</td>\n      <td>NaN</td>\n      <td>Hand</td>\n    </tr>\n    <tr>\n      <th>4</th>\n      <td>use_KwYWZ7UMl4veveOaPGK1TzddtmI</td>\n      <td>38</td>\n      <td>F</td>\n      <td>2016-01-26T11:42:17Z</td>\n      <td>True</td>\n      <td>True</td>\n      <td>30620</td>\n      <td>0</td>\n      <td>2021-01-01T14:41:20.951078Z</td>\n      <td>Active</td>\n      <td>...</td>\n      <td>Liquid</td>\n      <td>Known Trier</td>\n      <td>Known Trier</td>\n      <td>Known Trier</td>\n      <td>Known Trier</td>\n      <td>NaN</td>\n      <td>Yes</td>\n      <td>Low</td>\n      <td>NaN</td>\n      <td>Hand</td>\n    </tr>\n    <tr>\n      <th>...</th>\n      <td>...</td>\n      <td>...</td>\n      <td>...</td>\n      <td>...</td>\n      <td>...</td>\n      <td>...</td>\n      <td>...</td>\n      <td>...</td>\n      <td>...</td>\n      <td>...</td>\n      <td>...</td>\n      <td>...</td>\n      <td>...</td>\n      <td>...</td>\n      <td>...</td>\n      <td>...</td>\n      <td>...</td>\n      <td>...</td>\n      <td>...</td>\n      <td>...</td>\n      <td>...</td>\n    </tr>\n    <tr>\n      <th>11995</th>\n      <td>use_ICSyEvCcRNPpQeBdWcM1TzdczV8</td>\n      <td>53</td>\n      <td>F</td>\n      <td>2015-03-11T20:03:16Z</td>\n      <td>True</td>\n      <td>True</td>\n      <td>77240</td>\n      <td>4+</td>\n      <td>2021-05-29T22:15:43.077863Z</td>\n      <td>Active</td>\n      <td>...</td>\n      <td>Pods</td>\n      <td>NaN</td>\n      <td>NaN</td>\n      <td>NaN</td>\n      <td>NaN</td>\n      <td>NaN</td>\n      <td>Yes</td>\n      <td>NaN</td>\n      <td>NaN</td>\n      <td>Auto</td>\n    </tr>\n    <tr>\n      <th>11996</th>\n      <td>use_Q5DNYeSmG7g6VeMV4n71TzeTRRz</td>\n      <td>43</td>\n      <td>F</td>\n      <td>2015-10-10T19:16:19Z</td>\n      <td>True</td>\n      <td>True</td>\n      <td>45120</td>\n      <td>0</td>\n      <td>2020-12-23T14:01:37.947441Z</td>\n      <td>Active</td>\n      <td>...</td>\n      <td>Liquid</td>\n      <td>NaN</td>\n      <td>NaN</td>\n      <td>NaN</td>\n      <td>NaN</td>\n      <td>Low</td>\n      <td>Yes</td>\n      <td>Medium</td>\n      <td>NaN</td>\n      <td>Hand</td>\n    </tr>\n    <tr>\n      <th>11997</th>\n      <td>use_rEoce5pc0MlKpndfzNj1Tze3J1L</td>\n      <td>42</td>\n      <td>F</td>\n      <td>2015-05-08T02:59:34Z</td>\n      <td>True</td>\n      <td>True</td>\n      <td>35170</td>\n      <td>3</td>\n      <td>2021-05-06T20:18:39.453599Z</td>\n      <td>Active</td>\n      <td>...</td>\n      <td>Liquid</td>\n      <td>NaN</td>\n      <td>NaN</td>\n      <td>NaN</td>\n      <td>NaN</td>\n      <td>NaN</td>\n      <td>Yes</td>\n      <td>High</td>\n      <td>NaN</td>\n      <td>Hand</td>\n    </tr>\n    <tr>\n      <th>11998</th>\n      <td>use_0AuDL2wOJHy9I16zSC21TzeHRMo</td>\n      <td>39</td>\n      <td>M</td>\n      <td>2019-05-20T11:59:02Z</td>\n      <td>True</td>\n      <td>True</td>\n      <td>45160</td>\n      <td>1</td>\n      <td>2020-09-21T11:51:08.333752Z</td>\n      <td>Lapsed</td>\n      <td>...</td>\n      <td>Liquid</td>\n      <td>NaN</td>\n      <td>NaN</td>\n      <td>NaN</td>\n      <td>NaN</td>\n      <td>NaN</td>\n      <td>Yes</td>\n      <td>NaN</td>\n      <td>NaN</td>\n      <td>Auto</td>\n    </tr>\n    <tr>\n      <th>11999</th>\n      <td>use_B7F2PfU4eOKBmVc93AU1TzdqFY9</td>\n      <td>32</td>\n      <td>F</td>\n      <td>2017-03-05T12:42:26Z</td>\n      <td>True</td>\n      <td>True</td>\n      <td>37600</td>\n      <td>3</td>\n      <td>2020-08-22T02:32:01.566798Z</td>\n      <td>Active</td>\n      <td>...</td>\n      <td>Liquid</td>\n      <td>NaN</td>\n      <td>NaN</td>\n      <td>NaN</td>\n      <td>NaN</td>\n      <td>NonUser</td>\n      <td>Yes</td>\n      <td>High</td>\n      <td>3. SuperMarket</td>\n      <td>Hand</td>\n    </tr>\n  </tbody>\n</table>\n<p>12000 rows × 21 columns</p>\n</div>",
      "text/plain": "                                userId  age gender      registrationDate  \\\n0      use_XbA1FTDcCrTMNTHK1851TzjyPMP   24      F  2019-10-14T17:33:37Z   \n1      use_3WHgsMVGSg5MHG2zja91TzdfmY2   67      F  2017-07-25T07:00:31Z   \n2      use_2SisOiR8QwDaHI4svm11TzcvK7V   45      F  2015-06-25T00:00:00Z   \n3      use_W0T1LmfKaQPJYD1RTWh1Tzdc69H   35      F  2018-01-31T07:24:39Z   \n4      use_KwYWZ7UMl4veveOaPGK1TzddtmI   38      F  2016-01-26T11:42:17Z   \n...                                ...  ...    ...                   ...   \n11995  use_ICSyEvCcRNPpQeBdWcM1TzdczV8   53      F  2015-03-11T20:03:16Z   \n11996  use_Q5DNYeSmG7g6VeMV4n71TzeTRRz   43      F  2015-10-10T19:16:19Z   \n11997  use_rEoce5pc0MlKpndfzNj1Tze3J1L   42      F  2015-05-08T02:59:34Z   \n11998  use_0AuDL2wOJHy9I16zSC21TzeHRMo   39      M  2019-05-20T11:59:02Z   \n11999  use_B7F2PfU4eOKBmVc93AU1TzdqFY9   32      F  2017-03-05T12:42:26Z   \n\n       emailContactable  postalContactable postalCode numberChildren  \\\n0                  True               True      68540              1   \n1                  True               True      17390              3   \n2                  True               True      30200              1   \n3                  True               True      61400              2   \n4                  True               True      30620              0   \n...                 ...                ...        ...            ...   \n11995              True               True      77240             4+   \n11996              True               True      45120              0   \n11997              True               True      35170              3   \n11998              True               True      45160              1   \n11999              True               True      37600              3   \n\n                  lastActivityDate reactivationValue  ... detergentType  \\\n0       2020-08-04T09:19:40.72668Z           Lapsing  ...        Liquid   \n1       2021-05-11T05:27:04.43326Z            Active  ...          Pods   \n2      2021-01-29T09:22:30.011639Z            Active  ...        Liquid   \n3      2020-07-03T20:36:10.177493Z            Active  ...          Pods   \n4      2021-01-01T14:41:20.951078Z            Active  ...        Liquid   \n...                            ...               ...  ...           ...   \n11995  2021-05-29T22:15:43.077863Z            Active  ...          Pods   \n11996  2020-12-23T14:01:37.947441Z            Active  ...        Liquid   \n11997  2021-05-06T20:18:39.453599Z            Active  ...        Liquid   \n11998  2020-09-21T11:51:08.333752Z            Lapsed  ...        Liquid   \n11999  2020-08-22T02:32:01.566798Z            Active  ...        Liquid   \n\n      MrPropreTrier AntikalTrier   ArielTrier    DashTrier scentLover  \\\n0               NaN          NaN          NaN          NaN    NonUser   \n1       Known Trier  Known Trier  Known Trier          NaN        NaN   \n2               NaN          NaN  Known Trier  Known Trier    NonUser   \n3               NaN          NaN  Known Trier  Known Trier        Low   \n4       Known Trier  Known Trier  Known Trier  Known Trier        NaN   \n...             ...          ...          ...          ...        ...   \n11995           NaN          NaN          NaN          NaN        NaN   \n11996           NaN          NaN          NaN          NaN        Low   \n11997           NaN          NaN          NaN          NaN        NaN   \n11998           NaN          NaN          NaN          NaN        NaN   \n11999           NaN          NaN          NaN          NaN    NonUser   \n\n      petOwner ecoInterest     closestShop washDishes  \n0          Yes         NaN             NaN       Auto  \n1           No        High             NaN       Auto  \n2          Yes        High             NaN       Auto  \n3          Yes      Medium             NaN       Hand  \n4          Yes         Low             NaN       Hand  \n...        ...         ...             ...        ...  \n11995      Yes         NaN             NaN       Auto  \n11996      Yes      Medium             NaN       Hand  \n11997      Yes        High             NaN       Hand  \n11998      Yes         NaN             NaN       Auto  \n11999      Yes        High  3. SuperMarket       Hand  \n\n[12000 rows x 21 columns]"
     },
     "execution_count": 8,
     "metadata": {},
     "output_type": "execute_result"
    }
   ],
   "source": [
    "df.drop(columns=['languageCode', 'countryCode'])"
   ]
  },
  {
   "cell_type": "markdown",
   "metadata": {},
   "source": [
    "We will also remove the `userId`, `registrationDate`, `emailContactable` and `postalContactable` as they are irrelevant"
   ]
  },
  {
   "cell_type": "code",
   "execution_count": 9,
   "metadata": {},
   "outputs": [
    {
     "data": {
      "text/html": "<div>\n<style scoped>\n    .dataframe tbody tr th:only-of-type {\n        vertical-align: middle;\n    }\n\n    .dataframe tbody tr th {\n        vertical-align: top;\n    }\n\n    .dataframe thead th {\n        text-align: right;\n    }\n</style>\n<table border=\"1\" class=\"dataframe\">\n  <thead>\n    <tr style=\"text-align: right;\">\n      <th></th>\n      <th>age</th>\n      <th>gender</th>\n      <th>languageCode</th>\n      <th>countryCode</th>\n      <th>postalCode</th>\n      <th>numberChildren</th>\n      <th>lastActivityDate</th>\n      <th>reactivationValue</th>\n      <th>toothBrushType</th>\n      <th>detergentType</th>\n      <th>MrPropreTrier</th>\n      <th>AntikalTrier</th>\n      <th>ArielTrier</th>\n      <th>DashTrier</th>\n      <th>scentLover</th>\n      <th>petOwner</th>\n      <th>ecoInterest</th>\n      <th>closestShop</th>\n      <th>washDishes</th>\n    </tr>\n  </thead>\n  <tbody>\n    <tr>\n      <th>0</th>\n      <td>24</td>\n      <td>F</td>\n      <td>fr</td>\n      <td>FRA</td>\n      <td>68540</td>\n      <td>1</td>\n      <td>2020-08-04T09:19:40.72668Z</td>\n      <td>Lapsing</td>\n      <td>Manual</td>\n      <td>Liquid</td>\n      <td>NaN</td>\n      <td>NaN</td>\n      <td>NaN</td>\n      <td>NaN</td>\n      <td>NonUser</td>\n      <td>Yes</td>\n      <td>NaN</td>\n      <td>NaN</td>\n      <td>Auto</td>\n    </tr>\n    <tr>\n      <th>1</th>\n      <td>67</td>\n      <td>F</td>\n      <td>fr</td>\n      <td>FRA</td>\n      <td>17390</td>\n      <td>3</td>\n      <td>2021-05-11T05:27:04.43326Z</td>\n      <td>Active</td>\n      <td>Manual</td>\n      <td>Pods</td>\n      <td>Known Trier</td>\n      <td>Known Trier</td>\n      <td>Known Trier</td>\n      <td>NaN</td>\n      <td>NaN</td>\n      <td>No</td>\n      <td>High</td>\n      <td>NaN</td>\n      <td>Auto</td>\n    </tr>\n    <tr>\n      <th>2</th>\n      <td>45</td>\n      <td>F</td>\n      <td>fr</td>\n      <td>FRA</td>\n      <td>30200</td>\n      <td>1</td>\n      <td>2021-01-29T09:22:30.011639Z</td>\n      <td>Active</td>\n      <td>Manual</td>\n      <td>Liquid</td>\n      <td>NaN</td>\n      <td>NaN</td>\n      <td>Known Trier</td>\n      <td>Known Trier</td>\n      <td>NonUser</td>\n      <td>Yes</td>\n      <td>High</td>\n      <td>NaN</td>\n      <td>Auto</td>\n    </tr>\n    <tr>\n      <th>3</th>\n      <td>35</td>\n      <td>F</td>\n      <td>fr</td>\n      <td>FRA</td>\n      <td>61400</td>\n      <td>2</td>\n      <td>2020-07-03T20:36:10.177493Z</td>\n      <td>Active</td>\n      <td>Manual</td>\n      <td>Pods</td>\n      <td>NaN</td>\n      <td>NaN</td>\n      <td>Known Trier</td>\n      <td>Known Trier</td>\n      <td>Low</td>\n      <td>Yes</td>\n      <td>Medium</td>\n      <td>NaN</td>\n      <td>Hand</td>\n    </tr>\n    <tr>\n      <th>4</th>\n      <td>38</td>\n      <td>F</td>\n      <td>fr</td>\n      <td>FRA</td>\n      <td>30620</td>\n      <td>0</td>\n      <td>2021-01-01T14:41:20.951078Z</td>\n      <td>Active</td>\n      <td>Electric</td>\n      <td>Liquid</td>\n      <td>Known Trier</td>\n      <td>Known Trier</td>\n      <td>Known Trier</td>\n      <td>Known Trier</td>\n      <td>NaN</td>\n      <td>Yes</td>\n      <td>Low</td>\n      <td>NaN</td>\n      <td>Hand</td>\n    </tr>\n    <tr>\n      <th>...</th>\n      <td>...</td>\n      <td>...</td>\n      <td>...</td>\n      <td>...</td>\n      <td>...</td>\n      <td>...</td>\n      <td>...</td>\n      <td>...</td>\n      <td>...</td>\n      <td>...</td>\n      <td>...</td>\n      <td>...</td>\n      <td>...</td>\n      <td>...</td>\n      <td>...</td>\n      <td>...</td>\n      <td>...</td>\n      <td>...</td>\n      <td>...</td>\n    </tr>\n    <tr>\n      <th>11995</th>\n      <td>53</td>\n      <td>F</td>\n      <td>fr</td>\n      <td>FRA</td>\n      <td>77240</td>\n      <td>4+</td>\n      <td>2021-05-29T22:15:43.077863Z</td>\n      <td>Active</td>\n      <td>Manual</td>\n      <td>Pods</td>\n      <td>NaN</td>\n      <td>NaN</td>\n      <td>NaN</td>\n      <td>NaN</td>\n      <td>NaN</td>\n      <td>Yes</td>\n      <td>NaN</td>\n      <td>NaN</td>\n      <td>Auto</td>\n    </tr>\n    <tr>\n      <th>11996</th>\n      <td>43</td>\n      <td>F</td>\n      <td>fr</td>\n      <td>FRA</td>\n      <td>45120</td>\n      <td>0</td>\n      <td>2020-12-23T14:01:37.947441Z</td>\n      <td>Active</td>\n      <td>Electric</td>\n      <td>Liquid</td>\n      <td>NaN</td>\n      <td>NaN</td>\n      <td>NaN</td>\n      <td>NaN</td>\n      <td>Low</td>\n      <td>Yes</td>\n      <td>Medium</td>\n      <td>NaN</td>\n      <td>Hand</td>\n    </tr>\n    <tr>\n      <th>11997</th>\n      <td>42</td>\n      <td>F</td>\n      <td>fr</td>\n      <td>FRA</td>\n      <td>35170</td>\n      <td>3</td>\n      <td>2021-05-06T20:18:39.453599Z</td>\n      <td>Active</td>\n      <td>Manual</td>\n      <td>Liquid</td>\n      <td>NaN</td>\n      <td>NaN</td>\n      <td>NaN</td>\n      <td>NaN</td>\n      <td>NaN</td>\n      <td>Yes</td>\n      <td>High</td>\n      <td>NaN</td>\n      <td>Hand</td>\n    </tr>\n    <tr>\n      <th>11998</th>\n      <td>39</td>\n      <td>M</td>\n      <td>fr</td>\n      <td>FRA</td>\n      <td>45160</td>\n      <td>1</td>\n      <td>2020-09-21T11:51:08.333752Z</td>\n      <td>Lapsed</td>\n      <td>Electric</td>\n      <td>Liquid</td>\n      <td>NaN</td>\n      <td>NaN</td>\n      <td>NaN</td>\n      <td>NaN</td>\n      <td>NaN</td>\n      <td>Yes</td>\n      <td>NaN</td>\n      <td>NaN</td>\n      <td>Auto</td>\n    </tr>\n    <tr>\n      <th>11999</th>\n      <td>32</td>\n      <td>F</td>\n      <td>FR</td>\n      <td>FRA</td>\n      <td>37600</td>\n      <td>3</td>\n      <td>2020-08-22T02:32:01.566798Z</td>\n      <td>Active</td>\n      <td>Electric</td>\n      <td>Liquid</td>\n      <td>NaN</td>\n      <td>NaN</td>\n      <td>NaN</td>\n      <td>NaN</td>\n      <td>NonUser</td>\n      <td>Yes</td>\n      <td>High</td>\n      <td>3. SuperMarket</td>\n      <td>Hand</td>\n    </tr>\n  </tbody>\n</table>\n<p>12000 rows × 19 columns</p>\n</div>",
      "text/plain": "       age gender languageCode countryCode postalCode numberChildren  \\\n0       24      F           fr         FRA      68540              1   \n1       67      F           fr         FRA      17390              3   \n2       45      F           fr         FRA      30200              1   \n3       35      F           fr         FRA      61400              2   \n4       38      F           fr         FRA      30620              0   \n...    ...    ...          ...         ...        ...            ...   \n11995   53      F           fr         FRA      77240             4+   \n11996   43      F           fr         FRA      45120              0   \n11997   42      F           fr         FRA      35170              3   \n11998   39      M           fr         FRA      45160              1   \n11999   32      F           FR         FRA      37600              3   \n\n                  lastActivityDate reactivationValue toothBrushType  \\\n0       2020-08-04T09:19:40.72668Z           Lapsing         Manual   \n1       2021-05-11T05:27:04.43326Z            Active         Manual   \n2      2021-01-29T09:22:30.011639Z            Active         Manual   \n3      2020-07-03T20:36:10.177493Z            Active         Manual   \n4      2021-01-01T14:41:20.951078Z            Active       Electric   \n...                            ...               ...            ...   \n11995  2021-05-29T22:15:43.077863Z            Active         Manual   \n11996  2020-12-23T14:01:37.947441Z            Active       Electric   \n11997  2021-05-06T20:18:39.453599Z            Active         Manual   \n11998  2020-09-21T11:51:08.333752Z            Lapsed       Electric   \n11999  2020-08-22T02:32:01.566798Z            Active       Electric   \n\n      detergentType MrPropreTrier AntikalTrier   ArielTrier    DashTrier  \\\n0            Liquid           NaN          NaN          NaN          NaN   \n1              Pods   Known Trier  Known Trier  Known Trier          NaN   \n2            Liquid           NaN          NaN  Known Trier  Known Trier   \n3              Pods           NaN          NaN  Known Trier  Known Trier   \n4            Liquid   Known Trier  Known Trier  Known Trier  Known Trier   \n...             ...           ...          ...          ...          ...   \n11995          Pods           NaN          NaN          NaN          NaN   \n11996        Liquid           NaN          NaN          NaN          NaN   \n11997        Liquid           NaN          NaN          NaN          NaN   \n11998        Liquid           NaN          NaN          NaN          NaN   \n11999        Liquid           NaN          NaN          NaN          NaN   \n\n      scentLover petOwner ecoInterest     closestShop washDishes  \n0        NonUser      Yes         NaN             NaN       Auto  \n1            NaN       No        High             NaN       Auto  \n2        NonUser      Yes        High             NaN       Auto  \n3            Low      Yes      Medium             NaN       Hand  \n4            NaN      Yes         Low             NaN       Hand  \n...          ...      ...         ...             ...        ...  \n11995        NaN      Yes         NaN             NaN       Auto  \n11996        Low      Yes      Medium             NaN       Hand  \n11997        NaN      Yes        High             NaN       Hand  \n11998        NaN      Yes         NaN             NaN       Auto  \n11999    NonUser      Yes        High  3. SuperMarket       Hand  \n\n[12000 rows x 19 columns]"
     },
     "execution_count": 9,
     "metadata": {},
     "output_type": "execute_result"
    }
   ],
   "source": [
    "df.drop(columns=['userId', 'registrationDate', 'emailContactable', 'postalContactable'])"
   ]
  },
  {
   "cell_type": "code",
   "execution_count": null,
   "metadata": {},
   "outputs": [],
   "source": []
  }
 ],
 "metadata": {
  "kernelspec": {
   "display_name": "Python 3.8.3 64-bit ('base': conda)",
   "name": "python383jvsc74a57bd0dca0ade3e726a953b501b15e8e990130d2b7799f14cfd9f4271676035ebe5511"
  },
  "language_info": {
   "codemirror_mode": {
    "name": "ipython",
    "version": 3
   },
   "file_extension": ".py",
   "mimetype": "text/x-python",
   "name": "python",
   "nbconvert_exporter": "python",
   "pygments_lexer": "ipython3",
   "version": "3.8.3"
  },
  "metadata": {
   "interpreter": {
    "hash": "ac59ebe37160ed0dfa835113d9b8498d9f09ceb179beaac4002f036b9467c963"
   }
  },
  "orig_nbformat": 2
 },
 "nbformat": 4,
 "nbformat_minor": 2
}