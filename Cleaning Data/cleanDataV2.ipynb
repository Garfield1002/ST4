{
 "metadata": {
  "language_info": {
   "codemirror_mode": {
    "name": "ipython",
    "version": 3
   },
   "file_extension": ".py",
   "mimetype": "text/x-python",
   "name": "python",
   "nbconvert_exporter": "python",
   "pygments_lexer": "ipython3",
   "version": "3.9.2"
  },
  "orig_nbformat": 2,
  "kernelspec": {
   "name": "python392jvsc74a57bd0ac59ebe37160ed0dfa835113d9b8498d9f09ceb179beaac4002f036b9467c963",
   "display_name": "Python 3.9.2 64-bit"
  },
  "metadata": {
   "interpreter": {
    "hash": "ac59ebe37160ed0dfa835113d9b8498d9f09ceb179beaac4002f036b9467c963"
   }
  }
 },
 "nbformat": 4,
 "nbformat_minor": 2,
 "cells": [
  {
   "source": [
    "# EI ST4"
   ],
   "cell_type": "markdown",
   "metadata": {}
  },
  {
   "source": [
    "## Imports"
   ],
   "cell_type": "markdown",
   "metadata": {}
  },
  {
   "cell_type": "code",
   "execution_count": null,
   "metadata": {},
   "outputs": [],
   "source": [
    "import pandas as pd\n",
    "from datetime import datetime\n",
    "import math"
   ]
  },
  {
   "cell_type": "code",
   "execution_count": null,
   "metadata": {},
   "outputs": [],
   "source": [
    "tf = pd.read_csv(r\"DS_CentraleSupelec_ST42021/DS_CentraleSupelec_train.csv\")\n",
    "rf = pd.read_csv(r\"DS_CentraleSupelec_ST42021/DS_CentraleSupelec_test.csv\")"
   ]
  },
  {
   "source": [
    "## Cleaning up the dataframe"
   ],
   "cell_type": "markdown",
   "metadata": {}
  },
  {
   "cell_type": "code",
   "execution_count": null,
   "metadata": {},
   "outputs": [],
   "source": [
    "tf"
   ]
  },
  {
   "cell_type": "code",
   "execution_count": null,
   "metadata": {},
   "outputs": [],
   "source": [
    "rf"
   ]
  },
  {
   "source": [
    "We can remove the `languageCode` and `countryCode` column as they are constant"
   ],
   "cell_type": "markdown",
   "metadata": {}
  },
  {
   "cell_type": "code",
   "execution_count": null,
   "metadata": {},
   "outputs": [],
   "source": [
    "tf[~tf.languageCode.isin(['fr', 'FR'])].empty and tf[~tf.countryCode.eq('FRA')].empty"
   ]
  },
  {
   "cell_type": "code",
   "execution_count": null,
   "metadata": {},
   "outputs": [],
   "source": [
    "tf = tf.drop(columns=['languageCode', 'countryCode'])\n",
    "rf = rf.drop(columns=['languageCode', 'countryCode'])"
   ]
  },
  {
   "source": [
    "We will also remove the `userId`, `registrationDate`, `reactivationValue`, `emailContactable` and `postalContactable` as they are irrelevant. `postalCode` as it will be to hard to analyse."
   ],
   "cell_type": "markdown",
   "metadata": {}
  },
  {
   "cell_type": "code",
   "execution_count": null,
   "metadata": {},
   "outputs": [],
   "source": [
    "tf = tf.drop(columns=['registrationDate', 'reactivationValue', 'emailContactable', 'postalContactable', 'postalCode'])\n",
    "rf = rf.drop(columns=['registrationDate', 'reactivationValue', 'emailContactable', 'postalContactable', 'postalCode'])"
   ]
  },
  {
   "source": [
    "We are going to replace the `washDishes` `STRING` column with an `INT` column"
   ],
   "cell_type": "markdown",
   "metadata": {}
  },
  {
   "cell_type": "code",
   "execution_count": null,
   "metadata": {},
   "outputs": [],
   "source": [
    "tf[\"washDishes\"] = tf[\"washDishes\"].apply(lambda e: 1 if e == 'Auto' else 0)"
   ]
  },
  {
   "source": [
    "In the `MrPropreTrier`, `AntikalTrier`, `ArielTrier`, `DashTrier` we will replace `Known Trier` with `1` and `Nan` with `-1`"
   ],
   "cell_type": "markdown",
   "metadata": {}
  },
  {
   "cell_type": "code",
   "execution_count": null,
   "metadata": {},
   "outputs": [],
   "source": [
    "for c in ['MrPropreTrier', 'AntikalTrier', 'ArielTrier', 'DashTrier']:\n",
    "    tf[c[:-5]] = tf.apply(lambda row: 1.0 if row[c] == 'Known Trier' else 0.0, axis=1)\n",
    "    tf = tf.drop(columns=[c])\n",
    "\n",
    "    rf[c[:-5]] = rf.apply(lambda row: 1.0 if row[c] == 'Known Trier' else 0.0, axis=1)\n",
    "    rf = rf.drop(columns=[c])"
   ]
  },
  {
   "source": [
    "We will replace `detergentType` by `liquid`, `pods` and `powder` "
   ],
   "cell_type": "markdown",
   "metadata": {}
  },
  {
   "cell_type": "code",
   "execution_count": null,
   "metadata": {},
   "outputs": [],
   "source": [
    "# pods\n",
    "tf['pods'] = tf['detergentType'].apply(lambda e: 1.0 if pd.notna(e) and 'Pods' in e else 0.0)\n",
    "rf['pods'] = rf['detergentType'].apply(lambda e: 1.0 if pd.notna(e) and 'Pods' in e else 0.0)\n",
    "\n",
    "# powder\n",
    "tf['powder'] = tf['detergentType'].apply(lambda e: 1.0 if pd.notna(e) and 'Powder' in e else 0.0)\n",
    "rf['powder'] = rf['detergentType'].apply(lambda e: 1.0 if pd.notna(e) and 'Powder' in e else 0.0)\n",
    "\n",
    "# liquid\n",
    "tf['liquid'] = tf['detergentType'].apply(lambda e: 1.0 if pd.notna(e) and 'Liquid' in e else 0.0)\n",
    "rf['liquid'] = rf['detergentType'].apply(lambda e: 1.0 if pd.notna(e) and 'Liquid' in e else 0.0)\n",
    "\n",
    "# removes extra column\n",
    "tf = tf.drop(columns=['detergentType']) \n",
    "rf = rf.drop(columns=['detergentType']) "
   ]
  },
  {
   "source": [
    "Replacing `toothBrushType` with `electricToothbrush`"
   ],
   "cell_type": "markdown",
   "metadata": {}
  },
  {
   "cell_type": "code",
   "execution_count": null,
   "metadata": {},
   "outputs": [],
   "source": [
    "tf['electricToothbrush'] = tf['toothBrushType'].apply(lambda e: 1.0 if e == 'Electric' else 0.0)\n",
    "rf['electricToothbrush'] = rf['toothBrushType'].apply(lambda e: 1.0 if e == 'Electric' else 0.0)\n",
    "\n",
    "tf = tf.drop(columns=['toothBrushType'])\n",
    "rf = rf.drop(columns=['toothBrushType'])"
   ]
  },
  {
   "source": [
    "Replacing `petOwner` with `hasPet`, if the first 3 characters are 'Yes' or 'Oui' the value is `1`, else it is `-1`"
   ],
   "cell_type": "markdown",
   "metadata": {}
  },
  {
   "cell_type": "code",
   "execution_count": null,
   "metadata": {},
   "outputs": [],
   "source": [
    "def likesPets(s:str) -> float:\n",
    "    if s in ['Yes, we love our furry friends', \"Oui, j'adore nos petites boules de poils !\"]: \n",
    "        return 1\n",
    "\n",
    "    if s in ['Yes']: \n",
    "        return 0.9\n",
    "\n",
    "    if s in [\"Non, j'aime les animaux, mais je n'en ai pas pour le moment.\", 'No, we love animals but no pets here for now']:   \n",
    "        return 0.8\n",
    "    \n",
    "    if s in ['No - maybe future']:\n",
    "        return 0.5\n",
    "\n",
    "    if s in ['No']:\n",
    "        return 0.3\n",
    "\n",
    "    if s in ['Des animaux dans la maison ? Non merci !', \"No, we'd never have pets in the house\"]:\n",
    "        return 0\n",
    "    return 0.3\n",
    "\n",
    "# creating a new column for animal lovers\n",
    "tf['likesPets'] = tf['petOwner'].apply(likesPets)\n",
    "rf['likesPets'] = rf['petOwner'].apply(likesPets)\n",
    "\n",
    "# creating a new column for pet owners\n",
    "tf['hasPet'] = tf['petOwner'].apply(lambda e: 1.0 if str(e)[:3] == 'Yes' or str(e)[:3] == 'Oui' else 0.0)\n",
    "rf['hasPet'] = rf['petOwner'].apply(lambda e: 1.0 if str(e)[:3] == 'Yes' or str(e)[:3] == 'Oui' else 0.0)\n",
    "\n",
    "tf = tf.drop(columns=['petOwner'])\n",
    "rf = rf.drop(columns=['petOwner'])"
   ]
  },
  {
   "source": [
    "Transforms a `ISO 8601` time string to the amount of days since the time string"
   ],
   "cell_type": "markdown",
   "metadata": {}
  },
  {
   "cell_type": "code",
   "execution_count": null,
   "metadata": {},
   "outputs": [],
   "source": [
    "def timeStringToDelta(timeString: str) -> int:\n",
    "    if pd.isna(timeString): return None\n",
    "    return int((datetime.utcnow().timestamp() - datetime.strptime(timeString[:10], \"%Y-%m-%d\").timestamp()) / 3600 / 24)"
   ]
  },
  {
   "source": [
    "Replaces `lastActivityDate` with `daysSinceActivity`: an `integer` representing the amount of ellapsed days since last activity"
   ],
   "cell_type": "markdown",
   "metadata": {}
  },
  {
   "cell_type": "code",
   "execution_count": null,
   "metadata": {},
   "outputs": [],
   "source": [
    "def fillAvg(c_name: str, df1: pd.DataFrame, df2: pd.DataFrame):\n",
    "    mean = (df1[c_name].mean(skipna=True) * df1.shape[0] + df2[c_name].mean(skipna=True) * df2.shape[0]) / (df1.shape[0] + df2.shape[0])\n",
    "    df1[c_name] = df1[c_name].fillna(mean)\n",
    "    df2[c_name] = df2[c_name].fillna(mean)"
   ]
  },
  {
   "cell_type": "code",
   "execution_count": null,
   "metadata": {},
   "outputs": [],
   "source": [
    "tf['daysSinceActivity'] = tf['lastActivityDate'].apply(timeStringToDelta)\n",
    "rf['daysSinceActivity'] = rf['lastActivityDate'].apply(timeStringToDelta)\n",
    "\n",
    "# normalizess the new column\n",
    "minV = min(tf['daysSinceActivity'].min(), rf['daysSinceActivity'].min())\n",
    "maxV = max(tf['daysSinceActivity'].max(), rf['daysSinceActivity'].max())\n",
    "\n",
    "tf['daysSinceActivity'] = tf['daysSinceActivity'].apply(lambda e: (e - minV) / (maxV - minV))\n",
    "rf['daysSinceActivity'] = rf['daysSinceActivity'].apply(lambda e: (e - minV) / (maxV - minV))\n",
    "\n",
    "# replaces Nan by the avg\n",
    "fillAvg('daysSinceActivity', tf, rf)\n",
    "\n",
    "# removes the extra column\n",
    "tf = tf.drop(columns=['lastActivityDate'])\n",
    "rf = rf.drop(columns=['lastActivityDate'])"
   ]
  },
  {
   "source": [
    "Replaces `age` with a normalized column"
   ],
   "cell_type": "markdown",
   "metadata": {}
  },
  {
   "cell_type": "code",
   "execution_count": null,
   "metadata": {},
   "outputs": [],
   "source": [
    "# normalizess the new column\n",
    "minV = min(tf['age'].min(), rf['age'].min())\n",
    "maxV = max(tf['age'].max(), rf['age'].max())\n",
    "\n",
    "tf['age'] = tf['age'].apply(lambda e: (e - minV) / (maxV - minV))\n",
    "rf['age'] = rf['age'].apply(lambda e: (e - minV) / (maxV - minV))\n",
    "\n",
    "# replaces Nan by the avg\n",
    "fillAvg('age', tf, rf)"
   ]
  },
  {
   "source": [
    "The possible values for `numberChildren` are `'1'`, `'2'`, `'3'`, `'4'`, `'4+'` and `'NaN'`. We will be creating a column `nbChildren` of type `int` where `'NaN'` will be mapped to `None`."
   ],
   "cell_type": "markdown",
   "metadata": {}
  },
  {
   "cell_type": "code",
   "execution_count": null,
   "metadata": {
    "tags": []
   },
   "outputs": [],
   "source": [
    "def childrenMagik(children: str) -> float:\n",
    "    if children == '0': return 0\n",
    "    if children == '1': return 1 / 5\n",
    "    if children == '2': return 2 / 5\n",
    "    if children == '3': return 3 / 5\n",
    "    if children == '4': return 4 / 5\n",
    "    if children == '4+': return 1\n",
    "    return None\n",
    "\n",
    "tf['nbChildren'] = tf['numberChildren'].apply(childrenMagik)\n",
    "rf['nbChildren'] = rf['numberChildren'].apply(childrenMagik)\n",
    "\n",
    "# Replacing nan with the avg\n",
    "fillAvg('nbChildren', tf, rf)\n",
    "\n",
    "tf = tf.drop(columns=['numberChildren'])\n",
    "rf = rf.drop(columns=['numberChildren'])"
   ]
  },
  {
   "source": [
    "Replaces `F` with `1` and `M` with `-1` in the `gender` column"
   ],
   "cell_type": "markdown",
   "metadata": {}
  },
  {
   "cell_type": "code",
   "execution_count": null,
   "metadata": {},
   "outputs": [],
   "source": [
    "tf['gender'] = tf['gender'].apply(lambda e: 1.0 if e == \"F\" else 0.0)\n",
    "rf['gender'] = rf['gender'].apply(lambda e: 1.0 if e == \"F\" else 0.0)"
   ]
  },
  {
   "source": [
    "Changes `ecoInterest` replacing `High`, `Medium`, `Low`, `Very high` with a scale going from `0` to `1`. We the replace `nan` with the avg."
   ],
   "cell_type": "markdown",
   "metadata": {}
  },
  {
   "cell_type": "code",
   "execution_count": null,
   "metadata": {},
   "outputs": [],
   "source": [
    "def textScaleToFloat(s:str) -> float:\n",
    "    if s == 'Very high': return 1\n",
    "    if s == 'High': return 2 / 3\n",
    "    if s == 'Medium': return 1 / 3\n",
    "    if s == 'Low': return 0\n",
    "    return None\n",
    "\n",
    "# replaces the 'normal' values with floats\n",
    "tf['ecoInterest'] = tf['ecoInterest'].apply(textScaleToFloat)\n",
    "rf['ecoInterest'] = rf['ecoInterest'].apply(textScaleToFloat)\n",
    "\n",
    "# replaces the nan with the avg\n",
    "fillAvg('ecoInterest', tf, rf)"
   ]
  },
  {
   "source": [
    "Changes `scentLover` replacing `NonUser`, `Low`, `Medium`, `High` with a scale going from 0 to 1. We the replace `nan` with the avg."
   ],
   "cell_type": "markdown",
   "metadata": {}
  },
  {
   "cell_type": "code",
   "execution_count": null,
   "metadata": {},
   "outputs": [],
   "source": [
    "def textScaleToFloat(s:str) -> float:\n",
    "    if s == 'High': return 1\n",
    "    if s == 'Medium': return 2 / 3\n",
    "    if s == 'Low': return 1 / 3\n",
    "    if s == 'NonUser': return 0\n",
    "    return None\n",
    "\n",
    "# replaces the 'normal' values with floats\n",
    "tf['scentLover'] = tf['scentLover'].apply(textScaleToFloat)\n",
    "rf['scentLover'] = rf['scentLover'].apply(textScaleToFloat)\n",
    "\n",
    "# replaces the nan with the avg\n",
    "fillAvg('scentLover', tf, rf)"
   ]
  },
  {
   "source": [
    "Handles the closest shop"
   ],
   "cell_type": "markdown",
   "metadata": {}
  },
  {
   "cell_type": "code",
   "execution_count": null,
   "metadata": {},
   "outputs": [],
   "source": [
    "def shops(df):\n",
    "    df['magasin']           = df['closestShop'].apply(lambda e: 1.0 if e =='1. Magasin de Proximit�' else 0.0)\n",
    "    df['moyenneSurface']    = df['closestShop'].apply(lambda e: 1.0 if e =='2. Moyenne Surface' else 0.0)\n",
    "    df['superMarket']       = df['closestShop'].apply(lambda e: 1.0 if e =='3. SuperMarket' else 0.0)\n",
    "    df['hyperMarket']       = df['closestShop'].apply(lambda e: 1.0 if e =='4. HyperMarket' else 0.0)\n",
    "    df['drive']             = df['closestShop'].apply(lambda e: 1.0 if e =='5. Drive' else 0.0)\n",
    "    df['hardDiscount']      = df['closestShop'].apply(lambda e: 1.0 if e =='6. Hard Discounter' else 0.0)\n",
    "\n",
    "shops(tf)\n",
    "shops(rf)\n",
    "\n",
    "tf = tf.drop(columns=['closestShop'])\n",
    "rf = rf.drop(columns=['closestShop'])"
   ]
  },
  {
   "cell_type": "code",
   "execution_count": null,
   "metadata": {},
   "outputs": [],
   "source": [
    "labels = tf.pop('washDishes')\n",
    "tf['labels'] = labels\n",
    "\n",
    "tf"
   ]
  },
  {
   "cell_type": "code",
   "execution_count": null,
   "metadata": {},
   "outputs": [],
   "source": [
    "rf"
   ]
  },
  {
   "cell_type": "code",
   "execution_count": null,
   "metadata": {},
   "outputs": [],
   "source": [
    "tf.to_csv('./data/train.csv', index=False)\n",
    "rf.to_csv('./data/test.csv', index=False)"
   ]
  },
  {
   "cell_type": "code",
   "execution_count": null,
   "metadata": {},
   "outputs": [],
   "source": [
    "tf.columns"
   ]
  },
  {
   "cell_type": "code",
   "execution_count": null,
   "metadata": {},
   "outputs": [],
   "source": [
    "rf.columns"
   ]
  },
  {
   "cell_type": "code",
   "execution_count": null,
   "metadata": {},
   "outputs": [],
   "source": []
  }
 ]
}