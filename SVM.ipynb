{
 "cells": [
  {
   "cell_type": "markdown",
   "metadata": {},
   "source": [
    "# SVM Algorithm"
   ]
  },
  {
   "cell_type": "markdown",
   "metadata": {},
   "source": [
    "## Classical imports and getting the training dataset"
   ]
  },
  {
   "cell_type": "code",
   "execution_count": 1,
   "metadata": {},
   "outputs": [],
   "source": [
    "# Necessary imports\n",
    "import numpy as np\n",
    "import matplotlib.pyplot as plt\n",
    "import seaborn as sns\n",
    "#Fitting models\n",
    "from sklearn.model_selection import GridSearchCV\n",
    "from sklearn.svm import SVC\n",
    "from sklearn.model_selection import train_test_split\n",
    "# Scoring functions\n",
    "from sklearn.metrics import accuracy_score\n",
    "from sklearn.metrics import classification_report\n",
    "from sklearn.metrics import roc_auc_score\n",
    "from sklearn.metrics import roc_curve"
   ]
  },
  {
   "cell_type": "code",
   "execution_count": 2,
   "metadata": {},
   "outputs": [],
   "source": [
    "#Getting the dataset\n",
    "%run cleanData.ipynb"
   ]
  },
  {
   "cell_type": "code",
   "execution_count": 3,
   "metadata": {},
   "outputs": [
    {
     "data": {
      "text/html": "<div>\n<style scoped>\n    .dataframe tbody tr th:only-of-type {\n        vertical-align: middle;\n    }\n\n    .dataframe tbody tr th {\n        vertical-align: top;\n    }\n\n    .dataframe thead th {\n        text-align: right;\n    }\n</style>\n<table border=\"1\" class=\"dataframe\">\n  <thead>\n    <tr style=\"text-align: right;\">\n      <th></th>\n      <th>age</th>\n      <th>gender</th>\n      <th>scentLover</th>\n      <th>ecoInterest</th>\n      <th>washDishes</th>\n      <th>MrPropre</th>\n      <th>Antikal</th>\n      <th>Ariel</th>\n      <th>Dash</th>\n      <th>pods</th>\n      <th>...</th>\n      <th>likesPets</th>\n      <th>hasPet</th>\n      <th>daysSinceActivity</th>\n      <th>nbChildren</th>\n      <th>magasin</th>\n      <th>moyenneSurface</th>\n      <th>superMarket</th>\n      <th>hyperMarket</th>\n      <th>drive</th>\n      <th>hardDiscount</th>\n    </tr>\n  </thead>\n  <tbody>\n    <tr>\n      <th>0</th>\n      <td>0.077922</td>\n      <td>1</td>\n      <td>0.000000</td>\n      <td>0.387479</td>\n      <td>1</td>\n      <td>-1</td>\n      <td>-1</td>\n      <td>-1</td>\n      <td>-1</td>\n      <td>-1</td>\n      <td>...</td>\n      <td>0.9</td>\n      <td>1</td>\n      <td>0.234694</td>\n      <td>0.2</td>\n      <td>-1</td>\n      <td>-1</td>\n      <td>-1</td>\n      <td>-1</td>\n      <td>-1</td>\n      <td>-1</td>\n    </tr>\n    <tr>\n      <th>1</th>\n      <td>0.636364</td>\n      <td>1</td>\n      <td>0.378258</td>\n      <td>0.666667</td>\n      <td>1</td>\n      <td>1</td>\n      <td>1</td>\n      <td>1</td>\n      <td>-1</td>\n      <td>1</td>\n      <td>...</td>\n      <td>0.3</td>\n      <td>-1</td>\n      <td>0.014914</td>\n      <td>0.6</td>\n      <td>-1</td>\n      <td>-1</td>\n      <td>-1</td>\n      <td>-1</td>\n      <td>-1</td>\n      <td>-1</td>\n    </tr>\n    <tr>\n      <th>2</th>\n      <td>0.350649</td>\n      <td>1</td>\n      <td>0.000000</td>\n      <td>0.666667</td>\n      <td>1</td>\n      <td>-1</td>\n      <td>-1</td>\n      <td>1</td>\n      <td>1</td>\n      <td>-1</td>\n      <td>...</td>\n      <td>0.9</td>\n      <td>1</td>\n      <td>0.094976</td>\n      <td>0.2</td>\n      <td>-1</td>\n      <td>-1</td>\n      <td>-1</td>\n      <td>-1</td>\n      <td>-1</td>\n      <td>-1</td>\n    </tr>\n    <tr>\n      <th>3</th>\n      <td>0.220779</td>\n      <td>1</td>\n      <td>0.333333</td>\n      <td>0.333333</td>\n      <td>-1</td>\n      <td>-1</td>\n      <td>-1</td>\n      <td>1</td>\n      <td>1</td>\n      <td>1</td>\n      <td>...</td>\n      <td>0.9</td>\n      <td>1</td>\n      <td>0.259812</td>\n      <td>0.4</td>\n      <td>-1</td>\n      <td>-1</td>\n      <td>-1</td>\n      <td>-1</td>\n      <td>-1</td>\n      <td>-1</td>\n    </tr>\n    <tr>\n      <th>4</th>\n      <td>0.259740</td>\n      <td>1</td>\n      <td>0.378258</td>\n      <td>0.000000</td>\n      <td>-1</td>\n      <td>1</td>\n      <td>1</td>\n      <td>1</td>\n      <td>1</td>\n      <td>-1</td>\n      <td>...</td>\n      <td>0.9</td>\n      <td>1</td>\n      <td>0.116954</td>\n      <td>0.0</td>\n      <td>-1</td>\n      <td>-1</td>\n      <td>-1</td>\n      <td>-1</td>\n      <td>-1</td>\n      <td>-1</td>\n    </tr>\n    <tr>\n      <th>...</th>\n      <td>...</td>\n      <td>...</td>\n      <td>...</td>\n      <td>...</td>\n      <td>...</td>\n      <td>...</td>\n      <td>...</td>\n      <td>...</td>\n      <td>...</td>\n      <td>...</td>\n      <td>...</td>\n      <td>...</td>\n      <td>...</td>\n      <td>...</td>\n      <td>...</td>\n      <td>...</td>\n      <td>...</td>\n      <td>...</td>\n      <td>...</td>\n      <td>...</td>\n      <td>...</td>\n    </tr>\n    <tr>\n      <th>11995</th>\n      <td>0.454545</td>\n      <td>1</td>\n      <td>0.378258</td>\n      <td>0.387479</td>\n      <td>1</td>\n      <td>-1</td>\n      <td>-1</td>\n      <td>-1</td>\n      <td>-1</td>\n      <td>1</td>\n      <td>...</td>\n      <td>0.9</td>\n      <td>1</td>\n      <td>0.000785</td>\n      <td>1.0</td>\n      <td>-1</td>\n      <td>-1</td>\n      <td>-1</td>\n      <td>-1</td>\n      <td>-1</td>\n      <td>-1</td>\n    </tr>\n    <tr>\n      <th>11996</th>\n      <td>0.324675</td>\n      <td>1</td>\n      <td>0.333333</td>\n      <td>0.333333</td>\n      <td>-1</td>\n      <td>-1</td>\n      <td>-1</td>\n      <td>-1</td>\n      <td>-1</td>\n      <td>-1</td>\n      <td>...</td>\n      <td>0.9</td>\n      <td>1</td>\n      <td>0.124019</td>\n      <td>0.0</td>\n      <td>-1</td>\n      <td>-1</td>\n      <td>-1</td>\n      <td>-1</td>\n      <td>-1</td>\n      <td>-1</td>\n    </tr>\n    <tr>\n      <th>11997</th>\n      <td>0.311688</td>\n      <td>1</td>\n      <td>0.378258</td>\n      <td>0.666667</td>\n      <td>-1</td>\n      <td>-1</td>\n      <td>-1</td>\n      <td>-1</td>\n      <td>-1</td>\n      <td>-1</td>\n      <td>...</td>\n      <td>0.9</td>\n      <td>1</td>\n      <td>0.018838</td>\n      <td>0.6</td>\n      <td>-1</td>\n      <td>-1</td>\n      <td>-1</td>\n      <td>-1</td>\n      <td>-1</td>\n      <td>-1</td>\n    </tr>\n    <tr>\n      <th>11998</th>\n      <td>0.272727</td>\n      <td>-1</td>\n      <td>0.378258</td>\n      <td>0.387479</td>\n      <td>1</td>\n      <td>-1</td>\n      <td>-1</td>\n      <td>-1</td>\n      <td>-1</td>\n      <td>-1</td>\n      <td>...</td>\n      <td>0.9</td>\n      <td>1</td>\n      <td>0.197017</td>\n      <td>0.2</td>\n      <td>-1</td>\n      <td>-1</td>\n      <td>-1</td>\n      <td>-1</td>\n      <td>-1</td>\n      <td>-1</td>\n    </tr>\n    <tr>\n      <th>11999</th>\n      <td>0.181818</td>\n      <td>1</td>\n      <td>0.000000</td>\n      <td>0.666667</td>\n      <td>-1</td>\n      <td>-1</td>\n      <td>-1</td>\n      <td>-1</td>\n      <td>-1</td>\n      <td>-1</td>\n      <td>...</td>\n      <td>0.9</td>\n      <td>1</td>\n      <td>0.220565</td>\n      <td>0.6</td>\n      <td>-1</td>\n      <td>-1</td>\n      <td>1</td>\n      <td>-1</td>\n      <td>-1</td>\n      <td>-1</td>\n    </tr>\n  </tbody>\n</table>\n<p>12000 rows × 23 columns</p>\n</div>",
      "text/plain": "            age  gender  scentLover  ecoInterest  washDishes  MrPropre  \\\n0      0.077922       1    0.000000     0.387479           1        -1   \n1      0.636364       1    0.378258     0.666667           1         1   \n2      0.350649       1    0.000000     0.666667           1        -1   \n3      0.220779       1    0.333333     0.333333          -1        -1   \n4      0.259740       1    0.378258     0.000000          -1         1   \n...         ...     ...         ...          ...         ...       ...   \n11995  0.454545       1    0.378258     0.387479           1        -1   \n11996  0.324675       1    0.333333     0.333333          -1        -1   \n11997  0.311688       1    0.378258     0.666667          -1        -1   \n11998  0.272727      -1    0.378258     0.387479           1        -1   \n11999  0.181818       1    0.000000     0.666667          -1        -1   \n\n       Antikal  Ariel  Dash  pods  ...  likesPets  hasPet  daysSinceActivity  \\\n0           -1     -1    -1    -1  ...        0.9       1           0.234694   \n1            1      1    -1     1  ...        0.3      -1           0.014914   \n2           -1      1     1    -1  ...        0.9       1           0.094976   \n3           -1      1     1     1  ...        0.9       1           0.259812   \n4            1      1     1    -1  ...        0.9       1           0.116954   \n...        ...    ...   ...   ...  ...        ...     ...                ...   \n11995       -1     -1    -1     1  ...        0.9       1           0.000785   \n11996       -1     -1    -1    -1  ...        0.9       1           0.124019   \n11997       -1     -1    -1    -1  ...        0.9       1           0.018838   \n11998       -1     -1    -1    -1  ...        0.9       1           0.197017   \n11999       -1     -1    -1    -1  ...        0.9       1           0.220565   \n\n       nbChildren  magasin  moyenneSurface  superMarket  hyperMarket  drive  \\\n0             0.2       -1              -1           -1           -1     -1   \n1             0.6       -1              -1           -1           -1     -1   \n2             0.2       -1              -1           -1           -1     -1   \n3             0.4       -1              -1           -1           -1     -1   \n4             0.0       -1              -1           -1           -1     -1   \n...           ...      ...             ...          ...          ...    ...   \n11995         1.0       -1              -1           -1           -1     -1   \n11996         0.0       -1              -1           -1           -1     -1   \n11997         0.6       -1              -1           -1           -1     -1   \n11998         0.2       -1              -1           -1           -1     -1   \n11999         0.6       -1              -1            1           -1     -1   \n\n       hardDiscount  \n0                -1  \n1                -1  \n2                -1  \n3                -1  \n4                -1  \n...             ...  \n11995            -1  \n11996            -1  \n11997            -1  \n11998            -1  \n11999            -1  \n\n[12000 rows x 23 columns]"
     },
     "execution_count": 3,
     "metadata": {},
     "output_type": "execute_result"
    }
   ],
   "source": [
    "# Checking that the dataset is ok\n",
    "df"
   ]
  },
  {
   "cell_type": "code",
   "execution_count": 4,
   "metadata": {},
   "outputs": [],
   "source": [
    "# A last clean to have float64 values\n",
    "def clean_dataset(df):\n",
    "    assert isinstance(df, pd.DataFrame), \"df needs to be a pd.DataFrame\"\n",
    "    df.dropna(inplace=True)\n",
    "    indices_to_keep = ~df.isin([np.nan, np.inf, -np.inf]).any(1)\n",
    "    return df[indices_to_keep].astype(np.float64)\n",
    "\n",
    "df=clean_dataset(df)"
   ]
  },
  {
   "cell_type": "markdown",
   "metadata": {},
   "source": [
    "## SVM Model"
   ]
  },
  {
   "cell_type": "code",
   "execution_count": 5,
   "metadata": {},
   "outputs": [],
   "source": [
    "#To see what the best parameters are\n",
    "def best_model(model):\n",
    "    print(model.best_score_)    \n",
    "    print(model.best_params_)\n",
    "    print(model.best_estimator_)"
   ]
  },
  {
   "cell_type": "code",
   "execution_count": 6,
   "metadata": {},
   "outputs": [],
   "source": [
    "#splitting our dataset into one set of training and one set of test\n",
    "y = df.washDishes.values\n",
    "x = df.drop(['washDishes'], axis = 1)\n",
    "x_train, x_test, y_train, y_test = train_test_split(x,y,test_size = 0.2,random_state=0)"
   ]
  },
  {
   "cell_type": "code",
   "execution_count": 7,
   "metadata": {},
   "outputs": [
    {
     "data": {
      "text/plain": "'accuracies = {} \\nparam_grid = {\\'C\\': [50,100,150], \\'gamma\\': [0.1,0.01,0.001],\\'probability\\':[True],\\'kernel\\': [\\'rbf\\']}\\nSVM_grid = GridSearchCV(SVC(), param_grid, cv=3, refit=True, verbose=0)\\nSVM_grid.fit(x_train, y_train)\\nacc = SVM_grid.score(x_test,y_test)*100\\nprint(best_model(SVM_grid))\\nprint(\"Test Accuracy {:.2f}%\".format(acc))'"
     },
     "execution_count": 7,
     "metadata": {},
     "output_type": "execute_result"
    }
   ],
   "source": [
    "#SVM Regression\n",
    "'''accuracies = {} \n",
    "param_grid = {'C': [50,100,150], 'gamma': [0.1,0.01,0.001],'probability':[True],'kernel': ['rbf']}\n",
    "SVM_grid = GridSearchCV(SVC(), param_grid, cv=3, refit=True, verbose=0)\n",
    "SVM_grid.fit(x_train, y_train)\n",
    "acc = SVM_grid.score(x_test,y_test)*100\n",
    "print(best_model(SVM_grid))\n",
    "print(\"Test Accuracy {:.2f}%\".format(acc))'''"
   ]
  },
  {
   "cell_type": "code",
   "execution_count": 8,
   "metadata": {},
   "outputs": [],
   "source": [
    "# Fit SVM with pol kernel\n",
    "param_grid = {'C': [0.5,1,10,50,100], 'gamma': [0.1,0.01,0.001],'probability':[True],'kernel': ['poly'],'degree':[2,3] }\n",
    "SVM_grid = GridSearchCV(SVC(), param_grid, cv=3, refit=True, verbose=0)\n",
    "SVM_grid.fit(x_train, y_train)\n",
    "SVM_grid.fit(x_train, y_train)\n",
    "acc = SVM_grid.score(x_test,y_test)*100\n",
    "print(best_model(SVM_grid))\n",
    "print(\"Test Accuracy {:.2f}%\".format(acc))"
   ]
  },
  {
   "cell_type": "markdown",
   "metadata": {},
   "source": [
    "## Prediction"
   ]
  },
  {
   "cell_type": "code",
   "execution_count": null,
   "metadata": {},
   "outputs": [
    {
     "data": {
      "text/html": "<div>\n<style scoped>\n    .dataframe tbody tr th:only-of-type {\n        vertical-align: middle;\n    }\n\n    .dataframe tbody tr th {\n        vertical-align: top;\n    }\n\n    .dataframe thead th {\n        text-align: right;\n    }\n</style>\n<table border=\"1\" class=\"dataframe\">\n  <thead>\n    <tr style=\"text-align: right;\">\n      <th></th>\n      <th>age</th>\n      <th>gender</th>\n      <th>scentLover</th>\n      <th>ecoInterest</th>\n      <th>MrPropre</th>\n      <th>Antikal</th>\n      <th>Ariel</th>\n      <th>Dash</th>\n      <th>pods</th>\n      <th>powder</th>\n      <th>...</th>\n      <th>likesPets</th>\n      <th>hasPet</th>\n      <th>daysSinceActivity</th>\n      <th>nbChildren</th>\n      <th>magasin</th>\n      <th>moyenneSurface</th>\n      <th>superMarket</th>\n      <th>hyperMarket</th>\n      <th>drive</th>\n      <th>hardDiscount</th>\n    </tr>\n  </thead>\n  <tbody>\n    <tr>\n      <th>0</th>\n      <td>0.270270</td>\n      <td>1</td>\n      <td>0.383884</td>\n      <td>0.666667</td>\n      <td>1</td>\n      <td>-1</td>\n      <td>1</td>\n      <td>1</td>\n      <td>-1</td>\n      <td>-1</td>\n      <td>...</td>\n      <td>0.5</td>\n      <td>-1</td>\n      <td>0.064902</td>\n      <td>1.0</td>\n      <td>-1</td>\n      <td>-1</td>\n      <td>-1</td>\n      <td>-1</td>\n      <td>-1</td>\n      <td>-1</td>\n    </tr>\n    <tr>\n      <th>1</th>\n      <td>0.364865</td>\n      <td>1</td>\n      <td>0.383884</td>\n      <td>0.666667</td>\n      <td>-1</td>\n      <td>-1</td>\n      <td>1</td>\n      <td>-1</td>\n      <td>-1</td>\n      <td>-1</td>\n      <td>...</td>\n      <td>0.9</td>\n      <td>1</td>\n      <td>0.157985</td>\n      <td>0.4</td>\n      <td>-1</td>\n      <td>-1</td>\n      <td>-1</td>\n      <td>-1</td>\n      <td>-1</td>\n      <td>-1</td>\n    </tr>\n    <tr>\n      <th>2</th>\n      <td>0.121622</td>\n      <td>1</td>\n      <td>0.383884</td>\n      <td>0.384828</td>\n      <td>-1</td>\n      <td>-1</td>\n      <td>-1</td>\n      <td>-1</td>\n      <td>-1</td>\n      <td>-1</td>\n      <td>...</td>\n      <td>0.9</td>\n      <td>1</td>\n      <td>0.105038</td>\n      <td>0.2</td>\n      <td>-1</td>\n      <td>-1</td>\n      <td>-1</td>\n      <td>-1</td>\n      <td>-1</td>\n      <td>-1</td>\n    </tr>\n    <tr>\n      <th>3</th>\n      <td>0.648649</td>\n      <td>1</td>\n      <td>0.383884</td>\n      <td>0.384828</td>\n      <td>1</td>\n      <td>-1</td>\n      <td>-1</td>\n      <td>-1</td>\n      <td>-1</td>\n      <td>-1</td>\n      <td>...</td>\n      <td>0.3</td>\n      <td>-1</td>\n      <td>0.044406</td>\n      <td>0.6</td>\n      <td>-1</td>\n      <td>-1</td>\n      <td>-1</td>\n      <td>-1</td>\n      <td>-1</td>\n      <td>-1</td>\n    </tr>\n    <tr>\n      <th>4</th>\n      <td>0.324324</td>\n      <td>1</td>\n      <td>0.000000</td>\n      <td>0.333333</td>\n      <td>-1</td>\n      <td>-1</td>\n      <td>1</td>\n      <td>1</td>\n      <td>1</td>\n      <td>-1</td>\n      <td>...</td>\n      <td>0.9</td>\n      <td>1</td>\n      <td>0.008540</td>\n      <td>0.4</td>\n      <td>-1</td>\n      <td>-1</td>\n      <td>-1</td>\n      <td>-1</td>\n      <td>-1</td>\n      <td>-1</td>\n    </tr>\n    <tr>\n      <th>...</th>\n      <td>...</td>\n      <td>...</td>\n      <td>...</td>\n      <td>...</td>\n      <td>...</td>\n      <td>...</td>\n      <td>...</td>\n      <td>...</td>\n      <td>...</td>\n      <td>...</td>\n      <td>...</td>\n      <td>...</td>\n      <td>...</td>\n      <td>...</td>\n      <td>...</td>\n      <td>...</td>\n      <td>...</td>\n      <td>...</td>\n      <td>...</td>\n      <td>...</td>\n      <td>...</td>\n    </tr>\n    <tr>\n      <th>3995</th>\n      <td>0.432432</td>\n      <td>1</td>\n      <td>1.000000</td>\n      <td>0.666667</td>\n      <td>-1</td>\n      <td>-1</td>\n      <td>1</td>\n      <td>1</td>\n      <td>-1</td>\n      <td>-1</td>\n      <td>...</td>\n      <td>0.9</td>\n      <td>1</td>\n      <td>0.008540</td>\n      <td>0.0</td>\n      <td>-1</td>\n      <td>-1</td>\n      <td>-1</td>\n      <td>-1</td>\n      <td>-1</td>\n      <td>-1</td>\n    </tr>\n    <tr>\n      <th>3996</th>\n      <td>0.337838</td>\n      <td>1</td>\n      <td>0.333333</td>\n      <td>0.666667</td>\n      <td>-1</td>\n      <td>-1</td>\n      <td>-1</td>\n      <td>-1</td>\n      <td>1</td>\n      <td>-1</td>\n      <td>...</td>\n      <td>0.9</td>\n      <td>1</td>\n      <td>0.129804</td>\n      <td>0.0</td>\n      <td>-1</td>\n      <td>-1</td>\n      <td>1</td>\n      <td>-1</td>\n      <td>-1</td>\n      <td>-1</td>\n    </tr>\n    <tr>\n      <th>3997</th>\n      <td>0.270270</td>\n      <td>1</td>\n      <td>1.000000</td>\n      <td>1.000000</td>\n      <td>-1</td>\n      <td>-1</td>\n      <td>1</td>\n      <td>1</td>\n      <td>1</td>\n      <td>-1</td>\n      <td>...</td>\n      <td>0.9</td>\n      <td>1</td>\n      <td>0.008540</td>\n      <td>0.4</td>\n      <td>-1</td>\n      <td>1</td>\n      <td>-1</td>\n      <td>-1</td>\n      <td>-1</td>\n      <td>-1</td>\n    </tr>\n    <tr>\n      <th>3998</th>\n      <td>0.270270</td>\n      <td>1</td>\n      <td>0.333333</td>\n      <td>0.384828</td>\n      <td>1</td>\n      <td>1</td>\n      <td>1</td>\n      <td>1</td>\n      <td>-1</td>\n      <td>-1</td>\n      <td>...</td>\n      <td>0.3</td>\n      <td>-1</td>\n      <td>0.227156</td>\n      <td>0.4</td>\n      <td>-1</td>\n      <td>-1</td>\n      <td>-1</td>\n      <td>-1</td>\n      <td>-1</td>\n      <td>-1</td>\n    </tr>\n    <tr>\n      <th>3999</th>\n      <td>0.337838</td>\n      <td>1</td>\n      <td>0.383884</td>\n      <td>0.333333</td>\n      <td>-1</td>\n      <td>-1</td>\n      <td>-1</td>\n      <td>1</td>\n      <td>-1</td>\n      <td>1</td>\n      <td>...</td>\n      <td>0.3</td>\n      <td>-1</td>\n      <td>0.039283</td>\n      <td>0.0</td>\n      <td>-1</td>\n      <td>-1</td>\n      <td>-1</td>\n      <td>-1</td>\n      <td>-1</td>\n      <td>-1</td>\n    </tr>\n  </tbody>\n</table>\n<p>4000 rows × 22 columns</p>\n</div>",
      "text/plain": "           age  gender  scentLover  ecoInterest  MrPropre  Antikal  Ariel  \\\n0     0.270270       1    0.383884     0.666667         1       -1      1   \n1     0.364865       1    0.383884     0.666667        -1       -1      1   \n2     0.121622       1    0.383884     0.384828        -1       -1     -1   \n3     0.648649       1    0.383884     0.384828         1       -1     -1   \n4     0.324324       1    0.000000     0.333333        -1       -1      1   \n...        ...     ...         ...          ...       ...      ...    ...   \n3995  0.432432       1    1.000000     0.666667        -1       -1      1   \n3996  0.337838       1    0.333333     0.666667        -1       -1     -1   \n3997  0.270270       1    1.000000     1.000000        -1       -1      1   \n3998  0.270270       1    0.333333     0.384828         1        1      1   \n3999  0.337838       1    0.383884     0.333333        -1       -1     -1   \n\n      Dash  pods  powder  ...  likesPets  hasPet  daysSinceActivity  \\\n0        1    -1      -1  ...        0.5      -1           0.064902   \n1       -1    -1      -1  ...        0.9       1           0.157985   \n2       -1    -1      -1  ...        0.9       1           0.105038   \n3       -1    -1      -1  ...        0.3      -1           0.044406   \n4        1     1      -1  ...        0.9       1           0.008540   \n...    ...   ...     ...  ...        ...     ...                ...   \n3995     1    -1      -1  ...        0.9       1           0.008540   \n3996    -1     1      -1  ...        0.9       1           0.129804   \n3997     1     1      -1  ...        0.9       1           0.008540   \n3998     1    -1      -1  ...        0.3      -1           0.227156   \n3999     1    -1       1  ...        0.3      -1           0.039283   \n\n      nbChildren  magasin  moyenneSurface  superMarket  hyperMarket  drive  \\\n0            1.0       -1              -1           -1           -1     -1   \n1            0.4       -1              -1           -1           -1     -1   \n2            0.2       -1              -1           -1           -1     -1   \n3            0.6       -1              -1           -1           -1     -1   \n4            0.4       -1              -1           -1           -1     -1   \n...          ...      ...             ...          ...          ...    ...   \n3995         0.0       -1              -1           -1           -1     -1   \n3996         0.0       -1              -1            1           -1     -1   \n3997         0.4       -1               1           -1           -1     -1   \n3998         0.4       -1              -1           -1           -1     -1   \n3999         0.0       -1              -1           -1           -1     -1   \n\n      hardDiscount  \n0               -1  \n1               -1  \n2               -1  \n3               -1  \n4               -1  \n...            ...  \n3995            -1  \n3996            -1  \n3997            -1  \n3998            -1  \n3999            -1  \n\n[4000 rows x 22 columns]"
     },
     "execution_count": 9,
     "metadata": {},
     "output_type": "execute_result"
    }
   ],
   "source": [
    "#Predicting\n",
    "%run cleanData_test.ipynb\n",
    "df_test"
   ]
  },
  {
   "cell_type": "code",
   "execution_count": null,
   "metadata": {},
   "outputs": [
    {
     "data": {
      "text/html": "<div>\n<style scoped>\n    .dataframe tbody tr th:only-of-type {\n        vertical-align: middle;\n    }\n\n    .dataframe tbody tr th {\n        vertical-align: top;\n    }\n\n    .dataframe thead th {\n        text-align: right;\n    }\n</style>\n<table border=\"1\" class=\"dataframe\">\n  <thead>\n    <tr style=\"text-align: right;\">\n      <th></th>\n      <th>userId</th>\n      <th>washDishes</th>\n    </tr>\n  </thead>\n  <tbody>\n    <tr>\n      <th>0</th>\n      <td>use_yFJKoOUCJ7ED8c8Xeov1TzdfpRL</td>\n      <td>Hand</td>\n    </tr>\n    <tr>\n      <th>1</th>\n      <td>use_t1WpMt2fprbjEteXNSZ1TzdyvAi</td>\n      <td>Hand</td>\n    </tr>\n    <tr>\n      <th>2</th>\n      <td>use_w9jT58WcsP3tUkPCA0A1TzgYdeE</td>\n      <td>Hand</td>\n    </tr>\n    <tr>\n      <th>3</th>\n      <td>use_onifqa3LnOsjZOhPYfN1TzdfkfA</td>\n      <td>Hand</td>\n    </tr>\n    <tr>\n      <th>4</th>\n      <td>use_KgP1NlkmR24pbU9KRwK1Tzdqm8u</td>\n      <td>Hand</td>\n    </tr>\n    <tr>\n      <th>...</th>\n      <td>...</td>\n      <td>...</td>\n    </tr>\n    <tr>\n      <th>3995</th>\n      <td>use_yXWhQEP4R6vvYOeJzz61TZU7JRs</td>\n      <td>Hand</td>\n    </tr>\n    <tr>\n      <th>3996</th>\n      <td>use_MafnxsXODJV5oVhfi1h1TzdgYQT</td>\n      <td>Hand</td>\n    </tr>\n    <tr>\n      <th>3997</th>\n      <td>use_Pbui34WhFhPjNeX6TEz1TzdZdVv</td>\n      <td>Hand</td>\n    </tr>\n    <tr>\n      <th>3998</th>\n      <td>use_sDxhHoOEzHyrAzWSPnM1TzdYVjB</td>\n      <td>Hand</td>\n    </tr>\n    <tr>\n      <th>3999</th>\n      <td>use_cK0eXBDkaHEqmbVJLYC1TzdsXiW</td>\n      <td>Hand</td>\n    </tr>\n  </tbody>\n</table>\n<p>4000 rows × 2 columns</p>\n</div>",
      "text/plain": "                               userId washDishes\n0     use_yFJKoOUCJ7ED8c8Xeov1TzdfpRL       Hand\n1     use_t1WpMt2fprbjEteXNSZ1TzdyvAi       Hand\n2     use_w9jT58WcsP3tUkPCA0A1TzgYdeE       Hand\n3     use_onifqa3LnOsjZOhPYfN1TzdfkfA       Hand\n4     use_KgP1NlkmR24pbU9KRwK1Tzdqm8u       Hand\n...                               ...        ...\n3995  use_yXWhQEP4R6vvYOeJzz61TZU7JRs       Hand\n3996  use_MafnxsXODJV5oVhfi1h1TzdgYQT       Hand\n3997  use_Pbui34WhFhPjNeX6TEz1TzdZdVv       Hand\n3998  use_sDxhHoOEzHyrAzWSPnM1TzdYVjB       Hand\n3999  use_cK0eXBDkaHEqmbVJLYC1TzdsXiW       Hand\n\n[4000 rows x 2 columns]"
     },
     "execution_count": 10,
     "metadata": {},
     "output_type": "execute_result"
    }
   ],
   "source": [
    "df3=pd.read_csv(r\"DS_CentraleSupelec_ST42021/DS_CentraleSupelec_test.csv\") #to get the userID\n",
    "y_pred = SVM_grid.fit(x_train, y_train).predict(df_test) #the prediction\n",
    "sol=pd.DataFrame({'userId':df3['userId'],'washDishes':y_pred}) #fusion with userId\n",
    "sol[\"washDishes\"] = sol[\"washDishes\"].apply(lambda e: 'Auto' if e == 1 else 'Hand')#replacing the -1 and 1 with the original values\n",
    "sol.to_csv('./DS_CentraleSupelec_ST42021/svmpolysolution.csv', index=False)\n",
    "sol"
   ]
  }
 ],
 "metadata": {
  "kernelspec": {
   "display_name": "Python 3.8.3 64-bit ('base': conda)",
   "name": "python383jvsc74a57bd0dca0ade3e726a953b501b15e8e990130d2b7799f14cfd9f4271676035ebe5511"
  },
  "language_info": {
   "codemirror_mode": {
    "name": "ipython",
    "version": 3
   },
   "file_extension": ".py",
   "mimetype": "text/x-python",
   "name": "python",
   "nbconvert_exporter": "python",
   "pygments_lexer": "ipython3",
   "version": "3.8.3"
  },
  "orig_nbformat": 3
 },
 "nbformat": 4,
 "nbformat_minor": 2
}