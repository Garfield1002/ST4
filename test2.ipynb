{
 "metadata": {
  "language_info": {
   "codemirror_mode": {
    "name": "ipython",
    "version": 3
   },
   "file_extension": ".py",
   "mimetype": "text/x-python",
   "name": "python",
   "nbconvert_exporter": "python",
   "pygments_lexer": "ipython3",
   "version": "3.8.3"
  },
  "orig_nbformat": 2,
  "kernelspec": {
   "name": "python383jvsc74a57bd04e3844b72a7cf8ab0d3d9d1f66ba811b683ddb4d84051a42926a17d4fe42a429",
   "display_name": "Python 3.8.3 64-bit ('base': conda)"
  },
  "metadata": {
   "interpreter": {
    "hash": "ac59ebe37160ed0dfa835113d9b8498d9f09ceb179beaac4002f036b9467c963"
   }
  }
 },
 "nbformat": 4,
 "nbformat_minor": 2,
 "cells": [
  {
   "source": [
    "# EI ST4"
   ],
   "cell_type": "markdown",
   "metadata": {}
  },
  {
   "source": [
    "## Imports"
   ],
   "cell_type": "markdown",
   "metadata": {}
  },
  {
   "cell_type": "code",
   "execution_count": 29,
   "metadata": {},
   "outputs": [],
   "source": [
    "import pandas as pd\n",
    "from datetime import datetime\n",
    "import math"
   ]
  },
  {
   "cell_type": "code",
   "execution_count": 30,
   "metadata": {},
   "outputs": [],
   "source": [
    "df = pd.read_csv(r\"DS_CentraleSupelec_ST42021/DS_CentraleSupelec_train.csv\")"
   ]
  },
  {
   "source": [
    "## Cleaning up the dataframe"
   ],
   "cell_type": "markdown",
   "metadata": {}
  },
  {
   "cell_type": "code",
   "execution_count": 31,
   "metadata": {},
   "outputs": [
    {
     "output_type": "execute_result",
     "data": {
      "text/plain": [
       "                                userId  age gender      registrationDate  \\\n",
       "0      use_XbA1FTDcCrTMNTHK1851TzjyPMP   24      F  2019-10-14T17:33:37Z   \n",
       "1      use_3WHgsMVGSg5MHG2zja91TzdfmY2   67      F  2017-07-25T07:00:31Z   \n",
       "2      use_2SisOiR8QwDaHI4svm11TzcvK7V   45      F  2015-06-25T00:00:00Z   \n",
       "3      use_W0T1LmfKaQPJYD1RTWh1Tzdc69H   35      F  2018-01-31T07:24:39Z   \n",
       "4      use_KwYWZ7UMl4veveOaPGK1TzddtmI   38      F  2016-01-26T11:42:17Z   \n",
       "...                                ...  ...    ...                   ...   \n",
       "11995  use_ICSyEvCcRNPpQeBdWcM1TzdczV8   53      F  2015-03-11T20:03:16Z   \n",
       "11996  use_Q5DNYeSmG7g6VeMV4n71TzeTRRz   43      F  2015-10-10T19:16:19Z   \n",
       "11997  use_rEoce5pc0MlKpndfzNj1Tze3J1L   42      F  2015-05-08T02:59:34Z   \n",
       "11998  use_0AuDL2wOJHy9I16zSC21TzeHRMo   39      M  2019-05-20T11:59:02Z   \n",
       "11999  use_B7F2PfU4eOKBmVc93AU1TzdqFY9   32      F  2017-03-05T12:42:26Z   \n",
       "\n",
       "      languageCode countryCode  emailContactable  postalContactable  \\\n",
       "0               fr         FRA              True               True   \n",
       "1               fr         FRA              True               True   \n",
       "2               fr         FRA              True               True   \n",
       "3               fr         FRA              True               True   \n",
       "4               fr         FRA              True               True   \n",
       "...            ...         ...               ...                ...   \n",
       "11995           fr         FRA              True               True   \n",
       "11996           fr         FRA              True               True   \n",
       "11997           fr         FRA              True               True   \n",
       "11998           fr         FRA              True               True   \n",
       "11999           FR         FRA              True               True   \n",
       "\n",
       "      postalCode numberChildren  ... detergentType MrPropreTrier AntikalTrier  \\\n",
       "0          68540              1  ...        Liquid           NaN          NaN   \n",
       "1          17390              3  ...          Pods   Known Trier  Known Trier   \n",
       "2          30200              1  ...        Liquid           NaN          NaN   \n",
       "3          61400              2  ...          Pods           NaN          NaN   \n",
       "4          30620              0  ...        Liquid   Known Trier  Known Trier   \n",
       "...          ...            ...  ...           ...           ...          ...   \n",
       "11995      77240             4+  ...          Pods           NaN          NaN   \n",
       "11996      45120              0  ...        Liquid           NaN          NaN   \n",
       "11997      35170              3  ...        Liquid           NaN          NaN   \n",
       "11998      45160              1  ...        Liquid           NaN          NaN   \n",
       "11999      37600              3  ...        Liquid           NaN          NaN   \n",
       "\n",
       "        ArielTrier    DashTrier scentLover petOwner ecoInterest  \\\n",
       "0              NaN          NaN    NonUser      Yes         NaN   \n",
       "1      Known Trier          NaN        NaN       No        High   \n",
       "2      Known Trier  Known Trier    NonUser      Yes        High   \n",
       "3      Known Trier  Known Trier        Low      Yes      Medium   \n",
       "4      Known Trier  Known Trier        NaN      Yes         Low   \n",
       "...            ...          ...        ...      ...         ...   \n",
       "11995          NaN          NaN        NaN      Yes         NaN   \n",
       "11996          NaN          NaN        Low      Yes      Medium   \n",
       "11997          NaN          NaN        NaN      Yes        High   \n",
       "11998          NaN          NaN        NaN      Yes         NaN   \n",
       "11999          NaN          NaN    NonUser      Yes        High   \n",
       "\n",
       "          closestShop washDishes  \n",
       "0                 NaN       Auto  \n",
       "1                 NaN       Auto  \n",
       "2                 NaN       Auto  \n",
       "3                 NaN       Hand  \n",
       "4                 NaN       Hand  \n",
       "...               ...        ...  \n",
       "11995             NaN       Auto  \n",
       "11996             NaN       Hand  \n",
       "11997             NaN       Hand  \n",
       "11998             NaN       Auto  \n",
       "11999  3. SuperMarket       Hand  \n",
       "\n",
       "[12000 rows x 23 columns]"
      ],
      "text/html": "<div>\n<style scoped>\n    .dataframe tbody tr th:only-of-type {\n        vertical-align: middle;\n    }\n\n    .dataframe tbody tr th {\n        vertical-align: top;\n    }\n\n    .dataframe thead th {\n        text-align: right;\n    }\n</style>\n<table border=\"1\" class=\"dataframe\">\n  <thead>\n    <tr style=\"text-align: right;\">\n      <th></th>\n      <th>userId</th>\n      <th>age</th>\n      <th>gender</th>\n      <th>registrationDate</th>\n      <th>languageCode</th>\n      <th>countryCode</th>\n      <th>emailContactable</th>\n      <th>postalContactable</th>\n      <th>postalCode</th>\n      <th>numberChildren</th>\n      <th>...</th>\n      <th>detergentType</th>\n      <th>MrPropreTrier</th>\n      <th>AntikalTrier</th>\n      <th>ArielTrier</th>\n      <th>DashTrier</th>\n      <th>scentLover</th>\n      <th>petOwner</th>\n      <th>ecoInterest</th>\n      <th>closestShop</th>\n      <th>washDishes</th>\n    </tr>\n  </thead>\n  <tbody>\n    <tr>\n      <th>0</th>\n      <td>use_XbA1FTDcCrTMNTHK1851TzjyPMP</td>\n      <td>24</td>\n      <td>F</td>\n      <td>2019-10-14T17:33:37Z</td>\n      <td>fr</td>\n      <td>FRA</td>\n      <td>True</td>\n      <td>True</td>\n      <td>68540</td>\n      <td>1</td>\n      <td>...</td>\n      <td>Liquid</td>\n      <td>NaN</td>\n      <td>NaN</td>\n      <td>NaN</td>\n      <td>NaN</td>\n      <td>NonUser</td>\n      <td>Yes</td>\n      <td>NaN</td>\n      <td>NaN</td>\n      <td>Auto</td>\n    </tr>\n    <tr>\n      <th>1</th>\n      <td>use_3WHgsMVGSg5MHG2zja91TzdfmY2</td>\n      <td>67</td>\n      <td>F</td>\n      <td>2017-07-25T07:00:31Z</td>\n      <td>fr</td>\n      <td>FRA</td>\n      <td>True</td>\n      <td>True</td>\n      <td>17390</td>\n      <td>3</td>\n      <td>...</td>\n      <td>Pods</td>\n      <td>Known Trier</td>\n      <td>Known Trier</td>\n      <td>Known Trier</td>\n      <td>NaN</td>\n      <td>NaN</td>\n      <td>No</td>\n      <td>High</td>\n      <td>NaN</td>\n      <td>Auto</td>\n    </tr>\n    <tr>\n      <th>2</th>\n      <td>use_2SisOiR8QwDaHI4svm11TzcvK7V</td>\n      <td>45</td>\n      <td>F</td>\n      <td>2015-06-25T00:00:00Z</td>\n      <td>fr</td>\n      <td>FRA</td>\n      <td>True</td>\n      <td>True</td>\n      <td>30200</td>\n      <td>1</td>\n      <td>...</td>\n      <td>Liquid</td>\n      <td>NaN</td>\n      <td>NaN</td>\n      <td>Known Trier</td>\n      <td>Known Trier</td>\n      <td>NonUser</td>\n      <td>Yes</td>\n      <td>High</td>\n      <td>NaN</td>\n      <td>Auto</td>\n    </tr>\n    <tr>\n      <th>3</th>\n      <td>use_W0T1LmfKaQPJYD1RTWh1Tzdc69H</td>\n      <td>35</td>\n      <td>F</td>\n      <td>2018-01-31T07:24:39Z</td>\n      <td>fr</td>\n      <td>FRA</td>\n      <td>True</td>\n      <td>True</td>\n      <td>61400</td>\n      <td>2</td>\n      <td>...</td>\n      <td>Pods</td>\n      <td>NaN</td>\n      <td>NaN</td>\n      <td>Known Trier</td>\n      <td>Known Trier</td>\n      <td>Low</td>\n      <td>Yes</td>\n      <td>Medium</td>\n      <td>NaN</td>\n      <td>Hand</td>\n    </tr>\n    <tr>\n      <th>4</th>\n      <td>use_KwYWZ7UMl4veveOaPGK1TzddtmI</td>\n      <td>38</td>\n      <td>F</td>\n      <td>2016-01-26T11:42:17Z</td>\n      <td>fr</td>\n      <td>FRA</td>\n      <td>True</td>\n      <td>True</td>\n      <td>30620</td>\n      <td>0</td>\n      <td>...</td>\n      <td>Liquid</td>\n      <td>Known Trier</td>\n      <td>Known Trier</td>\n      <td>Known Trier</td>\n      <td>Known Trier</td>\n      <td>NaN</td>\n      <td>Yes</td>\n      <td>Low</td>\n      <td>NaN</td>\n      <td>Hand</td>\n    </tr>\n    <tr>\n      <th>...</th>\n      <td>...</td>\n      <td>...</td>\n      <td>...</td>\n      <td>...</td>\n      <td>...</td>\n      <td>...</td>\n      <td>...</td>\n      <td>...</td>\n      <td>...</td>\n      <td>...</td>\n      <td>...</td>\n      <td>...</td>\n      <td>...</td>\n      <td>...</td>\n      <td>...</td>\n      <td>...</td>\n      <td>...</td>\n      <td>...</td>\n      <td>...</td>\n      <td>...</td>\n      <td>...</td>\n    </tr>\n    <tr>\n      <th>11995</th>\n      <td>use_ICSyEvCcRNPpQeBdWcM1TzdczV8</td>\n      <td>53</td>\n      <td>F</td>\n      <td>2015-03-11T20:03:16Z</td>\n      <td>fr</td>\n      <td>FRA</td>\n      <td>True</td>\n      <td>True</td>\n      <td>77240</td>\n      <td>4+</td>\n      <td>...</td>\n      <td>Pods</td>\n      <td>NaN</td>\n      <td>NaN</td>\n      <td>NaN</td>\n      <td>NaN</td>\n      <td>NaN</td>\n      <td>Yes</td>\n      <td>NaN</td>\n      <td>NaN</td>\n      <td>Auto</td>\n    </tr>\n    <tr>\n      <th>11996</th>\n      <td>use_Q5DNYeSmG7g6VeMV4n71TzeTRRz</td>\n      <td>43</td>\n      <td>F</td>\n      <td>2015-10-10T19:16:19Z</td>\n      <td>fr</td>\n      <td>FRA</td>\n      <td>True</td>\n      <td>True</td>\n      <td>45120</td>\n      <td>0</td>\n      <td>...</td>\n      <td>Liquid</td>\n      <td>NaN</td>\n      <td>NaN</td>\n      <td>NaN</td>\n      <td>NaN</td>\n      <td>Low</td>\n      <td>Yes</td>\n      <td>Medium</td>\n      <td>NaN</td>\n      <td>Hand</td>\n    </tr>\n    <tr>\n      <th>11997</th>\n      <td>use_rEoce5pc0MlKpndfzNj1Tze3J1L</td>\n      <td>42</td>\n      <td>F</td>\n      <td>2015-05-08T02:59:34Z</td>\n      <td>fr</td>\n      <td>FRA</td>\n      <td>True</td>\n      <td>True</td>\n      <td>35170</td>\n      <td>3</td>\n      <td>...</td>\n      <td>Liquid</td>\n      <td>NaN</td>\n      <td>NaN</td>\n      <td>NaN</td>\n      <td>NaN</td>\n      <td>NaN</td>\n      <td>Yes</td>\n      <td>High</td>\n      <td>NaN</td>\n      <td>Hand</td>\n    </tr>\n    <tr>\n      <th>11998</th>\n      <td>use_0AuDL2wOJHy9I16zSC21TzeHRMo</td>\n      <td>39</td>\n      <td>M</td>\n      <td>2019-05-20T11:59:02Z</td>\n      <td>fr</td>\n      <td>FRA</td>\n      <td>True</td>\n      <td>True</td>\n      <td>45160</td>\n      <td>1</td>\n      <td>...</td>\n      <td>Liquid</td>\n      <td>NaN</td>\n      <td>NaN</td>\n      <td>NaN</td>\n      <td>NaN</td>\n      <td>NaN</td>\n      <td>Yes</td>\n      <td>NaN</td>\n      <td>NaN</td>\n      <td>Auto</td>\n    </tr>\n    <tr>\n      <th>11999</th>\n      <td>use_B7F2PfU4eOKBmVc93AU1TzdqFY9</td>\n      <td>32</td>\n      <td>F</td>\n      <td>2017-03-05T12:42:26Z</td>\n      <td>FR</td>\n      <td>FRA</td>\n      <td>True</td>\n      <td>True</td>\n      <td>37600</td>\n      <td>3</td>\n      <td>...</td>\n      <td>Liquid</td>\n      <td>NaN</td>\n      <td>NaN</td>\n      <td>NaN</td>\n      <td>NaN</td>\n      <td>NonUser</td>\n      <td>Yes</td>\n      <td>High</td>\n      <td>3. SuperMarket</td>\n      <td>Hand</td>\n    </tr>\n  </tbody>\n</table>\n<p>12000 rows × 23 columns</p>\n</div>"
     },
     "metadata": {},
     "execution_count": 31
    }
   ],
   "source": [
    "df"
   ]
  },
  {
   "source": [
    "Get unique count for each variable"
   ],
   "cell_type": "markdown",
   "metadata": {}
  },
  {
   "cell_type": "code",
   "execution_count": 32,
   "metadata": {},
   "outputs": [
    {
     "output_type": "execute_result",
     "data": {
      "text/plain": [
       "userId               12000\n",
       "age                     74\n",
       "gender                   2\n",
       "registrationDate      9875\n",
       "languageCode             2\n",
       "countryCode              1\n",
       "emailContactable         2\n",
       "postalContactable        2\n",
       "postalCode            3794\n",
       "numberChildren          10\n",
       "lastActivityDate     12000\n",
       "reactivationValue        5\n",
       "toothBrushType           2\n",
       "detergentType           10\n",
       "MrPropreTrier            1\n",
       "AntikalTrier             1\n",
       "ArielTrier               1\n",
       "DashTrier                1\n",
       "scentLover               4\n",
       "petOwner                 9\n",
       "ecoInterest              4\n",
       "closestShop              6\n",
       "washDishes               2\n",
       "dtype: int64"
      ]
     },
     "metadata": {},
     "execution_count": 32
    }
   ],
   "source": [
    "df.nunique()"
   ]
  },
  {
   "source": [
    "Check variable data type"
   ],
   "cell_type": "markdown",
   "metadata": {}
  },
  {
   "cell_type": "code",
   "execution_count": 33,
   "metadata": {},
   "outputs": [
    {
     "output_type": "execute_result",
     "data": {
      "text/plain": [
       "userId               object\n",
       "age                   int64\n",
       "gender               object\n",
       "registrationDate     object\n",
       "languageCode         object\n",
       "countryCode          object\n",
       "emailContactable       bool\n",
       "postalContactable      bool\n",
       "postalCode           object\n",
       "numberChildren       object\n",
       "lastActivityDate     object\n",
       "reactivationValue    object\n",
       "toothBrushType       object\n",
       "detergentType        object\n",
       "MrPropreTrier        object\n",
       "AntikalTrier         object\n",
       "ArielTrier           object\n",
       "DashTrier            object\n",
       "scentLover           object\n",
       "petOwner             object\n",
       "ecoInterest          object\n",
       "closestShop          object\n",
       "washDishes           object\n",
       "dtype: object"
      ]
     },
     "metadata": {},
     "execution_count": 33
    }
   ],
   "source": [
    "df.dtypes"
   ]
  },
  {
   "source": [
    "We can remove the `languageCode` and `countryCode` column as they are constant"
   ],
   "cell_type": "markdown",
   "metadata": {}
  },
  {
   "cell_type": "code",
   "execution_count": 34,
   "metadata": {},
   "outputs": [
    {
     "output_type": "execute_result",
     "data": {
      "text/plain": [
       "True"
      ]
     },
     "metadata": {},
     "execution_count": 34
    }
   ],
   "source": [
    "df[~df.languageCode.isin(['fr', 'FR'])].empty and df[~df.countryCode.eq('FRA')].empty"
   ]
  },
  {
   "cell_type": "code",
   "execution_count": 35,
   "metadata": {},
   "outputs": [],
   "source": [
    "df = df.drop(columns=['languageCode', 'countryCode'])"
   ]
  },
  {
   "source": [
    "We will also remove the `registrationDate`, `reactivationValue`, `emailContactable` and `postalContactable` as they are irrelevant"
   ],
   "cell_type": "markdown",
   "metadata": {}
  },
  {
   "cell_type": "code",
   "execution_count": 36,
   "metadata": {},
   "outputs": [],
   "source": [
    "df = df.drop(columns=['registrationDate', 'reactivationValue', 'emailContactable', 'postalContactable'])"
   ]
  },
  {
   "source": [
    "We are going to replace the `washDishes` `STRING` column with a `ownsDishwasher` `INT` column"
   ],
   "cell_type": "markdown",
   "metadata": {}
  },
  {
   "cell_type": "code",
   "execution_count": 37,
   "metadata": {},
   "outputs": [],
   "source": [
    "df['ownsDishwasher'] = df.apply(lambda row: 1 if row['washDishes'] == 'Auto' else -1, axis=1)\n",
    "df = df.drop(columns=[\"washDishes\"])"
   ]
  },
  {
   "source": [
    "In the `MrPropreTrier`, `AntikalTrier`, `ArielTrier`, `DashTrier` we will replace `Known Trier` with `1` and `Nan` with `-1`"
   ],
   "cell_type": "markdown",
   "metadata": {}
  },
  {
   "cell_type": "code",
   "execution_count": 38,
   "metadata": {},
   "outputs": [],
   "source": [
    "for c in ['MrPropreTrier', 'AntikalTrier', 'ArielTrier', 'DashTrier']:\n",
    "    df[c[:-5]] = df.apply(lambda row: 1 if row[c] == 'Known Trier' else -1, axis=1)\n",
    "    df = df.drop(columns=[c])"
   ]
  },
  {
   "source": [
    "We will replace `detergentType` by `liquidDetergent`"
   ],
   "cell_type": "markdown",
   "metadata": {}
  },
  {
   "cell_type": "code",
   "execution_count": 39,
   "metadata": {},
   "outputs": [],
   "source": [
    "df['liquidDetergent'] = df.apply(lambda row: 1 if row['detergentType'] == 'Liquid' else -1, axis=1)\n",
    "df = df.drop(columns=['detergentType'])"
   ]
  },
  {
   "source": [
    "Replacing `toothBrushType` with `electricToothbrush`"
   ],
   "cell_type": "markdown",
   "metadata": {}
  },
  {
   "cell_type": "code",
   "execution_count": 40,
   "metadata": {},
   "outputs": [],
   "source": [
    "df['electricToothbrush'] = df.apply(lambda row: 1 if row['toothBrushType'] == 'Electric' else -1, axis=1)\n",
    "df = df.drop(columns=['toothBrushType'])"
   ]
  },
  {
   "source": [
    "Replacing `petOwner` with `hasPet`, if the first 3 characters are 'Yes' or 'Oui' the value is `1`, else it is `-1`"
   ],
   "cell_type": "markdown",
   "metadata": {}
  },
  {
   "cell_type": "code",
   "execution_count": 41,
   "metadata": {},
   "outputs": [],
   "source": [
    "df['hasPet'] = df.apply(lambda row: 1 if row['petOwner'][:3] == 'Yes' or row['petOwner'][:3] == 'Oui' else -1, axis=1)\n",
    "df = df.drop(columns=['petOwner'])"
   ]
  },
  {
   "source": [
    "Transforms a `ISO 8601` time string to the amount of days since the time string"
   ],
   "cell_type": "markdown",
   "metadata": {}
  },
  {
   "cell_type": "code",
   "execution_count": 42,
   "metadata": {},
   "outputs": [],
   "source": [
    "def timeStringToDelta(timeString: str) -> int:\n",
    "    return int((datetime.utcnow().timestamp() - datetime.strptime(timeString[:10], \"%Y-%m-%d\").timestamp()) / 3600 / 24)"
   ]
  },
  {
   "source": [
    "Replaces `lastActivityDate` with `daysSinceActivity`: an `integer` representing the amount of ellapsed days since last activity"
   ],
   "cell_type": "markdown",
   "metadata": {}
  },
  {
   "cell_type": "code",
   "execution_count": 43,
   "metadata": {},
   "outputs": [],
   "source": [
    "df['daysSinceActivity'] = df.apply(lambda row: timeStringToDelta(row['lastActivityDate']), axis=1)\n",
    "df = df.drop(columns=['lastActivityDate'])"
   ]
  },
  {
   "cell_type": "code",
   "execution_count": 44,
   "metadata": {},
   "outputs": [
    {
     "output_type": "execute_result",
     "data": {
      "text/plain": [
       "                                userId  age gender postalCode numberChildren  \\\n",
       "0      use_XbA1FTDcCrTMNTHK1851TzjyPMP   24      F      68540              1   \n",
       "1      use_3WHgsMVGSg5MHG2zja91TzdfmY2   67      F      17390              3   \n",
       "2      use_2SisOiR8QwDaHI4svm11TzcvK7V   45      F      30200              1   \n",
       "3      use_W0T1LmfKaQPJYD1RTWh1Tzdc69H   35      F      61400              2   \n",
       "4      use_KwYWZ7UMl4veveOaPGK1TzddtmI   38      F      30620              0   \n",
       "...                                ...  ...    ...        ...            ...   \n",
       "11995  use_ICSyEvCcRNPpQeBdWcM1TzdczV8   53      F      77240             4+   \n",
       "11996  use_Q5DNYeSmG7g6VeMV4n71TzeTRRz   43      F      45120              0   \n",
       "11997  use_rEoce5pc0MlKpndfzNj1Tze3J1L   42      F      35170              3   \n",
       "11998  use_0AuDL2wOJHy9I16zSC21TzeHRMo   39      M      45160              1   \n",
       "11999  use_B7F2PfU4eOKBmVc93AU1TzdqFY9   32      F      37600              3   \n",
       "\n",
       "      scentLover ecoInterest     closestShop  ownsDishwasher  MrPropre  \\\n",
       "0        NonUser         NaN             NaN               1        -1   \n",
       "1            NaN        High             NaN               1         1   \n",
       "2        NonUser        High             NaN               1        -1   \n",
       "3            Low      Medium             NaN              -1        -1   \n",
       "4            NaN         Low             NaN              -1         1   \n",
       "...          ...         ...             ...             ...       ...   \n",
       "11995        NaN         NaN             NaN               1        -1   \n",
       "11996        Low      Medium             NaN              -1        -1   \n",
       "11997        NaN        High             NaN              -1        -1   \n",
       "11998        NaN         NaN             NaN               1        -1   \n",
       "11999    NonUser        High  3. SuperMarket              -1        -1   \n",
       "\n",
       "       Antikal  Ariel  Dash  liquidDetergent  electricToothbrush  hasPet  \\\n",
       "0           -1     -1    -1                1                  -1       1   \n",
       "1            1      1    -1               -1                  -1      -1   \n",
       "2           -1      1     1                1                  -1       1   \n",
       "3           -1      1     1               -1                  -1       1   \n",
       "4            1      1     1                1                   1       1   \n",
       "...        ...    ...   ...              ...                 ...     ...   \n",
       "11995       -1     -1    -1               -1                  -1       1   \n",
       "11996       -1     -1    -1                1                   1       1   \n",
       "11997       -1     -1    -1                1                  -1       1   \n",
       "11998       -1     -1    -1                1                   1       1   \n",
       "11999       -1     -1    -1                1                   1       1   \n",
       "\n",
       "       daysSinceActivity  \n",
       "0                    308  \n",
       "1                     28  \n",
       "2                    130  \n",
       "3                    340  \n",
       "4                    158  \n",
       "...                  ...  \n",
       "11995                 10  \n",
       "11996                167  \n",
       "11997                 33  \n",
       "11998                260  \n",
       "11999                290  \n",
       "\n",
       "[12000 rows x 17 columns]"
      ],
      "text/html": "<div>\n<style scoped>\n    .dataframe tbody tr th:only-of-type {\n        vertical-align: middle;\n    }\n\n    .dataframe tbody tr th {\n        vertical-align: top;\n    }\n\n    .dataframe thead th {\n        text-align: right;\n    }\n</style>\n<table border=\"1\" class=\"dataframe\">\n  <thead>\n    <tr style=\"text-align: right;\">\n      <th></th>\n      <th>userId</th>\n      <th>age</th>\n      <th>gender</th>\n      <th>postalCode</th>\n      <th>numberChildren</th>\n      <th>scentLover</th>\n      <th>ecoInterest</th>\n      <th>closestShop</th>\n      <th>ownsDishwasher</th>\n      <th>MrPropre</th>\n      <th>Antikal</th>\n      <th>Ariel</th>\n      <th>Dash</th>\n      <th>liquidDetergent</th>\n      <th>electricToothbrush</th>\n      <th>hasPet</th>\n      <th>daysSinceActivity</th>\n    </tr>\n  </thead>\n  <tbody>\n    <tr>\n      <th>0</th>\n      <td>use_XbA1FTDcCrTMNTHK1851TzjyPMP</td>\n      <td>24</td>\n      <td>F</td>\n      <td>68540</td>\n      <td>1</td>\n      <td>NonUser</td>\n      <td>NaN</td>\n      <td>NaN</td>\n      <td>1</td>\n      <td>-1</td>\n      <td>-1</td>\n      <td>-1</td>\n      <td>-1</td>\n      <td>1</td>\n      <td>-1</td>\n      <td>1</td>\n      <td>308</td>\n    </tr>\n    <tr>\n      <th>1</th>\n      <td>use_3WHgsMVGSg5MHG2zja91TzdfmY2</td>\n      <td>67</td>\n      <td>F</td>\n      <td>17390</td>\n      <td>3</td>\n      <td>NaN</td>\n      <td>High</td>\n      <td>NaN</td>\n      <td>1</td>\n      <td>1</td>\n      <td>1</td>\n      <td>1</td>\n      <td>-1</td>\n      <td>-1</td>\n      <td>-1</td>\n      <td>-1</td>\n      <td>28</td>\n    </tr>\n    <tr>\n      <th>2</th>\n      <td>use_2SisOiR8QwDaHI4svm11TzcvK7V</td>\n      <td>45</td>\n      <td>F</td>\n      <td>30200</td>\n      <td>1</td>\n      <td>NonUser</td>\n      <td>High</td>\n      <td>NaN</td>\n      <td>1</td>\n      <td>-1</td>\n      <td>-1</td>\n      <td>1</td>\n      <td>1</td>\n      <td>1</td>\n      <td>-1</td>\n      <td>1</td>\n      <td>130</td>\n    </tr>\n    <tr>\n      <th>3</th>\n      <td>use_W0T1LmfKaQPJYD1RTWh1Tzdc69H</td>\n      <td>35</td>\n      <td>F</td>\n      <td>61400</td>\n      <td>2</td>\n      <td>Low</td>\n      <td>Medium</td>\n      <td>NaN</td>\n      <td>-1</td>\n      <td>-1</td>\n      <td>-1</td>\n      <td>1</td>\n      <td>1</td>\n      <td>-1</td>\n      <td>-1</td>\n      <td>1</td>\n      <td>340</td>\n    </tr>\n    <tr>\n      <th>4</th>\n      <td>use_KwYWZ7UMl4veveOaPGK1TzddtmI</td>\n      <td>38</td>\n      <td>F</td>\n      <td>30620</td>\n      <td>0</td>\n      <td>NaN</td>\n      <td>Low</td>\n      <td>NaN</td>\n      <td>-1</td>\n      <td>1</td>\n      <td>1</td>\n      <td>1</td>\n      <td>1</td>\n      <td>1</td>\n      <td>1</td>\n      <td>1</td>\n      <td>158</td>\n    </tr>\n    <tr>\n      <th>...</th>\n      <td>...</td>\n      <td>...</td>\n      <td>...</td>\n      <td>...</td>\n      <td>...</td>\n      <td>...</td>\n      <td>...</td>\n      <td>...</td>\n      <td>...</td>\n      <td>...</td>\n      <td>...</td>\n      <td>...</td>\n      <td>...</td>\n      <td>...</td>\n      <td>...</td>\n      <td>...</td>\n      <td>...</td>\n    </tr>\n    <tr>\n      <th>11995</th>\n      <td>use_ICSyEvCcRNPpQeBdWcM1TzdczV8</td>\n      <td>53</td>\n      <td>F</td>\n      <td>77240</td>\n      <td>4+</td>\n      <td>NaN</td>\n      <td>NaN</td>\n      <td>NaN</td>\n      <td>1</td>\n      <td>-1</td>\n      <td>-1</td>\n      <td>-1</td>\n      <td>-1</td>\n      <td>-1</td>\n      <td>-1</td>\n      <td>1</td>\n      <td>10</td>\n    </tr>\n    <tr>\n      <th>11996</th>\n      <td>use_Q5DNYeSmG7g6VeMV4n71TzeTRRz</td>\n      <td>43</td>\n      <td>F</td>\n      <td>45120</td>\n      <td>0</td>\n      <td>Low</td>\n      <td>Medium</td>\n      <td>NaN</td>\n      <td>-1</td>\n      <td>-1</td>\n      <td>-1</td>\n      <td>-1</td>\n      <td>-1</td>\n      <td>1</td>\n      <td>1</td>\n      <td>1</td>\n      <td>167</td>\n    </tr>\n    <tr>\n      <th>11997</th>\n      <td>use_rEoce5pc0MlKpndfzNj1Tze3J1L</td>\n      <td>42</td>\n      <td>F</td>\n      <td>35170</td>\n      <td>3</td>\n      <td>NaN</td>\n      <td>High</td>\n      <td>NaN</td>\n      <td>-1</td>\n      <td>-1</td>\n      <td>-1</td>\n      <td>-1</td>\n      <td>-1</td>\n      <td>1</td>\n      <td>-1</td>\n      <td>1</td>\n      <td>33</td>\n    </tr>\n    <tr>\n      <th>11998</th>\n      <td>use_0AuDL2wOJHy9I16zSC21TzeHRMo</td>\n      <td>39</td>\n      <td>M</td>\n      <td>45160</td>\n      <td>1</td>\n      <td>NaN</td>\n      <td>NaN</td>\n      <td>NaN</td>\n      <td>1</td>\n      <td>-1</td>\n      <td>-1</td>\n      <td>-1</td>\n      <td>-1</td>\n      <td>1</td>\n      <td>1</td>\n      <td>1</td>\n      <td>260</td>\n    </tr>\n    <tr>\n      <th>11999</th>\n      <td>use_B7F2PfU4eOKBmVc93AU1TzdqFY9</td>\n      <td>32</td>\n      <td>F</td>\n      <td>37600</td>\n      <td>3</td>\n      <td>NonUser</td>\n      <td>High</td>\n      <td>3. SuperMarket</td>\n      <td>-1</td>\n      <td>-1</td>\n      <td>-1</td>\n      <td>-1</td>\n      <td>-1</td>\n      <td>1</td>\n      <td>1</td>\n      <td>1</td>\n      <td>290</td>\n    </tr>\n  </tbody>\n</table>\n<p>12000 rows × 17 columns</p>\n</div>"
     },
     "metadata": {},
     "execution_count": 44
    }
   ],
   "source": [
    "df"
   ]
  },
  {
   "source": [
    "The possible values for `numberChildren` are `'1'`, `'2'`, `'3'`, `'4'`, `'4+'` and `'NaN'`. We will be creating a column `nbChildren` of type `int` where `'NaN'` will be mapped to `None`."
   ],
   "cell_type": "markdown",
   "metadata": {}
  },
  {
   "cell_type": "code",
   "execution_count": 45,
   "metadata": {
    "tags": []
   },
   "outputs": [],
   "source": [
    "def childrenMagik(children: str):\n",
    "    if str(children).lower() in 'nan': return None\n",
    "    if children == '4+': return 5\n",
    "    return int(children)\n",
    "\n",
    "df['nbChildren'] = df.apply(lambda row: childrenMagik(row['numberChildren']), axis=1)\n",
    "df = df.drop(columns=['numberChildren'])"
   ]
  },
  {
   "cell_type": "code",
   "execution_count": 46,
   "metadata": {},
   "outputs": [
    {
     "output_type": "execute_result",
     "data": {
      "text/plain": [
       "                                userId  age gender postalCode scentLover  \\\n",
       "0      use_XbA1FTDcCrTMNTHK1851TzjyPMP   24      F      68540    NonUser   \n",
       "1      use_3WHgsMVGSg5MHG2zja91TzdfmY2   67      F      17390        NaN   \n",
       "2      use_2SisOiR8QwDaHI4svm11TzcvK7V   45      F      30200    NonUser   \n",
       "3      use_W0T1LmfKaQPJYD1RTWh1Tzdc69H   35      F      61400        Low   \n",
       "4      use_KwYWZ7UMl4veveOaPGK1TzddtmI   38      F      30620        NaN   \n",
       "...                                ...  ...    ...        ...        ...   \n",
       "11995  use_ICSyEvCcRNPpQeBdWcM1TzdczV8   53      F      77240        NaN   \n",
       "11996  use_Q5DNYeSmG7g6VeMV4n71TzeTRRz   43      F      45120        Low   \n",
       "11997  use_rEoce5pc0MlKpndfzNj1Tze3J1L   42      F      35170        NaN   \n",
       "11998  use_0AuDL2wOJHy9I16zSC21TzeHRMo   39      M      45160        NaN   \n",
       "11999  use_B7F2PfU4eOKBmVc93AU1TzdqFY9   32      F      37600    NonUser   \n",
       "\n",
       "      ecoInterest     closestShop  ownsDishwasher  MrPropre  Antikal  Ariel  \\\n",
       "0             NaN             NaN               1        -1       -1     -1   \n",
       "1            High             NaN               1         1        1      1   \n",
       "2            High             NaN               1        -1       -1      1   \n",
       "3          Medium             NaN              -1        -1       -1      1   \n",
       "4             Low             NaN              -1         1        1      1   \n",
       "...           ...             ...             ...       ...      ...    ...   \n",
       "11995         NaN             NaN               1        -1       -1     -1   \n",
       "11996      Medium             NaN              -1        -1       -1     -1   \n",
       "11997        High             NaN              -1        -1       -1     -1   \n",
       "11998         NaN             NaN               1        -1       -1     -1   \n",
       "11999        High  3. SuperMarket              -1        -1       -1     -1   \n",
       "\n",
       "       Dash  liquidDetergent  electricToothbrush  hasPet  daysSinceActivity  \\\n",
       "0        -1                1                  -1       1                308   \n",
       "1        -1               -1                  -1      -1                 28   \n",
       "2         1                1                  -1       1                130   \n",
       "3         1               -1                  -1       1                340   \n",
       "4         1                1                   1       1                158   \n",
       "...     ...              ...                 ...     ...                ...   \n",
       "11995    -1               -1                  -1       1                 10   \n",
       "11996    -1                1                   1       1                167   \n",
       "11997    -1                1                  -1       1                 33   \n",
       "11998    -1                1                   1       1                260   \n",
       "11999    -1                1                   1       1                290   \n",
       "\n",
       "       nbChildren  \n",
       "0             1.0  \n",
       "1             3.0  \n",
       "2             1.0  \n",
       "3             2.0  \n",
       "4             0.0  \n",
       "...           ...  \n",
       "11995         5.0  \n",
       "11996         0.0  \n",
       "11997         3.0  \n",
       "11998         1.0  \n",
       "11999         3.0  \n",
       "\n",
       "[12000 rows x 17 columns]"
      ],
      "text/html": "<div>\n<style scoped>\n    .dataframe tbody tr th:only-of-type {\n        vertical-align: middle;\n    }\n\n    .dataframe tbody tr th {\n        vertical-align: top;\n    }\n\n    .dataframe thead th {\n        text-align: right;\n    }\n</style>\n<table border=\"1\" class=\"dataframe\">\n  <thead>\n    <tr style=\"text-align: right;\">\n      <th></th>\n      <th>userId</th>\n      <th>age</th>\n      <th>gender</th>\n      <th>postalCode</th>\n      <th>scentLover</th>\n      <th>ecoInterest</th>\n      <th>closestShop</th>\n      <th>ownsDishwasher</th>\n      <th>MrPropre</th>\n      <th>Antikal</th>\n      <th>Ariel</th>\n      <th>Dash</th>\n      <th>liquidDetergent</th>\n      <th>electricToothbrush</th>\n      <th>hasPet</th>\n      <th>daysSinceActivity</th>\n      <th>nbChildren</th>\n    </tr>\n  </thead>\n  <tbody>\n    <tr>\n      <th>0</th>\n      <td>use_XbA1FTDcCrTMNTHK1851TzjyPMP</td>\n      <td>24</td>\n      <td>F</td>\n      <td>68540</td>\n      <td>NonUser</td>\n      <td>NaN</td>\n      <td>NaN</td>\n      <td>1</td>\n      <td>-1</td>\n      <td>-1</td>\n      <td>-1</td>\n      <td>-1</td>\n      <td>1</td>\n      <td>-1</td>\n      <td>1</td>\n      <td>308</td>\n      <td>1.0</td>\n    </tr>\n    <tr>\n      <th>1</th>\n      <td>use_3WHgsMVGSg5MHG2zja91TzdfmY2</td>\n      <td>67</td>\n      <td>F</td>\n      <td>17390</td>\n      <td>NaN</td>\n      <td>High</td>\n      <td>NaN</td>\n      <td>1</td>\n      <td>1</td>\n      <td>1</td>\n      <td>1</td>\n      <td>-1</td>\n      <td>-1</td>\n      <td>-1</td>\n      <td>-1</td>\n      <td>28</td>\n      <td>3.0</td>\n    </tr>\n    <tr>\n      <th>2</th>\n      <td>use_2SisOiR8QwDaHI4svm11TzcvK7V</td>\n      <td>45</td>\n      <td>F</td>\n      <td>30200</td>\n      <td>NonUser</td>\n      <td>High</td>\n      <td>NaN</td>\n      <td>1</td>\n      <td>-1</td>\n      <td>-1</td>\n      <td>1</td>\n      <td>1</td>\n      <td>1</td>\n      <td>-1</td>\n      <td>1</td>\n      <td>130</td>\n      <td>1.0</td>\n    </tr>\n    <tr>\n      <th>3</th>\n      <td>use_W0T1LmfKaQPJYD1RTWh1Tzdc69H</td>\n      <td>35</td>\n      <td>F</td>\n      <td>61400</td>\n      <td>Low</td>\n      <td>Medium</td>\n      <td>NaN</td>\n      <td>-1</td>\n      <td>-1</td>\n      <td>-1</td>\n      <td>1</td>\n      <td>1</td>\n      <td>-1</td>\n      <td>-1</td>\n      <td>1</td>\n      <td>340</td>\n      <td>2.0</td>\n    </tr>\n    <tr>\n      <th>4</th>\n      <td>use_KwYWZ7UMl4veveOaPGK1TzddtmI</td>\n      <td>38</td>\n      <td>F</td>\n      <td>30620</td>\n      <td>NaN</td>\n      <td>Low</td>\n      <td>NaN</td>\n      <td>-1</td>\n      <td>1</td>\n      <td>1</td>\n      <td>1</td>\n      <td>1</td>\n      <td>1</td>\n      <td>1</td>\n      <td>1</td>\n      <td>158</td>\n      <td>0.0</td>\n    </tr>\n    <tr>\n      <th>...</th>\n      <td>...</td>\n      <td>...</td>\n      <td>...</td>\n      <td>...</td>\n      <td>...</td>\n      <td>...</td>\n      <td>...</td>\n      <td>...</td>\n      <td>...</td>\n      <td>...</td>\n      <td>...</td>\n      <td>...</td>\n      <td>...</td>\n      <td>...</td>\n      <td>...</td>\n      <td>...</td>\n      <td>...</td>\n    </tr>\n    <tr>\n      <th>11995</th>\n      <td>use_ICSyEvCcRNPpQeBdWcM1TzdczV8</td>\n      <td>53</td>\n      <td>F</td>\n      <td>77240</td>\n      <td>NaN</td>\n      <td>NaN</td>\n      <td>NaN</td>\n      <td>1</td>\n      <td>-1</td>\n      <td>-1</td>\n      <td>-1</td>\n      <td>-1</td>\n      <td>-1</td>\n      <td>-1</td>\n      <td>1</td>\n      <td>10</td>\n      <td>5.0</td>\n    </tr>\n    <tr>\n      <th>11996</th>\n      <td>use_Q5DNYeSmG7g6VeMV4n71TzeTRRz</td>\n      <td>43</td>\n      <td>F</td>\n      <td>45120</td>\n      <td>Low</td>\n      <td>Medium</td>\n      <td>NaN</td>\n      <td>-1</td>\n      <td>-1</td>\n      <td>-1</td>\n      <td>-1</td>\n      <td>-1</td>\n      <td>1</td>\n      <td>1</td>\n      <td>1</td>\n      <td>167</td>\n      <td>0.0</td>\n    </tr>\n    <tr>\n      <th>11997</th>\n      <td>use_rEoce5pc0MlKpndfzNj1Tze3J1L</td>\n      <td>42</td>\n      <td>F</td>\n      <td>35170</td>\n      <td>NaN</td>\n      <td>High</td>\n      <td>NaN</td>\n      <td>-1</td>\n      <td>-1</td>\n      <td>-1</td>\n      <td>-1</td>\n      <td>-1</td>\n      <td>1</td>\n      <td>-1</td>\n      <td>1</td>\n      <td>33</td>\n      <td>3.0</td>\n    </tr>\n    <tr>\n      <th>11998</th>\n      <td>use_0AuDL2wOJHy9I16zSC21TzeHRMo</td>\n      <td>39</td>\n      <td>M</td>\n      <td>45160</td>\n      <td>NaN</td>\n      <td>NaN</td>\n      <td>NaN</td>\n      <td>1</td>\n      <td>-1</td>\n      <td>-1</td>\n      <td>-1</td>\n      <td>-1</td>\n      <td>1</td>\n      <td>1</td>\n      <td>1</td>\n      <td>260</td>\n      <td>1.0</td>\n    </tr>\n    <tr>\n      <th>11999</th>\n      <td>use_B7F2PfU4eOKBmVc93AU1TzdqFY9</td>\n      <td>32</td>\n      <td>F</td>\n      <td>37600</td>\n      <td>NonUser</td>\n      <td>High</td>\n      <td>3. SuperMarket</td>\n      <td>-1</td>\n      <td>-1</td>\n      <td>-1</td>\n      <td>-1</td>\n      <td>-1</td>\n      <td>1</td>\n      <td>1</td>\n      <td>1</td>\n      <td>290</td>\n      <td>3.0</td>\n    </tr>\n  </tbody>\n</table>\n<p>12000 rows × 17 columns</p>\n</div>"
     },
     "metadata": {},
     "execution_count": 46
    }
   ],
   "source": [
    "df"
   ]
  },
  {
   "cell_type": "code",
   "execution_count": 47,
   "metadata": {},
   "outputs": [
    {
     "output_type": "execute_result",
     "data": {
      "text/plain": [
       "1.3804149665769598"
      ]
     },
     "metadata": {},
     "execution_count": 47
    }
   ],
   "source": [
    "df['nbChildren'].mean()"
   ]
  },
  {
   "cell_type": "code",
   "execution_count": 48,
   "metadata": {},
   "outputs": [],
   "source": [
    "def textScaleToFloat(s:str) -> float:\n",
    "    if s == 'High': return 1\n",
    "    if s == 'Medium': return 2 / 3\n",
    "    if s == 'Low': return 1 / 3\n",
    "    if s == 'NonUser': return 0\n",
    "    return None\n",
    "\n",
    "# replaces the 'normal' values with floats\n",
    "df['scentLover'] = df['scentLover'].apply(textScaleToFloat)\n",
    "\n",
    "# replaces the nan with the avg\n",
    "df['scentLover'] = df['scentLover'].fillna(df['scentLover'].mean(skipna=True))"
   ]
  },
  {
   "source": [
    "Handles the closest shop"
   ],
   "cell_type": "markdown",
   "metadata": {}
  },
  {
   "cell_type": "code",
   "execution_count": 49,
   "metadata": {},
   "outputs": [
    {
     "output_type": "execute_result",
     "data": {
      "text/plain": [
       "                                userId  age gender postalCode  scentLover  \\\n",
       "0      use_XbA1FTDcCrTMNTHK1851TzjyPMP   24      F      68540    0.000000   \n",
       "1      use_3WHgsMVGSg5MHG2zja91TzdfmY2   67      F      17390    0.378981   \n",
       "2      use_2SisOiR8QwDaHI4svm11TzcvK7V   45      F      30200    0.000000   \n",
       "3      use_W0T1LmfKaQPJYD1RTWh1Tzdc69H   35      F      61400    0.333333   \n",
       "4      use_KwYWZ7UMl4veveOaPGK1TzddtmI   38      F      30620    0.378981   \n",
       "...                                ...  ...    ...        ...         ...   \n",
       "11995  use_ICSyEvCcRNPpQeBdWcM1TzdczV8   53      F      77240    0.378981   \n",
       "11996  use_Q5DNYeSmG7g6VeMV4n71TzeTRRz   43      F      45120    0.333333   \n",
       "11997  use_rEoce5pc0MlKpndfzNj1Tze3J1L   42      F      35170    0.378981   \n",
       "11998  use_0AuDL2wOJHy9I16zSC21TzeHRMo   39      M      45160    0.378981   \n",
       "11999  use_B7F2PfU4eOKBmVc93AU1TzdqFY9   32      F      37600    0.000000   \n",
       "\n",
       "      ecoInterest  ownsDishwasher  MrPropre  Antikal  Ariel  ...  \\\n",
       "0             NaN               1        -1       -1     -1  ...   \n",
       "1            High               1         1        1      1  ...   \n",
       "2            High               1        -1       -1      1  ...   \n",
       "3          Medium              -1        -1       -1      1  ...   \n",
       "4             Low              -1         1        1      1  ...   \n",
       "...           ...             ...       ...      ...    ...  ...   \n",
       "11995         NaN               1        -1       -1     -1  ...   \n",
       "11996      Medium              -1        -1       -1     -1  ...   \n",
       "11997        High              -1        -1       -1     -1  ...   \n",
       "11998         NaN               1        -1       -1     -1  ...   \n",
       "11999        High              -1        -1       -1     -1  ...   \n",
       "\n",
       "       electricToothbrush  hasPet  daysSinceActivity  nbChildren  magasin  \\\n",
       "0                      -1       1                308         1.0       -1   \n",
       "1                      -1      -1                 28         3.0       -1   \n",
       "2                      -1       1                130         1.0       -1   \n",
       "3                      -1       1                340         2.0       -1   \n",
       "4                       1       1                158         0.0       -1   \n",
       "...                   ...     ...                ...         ...      ...   \n",
       "11995                  -1       1                 10         5.0       -1   \n",
       "11996                   1       1                167         0.0       -1   \n",
       "11997                  -1       1                 33         3.0       -1   \n",
       "11998                   1       1                260         1.0       -1   \n",
       "11999                   1       1                290         3.0       -1   \n",
       "\n",
       "       moyenneSurgace  superMarket  hyperMarket  drive  hardDiscount  \n",
       "0                  -1           -1           -1     -1            -1  \n",
       "1                  -1           -1           -1     -1            -1  \n",
       "2                  -1           -1           -1     -1            -1  \n",
       "3                  -1           -1           -1     -1            -1  \n",
       "4                  -1           -1           -1     -1            -1  \n",
       "...               ...          ...          ...    ...           ...  \n",
       "11995              -1           -1           -1     -1            -1  \n",
       "11996              -1           -1           -1     -1            -1  \n",
       "11997              -1           -1           -1     -1            -1  \n",
       "11998              -1           -1           -1     -1            -1  \n",
       "11999              -1            1           -1     -1            -1  \n",
       "\n",
       "[12000 rows x 22 columns]"
      ],
      "text/html": "<div>\n<style scoped>\n    .dataframe tbody tr th:only-of-type {\n        vertical-align: middle;\n    }\n\n    .dataframe tbody tr th {\n        vertical-align: top;\n    }\n\n    .dataframe thead th {\n        text-align: right;\n    }\n</style>\n<table border=\"1\" class=\"dataframe\">\n  <thead>\n    <tr style=\"text-align: right;\">\n      <th></th>\n      <th>userId</th>\n      <th>age</th>\n      <th>gender</th>\n      <th>postalCode</th>\n      <th>scentLover</th>\n      <th>ecoInterest</th>\n      <th>ownsDishwasher</th>\n      <th>MrPropre</th>\n      <th>Antikal</th>\n      <th>Ariel</th>\n      <th>...</th>\n      <th>electricToothbrush</th>\n      <th>hasPet</th>\n      <th>daysSinceActivity</th>\n      <th>nbChildren</th>\n      <th>magasin</th>\n      <th>moyenneSurgace</th>\n      <th>superMarket</th>\n      <th>hyperMarket</th>\n      <th>drive</th>\n      <th>hardDiscount</th>\n    </tr>\n  </thead>\n  <tbody>\n    <tr>\n      <th>0</th>\n      <td>use_XbA1FTDcCrTMNTHK1851TzjyPMP</td>\n      <td>24</td>\n      <td>F</td>\n      <td>68540</td>\n      <td>0.000000</td>\n      <td>NaN</td>\n      <td>1</td>\n      <td>-1</td>\n      <td>-1</td>\n      <td>-1</td>\n      <td>...</td>\n      <td>-1</td>\n      <td>1</td>\n      <td>308</td>\n      <td>1.0</td>\n      <td>-1</td>\n      <td>-1</td>\n      <td>-1</td>\n      <td>-1</td>\n      <td>-1</td>\n      <td>-1</td>\n    </tr>\n    <tr>\n      <th>1</th>\n      <td>use_3WHgsMVGSg5MHG2zja91TzdfmY2</td>\n      <td>67</td>\n      <td>F</td>\n      <td>17390</td>\n      <td>0.378981</td>\n      <td>High</td>\n      <td>1</td>\n      <td>1</td>\n      <td>1</td>\n      <td>1</td>\n      <td>...</td>\n      <td>-1</td>\n      <td>-1</td>\n      <td>28</td>\n      <td>3.0</td>\n      <td>-1</td>\n      <td>-1</td>\n      <td>-1</td>\n      <td>-1</td>\n      <td>-1</td>\n      <td>-1</td>\n    </tr>\n    <tr>\n      <th>2</th>\n      <td>use_2SisOiR8QwDaHI4svm11TzcvK7V</td>\n      <td>45</td>\n      <td>F</td>\n      <td>30200</td>\n      <td>0.000000</td>\n      <td>High</td>\n      <td>1</td>\n      <td>-1</td>\n      <td>-1</td>\n      <td>1</td>\n      <td>...</td>\n      <td>-1</td>\n      <td>1</td>\n      <td>130</td>\n      <td>1.0</td>\n      <td>-1</td>\n      <td>-1</td>\n      <td>-1</td>\n      <td>-1</td>\n      <td>-1</td>\n      <td>-1</td>\n    </tr>\n    <tr>\n      <th>3</th>\n      <td>use_W0T1LmfKaQPJYD1RTWh1Tzdc69H</td>\n      <td>35</td>\n      <td>F</td>\n      <td>61400</td>\n      <td>0.333333</td>\n      <td>Medium</td>\n      <td>-1</td>\n      <td>-1</td>\n      <td>-1</td>\n      <td>1</td>\n      <td>...</td>\n      <td>-1</td>\n      <td>1</td>\n      <td>340</td>\n      <td>2.0</td>\n      <td>-1</td>\n      <td>-1</td>\n      <td>-1</td>\n      <td>-1</td>\n      <td>-1</td>\n      <td>-1</td>\n    </tr>\n    <tr>\n      <th>4</th>\n      <td>use_KwYWZ7UMl4veveOaPGK1TzddtmI</td>\n      <td>38</td>\n      <td>F</td>\n      <td>30620</td>\n      <td>0.378981</td>\n      <td>Low</td>\n      <td>-1</td>\n      <td>1</td>\n      <td>1</td>\n      <td>1</td>\n      <td>...</td>\n      <td>1</td>\n      <td>1</td>\n      <td>158</td>\n      <td>0.0</td>\n      <td>-1</td>\n      <td>-1</td>\n      <td>-1</td>\n      <td>-1</td>\n      <td>-1</td>\n      <td>-1</td>\n    </tr>\n    <tr>\n      <th>...</th>\n      <td>...</td>\n      <td>...</td>\n      <td>...</td>\n      <td>...</td>\n      <td>...</td>\n      <td>...</td>\n      <td>...</td>\n      <td>...</td>\n      <td>...</td>\n      <td>...</td>\n      <td>...</td>\n      <td>...</td>\n      <td>...</td>\n      <td>...</td>\n      <td>...</td>\n      <td>...</td>\n      <td>...</td>\n      <td>...</td>\n      <td>...</td>\n      <td>...</td>\n      <td>...</td>\n    </tr>\n    <tr>\n      <th>11995</th>\n      <td>use_ICSyEvCcRNPpQeBdWcM1TzdczV8</td>\n      <td>53</td>\n      <td>F</td>\n      <td>77240</td>\n      <td>0.378981</td>\n      <td>NaN</td>\n      <td>1</td>\n      <td>-1</td>\n      <td>-1</td>\n      <td>-1</td>\n      <td>...</td>\n      <td>-1</td>\n      <td>1</td>\n      <td>10</td>\n      <td>5.0</td>\n      <td>-1</td>\n      <td>-1</td>\n      <td>-1</td>\n      <td>-1</td>\n      <td>-1</td>\n      <td>-1</td>\n    </tr>\n    <tr>\n      <th>11996</th>\n      <td>use_Q5DNYeSmG7g6VeMV4n71TzeTRRz</td>\n      <td>43</td>\n      <td>F</td>\n      <td>45120</td>\n      <td>0.333333</td>\n      <td>Medium</td>\n      <td>-1</td>\n      <td>-1</td>\n      <td>-1</td>\n      <td>-1</td>\n      <td>...</td>\n      <td>1</td>\n      <td>1</td>\n      <td>167</td>\n      <td>0.0</td>\n      <td>-1</td>\n      <td>-1</td>\n      <td>-1</td>\n      <td>-1</td>\n      <td>-1</td>\n      <td>-1</td>\n    </tr>\n    <tr>\n      <th>11997</th>\n      <td>use_rEoce5pc0MlKpndfzNj1Tze3J1L</td>\n      <td>42</td>\n      <td>F</td>\n      <td>35170</td>\n      <td>0.378981</td>\n      <td>High</td>\n      <td>-1</td>\n      <td>-1</td>\n      <td>-1</td>\n      <td>-1</td>\n      <td>...</td>\n      <td>-1</td>\n      <td>1</td>\n      <td>33</td>\n      <td>3.0</td>\n      <td>-1</td>\n      <td>-1</td>\n      <td>-1</td>\n      <td>-1</td>\n      <td>-1</td>\n      <td>-1</td>\n    </tr>\n    <tr>\n      <th>11998</th>\n      <td>use_0AuDL2wOJHy9I16zSC21TzeHRMo</td>\n      <td>39</td>\n      <td>M</td>\n      <td>45160</td>\n      <td>0.378981</td>\n      <td>NaN</td>\n      <td>1</td>\n      <td>-1</td>\n      <td>-1</td>\n      <td>-1</td>\n      <td>...</td>\n      <td>1</td>\n      <td>1</td>\n      <td>260</td>\n      <td>1.0</td>\n      <td>-1</td>\n      <td>-1</td>\n      <td>-1</td>\n      <td>-1</td>\n      <td>-1</td>\n      <td>-1</td>\n    </tr>\n    <tr>\n      <th>11999</th>\n      <td>use_B7F2PfU4eOKBmVc93AU1TzdqFY9</td>\n      <td>32</td>\n      <td>F</td>\n      <td>37600</td>\n      <td>0.000000</td>\n      <td>High</td>\n      <td>-1</td>\n      <td>-1</td>\n      <td>-1</td>\n      <td>-1</td>\n      <td>...</td>\n      <td>1</td>\n      <td>1</td>\n      <td>290</td>\n      <td>3.0</td>\n      <td>-1</td>\n      <td>-1</td>\n      <td>1</td>\n      <td>-1</td>\n      <td>-1</td>\n      <td>-1</td>\n    </tr>\n  </tbody>\n</table>\n<p>12000 rows × 22 columns</p>\n</div>"
     },
     "metadata": {},
     "execution_count": 49
    }
   ],
   "source": [
    "df['magasin']           = df['closestShop'].apply(lambda e: 1 if e =='1. Magasin de Proximit�' else -1)\n",
    "df['moyenneSurgace']    = df['closestShop'].apply(lambda e: 1 if e =='2. Moyenne Surface' else -1)\n",
    "df['superMarket']       = df['closestShop'].apply(lambda e: 1 if e =='3. SuperMarket' else -1)\n",
    "df['hyperMarket']       = df['closestShop'].apply(lambda e: 1 if e =='4. HyperMarket' else -1)\n",
    "df['drive']             = df['closestShop'].apply(lambda e: 1 if e =='5. Drive' else -1)\n",
    "df['hardDiscount']      = df['closestShop'].apply(lambda e: 1 if e =='6. Hard Discounter' else -1)\n",
    "\n",
    "# removes extra column\n",
    "df.drop(columns=['closestShop'])"
   ]
  },
  {
   "cell_type": "code",
   "execution_count": 50,
   "metadata": {},
   "outputs": [
    {
     "output_type": "execute_result",
     "data": {
      "text/plain": [
       "                                userId  age gender postalCode  scentLover  \\\n",
       "0      use_XbA1FTDcCrTMNTHK1851TzjyPMP   24      F      68540    0.000000   \n",
       "1      use_3WHgsMVGSg5MHG2zja91TzdfmY2   67      F      17390    0.378981   \n",
       "2      use_2SisOiR8QwDaHI4svm11TzcvK7V   45      F      30200    0.000000   \n",
       "3      use_W0T1LmfKaQPJYD1RTWh1Tzdc69H   35      F      61400    0.333333   \n",
       "4      use_KwYWZ7UMl4veveOaPGK1TzddtmI   38      F      30620    0.378981   \n",
       "...                                ...  ...    ...        ...         ...   \n",
       "11995  use_ICSyEvCcRNPpQeBdWcM1TzdczV8   53      F      77240    0.378981   \n",
       "11996  use_Q5DNYeSmG7g6VeMV4n71TzeTRRz   43      F      45120    0.333333   \n",
       "11997  use_rEoce5pc0MlKpndfzNj1Tze3J1L   42      F      35170    0.378981   \n",
       "11998  use_0AuDL2wOJHy9I16zSC21TzeHRMo   39      M      45160    0.378981   \n",
       "11999  use_B7F2PfU4eOKBmVc93AU1TzdqFY9   32      F      37600    0.000000   \n",
       "\n",
       "      ecoInterest     closestShop  ownsDishwasher  MrPropre  Antikal  ...  \\\n",
       "0             NaN             NaN               1        -1       -1  ...   \n",
       "1            High             NaN               1         1        1  ...   \n",
       "2            High             NaN               1        -1       -1  ...   \n",
       "3          Medium             NaN              -1        -1       -1  ...   \n",
       "4             Low             NaN              -1         1        1  ...   \n",
       "...           ...             ...             ...       ...      ...  ...   \n",
       "11995         NaN             NaN               1        -1       -1  ...   \n",
       "11996      Medium             NaN              -1        -1       -1  ...   \n",
       "11997        High             NaN              -1        -1       -1  ...   \n",
       "11998         NaN             NaN               1        -1       -1  ...   \n",
       "11999        High  3. SuperMarket              -1        -1       -1  ...   \n",
       "\n",
       "       electricToothbrush  hasPet  daysSinceActivity  nbChildren  magasin  \\\n",
       "0                      -1       1                308         1.0       -1   \n",
       "1                      -1      -1                 28         3.0       -1   \n",
       "2                      -1       1                130         1.0       -1   \n",
       "3                      -1       1                340         2.0       -1   \n",
       "4                       1       1                158         0.0       -1   \n",
       "...                   ...     ...                ...         ...      ...   \n",
       "11995                  -1       1                 10         5.0       -1   \n",
       "11996                   1       1                167         0.0       -1   \n",
       "11997                  -1       1                 33         3.0       -1   \n",
       "11998                   1       1                260         1.0       -1   \n",
       "11999                   1       1                290         3.0       -1   \n",
       "\n",
       "       moyenneSurgace  superMarket  hyperMarket  drive  hardDiscount  \n",
       "0                  -1           -1           -1     -1            -1  \n",
       "1                  -1           -1           -1     -1            -1  \n",
       "2                  -1           -1           -1     -1            -1  \n",
       "3                  -1           -1           -1     -1            -1  \n",
       "4                  -1           -1           -1     -1            -1  \n",
       "...               ...          ...          ...    ...           ...  \n",
       "11995              -1           -1           -1     -1            -1  \n",
       "11996              -1           -1           -1     -1            -1  \n",
       "11997              -1           -1           -1     -1            -1  \n",
       "11998              -1           -1           -1     -1            -1  \n",
       "11999              -1            1           -1     -1            -1  \n",
       "\n",
       "[12000 rows x 23 columns]"
      ],
      "text/html": "<div>\n<style scoped>\n    .dataframe tbody tr th:only-of-type {\n        vertical-align: middle;\n    }\n\n    .dataframe tbody tr th {\n        vertical-align: top;\n    }\n\n    .dataframe thead th {\n        text-align: right;\n    }\n</style>\n<table border=\"1\" class=\"dataframe\">\n  <thead>\n    <tr style=\"text-align: right;\">\n      <th></th>\n      <th>userId</th>\n      <th>age</th>\n      <th>gender</th>\n      <th>postalCode</th>\n      <th>scentLover</th>\n      <th>ecoInterest</th>\n      <th>closestShop</th>\n      <th>ownsDishwasher</th>\n      <th>MrPropre</th>\n      <th>Antikal</th>\n      <th>...</th>\n      <th>electricToothbrush</th>\n      <th>hasPet</th>\n      <th>daysSinceActivity</th>\n      <th>nbChildren</th>\n      <th>magasin</th>\n      <th>moyenneSurgace</th>\n      <th>superMarket</th>\n      <th>hyperMarket</th>\n      <th>drive</th>\n      <th>hardDiscount</th>\n    </tr>\n  </thead>\n  <tbody>\n    <tr>\n      <th>0</th>\n      <td>use_XbA1FTDcCrTMNTHK1851TzjyPMP</td>\n      <td>24</td>\n      <td>F</td>\n      <td>68540</td>\n      <td>0.000000</td>\n      <td>NaN</td>\n      <td>NaN</td>\n      <td>1</td>\n      <td>-1</td>\n      <td>-1</td>\n      <td>...</td>\n      <td>-1</td>\n      <td>1</td>\n      <td>308</td>\n      <td>1.0</td>\n      <td>-1</td>\n      <td>-1</td>\n      <td>-1</td>\n      <td>-1</td>\n      <td>-1</td>\n      <td>-1</td>\n    </tr>\n    <tr>\n      <th>1</th>\n      <td>use_3WHgsMVGSg5MHG2zja91TzdfmY2</td>\n      <td>67</td>\n      <td>F</td>\n      <td>17390</td>\n      <td>0.378981</td>\n      <td>High</td>\n      <td>NaN</td>\n      <td>1</td>\n      <td>1</td>\n      <td>1</td>\n      <td>...</td>\n      <td>-1</td>\n      <td>-1</td>\n      <td>28</td>\n      <td>3.0</td>\n      <td>-1</td>\n      <td>-1</td>\n      <td>-1</td>\n      <td>-1</td>\n      <td>-1</td>\n      <td>-1</td>\n    </tr>\n    <tr>\n      <th>2</th>\n      <td>use_2SisOiR8QwDaHI4svm11TzcvK7V</td>\n      <td>45</td>\n      <td>F</td>\n      <td>30200</td>\n      <td>0.000000</td>\n      <td>High</td>\n      <td>NaN</td>\n      <td>1</td>\n      <td>-1</td>\n      <td>-1</td>\n      <td>...</td>\n      <td>-1</td>\n      <td>1</td>\n      <td>130</td>\n      <td>1.0</td>\n      <td>-1</td>\n      <td>-1</td>\n      <td>-1</td>\n      <td>-1</td>\n      <td>-1</td>\n      <td>-1</td>\n    </tr>\n    <tr>\n      <th>3</th>\n      <td>use_W0T1LmfKaQPJYD1RTWh1Tzdc69H</td>\n      <td>35</td>\n      <td>F</td>\n      <td>61400</td>\n      <td>0.333333</td>\n      <td>Medium</td>\n      <td>NaN</td>\n      <td>-1</td>\n      <td>-1</td>\n      <td>-1</td>\n      <td>...</td>\n      <td>-1</td>\n      <td>1</td>\n      <td>340</td>\n      <td>2.0</td>\n      <td>-1</td>\n      <td>-1</td>\n      <td>-1</td>\n      <td>-1</td>\n      <td>-1</td>\n      <td>-1</td>\n    </tr>\n    <tr>\n      <th>4</th>\n      <td>use_KwYWZ7UMl4veveOaPGK1TzddtmI</td>\n      <td>38</td>\n      <td>F</td>\n      <td>30620</td>\n      <td>0.378981</td>\n      <td>Low</td>\n      <td>NaN</td>\n      <td>-1</td>\n      <td>1</td>\n      <td>1</td>\n      <td>...</td>\n      <td>1</td>\n      <td>1</td>\n      <td>158</td>\n      <td>0.0</td>\n      <td>-1</td>\n      <td>-1</td>\n      <td>-1</td>\n      <td>-1</td>\n      <td>-1</td>\n      <td>-1</td>\n    </tr>\n    <tr>\n      <th>...</th>\n      <td>...</td>\n      <td>...</td>\n      <td>...</td>\n      <td>...</td>\n      <td>...</td>\n      <td>...</td>\n      <td>...</td>\n      <td>...</td>\n      <td>...</td>\n      <td>...</td>\n      <td>...</td>\n      <td>...</td>\n      <td>...</td>\n      <td>...</td>\n      <td>...</td>\n      <td>...</td>\n      <td>...</td>\n      <td>...</td>\n      <td>...</td>\n      <td>...</td>\n      <td>...</td>\n    </tr>\n    <tr>\n      <th>11995</th>\n      <td>use_ICSyEvCcRNPpQeBdWcM1TzdczV8</td>\n      <td>53</td>\n      <td>F</td>\n      <td>77240</td>\n      <td>0.378981</td>\n      <td>NaN</td>\n      <td>NaN</td>\n      <td>1</td>\n      <td>-1</td>\n      <td>-1</td>\n      <td>...</td>\n      <td>-1</td>\n      <td>1</td>\n      <td>10</td>\n      <td>5.0</td>\n      <td>-1</td>\n      <td>-1</td>\n      <td>-1</td>\n      <td>-1</td>\n      <td>-1</td>\n      <td>-1</td>\n    </tr>\n    <tr>\n      <th>11996</th>\n      <td>use_Q5DNYeSmG7g6VeMV4n71TzeTRRz</td>\n      <td>43</td>\n      <td>F</td>\n      <td>45120</td>\n      <td>0.333333</td>\n      <td>Medium</td>\n      <td>NaN</td>\n      <td>-1</td>\n      <td>-1</td>\n      <td>-1</td>\n      <td>...</td>\n      <td>1</td>\n      <td>1</td>\n      <td>167</td>\n      <td>0.0</td>\n      <td>-1</td>\n      <td>-1</td>\n      <td>-1</td>\n      <td>-1</td>\n      <td>-1</td>\n      <td>-1</td>\n    </tr>\n    <tr>\n      <th>11997</th>\n      <td>use_rEoce5pc0MlKpndfzNj1Tze3J1L</td>\n      <td>42</td>\n      <td>F</td>\n      <td>35170</td>\n      <td>0.378981</td>\n      <td>High</td>\n      <td>NaN</td>\n      <td>-1</td>\n      <td>-1</td>\n      <td>-1</td>\n      <td>...</td>\n      <td>-1</td>\n      <td>1</td>\n      <td>33</td>\n      <td>3.0</td>\n      <td>-1</td>\n      <td>-1</td>\n      <td>-1</td>\n      <td>-1</td>\n      <td>-1</td>\n      <td>-1</td>\n    </tr>\n    <tr>\n      <th>11998</th>\n      <td>use_0AuDL2wOJHy9I16zSC21TzeHRMo</td>\n      <td>39</td>\n      <td>M</td>\n      <td>45160</td>\n      <td>0.378981</td>\n      <td>NaN</td>\n      <td>NaN</td>\n      <td>1</td>\n      <td>-1</td>\n      <td>-1</td>\n      <td>...</td>\n      <td>1</td>\n      <td>1</td>\n      <td>260</td>\n      <td>1.0</td>\n      <td>-1</td>\n      <td>-1</td>\n      <td>-1</td>\n      <td>-1</td>\n      <td>-1</td>\n      <td>-1</td>\n    </tr>\n    <tr>\n      <th>11999</th>\n      <td>use_B7F2PfU4eOKBmVc93AU1TzdqFY9</td>\n      <td>32</td>\n      <td>F</td>\n      <td>37600</td>\n      <td>0.000000</td>\n      <td>High</td>\n      <td>3. SuperMarket</td>\n      <td>-1</td>\n      <td>-1</td>\n      <td>-1</td>\n      <td>...</td>\n      <td>1</td>\n      <td>1</td>\n      <td>290</td>\n      <td>3.0</td>\n      <td>-1</td>\n      <td>-1</td>\n      <td>1</td>\n      <td>-1</td>\n      <td>-1</td>\n      <td>-1</td>\n    </tr>\n  </tbody>\n</table>\n<p>12000 rows × 23 columns</p>\n</div>"
     },
     "metadata": {},
     "execution_count": 50
    }
   ],
   "source": [
    "df"
   ]
  },
  {
   "source": [
    "In order to have more information about customers, we are going to add features, using the data set \"consumer actions\"\n"
   ],
   "cell_type": "markdown",
   "metadata": {}
  },
  {
   "cell_type": "code",
   "execution_count": 51,
   "metadata": {},
   "outputs": [],
   "source": [
    "df_consumer_actions = pd.read_csv(r\"DS_CentraleSupelec_ST42021/DS_CentraleSupelec_consumeractions.csv\")"
   ]
  },
  {
   "cell_type": "code",
   "execution_count": 52,
   "metadata": {},
   "outputs": [
    {
     "output_type": "execute_result",
     "data": {
      "text/plain": [
       "                                  userId             event  \\\n",
       "0        use_bw7Dd2MM9RLPaulrFsQ1TzdmFsi  Product Reviewed   \n",
       "1        use_bw7Dd2MM9RLPaulrFsQ1TzdmFsi     Email Clicked   \n",
       "2        use_bw7Dd2MM9RLPaulrFsQ1TzdmFsi      Email Opened   \n",
       "3        use_bw7Dd2MM9RLPaulrFsQ1TzdmFsi      Email Opened   \n",
       "4        use_bw7Dd2MM9RLPaulrFsQ1TzdmFsi      Email Opened   \n",
       "...                                  ...               ...   \n",
       "1172500  use_sLe3AqB7h7jlypX6JmC1TzdphFJ      Email Opened   \n",
       "1172501  use_fLS7y8W7sAXSCohYlWi1TzdXPjQ      Email Opened   \n",
       "1172502  use_YyWKhnJXM3bUmsc66TA1TzdcFXm      Email Opened   \n",
       "1172503  use_8th6Vk4n1QZDcXwBfU41TzdfDDF      Email Opened   \n",
       "1172504  use_7IOHjF4piNqadzKbaZ41TzeNx4r      Email Opened   \n",
       "\n",
       "                        originalTimestamp                       brandName  \\\n",
       "0        2021-05-13 22:57:44.182000+00:00  Fairy PEPS Platinum+ Tout-en-1   \n",
       "1               2021-05-06 20:36:14+00:00                             NaN   \n",
       "2               2020-09-17 19:35:13+00:00                             NaN   \n",
       "3               2020-10-23 06:18:35+00:00                             NaN   \n",
       "4               2021-05-10 19:50:41+00:00                             NaN   \n",
       "...                                   ...                             ...   \n",
       "1172500         2020-12-01 12:19:38+00:00                             NaN   \n",
       "1172501         2020-08-04 07:46:36+00:00                             NaN   \n",
       "1172502         2020-11-05 15:49:48+00:00                             NaN   \n",
       "1172503         2020-12-04 10:02:03+00:00                             NaN   \n",
       "1172504         2020-12-08 07:18:25+00:00                             NaN   \n",
       "\n",
       "        brandName2                                        subjectLine  \\\n",
       "0              NaN     Fairy PEPS Platinum+ Tout-en-1 | Envie de Plus   \n",
       "1              NaN  Lenor vous fait une fleur <%${user['FirstName'...   \n",
       "2              NaN                         Ariel Pods x Whirlpool = 💝   \n",
       "3              NaN         Bye-bye la grisaille, bonjour la couleur 🍂   \n",
       "4              NaN       Il faut qu’on parle <%${user['FirstName']}%>   \n",
       "...            ...                                                ...   \n",
       "1172500        NaN  Jusqu'à 85 € de réductions* avec les Jours en ...   \n",
       "1172501        NaN             Envie de... faire une bonne action ? 🤲   \n",
       "1172502        NaN               Votre surprise pour une peau nette 🎁   \n",
       "1172503        NaN  🖤 Profitez de vos marques préférées avec le Bl...   \n",
       "1172504        NaN  Top départ pour remporter l’un de nos 100 coff...   \n",
       "\n",
       "                                                       url keyword  \\\n",
       "0        https://www.enviedeplus.com/marques/fairy/fair...     NaN   \n",
       "1        https://www.enviedeplus.com/50-euros-chez-truf...     NaN   \n",
       "2                                                      NaN     NaN   \n",
       "3                                                      NaN     NaN   \n",
       "4                                                      NaN     NaN   \n",
       "...                                                    ...     ...   \n",
       "1172500                                                NaN     NaN   \n",
       "1172501                                                NaN     NaN   \n",
       "1172502                                                NaN     NaN   \n",
       "1172503                                                NaN     NaN   \n",
       "1172504                                                NaN     NaN   \n",
       "\n",
       "         couponRedemptionDate  \n",
       "0                         NaN  \n",
       "1                         NaN  \n",
       "2                         NaN  \n",
       "3                         NaN  \n",
       "4                         NaN  \n",
       "...                       ...  \n",
       "1172500                   NaN  \n",
       "1172501                   NaN  \n",
       "1172502                   NaN  \n",
       "1172503                   NaN  \n",
       "1172504                   NaN  \n",
       "\n",
       "[1172505 rows x 9 columns]"
      ],
      "text/html": "<div>\n<style scoped>\n    .dataframe tbody tr th:only-of-type {\n        vertical-align: middle;\n    }\n\n    .dataframe tbody tr th {\n        vertical-align: top;\n    }\n\n    .dataframe thead th {\n        text-align: right;\n    }\n</style>\n<table border=\"1\" class=\"dataframe\">\n  <thead>\n    <tr style=\"text-align: right;\">\n      <th></th>\n      <th>userId</th>\n      <th>event</th>\n      <th>originalTimestamp</th>\n      <th>brandName</th>\n      <th>brandName2</th>\n      <th>subjectLine</th>\n      <th>url</th>\n      <th>keyword</th>\n      <th>couponRedemptionDate</th>\n    </tr>\n  </thead>\n  <tbody>\n    <tr>\n      <th>0</th>\n      <td>use_bw7Dd2MM9RLPaulrFsQ1TzdmFsi</td>\n      <td>Product Reviewed</td>\n      <td>2021-05-13 22:57:44.182000+00:00</td>\n      <td>Fairy PEPS Platinum+ Tout-en-1</td>\n      <td>NaN</td>\n      <td>Fairy PEPS Platinum+ Tout-en-1 | Envie de Plus</td>\n      <td>https://www.enviedeplus.com/marques/fairy/fair...</td>\n      <td>NaN</td>\n      <td>NaN</td>\n    </tr>\n    <tr>\n      <th>1</th>\n      <td>use_bw7Dd2MM9RLPaulrFsQ1TzdmFsi</td>\n      <td>Email Clicked</td>\n      <td>2021-05-06 20:36:14+00:00</td>\n      <td>NaN</td>\n      <td>NaN</td>\n      <td>Lenor vous fait une fleur &lt;%${user['FirstName'...</td>\n      <td>https://www.enviedeplus.com/50-euros-chez-truf...</td>\n      <td>NaN</td>\n      <td>NaN</td>\n    </tr>\n    <tr>\n      <th>2</th>\n      <td>use_bw7Dd2MM9RLPaulrFsQ1TzdmFsi</td>\n      <td>Email Opened</td>\n      <td>2020-09-17 19:35:13+00:00</td>\n      <td>NaN</td>\n      <td>NaN</td>\n      <td>Ariel Pods x Whirlpool = 💝</td>\n      <td>NaN</td>\n      <td>NaN</td>\n      <td>NaN</td>\n    </tr>\n    <tr>\n      <th>3</th>\n      <td>use_bw7Dd2MM9RLPaulrFsQ1TzdmFsi</td>\n      <td>Email Opened</td>\n      <td>2020-10-23 06:18:35+00:00</td>\n      <td>NaN</td>\n      <td>NaN</td>\n      <td>Bye-bye la grisaille, bonjour la couleur 🍂</td>\n      <td>NaN</td>\n      <td>NaN</td>\n      <td>NaN</td>\n    </tr>\n    <tr>\n      <th>4</th>\n      <td>use_bw7Dd2MM9RLPaulrFsQ1TzdmFsi</td>\n      <td>Email Opened</td>\n      <td>2021-05-10 19:50:41+00:00</td>\n      <td>NaN</td>\n      <td>NaN</td>\n      <td>Il faut qu’on parle &lt;%${user['FirstName']}%&gt;</td>\n      <td>NaN</td>\n      <td>NaN</td>\n      <td>NaN</td>\n    </tr>\n    <tr>\n      <th>...</th>\n      <td>...</td>\n      <td>...</td>\n      <td>...</td>\n      <td>...</td>\n      <td>...</td>\n      <td>...</td>\n      <td>...</td>\n      <td>...</td>\n      <td>...</td>\n    </tr>\n    <tr>\n      <th>1172500</th>\n      <td>use_sLe3AqB7h7jlypX6JmC1TzdphFJ</td>\n      <td>Email Opened</td>\n      <td>2020-12-01 12:19:38+00:00</td>\n      <td>NaN</td>\n      <td>NaN</td>\n      <td>Jusqu'à 85 € de réductions* avec les Jours en ...</td>\n      <td>NaN</td>\n      <td>NaN</td>\n      <td>NaN</td>\n    </tr>\n    <tr>\n      <th>1172501</th>\n      <td>use_fLS7y8W7sAXSCohYlWi1TzdXPjQ</td>\n      <td>Email Opened</td>\n      <td>2020-08-04 07:46:36+00:00</td>\n      <td>NaN</td>\n      <td>NaN</td>\n      <td>Envie de... faire une bonne action ? 🤲</td>\n      <td>NaN</td>\n      <td>NaN</td>\n      <td>NaN</td>\n    </tr>\n    <tr>\n      <th>1172502</th>\n      <td>use_YyWKhnJXM3bUmsc66TA1TzdcFXm</td>\n      <td>Email Opened</td>\n      <td>2020-11-05 15:49:48+00:00</td>\n      <td>NaN</td>\n      <td>NaN</td>\n      <td>Votre surprise pour une peau nette 🎁</td>\n      <td>NaN</td>\n      <td>NaN</td>\n      <td>NaN</td>\n    </tr>\n    <tr>\n      <th>1172503</th>\n      <td>use_8th6Vk4n1QZDcXwBfU41TzdfDDF</td>\n      <td>Email Opened</td>\n      <td>2020-12-04 10:02:03+00:00</td>\n      <td>NaN</td>\n      <td>NaN</td>\n      <td>🖤 Profitez de vos marques préférées avec le Bl...</td>\n      <td>NaN</td>\n      <td>NaN</td>\n      <td>NaN</td>\n    </tr>\n    <tr>\n      <th>1172504</th>\n      <td>use_7IOHjF4piNqadzKbaZ41TzeNx4r</td>\n      <td>Email Opened</td>\n      <td>2020-12-08 07:18:25+00:00</td>\n      <td>NaN</td>\n      <td>NaN</td>\n      <td>Top départ pour remporter l’un de nos 100 coff...</td>\n      <td>NaN</td>\n      <td>NaN</td>\n      <td>NaN</td>\n    </tr>\n  </tbody>\n</table>\n<p>1172505 rows × 9 columns</p>\n</div>"
     },
     "metadata": {},
     "execution_count": 52
    }
   ],
   "source": [
    "df_consumer_actions"
   ]
  },
  {
   "cell_type": "code",
   "execution_count": 53,
   "metadata": {},
   "outputs": [
    {
     "output_type": "execute_result",
     "data": {
      "text/plain": [
       "                                  userId  brand\n",
       "0        use_bw7Dd2MM9RLPaulrFsQ1TzdmFsi      1\n",
       "1        use_bw7Dd2MM9RLPaulrFsQ1TzdmFsi     -1\n",
       "2        use_bw7Dd2MM9RLPaulrFsQ1TzdmFsi     -1\n",
       "3        use_bw7Dd2MM9RLPaulrFsQ1TzdmFsi     -1\n",
       "4        use_bw7Dd2MM9RLPaulrFsQ1TzdmFsi     -1\n",
       "...                                  ...    ...\n",
       "1172500  use_sLe3AqB7h7jlypX6JmC1TzdphFJ     -1\n",
       "1172501  use_fLS7y8W7sAXSCohYlWi1TzdXPjQ     -1\n",
       "1172502  use_YyWKhnJXM3bUmsc66TA1TzdcFXm     -1\n",
       "1172503  use_8th6Vk4n1QZDcXwBfU41TzdfDDF     -1\n",
       "1172504  use_7IOHjF4piNqadzKbaZ41TzeNx4r     -1\n",
       "\n",
       "[1172505 rows x 2 columns]"
      ],
      "text/html": "<div>\n<style scoped>\n    .dataframe tbody tr th:only-of-type {\n        vertical-align: middle;\n    }\n\n    .dataframe tbody tr th {\n        vertical-align: top;\n    }\n\n    .dataframe thead th {\n        text-align: right;\n    }\n</style>\n<table border=\"1\" class=\"dataframe\">\n  <thead>\n    <tr style=\"text-align: right;\">\n      <th></th>\n      <th>userId</th>\n      <th>brand</th>\n    </tr>\n  </thead>\n  <tbody>\n    <tr>\n      <th>0</th>\n      <td>use_bw7Dd2MM9RLPaulrFsQ1TzdmFsi</td>\n      <td>1</td>\n    </tr>\n    <tr>\n      <th>1</th>\n      <td>use_bw7Dd2MM9RLPaulrFsQ1TzdmFsi</td>\n      <td>-1</td>\n    </tr>\n    <tr>\n      <th>2</th>\n      <td>use_bw7Dd2MM9RLPaulrFsQ1TzdmFsi</td>\n      <td>-1</td>\n    </tr>\n    <tr>\n      <th>3</th>\n      <td>use_bw7Dd2MM9RLPaulrFsQ1TzdmFsi</td>\n      <td>-1</td>\n    </tr>\n    <tr>\n      <th>4</th>\n      <td>use_bw7Dd2MM9RLPaulrFsQ1TzdmFsi</td>\n      <td>-1</td>\n    </tr>\n    <tr>\n      <th>...</th>\n      <td>...</td>\n      <td>...</td>\n    </tr>\n    <tr>\n      <th>1172500</th>\n      <td>use_sLe3AqB7h7jlypX6JmC1TzdphFJ</td>\n      <td>-1</td>\n    </tr>\n    <tr>\n      <th>1172501</th>\n      <td>use_fLS7y8W7sAXSCohYlWi1TzdXPjQ</td>\n      <td>-1</td>\n    </tr>\n    <tr>\n      <th>1172502</th>\n      <td>use_YyWKhnJXM3bUmsc66TA1TzdcFXm</td>\n      <td>-1</td>\n    </tr>\n    <tr>\n      <th>1172503</th>\n      <td>use_8th6Vk4n1QZDcXwBfU41TzdfDDF</td>\n      <td>-1</td>\n    </tr>\n    <tr>\n      <th>1172504</th>\n      <td>use_7IOHjF4piNqadzKbaZ41TzeNx4r</td>\n      <td>-1</td>\n    </tr>\n  </tbody>\n</table>\n<p>1172505 rows × 2 columns</p>\n</div>"
     },
     "metadata": {},
     "execution_count": 53
    }
   ],
   "source": [
    "\n",
    "text = df_consumer_actions['brandName'][0]\n",
    "df_consumer_actions['brandName'] = df_consumer_actions['brandName']== text\n",
    "df_consumer_actions['brandName2'] = df_consumer_actions['brandName2']== text\n",
    "df_consumer_actions['brand'] = df_consumer_actions['brandName'] | df_consumer_actions['brandName2']\n",
    "df_consumer_actions =  df_consumer_actions.drop(columns=['event', 'originalTimestamp', 'brandName', 'brandName2', 'subjectLine', 'url', 'keyword','couponRedemptionDate'])\n",
    "df_consumer_actions['brand'] = df_consumer_actions.apply(lambda row: 1 if row['brand'] else -1, axis=1)\n",
    "df_consumer_actions"
   ]
  },
  {
   "cell_type": "code",
   "execution_count": 54,
   "metadata": {},
   "outputs": [],
   "source": [
    "df_merged = pd.merge(df,df_consumer_actions, how='left')\n"
   ]
  },
  {
   "cell_type": "code",
   "execution_count": 55,
   "metadata": {},
   "outputs": [],
   "source": [
    "df_merged = df_merged.rename(columns={\"brand\": \"Interested_email\"})\n",
    "df = df_merged"
   ]
  },
  {
   "cell_type": "code",
   "execution_count": 56,
   "metadata": {},
   "outputs": [
    {
     "output_type": "execute_result",
     "data": {
      "text/plain": [
       "                                 userId  age gender postalCode  scentLover  \\\n",
       "0       use_XbA1FTDcCrTMNTHK1851TzjyPMP   24      F      68540         0.0   \n",
       "1       use_XbA1FTDcCrTMNTHK1851TzjyPMP   24      F      68540         0.0   \n",
       "2       use_XbA1FTDcCrTMNTHK1851TzjyPMP   24      F      68540         0.0   \n",
       "3       use_XbA1FTDcCrTMNTHK1851TzjyPMP   24      F      68540         0.0   \n",
       "4       use_XbA1FTDcCrTMNTHK1851TzjyPMP   24      F      68540         0.0   \n",
       "...                                 ...  ...    ...        ...         ...   \n",
       "889075  use_B7F2PfU4eOKBmVc93AU1TzdqFY9   32      F      37600         0.0   \n",
       "889076  use_B7F2PfU4eOKBmVc93AU1TzdqFY9   32      F      37600         0.0   \n",
       "889077  use_B7F2PfU4eOKBmVc93AU1TzdqFY9   32      F      37600         0.0   \n",
       "889078  use_B7F2PfU4eOKBmVc93AU1TzdqFY9   32      F      37600         0.0   \n",
       "889079  use_B7F2PfU4eOKBmVc93AU1TzdqFY9   32      F      37600         0.0   \n",
       "\n",
       "       ecoInterest     closestShop  ownsDishwasher  MrPropre  Antikal  ...  \\\n",
       "0              NaN             NaN               1        -1       -1  ...   \n",
       "1              NaN             NaN               1        -1       -1  ...   \n",
       "2              NaN             NaN               1        -1       -1  ...   \n",
       "3              NaN             NaN               1        -1       -1  ...   \n",
       "4              NaN             NaN               1        -1       -1  ...   \n",
       "...            ...             ...             ...       ...      ...  ...   \n",
       "889075        High  3. SuperMarket              -1        -1       -1  ...   \n",
       "889076        High  3. SuperMarket              -1        -1       -1  ...   \n",
       "889077        High  3. SuperMarket              -1        -1       -1  ...   \n",
       "889078        High  3. SuperMarket              -1        -1       -1  ...   \n",
       "889079        High  3. SuperMarket              -1        -1       -1  ...   \n",
       "\n",
       "        hasPet  daysSinceActivity  nbChildren  magasin  moyenneSurgace  \\\n",
       "0            1                308         1.0       -1              -1   \n",
       "1            1                308         1.0       -1              -1   \n",
       "2            1                308         1.0       -1              -1   \n",
       "3            1                308         1.0       -1              -1   \n",
       "4            1                308         1.0       -1              -1   \n",
       "...        ...                ...         ...      ...             ...   \n",
       "889075       1                290         3.0       -1              -1   \n",
       "889076       1                290         3.0       -1              -1   \n",
       "889077       1                290         3.0       -1              -1   \n",
       "889078       1                290         3.0       -1              -1   \n",
       "889079       1                290         3.0       -1              -1   \n",
       "\n",
       "        superMarket  hyperMarket  drive  hardDiscount  Interested_email  \n",
       "0                -1           -1     -1            -1              -1.0  \n",
       "1                -1           -1     -1            -1              -1.0  \n",
       "2                -1           -1     -1            -1              -1.0  \n",
       "3                -1           -1     -1            -1              -1.0  \n",
       "4                -1           -1     -1            -1              -1.0  \n",
       "...             ...          ...    ...           ...               ...  \n",
       "889075            1           -1     -1            -1              -1.0  \n",
       "889076            1           -1     -1            -1              -1.0  \n",
       "889077            1           -1     -1            -1              -1.0  \n",
       "889078            1           -1     -1            -1              -1.0  \n",
       "889079            1           -1     -1            -1              -1.0  \n",
       "\n",
       "[889080 rows x 24 columns]"
      ],
      "text/html": "<div>\n<style scoped>\n    .dataframe tbody tr th:only-of-type {\n        vertical-align: middle;\n    }\n\n    .dataframe tbody tr th {\n        vertical-align: top;\n    }\n\n    .dataframe thead th {\n        text-align: right;\n    }\n</style>\n<table border=\"1\" class=\"dataframe\">\n  <thead>\n    <tr style=\"text-align: right;\">\n      <th></th>\n      <th>userId</th>\n      <th>age</th>\n      <th>gender</th>\n      <th>postalCode</th>\n      <th>scentLover</th>\n      <th>ecoInterest</th>\n      <th>closestShop</th>\n      <th>ownsDishwasher</th>\n      <th>MrPropre</th>\n      <th>Antikal</th>\n      <th>...</th>\n      <th>hasPet</th>\n      <th>daysSinceActivity</th>\n      <th>nbChildren</th>\n      <th>magasin</th>\n      <th>moyenneSurgace</th>\n      <th>superMarket</th>\n      <th>hyperMarket</th>\n      <th>drive</th>\n      <th>hardDiscount</th>\n      <th>Interested_email</th>\n    </tr>\n  </thead>\n  <tbody>\n    <tr>\n      <th>0</th>\n      <td>use_XbA1FTDcCrTMNTHK1851TzjyPMP</td>\n      <td>24</td>\n      <td>F</td>\n      <td>68540</td>\n      <td>0.0</td>\n      <td>NaN</td>\n      <td>NaN</td>\n      <td>1</td>\n      <td>-1</td>\n      <td>-1</td>\n      <td>...</td>\n      <td>1</td>\n      <td>308</td>\n      <td>1.0</td>\n      <td>-1</td>\n      <td>-1</td>\n      <td>-1</td>\n      <td>-1</td>\n      <td>-1</td>\n      <td>-1</td>\n      <td>-1.0</td>\n    </tr>\n    <tr>\n      <th>1</th>\n      <td>use_XbA1FTDcCrTMNTHK1851TzjyPMP</td>\n      <td>24</td>\n      <td>F</td>\n      <td>68540</td>\n      <td>0.0</td>\n      <td>NaN</td>\n      <td>NaN</td>\n      <td>1</td>\n      <td>-1</td>\n      <td>-1</td>\n      <td>...</td>\n      <td>1</td>\n      <td>308</td>\n      <td>1.0</td>\n      <td>-1</td>\n      <td>-1</td>\n      <td>-1</td>\n      <td>-1</td>\n      <td>-1</td>\n      <td>-1</td>\n      <td>-1.0</td>\n    </tr>\n    <tr>\n      <th>2</th>\n      <td>use_XbA1FTDcCrTMNTHK1851TzjyPMP</td>\n      <td>24</td>\n      <td>F</td>\n      <td>68540</td>\n      <td>0.0</td>\n      <td>NaN</td>\n      <td>NaN</td>\n      <td>1</td>\n      <td>-1</td>\n      <td>-1</td>\n      <td>...</td>\n      <td>1</td>\n      <td>308</td>\n      <td>1.0</td>\n      <td>-1</td>\n      <td>-1</td>\n      <td>-1</td>\n      <td>-1</td>\n      <td>-1</td>\n      <td>-1</td>\n      <td>-1.0</td>\n    </tr>\n    <tr>\n      <th>3</th>\n      <td>use_XbA1FTDcCrTMNTHK1851TzjyPMP</td>\n      <td>24</td>\n      <td>F</td>\n      <td>68540</td>\n      <td>0.0</td>\n      <td>NaN</td>\n      <td>NaN</td>\n      <td>1</td>\n      <td>-1</td>\n      <td>-1</td>\n      <td>...</td>\n      <td>1</td>\n      <td>308</td>\n      <td>1.0</td>\n      <td>-1</td>\n      <td>-1</td>\n      <td>-1</td>\n      <td>-1</td>\n      <td>-1</td>\n      <td>-1</td>\n      <td>-1.0</td>\n    </tr>\n    <tr>\n      <th>4</th>\n      <td>use_XbA1FTDcCrTMNTHK1851TzjyPMP</td>\n      <td>24</td>\n      <td>F</td>\n      <td>68540</td>\n      <td>0.0</td>\n      <td>NaN</td>\n      <td>NaN</td>\n      <td>1</td>\n      <td>-1</td>\n      <td>-1</td>\n      <td>...</td>\n      <td>1</td>\n      <td>308</td>\n      <td>1.0</td>\n      <td>-1</td>\n      <td>-1</td>\n      <td>-1</td>\n      <td>-1</td>\n      <td>-1</td>\n      <td>-1</td>\n      <td>-1.0</td>\n    </tr>\n    <tr>\n      <th>...</th>\n      <td>...</td>\n      <td>...</td>\n      <td>...</td>\n      <td>...</td>\n      <td>...</td>\n      <td>...</td>\n      <td>...</td>\n      <td>...</td>\n      <td>...</td>\n      <td>...</td>\n      <td>...</td>\n      <td>...</td>\n      <td>...</td>\n      <td>...</td>\n      <td>...</td>\n      <td>...</td>\n      <td>...</td>\n      <td>...</td>\n      <td>...</td>\n      <td>...</td>\n      <td>...</td>\n    </tr>\n    <tr>\n      <th>889075</th>\n      <td>use_B7F2PfU4eOKBmVc93AU1TzdqFY9</td>\n      <td>32</td>\n      <td>F</td>\n      <td>37600</td>\n      <td>0.0</td>\n      <td>High</td>\n      <td>3. SuperMarket</td>\n      <td>-1</td>\n      <td>-1</td>\n      <td>-1</td>\n      <td>...</td>\n      <td>1</td>\n      <td>290</td>\n      <td>3.0</td>\n      <td>-1</td>\n      <td>-1</td>\n      <td>1</td>\n      <td>-1</td>\n      <td>-1</td>\n      <td>-1</td>\n      <td>-1.0</td>\n    </tr>\n    <tr>\n      <th>889076</th>\n      <td>use_B7F2PfU4eOKBmVc93AU1TzdqFY9</td>\n      <td>32</td>\n      <td>F</td>\n      <td>37600</td>\n      <td>0.0</td>\n      <td>High</td>\n      <td>3. SuperMarket</td>\n      <td>-1</td>\n      <td>-1</td>\n      <td>-1</td>\n      <td>...</td>\n      <td>1</td>\n      <td>290</td>\n      <td>3.0</td>\n      <td>-1</td>\n      <td>-1</td>\n      <td>1</td>\n      <td>-1</td>\n      <td>-1</td>\n      <td>-1</td>\n      <td>-1.0</td>\n    </tr>\n    <tr>\n      <th>889077</th>\n      <td>use_B7F2PfU4eOKBmVc93AU1TzdqFY9</td>\n      <td>32</td>\n      <td>F</td>\n      <td>37600</td>\n      <td>0.0</td>\n      <td>High</td>\n      <td>3. SuperMarket</td>\n      <td>-1</td>\n      <td>-1</td>\n      <td>-1</td>\n      <td>...</td>\n      <td>1</td>\n      <td>290</td>\n      <td>3.0</td>\n      <td>-1</td>\n      <td>-1</td>\n      <td>1</td>\n      <td>-1</td>\n      <td>-1</td>\n      <td>-1</td>\n      <td>-1.0</td>\n    </tr>\n    <tr>\n      <th>889078</th>\n      <td>use_B7F2PfU4eOKBmVc93AU1TzdqFY9</td>\n      <td>32</td>\n      <td>F</td>\n      <td>37600</td>\n      <td>0.0</td>\n      <td>High</td>\n      <td>3. SuperMarket</td>\n      <td>-1</td>\n      <td>-1</td>\n      <td>-1</td>\n      <td>...</td>\n      <td>1</td>\n      <td>290</td>\n      <td>3.0</td>\n      <td>-1</td>\n      <td>-1</td>\n      <td>1</td>\n      <td>-1</td>\n      <td>-1</td>\n      <td>-1</td>\n      <td>-1.0</td>\n    </tr>\n    <tr>\n      <th>889079</th>\n      <td>use_B7F2PfU4eOKBmVc93AU1TzdqFY9</td>\n      <td>32</td>\n      <td>F</td>\n      <td>37600</td>\n      <td>0.0</td>\n      <td>High</td>\n      <td>3. SuperMarket</td>\n      <td>-1</td>\n      <td>-1</td>\n      <td>-1</td>\n      <td>...</td>\n      <td>1</td>\n      <td>290</td>\n      <td>3.0</td>\n      <td>-1</td>\n      <td>-1</td>\n      <td>1</td>\n      <td>-1</td>\n      <td>-1</td>\n      <td>-1</td>\n      <td>-1.0</td>\n    </tr>\n  </tbody>\n</table>\n<p>889080 rows × 24 columns</p>\n</div>"
     },
     "metadata": {},
     "execution_count": 56
    }
   ],
   "source": [
    "df"
   ]
  },
  {
   "cell_type": "code",
   "execution_count": null,
   "metadata": {},
   "outputs": [],
   "source": []
  }
 ]
}