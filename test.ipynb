{
 "metadata": {
  "language_info": {
   "codemirror_mode": {
    "name": "ipython",
    "version": 3
   },
   "file_extension": ".py",
   "mimetype": "text/x-python",
   "name": "python",
   "nbconvert_exporter": "python",
   "pygments_lexer": "ipython3",
   "version": "3.9.2"
  },
  "orig_nbformat": 2,
  "kernelspec": {
   "name": "python392jvsc74a57bd0ac59ebe37160ed0dfa835113d9b8498d9f09ceb179beaac4002f036b9467c963",
   "display_name": "Python 3.9.2 64-bit"
  },
  "metadata": {
   "interpreter": {
    "hash": "ac59ebe37160ed0dfa835113d9b8498d9f09ceb179beaac4002f036b9467c963"
   }
  }
 },
 "nbformat": 4,
 "nbformat_minor": 2,
 "cells": [
  {
   "source": [
    "# EI ST4"
   ],
   "cell_type": "markdown",
   "metadata": {}
  },
  {
   "source": [
    "## Imports"
   ],
   "cell_type": "markdown",
   "metadata": {}
  },
  {
   "cell_type": "code",
   "execution_count": 1,
   "metadata": {},
   "outputs": [],
   "source": [
    "import pandas as pd"
   ]
  },
  {
   "cell_type": "code",
   "execution_count": 2,
   "metadata": {},
   "outputs": [],
   "source": [
    "df = pd.read_csv(r\"DS_CentraleSupelec_ST42021/DS_CentraleSupelec_train.csv\")"
   ]
  },
  {
   "source": [
    "## Cleaning up the dataframe"
   ],
   "cell_type": "markdown",
   "metadata": {}
  },
  {
   "cell_type": "code",
   "execution_count": 3,
   "metadata": {},
   "outputs": [
    {
     "output_type": "execute_result",
     "data": {
      "text/plain": [
       "                                userId  age gender      registrationDate  \\\n",
       "0      use_XbA1FTDcCrTMNTHK1851TzjyPMP   24      F  2019-10-14T17:33:37Z   \n",
       "1      use_3WHgsMVGSg5MHG2zja91TzdfmY2   67      F  2017-07-25T07:00:31Z   \n",
       "2      use_2SisOiR8QwDaHI4svm11TzcvK7V   45      F  2015-06-25T00:00:00Z   \n",
       "3      use_W0T1LmfKaQPJYD1RTWh1Tzdc69H   35      F  2018-01-31T07:24:39Z   \n",
       "4      use_KwYWZ7UMl4veveOaPGK1TzddtmI   38      F  2016-01-26T11:42:17Z   \n",
       "...                                ...  ...    ...                   ...   \n",
       "11995  use_ICSyEvCcRNPpQeBdWcM1TzdczV8   53      F  2015-03-11T20:03:16Z   \n",
       "11996  use_Q5DNYeSmG7g6VeMV4n71TzeTRRz   43      F  2015-10-10T19:16:19Z   \n",
       "11997  use_rEoce5pc0MlKpndfzNj1Tze3J1L   42      F  2015-05-08T02:59:34Z   \n",
       "11998  use_0AuDL2wOJHy9I16zSC21TzeHRMo   39      M  2019-05-20T11:59:02Z   \n",
       "11999  use_B7F2PfU4eOKBmVc93AU1TzdqFY9   32      F  2017-03-05T12:42:26Z   \n",
       "\n",
       "      languageCode countryCode  emailContactable  postalContactable  \\\n",
       "0               fr         FRA              True               True   \n",
       "1               fr         FRA              True               True   \n",
       "2               fr         FRA              True               True   \n",
       "3               fr         FRA              True               True   \n",
       "4               fr         FRA              True               True   \n",
       "...            ...         ...               ...                ...   \n",
       "11995           fr         FRA              True               True   \n",
       "11996           fr         FRA              True               True   \n",
       "11997           fr         FRA              True               True   \n",
       "11998           fr         FRA              True               True   \n",
       "11999           FR         FRA              True               True   \n",
       "\n",
       "      postalCode numberChildren  ... detergentType MrPropreTrier AntikalTrier  \\\n",
       "0          68540              1  ...        Liquid           NaN          NaN   \n",
       "1          17390              3  ...          Pods   Known Trier  Known Trier   \n",
       "2          30200              1  ...        Liquid           NaN          NaN   \n",
       "3          61400              2  ...          Pods           NaN          NaN   \n",
       "4          30620              0  ...        Liquid   Known Trier  Known Trier   \n",
       "...          ...            ...  ...           ...           ...          ...   \n",
       "11995      77240             4+  ...          Pods           NaN          NaN   \n",
       "11996      45120              0  ...        Liquid           NaN          NaN   \n",
       "11997      35170              3  ...        Liquid           NaN          NaN   \n",
       "11998      45160              1  ...        Liquid           NaN          NaN   \n",
       "11999      37600              3  ...        Liquid           NaN          NaN   \n",
       "\n",
       "        ArielTrier    DashTrier scentLover petOwner ecoInterest  \\\n",
       "0              NaN          NaN    NonUser      Yes         NaN   \n",
       "1      Known Trier          NaN        NaN       No        High   \n",
       "2      Known Trier  Known Trier    NonUser      Yes        High   \n",
       "3      Known Trier  Known Trier        Low      Yes      Medium   \n",
       "4      Known Trier  Known Trier        NaN      Yes         Low   \n",
       "...            ...          ...        ...      ...         ...   \n",
       "11995          NaN          NaN        NaN      Yes         NaN   \n",
       "11996          NaN          NaN        Low      Yes      Medium   \n",
       "11997          NaN          NaN        NaN      Yes        High   \n",
       "11998          NaN          NaN        NaN      Yes         NaN   \n",
       "11999          NaN          NaN    NonUser      Yes        High   \n",
       "\n",
       "          closestShop washDishes  \n",
       "0                 NaN       Auto  \n",
       "1                 NaN       Auto  \n",
       "2                 NaN       Auto  \n",
       "3                 NaN       Hand  \n",
       "4                 NaN       Hand  \n",
       "...               ...        ...  \n",
       "11995             NaN       Auto  \n",
       "11996             NaN       Hand  \n",
       "11997             NaN       Hand  \n",
       "11998             NaN       Auto  \n",
       "11999  3. SuperMarket       Hand  \n",
       "\n",
       "[12000 rows x 23 columns]"
      ],
      "text/html": "<div>\n<style scoped>\n    .dataframe tbody tr th:only-of-type {\n        vertical-align: middle;\n    }\n\n    .dataframe tbody tr th {\n        vertical-align: top;\n    }\n\n    .dataframe thead th {\n        text-align: right;\n    }\n</style>\n<table border=\"1\" class=\"dataframe\">\n  <thead>\n    <tr style=\"text-align: right;\">\n      <th></th>\n      <th>userId</th>\n      <th>age</th>\n      <th>gender</th>\n      <th>registrationDate</th>\n      <th>languageCode</th>\n      <th>countryCode</th>\n      <th>emailContactable</th>\n      <th>postalContactable</th>\n      <th>postalCode</th>\n      <th>numberChildren</th>\n      <th>...</th>\n      <th>detergentType</th>\n      <th>MrPropreTrier</th>\n      <th>AntikalTrier</th>\n      <th>ArielTrier</th>\n      <th>DashTrier</th>\n      <th>scentLover</th>\n      <th>petOwner</th>\n      <th>ecoInterest</th>\n      <th>closestShop</th>\n      <th>washDishes</th>\n    </tr>\n  </thead>\n  <tbody>\n    <tr>\n      <th>0</th>\n      <td>use_XbA1FTDcCrTMNTHK1851TzjyPMP</td>\n      <td>24</td>\n      <td>F</td>\n      <td>2019-10-14T17:33:37Z</td>\n      <td>fr</td>\n      <td>FRA</td>\n      <td>True</td>\n      <td>True</td>\n      <td>68540</td>\n      <td>1</td>\n      <td>...</td>\n      <td>Liquid</td>\n      <td>NaN</td>\n      <td>NaN</td>\n      <td>NaN</td>\n      <td>NaN</td>\n      <td>NonUser</td>\n      <td>Yes</td>\n      <td>NaN</td>\n      <td>NaN</td>\n      <td>Auto</td>\n    </tr>\n    <tr>\n      <th>1</th>\n      <td>use_3WHgsMVGSg5MHG2zja91TzdfmY2</td>\n      <td>67</td>\n      <td>F</td>\n      <td>2017-07-25T07:00:31Z</td>\n      <td>fr</td>\n      <td>FRA</td>\n      <td>True</td>\n      <td>True</td>\n      <td>17390</td>\n      <td>3</td>\n      <td>...</td>\n      <td>Pods</td>\n      <td>Known Trier</td>\n      <td>Known Trier</td>\n      <td>Known Trier</td>\n      <td>NaN</td>\n      <td>NaN</td>\n      <td>No</td>\n      <td>High</td>\n      <td>NaN</td>\n      <td>Auto</td>\n    </tr>\n    <tr>\n      <th>2</th>\n      <td>use_2SisOiR8QwDaHI4svm11TzcvK7V</td>\n      <td>45</td>\n      <td>F</td>\n      <td>2015-06-25T00:00:00Z</td>\n      <td>fr</td>\n      <td>FRA</td>\n      <td>True</td>\n      <td>True</td>\n      <td>30200</td>\n      <td>1</td>\n      <td>...</td>\n      <td>Liquid</td>\n      <td>NaN</td>\n      <td>NaN</td>\n      <td>Known Trier</td>\n      <td>Known Trier</td>\n      <td>NonUser</td>\n      <td>Yes</td>\n      <td>High</td>\n      <td>NaN</td>\n      <td>Auto</td>\n    </tr>\n    <tr>\n      <th>3</th>\n      <td>use_W0T1LmfKaQPJYD1RTWh1Tzdc69H</td>\n      <td>35</td>\n      <td>F</td>\n      <td>2018-01-31T07:24:39Z</td>\n      <td>fr</td>\n      <td>FRA</td>\n      <td>True</td>\n      <td>True</td>\n      <td>61400</td>\n      <td>2</td>\n      <td>...</td>\n      <td>Pods</td>\n      <td>NaN</td>\n      <td>NaN</td>\n      <td>Known Trier</td>\n      <td>Known Trier</td>\n      <td>Low</td>\n      <td>Yes</td>\n      <td>Medium</td>\n      <td>NaN</td>\n      <td>Hand</td>\n    </tr>\n    <tr>\n      <th>4</th>\n      <td>use_KwYWZ7UMl4veveOaPGK1TzddtmI</td>\n      <td>38</td>\n      <td>F</td>\n      <td>2016-01-26T11:42:17Z</td>\n      <td>fr</td>\n      <td>FRA</td>\n      <td>True</td>\n      <td>True</td>\n      <td>30620</td>\n      <td>0</td>\n      <td>...</td>\n      <td>Liquid</td>\n      <td>Known Trier</td>\n      <td>Known Trier</td>\n      <td>Known Trier</td>\n      <td>Known Trier</td>\n      <td>NaN</td>\n      <td>Yes</td>\n      <td>Low</td>\n      <td>NaN</td>\n      <td>Hand</td>\n    </tr>\n    <tr>\n      <th>...</th>\n      <td>...</td>\n      <td>...</td>\n      <td>...</td>\n      <td>...</td>\n      <td>...</td>\n      <td>...</td>\n      <td>...</td>\n      <td>...</td>\n      <td>...</td>\n      <td>...</td>\n      <td>...</td>\n      <td>...</td>\n      <td>...</td>\n      <td>...</td>\n      <td>...</td>\n      <td>...</td>\n      <td>...</td>\n      <td>...</td>\n      <td>...</td>\n      <td>...</td>\n      <td>...</td>\n    </tr>\n    <tr>\n      <th>11995</th>\n      <td>use_ICSyEvCcRNPpQeBdWcM1TzdczV8</td>\n      <td>53</td>\n      <td>F</td>\n      <td>2015-03-11T20:03:16Z</td>\n      <td>fr</td>\n      <td>FRA</td>\n      <td>True</td>\n      <td>True</td>\n      <td>77240</td>\n      <td>4+</td>\n      <td>...</td>\n      <td>Pods</td>\n      <td>NaN</td>\n      <td>NaN</td>\n      <td>NaN</td>\n      <td>NaN</td>\n      <td>NaN</td>\n      <td>Yes</td>\n      <td>NaN</td>\n      <td>NaN</td>\n      <td>Auto</td>\n    </tr>\n    <tr>\n      <th>11996</th>\n      <td>use_Q5DNYeSmG7g6VeMV4n71TzeTRRz</td>\n      <td>43</td>\n      <td>F</td>\n      <td>2015-10-10T19:16:19Z</td>\n      <td>fr</td>\n      <td>FRA</td>\n      <td>True</td>\n      <td>True</td>\n      <td>45120</td>\n      <td>0</td>\n      <td>...</td>\n      <td>Liquid</td>\n      <td>NaN</td>\n      <td>NaN</td>\n      <td>NaN</td>\n      <td>NaN</td>\n      <td>Low</td>\n      <td>Yes</td>\n      <td>Medium</td>\n      <td>NaN</td>\n      <td>Hand</td>\n    </tr>\n    <tr>\n      <th>11997</th>\n      <td>use_rEoce5pc0MlKpndfzNj1Tze3J1L</td>\n      <td>42</td>\n      <td>F</td>\n      <td>2015-05-08T02:59:34Z</td>\n      <td>fr</td>\n      <td>FRA</td>\n      <td>True</td>\n      <td>True</td>\n      <td>35170</td>\n      <td>3</td>\n      <td>...</td>\n      <td>Liquid</td>\n      <td>NaN</td>\n      <td>NaN</td>\n      <td>NaN</td>\n      <td>NaN</td>\n      <td>NaN</td>\n      <td>Yes</td>\n      <td>High</td>\n      <td>NaN</td>\n      <td>Hand</td>\n    </tr>\n    <tr>\n      <th>11998</th>\n      <td>use_0AuDL2wOJHy9I16zSC21TzeHRMo</td>\n      <td>39</td>\n      <td>M</td>\n      <td>2019-05-20T11:59:02Z</td>\n      <td>fr</td>\n      <td>FRA</td>\n      <td>True</td>\n      <td>True</td>\n      <td>45160</td>\n      <td>1</td>\n      <td>...</td>\n      <td>Liquid</td>\n      <td>NaN</td>\n      <td>NaN</td>\n      <td>NaN</td>\n      <td>NaN</td>\n      <td>NaN</td>\n      <td>Yes</td>\n      <td>NaN</td>\n      <td>NaN</td>\n      <td>Auto</td>\n    </tr>\n    <tr>\n      <th>11999</th>\n      <td>use_B7F2PfU4eOKBmVc93AU1TzdqFY9</td>\n      <td>32</td>\n      <td>F</td>\n      <td>2017-03-05T12:42:26Z</td>\n      <td>FR</td>\n      <td>FRA</td>\n      <td>True</td>\n      <td>True</td>\n      <td>37600</td>\n      <td>3</td>\n      <td>...</td>\n      <td>Liquid</td>\n      <td>NaN</td>\n      <td>NaN</td>\n      <td>NaN</td>\n      <td>NaN</td>\n      <td>NonUser</td>\n      <td>Yes</td>\n      <td>High</td>\n      <td>3. SuperMarket</td>\n      <td>Hand</td>\n    </tr>\n  </tbody>\n</table>\n<p>12000 rows × 23 columns</p>\n</div>"
     },
     "metadata": {},
     "execution_count": 3
    }
   ],
   "source": [
    "df"
   ]
  },
  {
   "source": [
    "We can remove the `languageCode` and `countryCode` column as they are constant"
   ],
   "cell_type": "markdown",
   "metadata": {}
  },
  {
   "cell_type": "code",
   "execution_count": 4,
   "metadata": {},
   "outputs": [
    {
     "output_type": "execute_result",
     "data": {
      "text/plain": [
       "True"
      ]
     },
     "metadata": {},
     "execution_count": 4
    }
   ],
   "source": [
    "df[~df.languageCode.isin(['fr', 'FR'])].empty and df[~df.countryCode.eq('FRA')].empty"
   ]
  },
  {
   "cell_type": "code",
   "execution_count": 5,
   "metadata": {},
   "outputs": [],
   "source": [
    "df = df.drop(columns=['languageCode', 'countryCode'])"
   ]
  },
  {
   "source": [
    "We will also remove the `userId`, `registrationDate`, `reactivationValue`, `emailContactable` and `postalContactable` as they are irrelevant"
   ],
   "cell_type": "markdown",
   "metadata": {}
  },
  {
   "cell_type": "code",
   "execution_count": 6,
   "metadata": {},
   "outputs": [],
   "source": [
    "df = df.drop(columns=['userId', 'registrationDate', 'reactivationValue', 'emailContactable', 'postalContactable'])"
   ]
  },
  {
   "source": [
    "We are going to replace the `washDishes` `STRING` column with a `ownsDishwasher` `INT` column"
   ],
   "cell_type": "markdown",
   "metadata": {}
  },
  {
   "cell_type": "code",
   "execution_count": 7,
   "metadata": {},
   "outputs": [],
   "source": [
    "df['ownsDishwasher'] = df.apply(lambda row: 1 if row['washDishes'] == 'Auto' else 0, axis=1)\n",
    "df = df.drop(columns=[\"washDishes\"])"
   ]
  },
  {
   "source": [
    "In the `MrPropreTrier`, `AntikalTrier`, `ArielTrier`, `DashTrier` we will replace `Known Trier` with `1` and `Nan` with `0`"
   ],
   "cell_type": "markdown",
   "metadata": {}
  },
  {
   "cell_type": "code",
   "execution_count": 9,
   "metadata": {},
   "outputs": [],
   "source": [
    "for c in ['MrPropreTrier', 'AntikalTrier', 'ArielTrier', 'DashTrier']:\n",
    "    df[c[:-5]] = df.apply(lambda row: 1 if row[c] == 'Known Trier' else 0, axis=1)\n",
    "    df = df.drop(columns=[c])"
   ]
  },
  {
   "source": [
    "We will replace `detergentType` by `liquidDetergent`"
   ],
   "cell_type": "markdown",
   "metadata": {}
  },
  {
   "cell_type": "code",
   "execution_count": 13,
   "metadata": {},
   "outputs": [],
   "source": [
    "df['liquidDetergent'] = df.apply(lambda row: 1 if row['detergentType'] == 'Liquid' else 0, axis=1)\n",
    "df = df.drop(columns=['detergentType'])"
   ]
  },
  {
   "source": [
    "Replacing `toothBrushType` with `electricToothbrush`"
   ],
   "cell_type": "markdown",
   "metadata": {}
  },
  {
   "cell_type": "code",
   "execution_count": 15,
   "metadata": {},
   "outputs": [],
   "source": [
    "df['electricToothbrush'] = df.apply(lambda row: 1 if row['toothBrushType'] == 'Electric' else 0, axis=1)\n",
    "df = df.drop(columns=['toothBrushType'])"
   ]
  },
  {
   "source": [
    "Replacing `petOwner` with `hasPet`"
   ],
   "cell_type": "markdown",
   "metadata": {}
  },
  {
   "cell_type": "code",
   "execution_count": 17,
   "metadata": {},
   "outputs": [],
   "source": [
    "df['hasPet'] = df.apply(lambda row: 1 if row['petOwner'] == 'Yes' else 0, axis=1)\n",
    "df = df.drop(columns=['petOwner'])"
   ]
  },
  {
   "cell_type": "code",
   "execution_count": 18,
   "metadata": {},
   "outputs": [
    {
     "output_type": "execute_result",
     "data": {
      "text/plain": [
       "       age gender postalCode numberChildren             lastActivityDate  \\\n",
       "0       24      F      68540              1   2020-08-04T09:19:40.72668Z   \n",
       "1       67      F      17390              3   2021-05-11T05:27:04.43326Z   \n",
       "2       45      F      30200              1  2021-01-29T09:22:30.011639Z   \n",
       "3       35      F      61400              2  2020-07-03T20:36:10.177493Z   \n",
       "4       38      F      30620              0  2021-01-01T14:41:20.951078Z   \n",
       "...    ...    ...        ...            ...                          ...   \n",
       "11995   53      F      77240             4+  2021-05-29T22:15:43.077863Z   \n",
       "11996   43      F      45120              0  2020-12-23T14:01:37.947441Z   \n",
       "11997   42      F      35170              3  2021-05-06T20:18:39.453599Z   \n",
       "11998   39      M      45160              1  2020-09-21T11:51:08.333752Z   \n",
       "11999   32      F      37600              3  2020-08-22T02:32:01.566798Z   \n",
       "\n",
       "      reactivationValue scentLover ecoInterest     closestShop  \\\n",
       "0               Lapsing    NonUser         NaN             NaN   \n",
       "1                Active        NaN        High             NaN   \n",
       "2                Active    NonUser        High             NaN   \n",
       "3                Active        Low      Medium             NaN   \n",
       "4                Active        NaN         Low             NaN   \n",
       "...                 ...        ...         ...             ...   \n",
       "11995            Active        NaN         NaN             NaN   \n",
       "11996            Active        Low      Medium             NaN   \n",
       "11997            Active        NaN        High             NaN   \n",
       "11998            Lapsed        NaN         NaN             NaN   \n",
       "11999            Active    NonUser        High  3. SuperMarket   \n",
       "\n",
       "       ownsDishwasher  MrPropre  Antikal  Ariel  Dash  liquidDetergent  \\\n",
       "0                   1         0        0      0     0                1   \n",
       "1                   1         1        1      1     0                0   \n",
       "2                   1         0        0      1     1                1   \n",
       "3                   0         0        0      1     1                0   \n",
       "4                   0         1        1      1     1                1   \n",
       "...               ...       ...      ...    ...   ...              ...   \n",
       "11995               1         0        0      0     0                0   \n",
       "11996               0         0        0      0     0                1   \n",
       "11997               0         0        0      0     0                1   \n",
       "11998               1         0        0      0     0                1   \n",
       "11999               0         0        0      0     0                1   \n",
       "\n",
       "       electricToothbrush  hasPet  \n",
       "0                       0       1  \n",
       "1                       0       0  \n",
       "2                       0       1  \n",
       "3                       0       1  \n",
       "4                       1       1  \n",
       "...                   ...     ...  \n",
       "11995                   0       1  \n",
       "11996                   1       1  \n",
       "11997                   0       1  \n",
       "11998                   1       1  \n",
       "11999                   1       1  \n",
       "\n",
       "[12000 rows x 17 columns]"
      ],
      "text/html": "<div>\n<style scoped>\n    .dataframe tbody tr th:only-of-type {\n        vertical-align: middle;\n    }\n\n    .dataframe tbody tr th {\n        vertical-align: top;\n    }\n\n    .dataframe thead th {\n        text-align: right;\n    }\n</style>\n<table border=\"1\" class=\"dataframe\">\n  <thead>\n    <tr style=\"text-align: right;\">\n      <th></th>\n      <th>age</th>\n      <th>gender</th>\n      <th>postalCode</th>\n      <th>numberChildren</th>\n      <th>lastActivityDate</th>\n      <th>reactivationValue</th>\n      <th>scentLover</th>\n      <th>ecoInterest</th>\n      <th>closestShop</th>\n      <th>ownsDishwasher</th>\n      <th>MrPropre</th>\n      <th>Antikal</th>\n      <th>Ariel</th>\n      <th>Dash</th>\n      <th>liquidDetergent</th>\n      <th>electricToothbrush</th>\n      <th>hasPet</th>\n    </tr>\n  </thead>\n  <tbody>\n    <tr>\n      <th>0</th>\n      <td>24</td>\n      <td>F</td>\n      <td>68540</td>\n      <td>1</td>\n      <td>2020-08-04T09:19:40.72668Z</td>\n      <td>Lapsing</td>\n      <td>NonUser</td>\n      <td>NaN</td>\n      <td>NaN</td>\n      <td>1</td>\n      <td>0</td>\n      <td>0</td>\n      <td>0</td>\n      <td>0</td>\n      <td>1</td>\n      <td>0</td>\n      <td>1</td>\n    </tr>\n    <tr>\n      <th>1</th>\n      <td>67</td>\n      <td>F</td>\n      <td>17390</td>\n      <td>3</td>\n      <td>2021-05-11T05:27:04.43326Z</td>\n      <td>Active</td>\n      <td>NaN</td>\n      <td>High</td>\n      <td>NaN</td>\n      <td>1</td>\n      <td>1</td>\n      <td>1</td>\n      <td>1</td>\n      <td>0</td>\n      <td>0</td>\n      <td>0</td>\n      <td>0</td>\n    </tr>\n    <tr>\n      <th>2</th>\n      <td>45</td>\n      <td>F</td>\n      <td>30200</td>\n      <td>1</td>\n      <td>2021-01-29T09:22:30.011639Z</td>\n      <td>Active</td>\n      <td>NonUser</td>\n      <td>High</td>\n      <td>NaN</td>\n      <td>1</td>\n      <td>0</td>\n      <td>0</td>\n      <td>1</td>\n      <td>1</td>\n      <td>1</td>\n      <td>0</td>\n      <td>1</td>\n    </tr>\n    <tr>\n      <th>3</th>\n      <td>35</td>\n      <td>F</td>\n      <td>61400</td>\n      <td>2</td>\n      <td>2020-07-03T20:36:10.177493Z</td>\n      <td>Active</td>\n      <td>Low</td>\n      <td>Medium</td>\n      <td>NaN</td>\n      <td>0</td>\n      <td>0</td>\n      <td>0</td>\n      <td>1</td>\n      <td>1</td>\n      <td>0</td>\n      <td>0</td>\n      <td>1</td>\n    </tr>\n    <tr>\n      <th>4</th>\n      <td>38</td>\n      <td>F</td>\n      <td>30620</td>\n      <td>0</td>\n      <td>2021-01-01T14:41:20.951078Z</td>\n      <td>Active</td>\n      <td>NaN</td>\n      <td>Low</td>\n      <td>NaN</td>\n      <td>0</td>\n      <td>1</td>\n      <td>1</td>\n      <td>1</td>\n      <td>1</td>\n      <td>1</td>\n      <td>1</td>\n      <td>1</td>\n    </tr>\n    <tr>\n      <th>...</th>\n      <td>...</td>\n      <td>...</td>\n      <td>...</td>\n      <td>...</td>\n      <td>...</td>\n      <td>...</td>\n      <td>...</td>\n      <td>...</td>\n      <td>...</td>\n      <td>...</td>\n      <td>...</td>\n      <td>...</td>\n      <td>...</td>\n      <td>...</td>\n      <td>...</td>\n      <td>...</td>\n      <td>...</td>\n    </tr>\n    <tr>\n      <th>11995</th>\n      <td>53</td>\n      <td>F</td>\n      <td>77240</td>\n      <td>4+</td>\n      <td>2021-05-29T22:15:43.077863Z</td>\n      <td>Active</td>\n      <td>NaN</td>\n      <td>NaN</td>\n      <td>NaN</td>\n      <td>1</td>\n      <td>0</td>\n      <td>0</td>\n      <td>0</td>\n      <td>0</td>\n      <td>0</td>\n      <td>0</td>\n      <td>1</td>\n    </tr>\n    <tr>\n      <th>11996</th>\n      <td>43</td>\n      <td>F</td>\n      <td>45120</td>\n      <td>0</td>\n      <td>2020-12-23T14:01:37.947441Z</td>\n      <td>Active</td>\n      <td>Low</td>\n      <td>Medium</td>\n      <td>NaN</td>\n      <td>0</td>\n      <td>0</td>\n      <td>0</td>\n      <td>0</td>\n      <td>0</td>\n      <td>1</td>\n      <td>1</td>\n      <td>1</td>\n    </tr>\n    <tr>\n      <th>11997</th>\n      <td>42</td>\n      <td>F</td>\n      <td>35170</td>\n      <td>3</td>\n      <td>2021-05-06T20:18:39.453599Z</td>\n      <td>Active</td>\n      <td>NaN</td>\n      <td>High</td>\n      <td>NaN</td>\n      <td>0</td>\n      <td>0</td>\n      <td>0</td>\n      <td>0</td>\n      <td>0</td>\n      <td>1</td>\n      <td>0</td>\n      <td>1</td>\n    </tr>\n    <tr>\n      <th>11998</th>\n      <td>39</td>\n      <td>M</td>\n      <td>45160</td>\n      <td>1</td>\n      <td>2020-09-21T11:51:08.333752Z</td>\n      <td>Lapsed</td>\n      <td>NaN</td>\n      <td>NaN</td>\n      <td>NaN</td>\n      <td>1</td>\n      <td>0</td>\n      <td>0</td>\n      <td>0</td>\n      <td>0</td>\n      <td>1</td>\n      <td>1</td>\n      <td>1</td>\n    </tr>\n    <tr>\n      <th>11999</th>\n      <td>32</td>\n      <td>F</td>\n      <td>37600</td>\n      <td>3</td>\n      <td>2020-08-22T02:32:01.566798Z</td>\n      <td>Active</td>\n      <td>NonUser</td>\n      <td>High</td>\n      <td>3. SuperMarket</td>\n      <td>0</td>\n      <td>0</td>\n      <td>0</td>\n      <td>0</td>\n      <td>0</td>\n      <td>1</td>\n      <td>1</td>\n      <td>1</td>\n    </tr>\n  </tbody>\n</table>\n<p>12000 rows × 17 columns</p>\n</div>"
     },
     "metadata": {},
     "execution_count": 18
    }
   ],
   "source": [
    "df"
   ]
  },
  {
   "cell_type": "code",
   "execution_count": null,
   "metadata": {},
   "outputs": [],
   "source": []
  }
 ]
}